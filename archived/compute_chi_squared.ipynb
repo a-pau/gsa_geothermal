{
 "cells": [
  {
   "cell_type": "code",
   "execution_count": 1,
   "metadata": {},
   "outputs": [],
   "source": [
    "#%% Set up and load data\n",
    "import brightway2 as bw\n",
    "import seaborn as sb\n",
    "import numpy as np\n",
    "import pandas as pd\n",
    "import os\n",
    "import matplotlib.pyplot as plt\n",
    "\n",
    "# Set working directory\n",
    "path = \".\"\n",
    "os.chdir(path)\n",
    "absolute_path = os.path.abspath(path)\n",
    "\n",
    "# Set project\n",
    "bw.projects.set_current(\"Geothermal\")\n",
    "\n",
    "# Method \n",
    "ILCD_CC = [method for method in bw.methods if \"ILCD 2.0 2018 midpoint no LT\" in str(method) and \"climate change total\" in str(method)]\n",
    "\n",
    "# Carbon footprints from literature\n",
    "cge_cfs=pd.read_excel(os.path.join(absolute_path, \"data_and_models/Carbon footprints from literature.xlsx\"), sheet_name=\"Conventional\", index_col=None, skiprows=1)\n",
    "cge_cfs=cge_cfs.drop(columns=[\"Technology\", \"Notes\", \"Operational CO2 emissions (g/kWh)\"])\n",
    "cge_cfs.columns= [\"study\", \"carbon footprint\"]\n",
    "\n",
    "ege_cfs=pd.read_excel(os.path.join(absolute_path, \"data_and_models/Carbon footprints from literature.xlsx\"), sheet_name=\"Enhanced\", index_col=None, skiprows=1)\n",
    "ege_cfs=ege_cfs.drop(columns=[\"Technology\", \"Notes\", \"Diesel consumption (GJ/m)\", \"Installed capacity (MW)\"])\n",
    "ege_cfs.columns= [\"study\", \"carbon footprint\"]\n",
    "\n",
    "# Reference model carbon footprints\n",
    "n_iter = 10000\n",
    "ecoinvent_version = \"ecoinvent_3.6\"\n",
    "folder_IN = os.path.join(\"generated_files\", ecoinvent_version, \"validation\")\n",
    "file_name=\"ReferenceVsLiterature CC N\" + str(n_iter)\n",
    "\n",
    "cge_ref_df = pd.read_json(os.path.join(absolute_path, folder_IN, file_name + \" - Conventional\"))\n",
    "ege_ref_df = pd.read_json(os.path.join(absolute_path, folder_IN, file_name + \" - Enhanced\"))"
   ]
  },
  {
   "cell_type": "code",
   "execution_count": 28,
   "metadata": {},
   "outputs": [],
   "source": [
    "def compute_chi2(obs, exp, n_bins=10, c=0, p = 0.9):\n",
    "    '''\n",
    "    obs = literature data\n",
    "    exp = distribution data, against which we are testing\n",
    "    '''\n",
    "    \n",
    "    import matplotlib.pyplot as plt\n",
    "    bins_count, bins_pos, _ = plt.hist(exp, n_bins)\n",
    "    E = np.cumsum(bins_count)\n",
    "    \n",
    "    bins_count_obs = np.zeros(n_bins)\n",
    "    for i in range(n_bins):\n",
    "        obs_greater = obs[obs >= bins_pos[i]]\n",
    "        bins_count_obs[i] = np.sum(obs_greater < bins_pos[i+1])\n",
    "    O = bins_count_obs\n",
    "    \n",
    "    chi2_calc = sum((O-E)**2 / E)\n",
    "    \n",
    "    # Chi-Squared Percent Point Function\n",
    "    from scipy.stats import chi2\n",
    "    # Define probability\n",
    "    k = np.sum(O>0)\n",
    "    df = k-c # degrees of freedom    \n",
    "    # retrieve value <= probability\n",
    "    chi2_critical = chi2.ppf(p, df)\n",
    "    \n",
    "    print('chi2_calculated: ' + str(chi2_calc))\n",
    "    print('chi2_critical: ' + str(chi2_critical))\n",
    "    if chi2_calc >= chi2_critical:\n",
    "        print('Hypothesis is rejected')\n",
    "    else:\n",
    "        print('Hypothesis is accepted')\n",
    "        \n",
    "    return E,O,chi2_calc"
   ]
  },
  {
   "cell_type": "code",
   "execution_count": 29,
   "metadata": {},
   "outputs": [
    {
     "name": "stdout",
     "output_type": "stream",
     "text": [
      "chi2_calculated: 173679.00552356394\n",
      "chi2_critical: 12.017036623780532\n",
      "Hypothesis is rejected\n"
     ]
    },
    {
     "data": {
      "image/png": "[encoded data removed]",
      "text/plain": [
       "<Figure size 432x288 with 1 Axes>"
      ]
     },
     "metadata": {
      "needs_background": "light"
     },
     "output_type": "display_data"
    }
   ],
   "source": [
    "# cge\n",
    "expected = cge_ref_df.values\n",
    "observed = cge_cfs['carbon footprint'].values\n",
    "E,O,chi2_calc = compute_chi2(observed, expected, n_bins=20)"
   ]
  },
  {
   "cell_type": "code",
   "execution_count": 24,
   "metadata": {},
   "outputs": [
    {
     "name": "stdout",
     "output_type": "stream",
     "text": [
      "chi2_calculated: 18.86983812200262\n",
      "chi2_critical: 4.605170185988092\n",
      "Hypothesis is rejected\n"
     ]
    },
    {
     "data": {
      "image/png": "[encoded data removed]",
      "text/plain": [
       "<Figure size 432x288 with 1 Axes>"
      ]
     },
     "metadata": {
      "needs_background": "light"
     },
     "output_type": "display_data"
    }
   ],
   "source": [
    "# ege\n",
    "expected = ege_ref_df.values\n",
    "observed = ege_cfs['carbon footprint'].values\n",
    "chi2_calc_cge = compute_chi2(observed, expected, n_bins=20)"
   ]
  },
  {
   "cell_type": "code",
   "execution_count": 26,
   "metadata": {},
   "outputs": [],
   "source": [
    "import scipy"
   ]
  },
  {
   "cell_type": "code",
   "execution_count": 27,
   "metadata": {},
   "outputs": [
    {
     "ename": "TypeError",
     "evalue": "'numpy.ndarray' object is not callable",
     "output_type": "error",
     "traceback": [
      "\u001b[0;31m---------------------------------------------------------------------------\u001b[0m",
      "\u001b[0;31mTypeError\u001b[0m                                 Traceback (most recent call last)",
      "\u001b[0;32m<ipython-input-27-6cc9ee069ce0>\u001b[0m in \u001b[0;36m<module>\u001b[0;34m\u001b[0m\n\u001b[0;32m----> 1\u001b[0;31m \u001b[0mscipy\u001b[0m\u001b[0;34m.\u001b[0m\u001b[0mstats\u001b[0m\u001b[0;34m.\u001b[0m\u001b[0mkstest\u001b[0m\u001b[0;34m(\u001b[0m\u001b[0mE\u001b[0m\u001b[0;34m,\u001b[0m\u001b[0mO\u001b[0m\u001b[0;34m)\u001b[0m\u001b[0;34m\u001b[0m\u001b[0;34m\u001b[0m\u001b[0m\n\u001b[0m",
      "\u001b[0;32m~/miniconda3/envs/gsa-ei/lib/python3.7/site-packages/scipy/stats/stats.py\u001b[0m in \u001b[0;36mkstest\u001b[0;34m(rvs, cdf, args, N, alternative, mode)\u001b[0m\n\u001b[1;32m   5501\u001b[0m         \u001b[0mvals\u001b[0m \u001b[0;34m=\u001b[0m \u001b[0mnp\u001b[0m\u001b[0;34m.\u001b[0m\u001b[0msort\u001b[0m\u001b[0;34m(\u001b[0m\u001b[0mrvs\u001b[0m\u001b[0;34m)\u001b[0m\u001b[0;34m\u001b[0m\u001b[0;34m\u001b[0m\u001b[0m\n\u001b[1;32m   5502\u001b[0m         \u001b[0mN\u001b[0m \u001b[0;34m=\u001b[0m \u001b[0mlen\u001b[0m\u001b[0;34m(\u001b[0m\u001b[0mvals\u001b[0m\u001b[0;34m)\u001b[0m\u001b[0;34m\u001b[0m\u001b[0;34m\u001b[0m\u001b[0m\n\u001b[0;32m-> 5503\u001b[0;31m     \u001b[0mcdfvals\u001b[0m \u001b[0;34m=\u001b[0m \u001b[0mcdf\u001b[0m\u001b[0;34m(\u001b[0m\u001b[0mvals\u001b[0m\u001b[0;34m,\u001b[0m \u001b[0;34m*\u001b[0m\u001b[0margs\u001b[0m\u001b[0;34m)\u001b[0m\u001b[0;34m\u001b[0m\u001b[0;34m\u001b[0m\u001b[0m\n\u001b[0m\u001b[1;32m   5504\u001b[0m \u001b[0;34m\u001b[0m\u001b[0m\n\u001b[1;32m   5505\u001b[0m     \u001b[0;31m# to not break compatibility with existing code\u001b[0m\u001b[0;34m\u001b[0m\u001b[0;34m\u001b[0m\u001b[0;34m\u001b[0m\u001b[0m\n",
      "\u001b[0;31mTypeError\u001b[0m: 'numpy.ndarray' object is not callable"
     ]
    }
   ],
   "source": [
    "scipy.stats.kstest(E,O)"
   ]
  },
  {
   "cell_type": "code",
   "execution_count": null,
   "metadata": {},
   "outputs": [],
   "source": []
  },
  {
   "cell_type": "code",
   "execution_count": null,
   "metadata": {},
   "outputs": [],
   "source": []
  },
  {
   "cell_type": "code",
   "execution_count": null,
   "metadata": {},
   "outputs": [],
   "source": []
  },
  {
   "cell_type": "code",
   "execution_count": null,
   "metadata": {},
   "outputs": [],
   "source": []
  },
  {
   "cell_type": "code",
   "execution_count": null,
   "metadata": {},
   "outputs": [],
   "source": []
  }
 ],
 "metadata": {
  "kernelspec": {
   "display_name": "Python 3",
   "language": "python",
   "name": "python3"
  },
  "language_info": {
   "codemirror_mode": {
    "name": "ipython",
    "version": 3
   },
   "file_extension": ".py",
   "mimetype": "text/x-python",
   "name": "python",
   "nbconvert_exporter": "python",
   "pygments_lexer": "ipython3",
   "version": "3.7.4"
  },
  "varInspector": {
   "cols": {
    "lenName": 16,
    "lenType": 16,
    "lenVar": 40
   },
   "kernels_config": {
    "python": {
     "delete_cmd_postfix": "",
     "delete_cmd_prefix": "del ",
     "library": "var_list.py",
     "varRefreshCmd": "print(var_dic_list())"
    },
    "r": {
     "delete_cmd_postfix": ") ",
     "delete_cmd_prefix": "rm(",
     "library": "var_list.r",
     "varRefreshCmd": "cat(var_dic_list()) "
    }
   },
   "types_to_exclude": [
    "module",
    "function",
    "builtin_function_or_method",
    "instance",
    "_Feature"
   ],
   "window_display": false
  }
 },
 "nbformat": 4,
 "nbformat_minor": 4
}
