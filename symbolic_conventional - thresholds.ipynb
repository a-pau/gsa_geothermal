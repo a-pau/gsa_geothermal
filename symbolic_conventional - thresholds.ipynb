{
 "cells": [
  {
   "cell_type": "markdown",
   "metadata": {},
   "source": [
    "# Compute i coefficients"
   ]
  },
  {
   "cell_type": "code",
   "execution_count": null,
   "metadata": {},
   "outputs": [],
   "source": [
    "import brightway2 as bw\n",
    "import pandas as pd\n",
    "import os\n",
    "\n",
    "# Set working directry\n",
    "path = \".\"\n",
    "os.chdir(path)\n",
    "\n",
    "# Local functions\n",
    "from utils.lookup_func import lookup_geothermal\n",
    "\n",
    "# Set project\n",
    "bw.projects.set_current(\"Geothermal\")\n",
    "\n",
    "# Retrieve activities\n",
    "wellhead, diesel, steel, cement, water, \\\n",
    "drilling_mud, drill_wst, wells_closr, coll_pipe, \\\n",
    "plant, ORC_fluid, ORC_fluid_wst, diesel_stim, co2,_, _ = lookup_geothermal()\n",
    "cooling_tower=bw.Database(\"geothermal energy\").search(\"cooling tower\")[0].key\n",
    "\n",
    "list_act = [wellhead, diesel, steel, cement, water, \n",
    "         drilling_mud, drill_wst, wells_closr, coll_pipe,\n",
    "         plant, cooling_tower, ORC_fluid, ORC_fluid_wst, diesel_stim]\n",
    "\n",
    "# Retrieve methods \n",
    "ILCD_CC = [method for method in bw.methods if \"ILCD 2.0 2018 midpoint no LT\" in str(method) and \"climate change total\" in str(method)]\n",
    "ILCD_HH = [method for method in bw.methods if \"ILCD 2.0 2018 midpoint no LT\" in str(method) and \"human health\" in str(method)]\n",
    "ILCD_EQ = [method for method in bw.methods if \"ILCD 2.0 2018 midpoint no LT\" in str(method) and \"ecosystem quality\" in str(method)]\n",
    "ILCD_RE = [method for method in bw.methods if \"ILCD 2.0 2018 midpoint no LT\" in str(method) and \"resources\" in str(method)]\n",
    "ILCD = ILCD_CC + ILCD_HH + ILCD_EQ + ILCD_RE\n",
    "\n",
    "# Calculate impact of activities\n",
    "lca = bw.LCA({list_act[0]: 1}, ILCD[0])\n",
    "lca.lci()\n",
    "lca.lcia()\n",
    "coeff = {}\n",
    "for method in ILCD:\n",
    "    s=[]\n",
    "    lca.switch_method(method)\n",
    "    for act in list_act:\n",
    "        lca.redo_lcia({act: 1})\n",
    "        s.append(lca.score)\n",
    "    coeff[method] = s\n",
    "\n",
    "# Retrieve CF for co2 emissions    \n",
    "for method in ILCD:\n",
    "    CFs = bw.Method(method).load()\n",
    "    coeff[method].append(next((cf[1] for cf in CFs if cf[0]==co2),0))\n",
    "\n",
    "# Build matrix\n",
    "col_names = [\"wellhead\", \"diesel\", \"steel\", \"cement\", \"water\", \\\n",
    "         \"drilling_mud\", \"drill_wst\", \"wells_closr\", \"coll_pipe\", \\\n",
    "         \"plant\", \"cooling tower\", \"ORC_fluid\", \"ORC_fluid_wst\", \"diesel_stim\", \"co2\"]\n",
    "coeff_matrix = pd.DataFrame.from_dict(coeff, orient=\"index\", columns=col_names)\n",
    "\n",
    "# Re-arrange matrix\n",
    "coeff_matrix[\"concrete\"] = coeff_matrix[\"cement\"] + coeff_matrix[\"water\"] * 1/0.65\n",
    "coeff_matrix[\"ORC_fluid_tot\"] = coeff_matrix[\"ORC_fluid\"] - coeff_matrix[\"ORC_fluid_wst\"]\n",
    "coeff_matrix[\"electricity_stim\"] = coeff_matrix[\"diesel_stim\"] * 3.6 / 0.3\n",
    "coeff_matrix=coeff_matrix.drop(columns=[\"cement\", \"ORC_fluid\", \"ORC_fluid_wst\", \"diesel_stim\"])\n",
    "\n",
    "col_ord = [\"wellhead\", \"diesel\", \"steel\", \"concrete\", \\\n",
    "         \"drilling_mud\", \"drill_wst\", \"wells_closr\", \"coll_pipe\", \\\n",
    "         \"plant\", \"cooling tower\", \"ORC_fluid_tot\", \"water\", \"electricity_stim\", \"co2\"]\n",
    "coeff_matrix=coeff_matrix[col_ord]\n",
    "\n",
    "is_= [\"i1\", \"i2.1\", \"i2.2\", \"i2.3\", \"i2.4\", \"i2.5\", \\\n",
    "      \"i2.6\",\"i3\", \"i4.1\", \"i4.2\", \"i4.3\", \"i5.1\", \"i5.2\", \"i6\"]\n",
    "\n",
    "if len(coeff_matrix.columns) == len(is_):\n",
    "    coeff_matrix.columns=is_"
   ]
  },
  {
   "cell_type": "markdown",
   "metadata": {},
   "source": [
    "# Define symbolic"
   ]
  },
  {
   "cell_type": "code",
   "execution_count": null,
   "metadata": {},
   "outputs": [],
   "source": [
    "from sympy import symbols, collect, ratsimp, fraction"
   ]
  },
  {
   "cell_type": "code",
   "execution_count": null,
   "metadata": {},
   "outputs": [],
   "source": [
    "# Coefficients\n",
    "i1, i2_1, i2_2, i2_3, i2_4, i2_5, i2_6, i3, i4, i4_1, i4_2, i4_3, i5_1, i5_2, i6 = \\\n",
    "symbols('i1, i2_1, i2_2, i2_3, i2_4, i2_5, i2_6, i3, i4, i4_1, i4_2, i4_3, i5_1, i5_2, i6')\n",
    "\n",
    "# Other variables that are actually irrelevant, because they will be multiplied by 0 in the enhanced model\n",
    "# I wanna keep them though for the sake of completeness\n",
    "SW_n, S_w, S_el = symbols('SW_n, SW, S_el')\n",
    "\n",
    "# Main parameters\n",
    "P_ne, CW_ne, PIratio, W_d, E_co2, SR_p, D_i, LT, SR_m, SR_e, D, C_S, C_C, DM, CP, CF, AP = \\\n",
    "symbols('P_ne, CW_ne, PIratio, W_d, E_co2, SR_p, D_i, LT, SR_m, SR_e, D, C_S, C_C, DM, CP, CF, AP')\n",
    "\n",
    "# Constants\n",
    "CT_el, CT_n, W_en, OF,DW = symbols ('CT_el, CT_n, W_E_en, OF, DW')\n"
   ]
  },
  {
   "cell_type": "markdown",
   "metadata": {},
   "source": [
    "# Main equation"
   ]
  },
  {
   "cell_type": "code",
   "execution_count": null,
   "metadata": {},
   "outputs": [],
   "source": [
    "# Supporting equations for CONVENTIONAL geothermal\n",
    "W_Pn = P_ne/CW_ne             # production wells\n",
    "W_In = P_ne/CW_ne / PIratio  # injection wells\n",
    "W_Mn = W_Pn*D_i*LT            # makeup wells\n",
    "\n",
    "# Number of wells with success rate\n",
    "W_n = W_Pn/SR_p + W_In/SR_p + W_Mn/SR_m\n",
    "#W_n = W_Pn * ( (1 + 1/PIratio)/SR_p + D_i*LT/SR_m)\n",
    "W_E_en = W_en/SR_e\n"
   ]
  },
  {
   "cell_type": "code",
   "execution_count": null,
   "metadata": {},
   "outputs": [],
   "source": [
    "# Equation\n",
    "nominator = (W_n + W_E_en) *i1 \\\n",
    "          + W_d* (W_n + W_E_en) * (D*i2_1 + C_S*i2_2 + C_C*i2_3  +  DM*i2_4 + DW*i2_5 + i2_6) + \\\n",
    "          + W_n*CP*i3 \\\n",
    "          + P_ne*i4 \\\n",
    "          + SW_n*S_w * (i5_1 + S_el*i5_2)\n",
    "\n",
    "c1 = P_ne*CF*(1-AP)*LT*8760000\n",
    "d1 = CT_el*CT_n*1000*LT\n",
    "denominator = c1  -  d1\n",
    "\n",
    "summand = E_co2*i6\n",
    "\n",
    "eq = nominator/denominator + summand\n",
    "eq = eq.subs(i4, i4_1 + i4_2*CT_n + i4_3*OF)"
   ]
  },
  {
   "cell_type": "code",
   "execution_count": null,
   "metadata": {},
   "outputs": [],
   "source": [
    "# Show equation\n",
    "eq"
   ]
  },
  {
   "cell_type": "markdown",
   "metadata": {},
   "source": [
    "# Get parameters values"
   ]
  },
  {
   "cell_type": "code",
   "execution_count": null,
   "metadata": {},
   "outputs": [],
   "source": [
    "from cge_klausen import parameters\n",
    "parameters.static()    \n",
    "\n",
    "# Rename parameters (in accordance with equation)\n",
    "\n",
    "# Parameters of simplified models\n",
    "CW_ne_val    = parameters[\"gross_power_per_well\"]\n",
    "E_co2_val    = parameters[\"co2_emissions\"]\n",
    "D_i_val      = parameters[\"initial_harmonic_decline_rate\"]\n",
    "SR_p_val     = parameters[\"success_rate_primary_wells\"]/100\n",
    "W_d_val      = parameters[\"average_depth_of_wells\"]\n",
    "\n",
    "# Parameters to be fixed\n",
    "P_ne_val     = parameters[\"installed_capacity\"]\n",
    "PIratio_val  = parameters[\"production_to_injection_ratio\"]\n",
    "LT_val       = parameters[\"lifetime\"]\n",
    "SR_m_val     = parameters[\"success_rate_makeup_wells\"]/100\n",
    "SR_e_val     = parameters[\"success_rate_exploration_wells\"]/100\n",
    "D_val        = parameters[\"specific_diesel_consumption\"]\n",
    "C_S_val      = parameters[\"specific_steel_consumption\"]\n",
    "C_C_val      = parameters[\"specific_cement_consumption\"]\n",
    "DM_val       = parameters[\"specific_drilling_mud_consumption\"]\n",
    "CP_val       = parameters[\"collection_pipelines\"]\n",
    "CF_val       = parameters[\"capacity_factor\"]\n",
    "AP_val       = parameters[\"auxiliary_power\"]\n",
    "\n",
    "# Constants\n",
    "CT_el_val  = 864\n",
    "CT_n_val   = 7/303.3\n",
    "W_en_val   = 3 * 0.3\n",
    "OF_val     = 0\n",
    "DW_val     = 450\n",
    "\n",
    "par_dict = { P_ne: P_ne_val,\n",
    "             PIratio: PIratio_val,\n",
    "             LT: LT_val,\n",
    "             SR_m: SR_m_val,\n",
    "             SR_e: SR_e_val,\n",
    "             D: D_val,\n",
    "             C_S: C_S_val,\n",
    "             C_C: C_C_val,\n",
    "             DM: DM_val,\n",
    "             CP: CP_val,\n",
    "             CF: CF_val,\n",
    "             AP: AP_val,\n",
    "             CT_el: CT_el_val,\n",
    "             CT_n: CT_n_val,\n",
    "             W_en: W_en_val,\n",
    "             OF: OF_val,\n",
    "             DW: DW_val}"
   ]
  },
  {
   "cell_type": "markdown",
   "metadata": {},
   "source": [
    "# Groups of environmental categories"
   ]
  },
  {
   "cell_type": "code",
   "execution_count": null,
   "metadata": {},
   "outputs": [],
   "source": [
    "group1 = [\"climate change total\"]\n",
    "\n",
    "group2 = [\"carcinogenic effects\", \"ionising radiation\", \"non-carcinogenic effects\", \n",
    "          \"ozone layer depletion\", \"photochemical ozone creation\", \"respiratory effects, inorganics\",\n",
    "          \"freshwater and terrestrial acidification\", \"freshwater ecotoxicity\", \n",
    "          \"freshwater eutrophication\", \"marine eutrophication\", \"terrestrial eutrophication\",\n",
    "          \"minerals and metals\", \"dissipated water\", \"fossils\", \"land use\"]"
   ]
  },
  {
   "cell_type": "markdown",
   "metadata": {},
   "source": [
    "# Simplified equations"
   ]
  },
  {
   "cell_type": "code",
   "execution_count": null,
   "metadata": {},
   "outputs": [],
   "source": [
    "# Define symbols\n",
    "alpha_1, alpha_2, beta_1, beta_2, beta_3, beta_4, beta_5, beta_6 = \\\n",
    "symbols('alpha_1, alpha_2, beta_1, beta_2, beta_3, beta_4, beta_5, beta_6')"
   ]
  },
  {
   "cell_type": "markdown",
   "metadata": {},
   "source": [
    "## Group 1 (Climate Change)"
   ]
  },
  {
   "cell_type": "code",
   "execution_count": null,
   "metadata": {},
   "outputs": [],
   "source": [
    "eq_group1_all_thresholds = alpha_1*E_co2 + alpha_2\n",
    "eq_group1_all_thresholds"
   ]
  },
  {
   "cell_type": "markdown",
   "metadata": {},
   "source": [
    "## Group 2 "
   ]
  },
  {
   "cell_type": "markdown",
   "metadata": {},
   "source": [
    "### Threshold 15/20%"
   ]
  },
  {
   "cell_type": "code",
   "execution_count": null,
   "metadata": {},
   "outputs": [],
   "source": [
    "eq_group2_15_20 = (W_d*beta_1 + beta_2)/CW_ne + CW_ne*beta_3 + beta_4\n",
    "eq_group2_15_20"
   ]
  },
  {
   "cell_type": "markdown",
   "metadata": {},
   "source": [
    "## Threshold 10%"
   ]
  },
  {
   "cell_type": "code",
   "execution_count": null,
   "metadata": {},
   "outputs": [],
   "source": [
    "eq_group2_10 = (D_i*W_d*beta_1 + D_i*beta_2 + W_d*beta_3 + beta_4) / (CW_ne) + W_d*beta_5 + beta_6\n",
    "eq_group2_10 "
   ]
  },
  {
   "cell_type": "markdown",
   "metadata": {},
   "source": [
    "## Threshold 5%"
   ]
  },
  {
   "cell_type": "code",
   "execution_count": null,
   "metadata": {},
   "outputs": [],
   "source": [
    "eq_group2_05 = (D_i*SR_p*W_d*beta_1 + D_i*SR_p*beta_2 + W_d*beta_3 + beta_4) / (CW_ne*SR_p) + W_d*beta_5 + beta_6\n",
    "eq_group2_05 "
   ]
  },
  {
   "cell_type": "markdown",
   "metadata": {},
   "source": [
    "# Compute alphas "
   ]
  },
  {
   "cell_type": "markdown",
   "metadata": {},
   "source": [
    "## All thresholds"
   ]
  },
  {
   "cell_type": "code",
   "execution_count": null,
   "metadata": {},
   "outputs": [],
   "source": [
    "# Replace parameters in equation\n",
    "eq_alpha = eq.subs(par_dict)\n",
    "repl = {SR_p: SR_p_val,\n",
    "        D_i: D_i_val,\n",
    "        CW_ne: CW_ne_val,\n",
    "        W_d: W_d_val}\n",
    "eq_alpha = eq_alpha.subs(repl)\n",
    "\n",
    "alpha_dict = {}\n",
    "for method in ILCD:\n",
    "    is_ = dict(coeff_matrix.T[method])\n",
    "    is_dict = {k.replace('.', '_'): v for k,v in is_.items()}\n",
    "    is_dict['i5_1'] = 0\n",
    "    is_dict['i5_2'] = 0\n",
    "    if method[2] in group1:\n",
    "        eq_alpha_is = eq_alpha.subs(is_dict)\n",
    "        alpha1 = collect(eq_alpha_is, E_co2, evaluate=False)[E_co2]\n",
    "        alpha2 = collect(eq_alpha_is, E_co2, evaluate=False)[1]\n",
    "        alpha_dict[str(method)] = {'alpha1': alpha1, 'alpha2': alpha2}\n",
    "           "
   ]
  },
  {
   "cell_type": "code",
   "execution_count": null,
   "metadata": {},
   "outputs": [],
   "source": [
    "# Example of the formula\n",
    "eq_alpha_is"
   ]
  },
  {
   "cell_type": "code",
   "execution_count": null,
   "metadata": {},
   "outputs": [],
   "source": [
    "alpha_df = pd.DataFrame.from_dict(alpha_dict, orient='index')\n",
    "alpha_df = alpha_df.astype(float)\n",
    "alpha_df_5 = alpha_df_10 = alpha_df_15 = alpha_df_20 = alpha_df\n",
    "alpha_df"
   ]
  },
  {
   "cell_type": "markdown",
   "metadata": {},
   "source": [
    "# Compute betas"
   ]
  },
  {
   "cell_type": "markdown",
   "metadata": {},
   "source": [
    "## Threshold 15-20%"
   ]
  },
  {
   "cell_type": "code",
   "execution_count": null,
   "metadata": {},
   "outputs": [],
   "source": [
    "# Threshold = 15%/20%\n",
    "eq_beta = eq.subs(par_dict)\n",
    "eq_beta = eq_beta.subs(E_co2, E_co2_val)\n",
    "repl = {SR_p: SR_p_val, D_i: D_i_val} \n",
    "eq_beta = eq_beta.subs(repl)\n",
    "        \n",
    "beta_dict_15 = {}     \n",
    "for method in ILCD:\n",
    "    is_ = dict(coeff_matrix.T[method])\n",
    "    is_dict = {k.replace('.', '_'): v for k,v in is_.items()}\n",
    "    is_dict['i5_1'] = 0\n",
    "    is_dict['i5_2'] = 0\n",
    "    if method[2] in group2:\n",
    "        eq_beta_is = eq_beta.subs(is_dict)\n",
    "        eq_beta_is = ratsimp(eq_beta_is)\n",
    "        temp = collect(eq_beta_is, [W_d,1/CW_ne], evaluate=False)\n",
    "        beta1 = collect(temp[list(temp.keys())[1]], W_d, evaluate=False)[W_d]\n",
    "        beta2 = collect(temp[list(temp.keys())[1]], W_d, evaluate=False)[1]\n",
    "        beta3 = temp[W_d]\n",
    "        beta4 = temp[1]\n",
    "        \n",
    "        beta_dict_15[str(method)] = {'beta1': beta1, 'beta2': beta2,\n",
    "                                     'beta3': beta3, 'beta4': beta4}\n",
    "\n",
    "\n",
    "beta_dict_20 = beta_dict_15\n"
   ]
  },
  {
   "cell_type": "code",
   "execution_count": null,
   "metadata": {},
   "outputs": [],
   "source": [
    "# Show example of the formula\n",
    "eq_beta_is"
   ]
  },
  {
   "cell_type": "code",
   "execution_count": null,
   "metadata": {},
   "outputs": [],
   "source": [
    "beta_df_15 = pd.DataFrame.from_dict(beta_dict_15, orient='index')\n",
    "beta_df_15 = beta_df_15.astype(float)\n",
    "\n",
    "#20% and 15% threshold have the same configuration\n",
    "beta_df_20 = beta_df_15\n",
    "\n",
    "beta_df_15"
   ]
  },
  {
   "cell_type": "markdown",
   "metadata": {},
   "source": [
    "## Threshold = 10%"
   ]
  },
  {
   "cell_type": "code",
   "execution_count": null,
   "metadata": {},
   "outputs": [],
   "source": [
    "eq_beta_10 = eq.subs(par_dict)\n",
    "eq_beta_10 = eq_beta_10.subs(E_co2, E_co2_val)\n",
    "repl = {SR_p: SR_p_val} \n",
    "eq_beta_10 = eq_beta_10.subs(repl)\n",
    "        \n",
    "beta_dict_10 = {}   \n",
    "    \n",
    "for method in ILCD:\n",
    "    is_ = dict(coeff_matrix.T[method])\n",
    "    is_dict = {k.replace('.', '_'): v for k,v in is_.items()}\n",
    "    is_dict['i5_1'] = 0\n",
    "    is_dict['i5_2'] = 0\n",
    "    if method[2] in group2:\n",
    "        eq_beta_10_is = eq_beta_10.subs(is_dict)\n",
    "        eq_beta_10_is = ratsimp(eq_beta_10_is)\n",
    "               \n",
    "        temp   = collect(eq_beta_10_is, [W_d, 1/CW_ne,], evaluate=False)\n",
    "        temp_2 = collect(temp[list(temp.keys())[1]], [D_i*W_d, D_i, W_d], evaluate=False)\n",
    "        \n",
    "        beta1  = temp_2[D_i*W_d]      \n",
    "        beta2  = temp_2[D_i]\n",
    "        beta3  = temp_2[W_d]\n",
    "        beta4  = temp_2[1]\n",
    "              \n",
    "        beta5 = temp[W_d]\n",
    "        beta6 = temp[1]\n",
    "        \n",
    "        beta_dict_10[str(method)] = {'beta1': beta1, 'beta2': beta2,\n",
    "                                     'beta3': beta3, 'beta4': beta4,\n",
    "                                     'beta5': beta5, 'beta6': beta6}      \n",
    "    "
   ]
  },
  {
   "cell_type": "code",
   "execution_count": null,
   "metadata": {},
   "outputs": [],
   "source": [
    "# Example of the formula\n",
    "eq_beta_10_is"
   ]
  },
  {
   "cell_type": "code",
   "execution_count": null,
   "metadata": {
    "scrolled": true
   },
   "outputs": [],
   "source": [
    "beta_df_10 = pd.DataFrame.from_dict(beta_dict_10, orient='index')\n",
    "beta_df_10 = beta_df_10.astype(float)\n",
    "beta_df_10"
   ]
  },
  {
   "cell_type": "markdown",
   "metadata": {},
   "source": [
    "## Threshold = 5%"
   ]
  },
  {
   "cell_type": "code",
   "execution_count": null,
   "metadata": {},
   "outputs": [],
   "source": [
    "eq_beta_5 = eq.subs(par_dict)\n",
    "eq_beta_5 = eq_beta_5.subs(E_co2, E_co2_val)\n",
    "        \n",
    "beta_dict_5 = {}       \n",
    "for method in ILCD:\n",
    "    is_ = dict(coeff_matrix.T[method])\n",
    "    is_dict = {k.replace('.', '_'): v for k,v in is_.items()}\n",
    "    is_dict['i5_1'] = 0\n",
    "    is_dict['i5_2'] = 0\n",
    "    if method[2] in group2:\n",
    "        eq_beta_5_is = eq_beta_5.subs(is_dict)\n",
    "        eq_beta_5_is = ratsimp(eq_beta_5_is)\n",
    "               \n",
    "        temp   = collect(eq_beta_5_is, [W_d, 1/CW_ne*SR_p], evaluate=False)\n",
    "        temp_2 = collect(temp[list(temp.keys())[1]], [SR_p*W_d*D_i, D_i*SR_p, W_d], evaluate=False)\n",
    "        \n",
    "        beta1  = temp_2[D_i*SR_p*W_d]\n",
    "        beta2  = temp_2[D_i*SR_p]\n",
    "        beta3  = temp_2[W_d]\n",
    "        beta4  = temp_2[1]\n",
    "               \n",
    "        beta5 = temp[W_d]\n",
    "        beta6 = temp[1]\n",
    "        \n",
    "        beta_dict_5[str(method)] = {'beta1': beta1, 'beta2': beta2,\n",
    "                                     'beta3': beta3, 'beta4': beta4,\n",
    "                                     'beta5': beta5, 'beta6': beta6}      \n",
    "    "
   ]
  },
  {
   "cell_type": "code",
   "execution_count": null,
   "metadata": {},
   "outputs": [],
   "source": [
    "# Show example of the formula\n",
    "eq_beta_5_is"
   ]
  },
  {
   "cell_type": "code",
   "execution_count": null,
   "metadata": {
    "scrolled": true
   },
   "outputs": [],
   "source": [
    "beta_df_5 = pd.DataFrame.from_dict(beta_dict_5, orient='index')\n",
    "beta_df_5 = beta_df_5.astype(float)\n",
    "beta_df_5"
   ]
  },
  {
   "cell_type": "markdown",
   "metadata": {},
   "source": [
    "# Save to excel"
   ]
  },
  {
   "cell_type": "code",
   "execution_count": null,
   "metadata": {},
   "outputs": [],
   "source": [
    "with pd.ExcelWriter(os.path.join(path, 'generated_files\\Simplified models coefficients conventional - symbolic - thresholds.xlsx')) as writer:\n",
    "    alpha_df_5.to_excel(writer, sheet_name='alpha_5%')\n",
    "    alpha_df_10.to_excel(writer, sheet_name='alpha_10%')\n",
    "    alpha_df_15.to_excel(writer, sheet_name='alpha_15%')\n",
    "    alpha_df_20.to_excel(writer, sheet_name='alpha_20%')\n",
    "    beta_df_5.to_excel(writer, sheet_name='beta_5%')\n",
    "    beta_df_10.to_excel(writer, sheet_name='beta_10%')\n",
    "    beta_df_15.to_excel(writer, sheet_name='beta_15%')\n",
    "    beta_df_20.to_excel(writer, sheet_name='beta_20%')"
   ]
  },
  {
   "cell_type": "code",
   "execution_count": null,
   "metadata": {},
   "outputs": [],
   "source": []
  }
 ],
 "metadata": {
  "kernelspec": {
   "display_name": "Python 3",
   "language": "python",
   "name": "python3"
  },
  "language_info": {
   "codemirror_mode": {
    "name": "ipython",
    "version": 3
   },
   "file_extension": ".py",
   "mimetype": "text/x-python",
   "name": "python",
   "nbconvert_exporter": "python",
   "pygments_lexer": "ipython3",
   "version": "3.6.9"
  }
 },
 "nbformat": 4,
 "nbformat_minor": 2
}
