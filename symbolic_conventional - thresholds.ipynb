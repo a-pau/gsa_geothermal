{
 "cells": [
  {
   "cell_type": "markdown",
   "metadata": {},
   "source": [
    "# Compute i coefficients"
   ]
  },
  {
   "cell_type": "code",
   "execution_count": 1,
   "metadata": {},
   "outputs": [],
   "source": [
    "import brightway2 as bw\n",
    "import pandas as pd\n",
    "import os\n",
    "\n",
    "# Set working directry\n",
    "path = \".\"\n",
    "os.chdir(path)\n",
    "\n",
    "# Local functions\n",
    "from utils.lookup_func import lookup_geothermal\n",
    "\n",
    "# Set project\n",
    "bw.projects.set_current(\"Geothermal\")\n",
    "\n",
    "# Retrieve activities\n",
    "wellhead, diesel, steel, cement, water, \\\n",
    "drilling_mud, drill_wst, wells_closr, coll_pipe, \\\n",
    "plant, ORC_fluid, ORC_fluid_wst, diesel_stim, co2,_, _ = lookup_geothermal()\n",
    "cooling_tower=bw.Database(\"geothermal energy\").search(\"cooling tower\")[0].key\n",
    "\n",
    "list_act = [wellhead, diesel, steel, cement, water, \n",
    "         drilling_mud, drill_wst, wells_closr, coll_pipe,\n",
    "         plant, cooling_tower, ORC_fluid, ORC_fluid_wst, diesel_stim]\n",
    "\n",
    "# Retrieve methods \n",
    "ILCD_CC = [method for method in bw.methods if \"ILCD 2.0 2018 midpoint no LT\" in str(method) and \"climate change total\" in str(method)]\n",
    "ILCD_HH = [method for method in bw.methods if \"ILCD 2.0 2018 midpoint no LT\" in str(method) and \"human health\" in str(method)]\n",
    "ILCD_EQ = [method for method in bw.methods if \"ILCD 2.0 2018 midpoint no LT\" in str(method) and \"ecosystem quality\" in str(method)]\n",
    "ILCD_RE = [method for method in bw.methods if \"ILCD 2.0 2018 midpoint no LT\" in str(method) and \"resources\" in str(method)]\n",
    "ILCD = ILCD_CC + ILCD_HH + ILCD_EQ + ILCD_RE\n",
    "\n",
    "# Calculate impact of activities\n",
    "lca = bw.LCA({list_act[0]: 1}, ILCD[0])\n",
    "lca.lci()\n",
    "lca.lcia()\n",
    "coeff = {}\n",
    "for method in ILCD:\n",
    "    s=[]\n",
    "    lca.switch_method(method)\n",
    "    for act in list_act:\n",
    "        lca.redo_lcia({act: 1})\n",
    "        s.append(lca.score)\n",
    "    coeff[method] = s\n",
    "\n",
    "# Retrieve CF for co2 emissions    \n",
    "for method in ILCD:\n",
    "    CFs = bw.Method(method).load()\n",
    "    coeff[method].append(next((cf[1] for cf in CFs if cf[0]==co2),0))\n",
    "\n",
    "# Build matrix\n",
    "col_names = [\"wellhead\", \"diesel\", \"steel\", \"cement\", \"water\", \\\n",
    "         \"drilling_mud\", \"drill_wst\", \"wells_closr\", \"coll_pipe\", \\\n",
    "         \"plant\", \"cooling tower\", \"ORC_fluid\", \"ORC_fluid_wst\", \"diesel_stim\", \"co2\"]\n",
    "coeff_matrix = pd.DataFrame.from_dict(coeff, orient=\"index\", columns=col_names)\n",
    "\n",
    "# Re-arrange matrix\n",
    "coeff_matrix[\"concrete\"] = coeff_matrix[\"cement\"] + coeff_matrix[\"water\"] * 1/0.65\n",
    "coeff_matrix[\"ORC_fluid_tot\"] = coeff_matrix[\"ORC_fluid\"] - coeff_matrix[\"ORC_fluid_wst\"]\n",
    "coeff_matrix[\"electricity_stim\"] = coeff_matrix[\"diesel_stim\"] * 3.6\n",
    "coeff_matrix[\"drill_wst\"] = coeff_matrix[\"drill_wst\"] * -1\n",
    "coeff_matrix=coeff_matrix.drop(columns=[\"cement\", \"ORC_fluid\", \"ORC_fluid_wst\", \"diesel_stim\"])\n",
    "\n",
    "col_ord = [\"wellhead\", \"diesel\", \"steel\", \"concrete\", \\\n",
    "         \"drilling_mud\", \"drill_wst\", \"wells_closr\", \"coll_pipe\", \\\n",
    "         \"plant\", \"cooling tower\", \"ORC_fluid_tot\", \"water\", \"electricity_stim\", \"co2\"]\n",
    "coeff_matrix=coeff_matrix[col_ord]\n",
    "\n",
    "is_= [\"i1\", \"i2.1\", \"i2.2\", \"i2.3\", \"i2.4\", \"i2.5\", \\\n",
    "      \"i2.6\",\"i3\", \"i4.1\", \"i4.2\", \"i4.3\", \"i5.1\", \"i5.2\", \"i6\"]\n",
    "\n",
    "if len(coeff_matrix.columns) == len(is_):\n",
    "    coeff_matrix.columns=is_"
   ]
  },
  {
   "cell_type": "markdown",
   "metadata": {},
   "source": [
    "# Define symbolic"
   ]
  },
  {
   "cell_type": "code",
   "execution_count": 2,
   "metadata": {},
   "outputs": [],
   "source": [
    "from sympy import symbols, collect, ratsimp, fraction"
   ]
  },
  {
   "cell_type": "code",
   "execution_count": 3,
   "metadata": {},
   "outputs": [],
   "source": [
    "# Coefficients\n",
    "i1, i2_1, i2_2, i2_3, i2_4, i2_5, i2_6, i3, i4, i4_1, i4_2, i4_3, i5_1, i5_2, i6 = \\\n",
    "symbols('i1, i2_1, i2_2, i2_3, i2_4, i2_5, i2_6, i3, i4, i4_1, i4_2, i4_3, i5_1, i5_2, i6')\n",
    "\n",
    "# Other variables that are actually irrelevant, because they will be multiplied by 0 in the enhanced model\n",
    "# I wanna keep them though for the sake of completeness\n",
    "SW_n, S_w, S_el = symbols('SW_n, SW, S_el')\n",
    "\n",
    "# Main parameters\n",
    "P_ne, CW_ne, PIratio, W_d, E_co2, SR_p, D_i, LT, SR_m, SR_e, D, C_S, C_C, DM, CP, CF, AP = \\\n",
    "symbols('P_ne, CW_ne, PIratio, W_d, E_co2, SR_p, D_i, LT, SR_m, SR_e, D, C_S, C_C, DM, CP, CF, AP')\n",
    "\n",
    "# Constants\n",
    "CT_el, CT_n, W_en, OF,DW = symbols ('CT_el, CT_n, W_E_en, OF, DW')\n"
   ]
  },
  {
   "cell_type": "markdown",
   "metadata": {},
   "source": [
    "# Main equation"
   ]
  },
  {
   "cell_type": "code",
   "execution_count": 4,
   "metadata": {},
   "outputs": [],
   "source": [
    "# Supporting equations for CONVENTIONAL geothermal\n",
    "W_Pn = P_ne/CW_ne             # production wells\n",
    "W_In = P_ne/CW_ne / PIratio  # injection wells\n",
    "W_Mn = W_Pn*D_i*LT            # makeup wells\n",
    "\n",
    "# Number of wells with success rate\n",
    "W_n = W_Pn/SR_p + W_In/SR_p + W_Mn/SR_m\n",
    "#W_n = W_Pn * ( (1 + 1/PIratio)/SR_p + D_i*LT/SR_m)\n",
    "W_E_en = W_en/SR_e\n"
   ]
  },
  {
   "cell_type": "code",
   "execution_count": 5,
   "metadata": {},
   "outputs": [],
   "source": [
    "# Equation\n",
    "nominator = (W_n + W_E_en) *i1 \\\n",
    "          + W_d* (W_n + W_E_en) * (D*i2_1 + C_S*i2_2 + C_C*i2_3  +  DM*i2_4 + DW*i2_5 + i2_6) + \\\n",
    "          + W_n*CP*i3 \\\n",
    "          + P_ne*i4 \\\n",
    "          + SW_n*S_w * (i5_1 + S_el*i5_2)\n",
    "\n",
    "c1 = P_ne*CF*(1-AP)*LT*8760000\n",
    "d1 = CT_el*CT_n*1000*LT\n",
    "denominator = c1  -  d1\n",
    "\n",
    "summand = E_co2*i6\n",
    "\n",
    "eq = nominator/denominator + summand\n",
    "eq = eq.subs(i4, i4_1 + i4_2*CT_n + i4_3*OF)"
   ]
  },
  {
   "cell_type": "code",
   "execution_count": 6,
   "metadata": {},
   "outputs": [
    {
     "data": {
      "text/latex": [
       "$\\displaystyle E_{co2} i_{6} + \\frac{CP i_{3} \\left(\\frac{D_{i} LT P_{ne}}{CW_{ne} SR_{m}} + \\frac{P_{ne}}{CW_{ne} SR_{p}} + \\frac{P_{ne}}{CW_{ne} PIratio SR_{p}}\\right) + P_{ne} \\left(CT_{n} i_{4 2} + OF i_{4 3} + i_{4 1}\\right) + SW SW_{n} \\left(S_{el} i_{5 2} + i_{5 1}\\right) + W_{d} \\left(\\frac{W_{E en}}{SR_{e}} + \\frac{D_{i} LT P_{ne}}{CW_{ne} SR_{m}} + \\frac{P_{ne}}{CW_{ne} SR_{p}} + \\frac{P_{ne}}{CW_{ne} PIratio SR_{p}}\\right) \\left(C_{C} i_{2 3} + C_{S} i_{2 2} + D i_{2 1} + DM i_{2 4} + DW i_{2 5} + i_{2 6}\\right) + i_{1} \\left(\\frac{W_{E en}}{SR_{e}} + \\frac{D_{i} LT P_{ne}}{CW_{ne} SR_{m}} + \\frac{P_{ne}}{CW_{ne} SR_{p}} + \\frac{P_{ne}}{CW_{ne} PIratio SR_{p}}\\right)}{8760000 CF LT P_{ne} \\left(1 - AP\\right) - 1000 CT_{el} CT_{n} LT}$"
      ],
      "text/plain": [
       "E_co2*i6 + (CP*i3*(D_i*LT*P_ne/(CW_ne*SR_m) + P_ne/(CW_ne*SR_p) + P_ne/(CW_ne*PIratio*SR_p)) + P_ne*(CT_n*i4_2 + OF*i4_3 + i4_1) + SW*SW_n*(S_el*i5_2 + i5_1) + W_d*(W_E_en/SR_e + D_i*LT*P_ne/(CW_ne*SR_m) + P_ne/(CW_ne*SR_p) + P_ne/(CW_ne*PIratio*SR_p))*(C_C*i2_3 + C_S*i2_2 + D*i2_1 + DM*i2_4 + DW*i2_5 + i2_6) + i1*(W_E_en/SR_e + D_i*LT*P_ne/(CW_ne*SR_m) + P_ne/(CW_ne*SR_p) + P_ne/(CW_ne*PIratio*SR_p)))/(8760000*CF*LT*P_ne*(1 - AP) - 1000*CT_el*CT_n*LT)"
      ]
     },
     "execution_count": 6,
     "metadata": {},
     "output_type": "execute_result"
    }
   ],
   "source": [
    "# Show equation\n",
    "eq"
   ]
  },
  {
   "cell_type": "markdown",
   "metadata": {},
   "source": [
    "# Get parameters values"
   ]
  },
  {
   "cell_type": "code",
   "execution_count": 7,
   "metadata": {},
   "outputs": [],
   "source": [
    "from cge_klausen import parameters\n",
    "parameters.static()    \n",
    "\n",
    "# Rename parameters (in accordance with equation)\n",
    "\n",
    "# Parameters of simplified models\n",
    "CW_ne_val    = parameters[\"gross_power_per_well\"]\n",
    "E_co2_val    = parameters[\"co2_emissions\"]\n",
    "D_i_val      = parameters[\"initial_harmonic_decline_rate\"]\n",
    "SR_p_val     = parameters[\"success_rate_primary_wells\"]/100\n",
    "W_d_val      = parameters[\"average_depth_of_wells\"]\n",
    "\n",
    "# Parameters to be fixed\n",
    "P_ne_val     = parameters[\"installed_capacity\"]\n",
    "PIratio_val  = parameters[\"production_to_injection_ratio\"]\n",
    "LT_val       = parameters[\"lifetime\"]\n",
    "SR_m_val     = parameters[\"success_rate_makeup_wells\"]/100\n",
    "SR_e_val     = parameters[\"success_rate_exploration_wells\"]/100\n",
    "D_val        = parameters[\"specific_diesel_consumption\"]\n",
    "C_S_val      = parameters[\"specific_steel_consumption\"]\n",
    "C_C_val      = parameters[\"specific_cement_consumption\"]\n",
    "DM_val       = parameters[\"specific_drilling_mud_consumption\"]\n",
    "CP_val       = parameters[\"collection_pipelines\"]\n",
    "CF_val       = parameters[\"capacity_factor\"]\n",
    "AP_val       = parameters[\"auxiliary_power\"]\n",
    "\n",
    "# Constants\n",
    "CT_el_val  = 864\n",
    "CT_n_val   = 7/303.3\n",
    "W_en_val   = 3 * 0.3\n",
    "OF_val     = 0\n",
    "DW_val     = 450\n",
    "\n",
    "par_dict = { P_ne: P_ne_val,\n",
    "             PIratio: PIratio_val,\n",
    "             LT: LT_val,\n",
    "             SR_m: SR_m_val,\n",
    "             SR_e: SR_e_val,\n",
    "             D: D_val,\n",
    "             C_S: C_S_val,\n",
    "             C_C: C_C_val,\n",
    "             DM: DM_val,\n",
    "             CP: CP_val,\n",
    "             CF: CF_val,\n",
    "             AP: AP_val,\n",
    "             CT_el: CT_el_val,\n",
    "             CT_n: CT_n_val,\n",
    "             W_en: W_en_val,\n",
    "             OF: OF_val,\n",
    "             DW: DW_val}"
   ]
  },
  {
   "cell_type": "markdown",
   "metadata": {},
   "source": [
    "# Groups of environmental categories"
   ]
  },
  {
   "cell_type": "code",
   "execution_count": 8,
   "metadata": {},
   "outputs": [],
   "source": [
    "group1 = [\"climate change total\"]\n",
    "\n",
    "group2 = [\"carcinogenic effects\", \"ionising radiation\", \"non-carcinogenic effects\", \n",
    "          \"ozone layer depletion\", \"photochemical ozone creation\", \"respiratory effects, inorganics\",\n",
    "          \"freshwater and terrestrial acidification\", \"freshwater ecotoxicity\", \n",
    "          \"freshwater eutrophication\", \"marine eutrophication\", \"terrestrial eutrophication\",\n",
    "          \"minerals and metals\", \"dissipated water\", \"fossils\", \"land use\"]"
   ]
  },
  {
   "cell_type": "markdown",
   "metadata": {},
   "source": [
    "# Simplified equations"
   ]
  },
  {
   "cell_type": "code",
   "execution_count": 9,
   "metadata": {},
   "outputs": [],
   "source": [
    "# Define symbols\n",
    "alpha_1, alpha_2, beta_1, beta_2, beta_3, beta_4, beta_5, beta_6 = \\\n",
    "symbols('alpha_1, alpha_2, beta_1, beta_2, beta_3, beta_4, beta_5, beta_6')"
   ]
  },
  {
   "cell_type": "markdown",
   "metadata": {},
   "source": [
    "## Group 1 (Climate Change)"
   ]
  },
  {
   "cell_type": "code",
   "execution_count": 10,
   "metadata": {},
   "outputs": [
    {
     "data": {
      "text/latex": [
       "$\\displaystyle E_{co2} \\alpha_{1} + \\alpha_{2}$"
      ],
      "text/plain": [
       "E_co2*alpha_1 + alpha_2"
      ]
     },
     "execution_count": 10,
     "metadata": {},
     "output_type": "execute_result"
    }
   ],
   "source": [
    "eq_group1_all_thresholds = alpha_1*E_co2 + alpha_2\n",
    "eq_group1_all_thresholds"
   ]
  },
  {
   "cell_type": "markdown",
   "metadata": {},
   "source": [
    "## Group 2 "
   ]
  },
  {
   "cell_type": "markdown",
   "metadata": {},
   "source": [
    "### Threshold 15/20%"
   ]
  },
  {
   "cell_type": "code",
   "execution_count": 11,
   "metadata": {},
   "outputs": [
    {
     "data": {
      "text/latex": [
       "$\\displaystyle CW_{ne} \\beta_{3} + \\beta_{4} + \\frac{W_{d} \\beta_{1} + \\beta_{2}}{CW_{ne}}$"
      ],
      "text/plain": [
       "CW_ne*beta_3 + beta_4 + (W_d*beta_1 + beta_2)/CW_ne"
      ]
     },
     "execution_count": 11,
     "metadata": {},
     "output_type": "execute_result"
    }
   ],
   "source": [
    "eq_group2_15_20 = (W_d*beta_1 + beta_2)/CW_ne + CW_ne*beta_3 + beta_4\n",
    "eq_group2_15_20"
   ]
  },
  {
   "cell_type": "markdown",
   "metadata": {},
   "source": [
    "## Threshold 10%"
   ]
  },
  {
   "cell_type": "code",
   "execution_count": 12,
   "metadata": {},
   "outputs": [
    {
     "data": {
      "text/latex": [
       "$\\displaystyle W_{d} \\beta_{5} + \\beta_{6} + \\frac{D_{i} W_{d} \\beta_{1} + D_{i} \\beta_{2} + W_{d} \\beta_{3} + \\beta_{4}}{CW_{ne}}$"
      ],
      "text/plain": [
       "W_d*beta_5 + beta_6 + (D_i*W_d*beta_1 + D_i*beta_2 + W_d*beta_3 + beta_4)/CW_ne"
      ]
     },
     "execution_count": 12,
     "metadata": {},
     "output_type": "execute_result"
    }
   ],
   "source": [
    "eq_group2_10 = (D_i*W_d*beta_1 + D_i*beta_2 + W_d*beta_3 + beta_4) / (CW_ne) + W_d*beta_5 + beta_6\n",
    "eq_group2_10 "
   ]
  },
  {
   "cell_type": "markdown",
   "metadata": {},
   "source": [
    "## Threshold 5%"
   ]
  },
  {
   "cell_type": "code",
   "execution_count": 13,
   "metadata": {},
   "outputs": [
    {
     "data": {
      "text/latex": [
       "$\\displaystyle W_{d} \\beta_{5} + \\beta_{6} + \\frac{D_{i} SR_{p} W_{d} \\beta_{1} + D_{i} SR_{p} \\beta_{2} + W_{d} \\beta_{3} + \\beta_{4}}{CW_{ne} SR_{p}}$"
      ],
      "text/plain": [
       "W_d*beta_5 + beta_6 + (D_i*SR_p*W_d*beta_1 + D_i*SR_p*beta_2 + W_d*beta_3 + beta_4)/(CW_ne*SR_p)"
      ]
     },
     "execution_count": 13,
     "metadata": {},
     "output_type": "execute_result"
    }
   ],
   "source": [
    "eq_group2_05 = (D_i*SR_p*W_d*beta_1 + D_i*SR_p*beta_2 + W_d*beta_3 + beta_4) / (CW_ne*SR_p) + W_d*beta_5 + beta_6\n",
    "eq_group2_05 "
   ]
  },
  {
   "cell_type": "markdown",
   "metadata": {},
   "source": [
    "# Compute alphas "
   ]
  },
  {
   "cell_type": "markdown",
   "metadata": {},
   "source": [
    "## All thresholds"
   ]
  },
  {
   "cell_type": "code",
   "execution_count": 27,
   "metadata": {},
   "outputs": [
    {
     "data": {
      "text/latex": [
       "$\\displaystyle E_{co2} i_{6} + 6.29186220504825 \\cdot 10^{-11} SW SW_{n} \\left(S_{el} i_{5 2} + i_{5 1}\\right) + 3.05119441393473 \\cdot 10^{-9} i_{1} + 0.0151034123489769 i_{2 1} + 0.000686518743135314 i_{2 2} + 0.000274607497254126 i_{2 3} + 4.46237183037954 \\cdot 10^{-6} i_{2 4} + 0.00308933434410891 i_{2 5} + 6.86518743135314 \\cdot 10^{-6} i_{2 6} + 1.48344864519275 \\cdot 10^{-6} i_{3} + 4.40430354353378 \\cdot 10^{-9} i_{4 1} + 1.01648944295208 \\cdot 10^{-10} i_{4 2}$"
      ],
      "text/plain": [
       "E_co2*i6 + 6.29186220504825e-11*SW*SW_n*(S_el*i5_2 + i5_1) + 3.05119441393473e-9*i1 + 0.0151034123489769*i2_1 + 0.000686518743135314*i2_2 + 0.000274607497254126*i2_3 + 4.46237183037954e-6*i2_4 + 0.00308933434410891*i2_5 + 6.86518743135314e-6*i2_6 + 1.48344864519275e-6*i3 + 4.40430354353378e-9*i4_1 + 1.01648944295208e-10*i4_2"
      ]
     },
     "execution_count": 27,
     "metadata": {},
     "output_type": "execute_result"
    }
   ],
   "source": [
    "eq_alpha"
   ]
  },
  {
   "cell_type": "code",
   "execution_count": 14,
   "metadata": {},
   "outputs": [],
   "source": [
    "# Replace parameters in equation\n",
    "eq_alpha = eq.subs(par_dict)\n",
    "repl = {SR_p: SR_p_val,\n",
    "        D_i: D_i_val,\n",
    "        CW_ne: CW_ne_val,\n",
    "        W_d: W_d_val}\n",
    "eq_alpha = eq_alpha.subs(repl)\n",
    "\n",
    "alpha_dict = {}\n",
    "for method in ILCD:\n",
    "    is_ = dict(coeff_matrix.T[method])\n",
    "    is_dict = {k.replace('.', '_'): v for k,v in is_.items()}\n",
    "    is_dict['i5_1'] = 0\n",
    "    is_dict['i5_2'] = 0\n",
    "    if method[2] in group1:\n",
    "        eq_alpha_is = eq_alpha.subs(is_dict)\n",
    "        alpha1 = collect(eq_alpha_is, E_co2, evaluate=False)[E_co2]\n",
    "        alpha2 = collect(eq_alpha_is, E_co2, evaluate=False)[1]\n",
    "        alpha_dict[str(method)] = {'alpha1': alpha1, 'alpha2': alpha2}\n",
    "           "
   ]
  },
  {
   "cell_type": "code",
   "execution_count": 15,
   "metadata": {},
   "outputs": [
    {
     "data": {
      "text/latex": [
       "$\\displaystyle 1.0 E_{co2} + 0.0047820519310311$"
      ],
      "text/plain": [
       "1.0*E_co2 + 0.0047820519310311"
      ]
     },
     "execution_count": 15,
     "metadata": {},
     "output_type": "execute_result"
    }
   ],
   "source": [
    "# Example of the formula\n",
    "eq_alpha_is"
   ]
  },
  {
   "cell_type": "code",
   "execution_count": 16,
   "metadata": {},
   "outputs": [
    {
     "data": {
      "text/html": [
       "<div>\n",
       "<style scoped>\n",
       "    .dataframe tbody tr th:only-of-type {\n",
       "        vertical-align: middle;\n",
       "    }\n",
       "\n",
       "    .dataframe tbody tr th {\n",
       "        vertical-align: top;\n",
       "    }\n",
       "\n",
       "    .dataframe thead th {\n",
       "        text-align: right;\n",
       "    }\n",
       "</style>\n",
       "<table border=\"1\" class=\"dataframe\">\n",
       "  <thead>\n",
       "    <tr style=\"text-align: right;\">\n",
       "      <th></th>\n",
       "      <th>alpha1</th>\n",
       "      <th>alpha2</th>\n",
       "    </tr>\n",
       "  </thead>\n",
       "  <tbody>\n",
       "    <tr>\n",
       "      <th>('ILCD 2.0 2018 midpoint no LT', 'climate change', 'climate change total')</th>\n",
       "      <td>1.0</td>\n",
       "      <td>0.004782</td>\n",
       "    </tr>\n",
       "  </tbody>\n",
       "</table>\n",
       "</div>"
      ],
      "text/plain": [
       "                                                    alpha1    alpha2\n",
       "('ILCD 2.0 2018 midpoint no LT', 'climate chang...     1.0  0.004782"
      ]
     },
     "execution_count": 16,
     "metadata": {},
     "output_type": "execute_result"
    }
   ],
   "source": [
    "alpha_df = pd.DataFrame.from_dict(alpha_dict, orient='index')\n",
    "alpha_df = alpha_df.astype(float)\n",
    "alpha_df_5 = alpha_df_10 = alpha_df_15 = alpha_df_20 = alpha_df\n",
    "alpha_df"
   ]
  },
  {
   "cell_type": "markdown",
   "metadata": {},
   "source": [
    "# Compute betas"
   ]
  },
  {
   "cell_type": "markdown",
   "metadata": {},
   "source": [
    "## Threshold 15-20%"
   ]
  },
  {
   "cell_type": "code",
   "execution_count": 17,
   "metadata": {},
   "outputs": [],
   "source": [
    "# Threshold = 15%/20%\n",
    "eq_beta = eq.subs(par_dict)\n",
    "eq_beta = eq_beta.subs(E_co2, E_co2_val)\n",
    "repl = {SR_p: SR_p_val, D_i: D_i_val} \n",
    "eq_beta = eq_beta.subs(repl)\n",
    "        \n",
    "beta_dict_15 = {}     \n",
    "for method in ILCD:\n",
    "    is_ = dict(coeff_matrix.T[method])\n",
    "    is_dict = {k.replace('.', '_'): v for k,v in is_.items()}\n",
    "    is_dict['i5_1'] = 0\n",
    "    is_dict['i5_2'] = 0\n",
    "    if method[2] in group2:\n",
    "        eq_beta_is = eq_beta.subs(is_dict)\n",
    "        eq_beta_is = ratsimp(eq_beta_is)\n",
    "        temp = collect(eq_beta_is, [W_d,1/CW_ne], evaluate=False)\n",
    "        beta1 = collect(temp[list(temp.keys())[1]], W_d, evaluate=False)[W_d]\n",
    "        beta2 = collect(temp[list(temp.keys())[1]], W_d, evaluate=False)[1]\n",
    "        beta3 = temp[W_d]\n",
    "        beta4 = temp[1]\n",
    "        \n",
    "        beta_dict_15[str(method)] = {'beta1': beta1, 'beta2': beta2,\n",
    "                                     'beta3': beta3, 'beta4': beta4}\n",
    "\n",
    "\n",
    "beta_dict_20 = beta_dict_15\n"
   ]
  },
  {
   "cell_type": "code",
   "execution_count": 18,
   "metadata": {},
   "outputs": [
    {
     "data": {
      "text/latex": [
       "$\\displaystyle 6.00895196364021 \\cdot 10^{-13} W_{d} + 3.41730446072861 \\cdot 10^{-8} + \\frac{1.0 \\left(1.24520873118428 \\cdot 10^{-10} W_{d} + 1.98780044501476 \\cdot 10^{-7}\\right)}{CW_{ne}}$"
      ],
      "text/plain": [
       "6.00895196364021e-13*W_d + 3.41730446072861e-8 + 1.0*(1.24520873118428e-10*W_d + 1.98780044501476e-7)/CW_ne"
      ]
     },
     "execution_count": 18,
     "metadata": {},
     "output_type": "execute_result"
    }
   ],
   "source": [
    "# Show example of the formula\n",
    "eq_beta_is"
   ]
  },
  {
   "cell_type": "code",
   "execution_count": 19,
   "metadata": {},
   "outputs": [
    {
     "data": {
      "text/html": [
       "<div>\n",
       "<style scoped>\n",
       "    .dataframe tbody tr th:only-of-type {\n",
       "        vertical-align: middle;\n",
       "    }\n",
       "\n",
       "    .dataframe tbody tr th {\n",
       "        vertical-align: top;\n",
       "    }\n",
       "\n",
       "    .dataframe thead th {\n",
       "        text-align: right;\n",
       "    }\n",
       "</style>\n",
       "<table border=\"1\" class=\"dataframe\">\n",
       "  <thead>\n",
       "    <tr style=\"text-align: right;\">\n",
       "      <th></th>\n",
       "      <th>beta1</th>\n",
       "      <th>beta2</th>\n",
       "      <th>beta3</th>\n",
       "      <th>beta4</th>\n",
       "    </tr>\n",
       "  </thead>\n",
       "  <tbody>\n",
       "    <tr>\n",
       "      <th>('ILCD 2.0 2018 midpoint no LT', 'human health', 'carcinogenic effects')</th>\n",
       "      <td>1.801969e-12</td>\n",
       "      <td>1.254558e-09</td>\n",
       "      <td>8.695687e-15</td>\n",
       "      <td>7.574660e-11</td>\n",
       "    </tr>\n",
       "    <tr>\n",
       "      <th>('ILCD 2.0 2018 midpoint no LT', 'human health', 'ionising radiation')</th>\n",
       "      <td>3.140645e-07</td>\n",
       "      <td>1.570850e-04</td>\n",
       "      <td>1.515568e-09</td>\n",
       "      <td>2.060965e-05</td>\n",
       "    </tr>\n",
       "    <tr>\n",
       "      <th>('ILCD 2.0 2018 midpoint no LT', 'human health', 'non-carcinogenic effects')</th>\n",
       "      <td>4.871968e-12</td>\n",
       "      <td>3.005852e-09</td>\n",
       "      <td>2.351045e-14</td>\n",
       "      <td>2.840649e-10</td>\n",
       "    </tr>\n",
       "    <tr>\n",
       "      <th>('ILCD 2.0 2018 midpoint no LT', 'human health', 'ozone layer depletion')</th>\n",
       "      <td>1.024558e-12</td>\n",
       "      <td>3.882077e-10</td>\n",
       "      <td>4.944165e-15</td>\n",
       "      <td>7.122354e-11</td>\n",
       "    </tr>\n",
       "    <tr>\n",
       "      <th>('ILCD 2.0 2018 midpoint no LT', 'human health', 'photochemical ozone creation')</th>\n",
       "      <td>8.135510e-08</td>\n",
       "      <td>2.809408e-05</td>\n",
       "      <td>3.925919e-10</td>\n",
       "      <td>2.713246e-06</td>\n",
       "    </tr>\n",
       "    <tr>\n",
       "      <th>('ILCD 2.0 2018 midpoint no LT', 'human health', 'respiratory effects, inorganics')</th>\n",
       "      <td>4.104132e-13</td>\n",
       "      <td>5.083959e-10</td>\n",
       "      <td>1.980514e-15</td>\n",
       "      <td>4.521798e-11</td>\n",
       "    </tr>\n",
       "    <tr>\n",
       "      <th>('ILCD 2.0 2018 midpoint no LT', 'ecosystem quality', 'freshwater and terrestrial acidification')</th>\n",
       "      <td>6.937874e-08</td>\n",
       "      <td>3.415079e-05</td>\n",
       "      <td>3.347981e-10</td>\n",
       "      <td>4.413580e-06</td>\n",
       "    </tr>\n",
       "    <tr>\n",
       "      <th>('ILCD 2.0 2018 midpoint no LT', 'ecosystem quality', 'freshwater ecotoxicity')</th>\n",
       "      <td>5.485830e-05</td>\n",
       "      <td>1.593465e-02</td>\n",
       "      <td>2.647274e-07</td>\n",
       "      <td>1.323571e-03</td>\n",
       "    </tr>\n",
       "    <tr>\n",
       "      <th>('ILCD 2.0 2018 midpoint no LT', 'ecosystem quality', 'freshwater eutrophication')</th>\n",
       "      <td>3.544440e-10</td>\n",
       "      <td>2.850529e-07</td>\n",
       "      <td>1.710426e-12</td>\n",
       "      <td>3.743753e-08</td>\n",
       "    </tr>\n",
       "    <tr>\n",
       "      <th>('ILCD 2.0 2018 midpoint no LT', 'ecosystem quality', 'marine eutrophication')</th>\n",
       "      <td>2.614162e-08</td>\n",
       "      <td>6.909745e-06</td>\n",
       "      <td>1.261505e-10</td>\n",
       "      <td>8.334420e-07</td>\n",
       "    </tr>\n",
       "    <tr>\n",
       "      <th>('ILCD 2.0 2018 midpoint no LT', 'ecosystem quality', 'terrestrial eutrophication')</th>\n",
       "      <td>2.837956e-07</td>\n",
       "      <td>7.802312e-05</td>\n",
       "      <td>1.369501e-09</td>\n",
       "      <td>7.913192e-06</td>\n",
       "    </tr>\n",
       "    <tr>\n",
       "      <th>('ILCD 2.0 2018 midpoint no LT', 'resources', 'dissipated water')</th>\n",
       "      <td>2.138201e-06</td>\n",
       "      <td>2.363537e-03</td>\n",
       "      <td>1.031823e-08</td>\n",
       "      <td>3.145744e-04</td>\n",
       "    </tr>\n",
       "    <tr>\n",
       "      <th>('ILCD 2.0 2018 midpoint no LT', 'resources', 'fossils')</th>\n",
       "      <td>1.106283e-04</td>\n",
       "      <td>7.952556e-02</td>\n",
       "      <td>5.338545e-07</td>\n",
       "      <td>8.758930e-03</td>\n",
       "    </tr>\n",
       "    <tr>\n",
       "      <th>('ILCD 2.0 2018 midpoint no LT', 'resources', 'land use')</th>\n",
       "      <td>2.987851e-05</td>\n",
       "      <td>4.106243e-02</td>\n",
       "      <td>1.441835e-07</td>\n",
       "      <td>4.897494e-03</td>\n",
       "    </tr>\n",
       "    <tr>\n",
       "      <th>('ILCD 2.0 2018 midpoint no LT', 'resources', 'minerals and metals')</th>\n",
       "      <td>1.245209e-10</td>\n",
       "      <td>1.987800e-07</td>\n",
       "      <td>6.008952e-13</td>\n",
       "      <td>3.417304e-08</td>\n",
       "    </tr>\n",
       "  </tbody>\n",
       "</table>\n",
       "</div>"
      ],
      "text/plain": [
       "                                                           beta1  \\\n",
       "('ILCD 2.0 2018 midpoint no LT', 'human health'...  1.801969e-12   \n",
       "('ILCD 2.0 2018 midpoint no LT', 'human health'...  3.140645e-07   \n",
       "('ILCD 2.0 2018 midpoint no LT', 'human health'...  4.871968e-12   \n",
       "('ILCD 2.0 2018 midpoint no LT', 'human health'...  1.024558e-12   \n",
       "('ILCD 2.0 2018 midpoint no LT', 'human health'...  8.135510e-08   \n",
       "('ILCD 2.0 2018 midpoint no LT', 'human health'...  4.104132e-13   \n",
       "('ILCD 2.0 2018 midpoint no LT', 'ecosystem qua...  6.937874e-08   \n",
       "('ILCD 2.0 2018 midpoint no LT', 'ecosystem qua...  5.485830e-05   \n",
       "('ILCD 2.0 2018 midpoint no LT', 'ecosystem qua...  3.544440e-10   \n",
       "('ILCD 2.0 2018 midpoint no LT', 'ecosystem qua...  2.614162e-08   \n",
       "('ILCD 2.0 2018 midpoint no LT', 'ecosystem qua...  2.837956e-07   \n",
       "('ILCD 2.0 2018 midpoint no LT', 'resources', '...  2.138201e-06   \n",
       "('ILCD 2.0 2018 midpoint no LT', 'resources', '...  1.106283e-04   \n",
       "('ILCD 2.0 2018 midpoint no LT', 'resources', '...  2.987851e-05   \n",
       "('ILCD 2.0 2018 midpoint no LT', 'resources', '...  1.245209e-10   \n",
       "\n",
       "                                                           beta2  \\\n",
       "('ILCD 2.0 2018 midpoint no LT', 'human health'...  1.254558e-09   \n",
       "('ILCD 2.0 2018 midpoint no LT', 'human health'...  1.570850e-04   \n",
       "('ILCD 2.0 2018 midpoint no LT', 'human health'...  3.005852e-09   \n",
       "('ILCD 2.0 2018 midpoint no LT', 'human health'...  3.882077e-10   \n",
       "('ILCD 2.0 2018 midpoint no LT', 'human health'...  2.809408e-05   \n",
       "('ILCD 2.0 2018 midpoint no LT', 'human health'...  5.083959e-10   \n",
       "('ILCD 2.0 2018 midpoint no LT', 'ecosystem qua...  3.415079e-05   \n",
       "('ILCD 2.0 2018 midpoint no LT', 'ecosystem qua...  1.593465e-02   \n",
       "('ILCD 2.0 2018 midpoint no LT', 'ecosystem qua...  2.850529e-07   \n",
       "('ILCD 2.0 2018 midpoint no LT', 'ecosystem qua...  6.909745e-06   \n",
       "('ILCD 2.0 2018 midpoint no LT', 'ecosystem qua...  7.802312e-05   \n",
       "('ILCD 2.0 2018 midpoint no LT', 'resources', '...  2.363537e-03   \n",
       "('ILCD 2.0 2018 midpoint no LT', 'resources', '...  7.952556e-02   \n",
       "('ILCD 2.0 2018 midpoint no LT', 'resources', '...  4.106243e-02   \n",
       "('ILCD 2.0 2018 midpoint no LT', 'resources', '...  1.987800e-07   \n",
       "\n",
       "                                                           beta3         beta4  \n",
       "('ILCD 2.0 2018 midpoint no LT', 'human health'...  8.695687e-15  7.574660e-11  \n",
       "('ILCD 2.0 2018 midpoint no LT', 'human health'...  1.515568e-09  2.060965e-05  \n",
       "('ILCD 2.0 2018 midpoint no LT', 'human health'...  2.351045e-14  2.840649e-10  \n",
       "('ILCD 2.0 2018 midpoint no LT', 'human health'...  4.944165e-15  7.122354e-11  \n",
       "('ILCD 2.0 2018 midpoint no LT', 'human health'...  3.925919e-10  2.713246e-06  \n",
       "('ILCD 2.0 2018 midpoint no LT', 'human health'...  1.980514e-15  4.521798e-11  \n",
       "('ILCD 2.0 2018 midpoint no LT', 'ecosystem qua...  3.347981e-10  4.413580e-06  \n",
       "('ILCD 2.0 2018 midpoint no LT', 'ecosystem qua...  2.647274e-07  1.323571e-03  \n",
       "('ILCD 2.0 2018 midpoint no LT', 'ecosystem qua...  1.710426e-12  3.743753e-08  \n",
       "('ILCD 2.0 2018 midpoint no LT', 'ecosystem qua...  1.261505e-10  8.334420e-07  \n",
       "('ILCD 2.0 2018 midpoint no LT', 'ecosystem qua...  1.369501e-09  7.913192e-06  \n",
       "('ILCD 2.0 2018 midpoint no LT', 'resources', '...  1.031823e-08  3.145744e-04  \n",
       "('ILCD 2.0 2018 midpoint no LT', 'resources', '...  5.338545e-07  8.758930e-03  \n",
       "('ILCD 2.0 2018 midpoint no LT', 'resources', '...  1.441835e-07  4.897494e-03  \n",
       "('ILCD 2.0 2018 midpoint no LT', 'resources', '...  6.008952e-13  3.417304e-08  "
      ]
     },
     "execution_count": 19,
     "metadata": {},
     "output_type": "execute_result"
    }
   ],
   "source": [
    "beta_df_15 = pd.DataFrame.from_dict(beta_dict_15, orient='index')\n",
    "beta_df_15 = beta_df_15.astype(float)\n",
    "\n",
    "#20% and 15% threshold have the same configuration\n",
    "beta_df_20 = beta_df_15\n",
    "\n",
    "beta_df_15"
   ]
  },
  {
   "cell_type": "markdown",
   "metadata": {},
   "source": [
    "## Threshold = 10%"
   ]
  },
  {
   "cell_type": "code",
   "execution_count": 20,
   "metadata": {},
   "outputs": [],
   "source": [
    "eq_beta_10 = eq.subs(par_dict)\n",
    "eq_beta_10 = eq_beta_10.subs(E_co2, E_co2_val)\n",
    "repl = {SR_p: SR_p_val} \n",
    "eq_beta_10 = eq_beta_10.subs(repl)\n",
    "        \n",
    "beta_dict_10 = {}   \n",
    "    \n",
    "for method in ILCD:\n",
    "    is_ = dict(coeff_matrix.T[method])\n",
    "    is_dict = {k.replace('.', '_'): v for k,v in is_.items()}\n",
    "    is_dict['i5_1'] = 0\n",
    "    is_dict['i5_2'] = 0\n",
    "    if method[2] in group2:\n",
    "        eq_beta_10_is = eq_beta_10.subs(is_dict)\n",
    "        eq_beta_10_is = ratsimp(eq_beta_10_is)\n",
    "               \n",
    "        temp   = collect(eq_beta_10_is, [W_d, 1/CW_ne,], evaluate=False)\n",
    "        temp_2 = collect(temp[list(temp.keys())[1]], [D_i*W_d, D_i, W_d], evaluate=False)\n",
    "        \n",
    "        beta1  = temp_2[D_i*W_d]      \n",
    "        beta2  = temp_2[D_i]\n",
    "        beta3  = temp_2[W_d]\n",
    "        beta4  = temp_2[1]\n",
    "              \n",
    "        beta5 = temp[W_d]\n",
    "        beta6 = temp[1]\n",
    "        \n",
    "        beta_dict_10[str(method)] = {'beta1': beta1, 'beta2': beta2,\n",
    "                                     'beta3': beta3, 'beta4': beta4,\n",
    "                                     'beta5': beta5, 'beta6': beta6}      \n",
    "    "
   ]
  },
  {
   "cell_type": "code",
   "execution_count": 21,
   "metadata": {},
   "outputs": [
    {
     "data": {
      "text/latex": [
       "$\\displaystyle 6.00895196364021 \\cdot 10^{-13} W_{d} + 3.41730446072861 \\cdot 10^{-8} + \\frac{1.0 \\left(1.18466716174128 \\cdot 10^{-9} D_{i} W_{d} + 1.89115435214146 \\cdot 10^{-6} D_{i} + 6.52875150313635 \\cdot 10^{-11} W_{d} + 1.04222326894403 \\cdot 10^{-7}\\right)}{CW_{ne}}$"
      ],
      "text/plain": [
       "6.00895196364021e-13*W_d + 3.41730446072861e-8 + 1.0*(1.18466716174128e-9*D_i*W_d + 1.89115435214146e-6*D_i + 6.52875150313635e-11*W_d + 1.04222326894403e-7)/CW_ne"
      ]
     },
     "execution_count": 21,
     "metadata": {},
     "output_type": "execute_result"
    }
   ],
   "source": [
    "# Example of the formula\n",
    "eq_beta_10_is"
   ]
  },
  {
   "cell_type": "code",
   "execution_count": 22,
   "metadata": {
    "scrolled": true
   },
   "outputs": [
    {
     "data": {
      "text/html": [
       "<div>\n",
       "<style scoped>\n",
       "    .dataframe tbody tr th:only-of-type {\n",
       "        vertical-align: middle;\n",
       "    }\n",
       "\n",
       "    .dataframe tbody tr th {\n",
       "        vertical-align: top;\n",
       "    }\n",
       "\n",
       "    .dataframe thead th {\n",
       "        text-align: right;\n",
       "    }\n",
       "</style>\n",
       "<table border=\"1\" class=\"dataframe\">\n",
       "  <thead>\n",
       "    <tr style=\"text-align: right;\">\n",
       "      <th></th>\n",
       "      <th>beta1</th>\n",
       "      <th>beta2</th>\n",
       "      <th>beta3</th>\n",
       "      <th>beta4</th>\n",
       "      <th>beta5</th>\n",
       "      <th>beta6</th>\n",
       "    </tr>\n",
       "  </thead>\n",
       "  <tbody>\n",
       "    <tr>\n",
       "      <th>('ILCD 2.0 2018 midpoint no LT', 'human health', 'carcinogenic effects')</th>\n",
       "      <td>1.714358e-11</td>\n",
       "      <td>1.193562e-08</td>\n",
       "      <td>9.447901e-13</td>\n",
       "      <td>6.577772e-10</td>\n",
       "      <td>8.695687e-15</td>\n",
       "      <td>7.574660e-11</td>\n",
       "    </tr>\n",
       "    <tr>\n",
       "      <th>('ILCD 2.0 2018 midpoint no LT', 'human health', 'ionising radiation')</th>\n",
       "      <td>2.987948e-06</td>\n",
       "      <td>1.494476e-03</td>\n",
       "      <td>1.646671e-07</td>\n",
       "      <td>8.236120e-05</td>\n",
       "      <td>1.515568e-09</td>\n",
       "      <td>2.060965e-05</td>\n",
       "    </tr>\n",
       "    <tr>\n",
       "      <th>('ILCD 2.0 2018 midpoint no LT', 'human health', 'non-carcinogenic effects')</th>\n",
       "      <td>4.635095e-11</td>\n",
       "      <td>2.859709e-08</td>\n",
       "      <td>2.554421e-12</td>\n",
       "      <td>1.575998e-09</td>\n",
       "      <td>2.351045e-14</td>\n",
       "      <td>2.840649e-10</td>\n",
       "    </tr>\n",
       "    <tr>\n",
       "      <th>('ILCD 2.0 2018 midpoint no LT', 'human health', 'ozone layer depletion')</th>\n",
       "      <td>9.747440e-12</td>\n",
       "      <td>3.693332e-09</td>\n",
       "      <td>5.371856e-13</td>\n",
       "      <td>2.035411e-10</td>\n",
       "      <td>4.944165e-15</td>\n",
       "      <td>7.122354e-11</td>\n",
       "    </tr>\n",
       "    <tr>\n",
       "      <th>('ILCD 2.0 2018 midpoint no LT', 'human health', 'photochemical ozone creation')</th>\n",
       "      <td>7.739965e-07</td>\n",
       "      <td>2.672816e-04</td>\n",
       "      <td>4.265528e-08</td>\n",
       "      <td>1.473000e-05</td>\n",
       "      <td>3.925919e-10</td>\n",
       "      <td>2.713246e-06</td>\n",
       "    </tr>\n",
       "    <tr>\n",
       "      <th>('ILCD 2.0 2018 midpoint no LT', 'human health', 'respiratory effects, inorganics')</th>\n",
       "      <td>3.904591e-12</td>\n",
       "      <td>4.836779e-09</td>\n",
       "      <td>2.151837e-13</td>\n",
       "      <td>2.665570e-10</td>\n",
       "      <td>1.980514e-15</td>\n",
       "      <td>4.521798e-11</td>\n",
       "    </tr>\n",
       "    <tr>\n",
       "      <th>('ILCD 2.0 2018 midpoint no LT', 'ecosystem quality', 'freshwater and terrestrial acidification')</th>\n",
       "      <td>6.600557e-07</td>\n",
       "      <td>3.249039e-04</td>\n",
       "      <td>3.637595e-08</td>\n",
       "      <td>1.790560e-05</td>\n",
       "      <td>3.347981e-10</td>\n",
       "      <td>4.413580e-06</td>\n",
       "    </tr>\n",
       "    <tr>\n",
       "      <th>('ILCD 2.0 2018 midpoint no LT', 'ecosystem quality', 'freshwater ecotoxicity')</th>\n",
       "      <td>5.219111e-04</td>\n",
       "      <td>1.515991e-01</td>\n",
       "      <td>2.876274e-05</td>\n",
       "      <td>8.354692e-03</td>\n",
       "      <td>2.647274e-07</td>\n",
       "      <td>1.323571e-03</td>\n",
       "    </tr>\n",
       "    <tr>\n",
       "      <th>('ILCD 2.0 2018 midpoint no LT', 'ecosystem quality', 'freshwater eutrophication')</th>\n",
       "      <td>3.372111e-09</td>\n",
       "      <td>2.711937e-06</td>\n",
       "      <td>1.858385e-10</td>\n",
       "      <td>1.494560e-07</td>\n",
       "      <td>1.710426e-12</td>\n",
       "      <td>3.743753e-08</td>\n",
       "    </tr>\n",
       "    <tr>\n",
       "      <th>('ILCD 2.0 2018 midpoint no LT', 'ecosystem quality', 'marine eutrophication')</th>\n",
       "      <td>2.487063e-07</td>\n",
       "      <td>6.573796e-05</td>\n",
       "      <td>1.370631e-08</td>\n",
       "      <td>3.622847e-06</td>\n",
       "      <td>1.261505e-10</td>\n",
       "      <td>8.334420e-07</td>\n",
       "    </tr>\n",
       "    <tr>\n",
       "      <th>('ILCD 2.0 2018 midpoint no LT', 'ecosystem quality', 'terrestrial eutrophication')</th>\n",
       "      <td>2.699976e-06</td>\n",
       "      <td>7.422966e-04</td>\n",
       "      <td>1.487968e-07</td>\n",
       "      <td>4.090829e-05</td>\n",
       "      <td>1.369501e-09</td>\n",
       "      <td>7.913192e-06</td>\n",
       "    </tr>\n",
       "    <tr>\n",
       "      <th>('ILCD 2.0 2018 midpoint no LT', 'resources', 'dissipated water')</th>\n",
       "      <td>2.034243e-05</td>\n",
       "      <td>2.248623e-02</td>\n",
       "      <td>1.121080e-06</td>\n",
       "      <td>1.239226e-03</td>\n",
       "      <td>1.031823e-08</td>\n",
       "      <td>3.145744e-04</td>\n",
       "    </tr>\n",
       "    <tr>\n",
       "      <th>('ILCD 2.0 2018 midpoint no LT', 'resources', 'fossils')</th>\n",
       "      <td>1.052496e-03</td>\n",
       "      <td>7.565905e-01</td>\n",
       "      <td>5.800351e-05</td>\n",
       "      <td>4.169603e-02</td>\n",
       "      <td>5.338545e-07</td>\n",
       "      <td>8.758930e-03</td>\n",
       "    </tr>\n",
       "    <tr>\n",
       "      <th>('ILCD 2.0 2018 midpoint no LT', 'resources', 'land use')</th>\n",
       "      <td>2.842583e-04</td>\n",
       "      <td>3.906599e-01</td>\n",
       "      <td>1.566560e-05</td>\n",
       "      <td>2.152944e-02</td>\n",
       "      <td>1.441835e-07</td>\n",
       "      <td>4.897494e-03</td>\n",
       "    </tr>\n",
       "    <tr>\n",
       "      <th>('ILCD 2.0 2018 midpoint no LT', 'resources', 'minerals and metals')</th>\n",
       "      <td>1.184667e-09</td>\n",
       "      <td>1.891154e-06</td>\n",
       "      <td>6.528752e-11</td>\n",
       "      <td>1.042223e-07</td>\n",
       "      <td>6.008952e-13</td>\n",
       "      <td>3.417304e-08</td>\n",
       "    </tr>\n",
       "  </tbody>\n",
       "</table>\n",
       "</div>"
      ],
      "text/plain": [
       "                                                           beta1  \\\n",
       "('ILCD 2.0 2018 midpoint no LT', 'human health'...  1.714358e-11   \n",
       "('ILCD 2.0 2018 midpoint no LT', 'human health'...  2.987948e-06   \n",
       "('ILCD 2.0 2018 midpoint no LT', 'human health'...  4.635095e-11   \n",
       "('ILCD 2.0 2018 midpoint no LT', 'human health'...  9.747440e-12   \n",
       "('ILCD 2.0 2018 midpoint no LT', 'human health'...  7.739965e-07   \n",
       "('ILCD 2.0 2018 midpoint no LT', 'human health'...  3.904591e-12   \n",
       "('ILCD 2.0 2018 midpoint no LT', 'ecosystem qua...  6.600557e-07   \n",
       "('ILCD 2.0 2018 midpoint no LT', 'ecosystem qua...  5.219111e-04   \n",
       "('ILCD 2.0 2018 midpoint no LT', 'ecosystem qua...  3.372111e-09   \n",
       "('ILCD 2.0 2018 midpoint no LT', 'ecosystem qua...  2.487063e-07   \n",
       "('ILCD 2.0 2018 midpoint no LT', 'ecosystem qua...  2.699976e-06   \n",
       "('ILCD 2.0 2018 midpoint no LT', 'resources', '...  2.034243e-05   \n",
       "('ILCD 2.0 2018 midpoint no LT', 'resources', '...  1.052496e-03   \n",
       "('ILCD 2.0 2018 midpoint no LT', 'resources', '...  2.842583e-04   \n",
       "('ILCD 2.0 2018 midpoint no LT', 'resources', '...  1.184667e-09   \n",
       "\n",
       "                                                           beta2  \\\n",
       "('ILCD 2.0 2018 midpoint no LT', 'human health'...  1.193562e-08   \n",
       "('ILCD 2.0 2018 midpoint no LT', 'human health'...  1.494476e-03   \n",
       "('ILCD 2.0 2018 midpoint no LT', 'human health'...  2.859709e-08   \n",
       "('ILCD 2.0 2018 midpoint no LT', 'human health'...  3.693332e-09   \n",
       "('ILCD 2.0 2018 midpoint no LT', 'human health'...  2.672816e-04   \n",
       "('ILCD 2.0 2018 midpoint no LT', 'human health'...  4.836779e-09   \n",
       "('ILCD 2.0 2018 midpoint no LT', 'ecosystem qua...  3.249039e-04   \n",
       "('ILCD 2.0 2018 midpoint no LT', 'ecosystem qua...  1.515991e-01   \n",
       "('ILCD 2.0 2018 midpoint no LT', 'ecosystem qua...  2.711937e-06   \n",
       "('ILCD 2.0 2018 midpoint no LT', 'ecosystem qua...  6.573796e-05   \n",
       "('ILCD 2.0 2018 midpoint no LT', 'ecosystem qua...  7.422966e-04   \n",
       "('ILCD 2.0 2018 midpoint no LT', 'resources', '...  2.248623e-02   \n",
       "('ILCD 2.0 2018 midpoint no LT', 'resources', '...  7.565905e-01   \n",
       "('ILCD 2.0 2018 midpoint no LT', 'resources', '...  3.906599e-01   \n",
       "('ILCD 2.0 2018 midpoint no LT', 'resources', '...  1.891154e-06   \n",
       "\n",
       "                                                           beta3  \\\n",
       "('ILCD 2.0 2018 midpoint no LT', 'human health'...  9.447901e-13   \n",
       "('ILCD 2.0 2018 midpoint no LT', 'human health'...  1.646671e-07   \n",
       "('ILCD 2.0 2018 midpoint no LT', 'human health'...  2.554421e-12   \n",
       "('ILCD 2.0 2018 midpoint no LT', 'human health'...  5.371856e-13   \n",
       "('ILCD 2.0 2018 midpoint no LT', 'human health'...  4.265528e-08   \n",
       "('ILCD 2.0 2018 midpoint no LT', 'human health'...  2.151837e-13   \n",
       "('ILCD 2.0 2018 midpoint no LT', 'ecosystem qua...  3.637595e-08   \n",
       "('ILCD 2.0 2018 midpoint no LT', 'ecosystem qua...  2.876274e-05   \n",
       "('ILCD 2.0 2018 midpoint no LT', 'ecosystem qua...  1.858385e-10   \n",
       "('ILCD 2.0 2018 midpoint no LT', 'ecosystem qua...  1.370631e-08   \n",
       "('ILCD 2.0 2018 midpoint no LT', 'ecosystem qua...  1.487968e-07   \n",
       "('ILCD 2.0 2018 midpoint no LT', 'resources', '...  1.121080e-06   \n",
       "('ILCD 2.0 2018 midpoint no LT', 'resources', '...  5.800351e-05   \n",
       "('ILCD 2.0 2018 midpoint no LT', 'resources', '...  1.566560e-05   \n",
       "('ILCD 2.0 2018 midpoint no LT', 'resources', '...  6.528752e-11   \n",
       "\n",
       "                                                           beta4  \\\n",
       "('ILCD 2.0 2018 midpoint no LT', 'human health'...  6.577772e-10   \n",
       "('ILCD 2.0 2018 midpoint no LT', 'human health'...  8.236120e-05   \n",
       "('ILCD 2.0 2018 midpoint no LT', 'human health'...  1.575998e-09   \n",
       "('ILCD 2.0 2018 midpoint no LT', 'human health'...  2.035411e-10   \n",
       "('ILCD 2.0 2018 midpoint no LT', 'human health'...  1.473000e-05   \n",
       "('ILCD 2.0 2018 midpoint no LT', 'human health'...  2.665570e-10   \n",
       "('ILCD 2.0 2018 midpoint no LT', 'ecosystem qua...  1.790560e-05   \n",
       "('ILCD 2.0 2018 midpoint no LT', 'ecosystem qua...  8.354692e-03   \n",
       "('ILCD 2.0 2018 midpoint no LT', 'ecosystem qua...  1.494560e-07   \n",
       "('ILCD 2.0 2018 midpoint no LT', 'ecosystem qua...  3.622847e-06   \n",
       "('ILCD 2.0 2018 midpoint no LT', 'ecosystem qua...  4.090829e-05   \n",
       "('ILCD 2.0 2018 midpoint no LT', 'resources', '...  1.239226e-03   \n",
       "('ILCD 2.0 2018 midpoint no LT', 'resources', '...  4.169603e-02   \n",
       "('ILCD 2.0 2018 midpoint no LT', 'resources', '...  2.152944e-02   \n",
       "('ILCD 2.0 2018 midpoint no LT', 'resources', '...  1.042223e-07   \n",
       "\n",
       "                                                           beta5         beta6  \n",
       "('ILCD 2.0 2018 midpoint no LT', 'human health'...  8.695687e-15  7.574660e-11  \n",
       "('ILCD 2.0 2018 midpoint no LT', 'human health'...  1.515568e-09  2.060965e-05  \n",
       "('ILCD 2.0 2018 midpoint no LT', 'human health'...  2.351045e-14  2.840649e-10  \n",
       "('ILCD 2.0 2018 midpoint no LT', 'human health'...  4.944165e-15  7.122354e-11  \n",
       "('ILCD 2.0 2018 midpoint no LT', 'human health'...  3.925919e-10  2.713246e-06  \n",
       "('ILCD 2.0 2018 midpoint no LT', 'human health'...  1.980514e-15  4.521798e-11  \n",
       "('ILCD 2.0 2018 midpoint no LT', 'ecosystem qua...  3.347981e-10  4.413580e-06  \n",
       "('ILCD 2.0 2018 midpoint no LT', 'ecosystem qua...  2.647274e-07  1.323571e-03  \n",
       "('ILCD 2.0 2018 midpoint no LT', 'ecosystem qua...  1.710426e-12  3.743753e-08  \n",
       "('ILCD 2.0 2018 midpoint no LT', 'ecosystem qua...  1.261505e-10  8.334420e-07  \n",
       "('ILCD 2.0 2018 midpoint no LT', 'ecosystem qua...  1.369501e-09  7.913192e-06  \n",
       "('ILCD 2.0 2018 midpoint no LT', 'resources', '...  1.031823e-08  3.145744e-04  \n",
       "('ILCD 2.0 2018 midpoint no LT', 'resources', '...  5.338545e-07  8.758930e-03  \n",
       "('ILCD 2.0 2018 midpoint no LT', 'resources', '...  1.441835e-07  4.897494e-03  \n",
       "('ILCD 2.0 2018 midpoint no LT', 'resources', '...  6.008952e-13  3.417304e-08  "
      ]
     },
     "execution_count": 22,
     "metadata": {},
     "output_type": "execute_result"
    }
   ],
   "source": [
    "beta_df_10 = pd.DataFrame.from_dict(beta_dict_10, orient='index')\n",
    "beta_df_10 = beta_df_10.astype(float)\n",
    "beta_df_10"
   ]
  },
  {
   "cell_type": "markdown",
   "metadata": {},
   "source": [
    "## Threshold = 5%"
   ]
  },
  {
   "cell_type": "code",
   "execution_count": 23,
   "metadata": {},
   "outputs": [],
   "source": [
    "eq_beta_5 = eq.subs(par_dict)\n",
    "eq_beta_5 = eq_beta_5.subs(E_co2, E_co2_val)\n",
    "        \n",
    "beta_dict_5 = {}       \n",
    "for method in ILCD:\n",
    "    is_ = dict(coeff_matrix.T[method])\n",
    "    is_dict = {k.replace('.', '_'): v for k,v in is_.items()}\n",
    "    is_dict['i5_1'] = 0\n",
    "    is_dict['i5_2'] = 0\n",
    "    if method[2] in group2:\n",
    "        eq_beta_5_is = eq_beta_5.subs(is_dict)\n",
    "        eq_beta_5_is = ratsimp(eq_beta_5_is)\n",
    "               \n",
    "        temp   = collect(eq_beta_5_is, [W_d, 1/CW_ne*SR_p], evaluate=False)\n",
    "        temp_2 = collect(temp[list(temp.keys())[1]], [SR_p*W_d*D_i, D_i*SR_p, W_d], evaluate=False)\n",
    "        \n",
    "        beta1  = temp_2[D_i*SR_p*W_d]\n",
    "        beta2  = temp_2[D_i*SR_p]\n",
    "        beta3  = temp_2[W_d]\n",
    "        beta4  = temp_2[1]\n",
    "               \n",
    "        beta5 = temp[W_d]\n",
    "        beta6 = temp[1]\n",
    "        \n",
    "        beta_dict_5[str(method)] = {'beta1': beta1, 'beta2': beta2,\n",
    "                                     'beta3': beta3, 'beta4': beta4,\n",
    "                                     'beta5': beta5, 'beta6': beta6}      \n",
    "    "
   ]
  },
  {
   "cell_type": "code",
   "execution_count": 24,
   "metadata": {},
   "outputs": [
    {
     "data": {
      "text/latex": [
       "$\\displaystyle 6.00895196364021 \\cdot 10^{-13} W_{d} + 3.41730446072861 \\cdot 10^{-8} + \\frac{1.0 \\left(1.18466716174128 \\cdot 10^{-9} D_{i} SR_{p} W_{d} + 1.89115435214146 \\cdot 10^{-6} D_{i} SR_{p} + 4.70927962522877 \\cdot 10^{-11} W_{d} + 7.51770197260474 \\cdot 10^{-8}\\right)}{CW_{ne} SR_{p}}$"
      ],
      "text/plain": [
       "6.00895196364021e-13*W_d + 3.41730446072861e-8 + 1.0*(1.18466716174128e-9*D_i*SR_p*W_d + 1.89115435214146e-6*D_i*SR_p + 4.70927962522877e-11*W_d + 7.51770197260474e-8)/(CW_ne*SR_p)"
      ]
     },
     "execution_count": 24,
     "metadata": {},
     "output_type": "execute_result"
    }
   ],
   "source": [
    "# Show example of the formula\n",
    "eq_beta_5_is"
   ]
  },
  {
   "cell_type": "code",
   "execution_count": 25,
   "metadata": {
    "scrolled": true
   },
   "outputs": [
    {
     "data": {
      "text/html": [
       "<div>\n",
       "<style scoped>\n",
       "    .dataframe tbody tr th:only-of-type {\n",
       "        vertical-align: middle;\n",
       "    }\n",
       "\n",
       "    .dataframe tbody tr th {\n",
       "        vertical-align: top;\n",
       "    }\n",
       "\n",
       "    .dataframe thead th {\n",
       "        text-align: right;\n",
       "    }\n",
       "</style>\n",
       "<table border=\"1\" class=\"dataframe\">\n",
       "  <thead>\n",
       "    <tr style=\"text-align: right;\">\n",
       "      <th></th>\n",
       "      <th>beta1</th>\n",
       "      <th>beta2</th>\n",
       "      <th>beta3</th>\n",
       "      <th>beta4</th>\n",
       "      <th>beta5</th>\n",
       "      <th>beta6</th>\n",
       "    </tr>\n",
       "  </thead>\n",
       "  <tbody>\n",
       "    <tr>\n",
       "      <th>('ILCD 2.0 2018 midpoint no LT', 'human health', 'carcinogenic effects')</th>\n",
       "      <td>1.714358e-11</td>\n",
       "      <td>1.193562e-08</td>\n",
       "      <td>6.814903e-13</td>\n",
       "      <td>4.744639e-10</td>\n",
       "      <td>8.695687e-15</td>\n",
       "      <td>7.574660e-11</td>\n",
       "    </tr>\n",
       "    <tr>\n",
       "      <th>('ILCD 2.0 2018 midpoint no LT', 'human health', 'ionising radiation')</th>\n",
       "      <td>2.987948e-06</td>\n",
       "      <td>1.494476e-03</td>\n",
       "      <td>1.187767e-07</td>\n",
       "      <td>5.940828e-05</td>\n",
       "      <td>1.515568e-09</td>\n",
       "      <td>2.060965e-05</td>\n",
       "    </tr>\n",
       "    <tr>\n",
       "      <th>('ILCD 2.0 2018 midpoint no LT', 'human health', 'non-carcinogenic effects')</th>\n",
       "      <td>4.635095e-11</td>\n",
       "      <td>2.859709e-08</td>\n",
       "      <td>1.842539e-12</td>\n",
       "      <td>1.136789e-09</td>\n",
       "      <td>2.351045e-14</td>\n",
       "      <td>2.840649e-10</td>\n",
       "    </tr>\n",
       "    <tr>\n",
       "      <th>('ILCD 2.0 2018 midpoint no LT', 'human health', 'ozone layer depletion')</th>\n",
       "      <td>9.747440e-12</td>\n",
       "      <td>3.693332e-09</td>\n",
       "      <td>3.874795e-13</td>\n",
       "      <td>1.468170e-10</td>\n",
       "      <td>4.944165e-15</td>\n",
       "      <td>7.122354e-11</td>\n",
       "    </tr>\n",
       "    <tr>\n",
       "      <th>('ILCD 2.0 2018 midpoint no LT', 'human health', 'photochemical ozone creation')</th>\n",
       "      <td>7.739965e-07</td>\n",
       "      <td>2.672816e-04</td>\n",
       "      <td>3.076785e-08</td>\n",
       "      <td>1.062496e-05</td>\n",
       "      <td>3.925919e-10</td>\n",
       "      <td>2.713246e-06</td>\n",
       "    </tr>\n",
       "    <tr>\n",
       "      <th>('ILCD 2.0 2018 midpoint no LT', 'human health', 'respiratory effects, inorganics')</th>\n",
       "      <td>3.904591e-12</td>\n",
       "      <td>4.836779e-09</td>\n",
       "      <td>1.552150e-13</td>\n",
       "      <td>1.922713e-10</td>\n",
       "      <td>1.980514e-15</td>\n",
       "      <td>4.521798e-11</td>\n",
       "    </tr>\n",
       "    <tr>\n",
       "      <th>('ILCD 2.0 2018 midpoint no LT', 'ecosystem quality', 'freshwater and terrestrial acidification')</th>\n",
       "      <td>6.600557e-07</td>\n",
       "      <td>3.249039e-04</td>\n",
       "      <td>2.623848e-08</td>\n",
       "      <td>1.291556e-05</td>\n",
       "      <td>3.347981e-10</td>\n",
       "      <td>4.413580e-06</td>\n",
       "    </tr>\n",
       "    <tr>\n",
       "      <th>('ILCD 2.0 2018 midpoint no LT', 'ecosystem quality', 'freshwater ecotoxicity')</th>\n",
       "      <td>5.219111e-04</td>\n",
       "      <td>1.515991e-01</td>\n",
       "      <td>2.074697e-05</td>\n",
       "      <td>6.026356e-03</td>\n",
       "      <td>2.647274e-07</td>\n",
       "      <td>1.323571e-03</td>\n",
       "    </tr>\n",
       "    <tr>\n",
       "      <th>('ILCD 2.0 2018 midpoint no LT', 'ecosystem quality', 'freshwater eutrophication')</th>\n",
       "      <td>3.372111e-09</td>\n",
       "      <td>2.711937e-06</td>\n",
       "      <td>1.340479e-10</td>\n",
       "      <td>1.078047e-07</td>\n",
       "      <td>1.710426e-12</td>\n",
       "      <td>3.743753e-08</td>\n",
       "    </tr>\n",
       "    <tr>\n",
       "      <th>('ILCD 2.0 2018 midpoint no LT', 'ecosystem quality', 'marine eutrophication')</th>\n",
       "      <td>2.487063e-07</td>\n",
       "      <td>6.573796e-05</td>\n",
       "      <td>9.886552e-09</td>\n",
       "      <td>2.613210e-06</td>\n",
       "      <td>1.261505e-10</td>\n",
       "      <td>8.334420e-07</td>\n",
       "    </tr>\n",
       "    <tr>\n",
       "      <th>('ILCD 2.0 2018 midpoint no LT', 'ecosystem quality', 'terrestrial eutrophication')</th>\n",
       "      <td>2.699976e-06</td>\n",
       "      <td>7.422966e-04</td>\n",
       "      <td>1.073292e-07</td>\n",
       "      <td>2.950772e-05</td>\n",
       "      <td>1.369501e-09</td>\n",
       "      <td>7.913192e-06</td>\n",
       "    </tr>\n",
       "    <tr>\n",
       "      <th>('ILCD 2.0 2018 midpoint no LT', 'resources', 'dissipated water')</th>\n",
       "      <td>2.034243e-05</td>\n",
       "      <td>2.248623e-02</td>\n",
       "      <td>8.086507e-07</td>\n",
       "      <td>8.938708e-04</td>\n",
       "      <td>1.031823e-08</td>\n",
       "      <td>3.145744e-04</td>\n",
       "    </tr>\n",
       "    <tr>\n",
       "      <th>('ILCD 2.0 2018 midpoint no LT', 'resources', 'fossils')</th>\n",
       "      <td>1.052496e-03</td>\n",
       "      <td>7.565905e-01</td>\n",
       "      <td>4.183874e-05</td>\n",
       "      <td>3.007593e-02</td>\n",
       "      <td>5.338545e-07</td>\n",
       "      <td>8.758930e-03</td>\n",
       "    </tr>\n",
       "    <tr>\n",
       "      <th>('ILCD 2.0 2018 midpoint no LT', 'resources', 'land use')</th>\n",
       "      <td>2.842583e-04</td>\n",
       "      <td>3.906599e-01</td>\n",
       "      <td>1.129981e-05</td>\n",
       "      <td>1.552948e-02</td>\n",
       "      <td>1.441835e-07</td>\n",
       "      <td>4.897494e-03</td>\n",
       "    </tr>\n",
       "    <tr>\n",
       "      <th>('ILCD 2.0 2018 midpoint no LT', 'resources', 'minerals and metals')</th>\n",
       "      <td>1.184667e-09</td>\n",
       "      <td>1.891154e-06</td>\n",
       "      <td>4.709280e-11</td>\n",
       "      <td>7.517702e-08</td>\n",
       "      <td>6.008952e-13</td>\n",
       "      <td>3.417304e-08</td>\n",
       "    </tr>\n",
       "  </tbody>\n",
       "</table>\n",
       "</div>"
      ],
      "text/plain": [
       "                                                           beta1  \\\n",
       "('ILCD 2.0 2018 midpoint no LT', 'human health'...  1.714358e-11   \n",
       "('ILCD 2.0 2018 midpoint no LT', 'human health'...  2.987948e-06   \n",
       "('ILCD 2.0 2018 midpoint no LT', 'human health'...  4.635095e-11   \n",
       "('ILCD 2.0 2018 midpoint no LT', 'human health'...  9.747440e-12   \n",
       "('ILCD 2.0 2018 midpoint no LT', 'human health'...  7.739965e-07   \n",
       "('ILCD 2.0 2018 midpoint no LT', 'human health'...  3.904591e-12   \n",
       "('ILCD 2.0 2018 midpoint no LT', 'ecosystem qua...  6.600557e-07   \n",
       "('ILCD 2.0 2018 midpoint no LT', 'ecosystem qua...  5.219111e-04   \n",
       "('ILCD 2.0 2018 midpoint no LT', 'ecosystem qua...  3.372111e-09   \n",
       "('ILCD 2.0 2018 midpoint no LT', 'ecosystem qua...  2.487063e-07   \n",
       "('ILCD 2.0 2018 midpoint no LT', 'ecosystem qua...  2.699976e-06   \n",
       "('ILCD 2.0 2018 midpoint no LT', 'resources', '...  2.034243e-05   \n",
       "('ILCD 2.0 2018 midpoint no LT', 'resources', '...  1.052496e-03   \n",
       "('ILCD 2.0 2018 midpoint no LT', 'resources', '...  2.842583e-04   \n",
       "('ILCD 2.0 2018 midpoint no LT', 'resources', '...  1.184667e-09   \n",
       "\n",
       "                                                           beta2  \\\n",
       "('ILCD 2.0 2018 midpoint no LT', 'human health'...  1.193562e-08   \n",
       "('ILCD 2.0 2018 midpoint no LT', 'human health'...  1.494476e-03   \n",
       "('ILCD 2.0 2018 midpoint no LT', 'human health'...  2.859709e-08   \n",
       "('ILCD 2.0 2018 midpoint no LT', 'human health'...  3.693332e-09   \n",
       "('ILCD 2.0 2018 midpoint no LT', 'human health'...  2.672816e-04   \n",
       "('ILCD 2.0 2018 midpoint no LT', 'human health'...  4.836779e-09   \n",
       "('ILCD 2.0 2018 midpoint no LT', 'ecosystem qua...  3.249039e-04   \n",
       "('ILCD 2.0 2018 midpoint no LT', 'ecosystem qua...  1.515991e-01   \n",
       "('ILCD 2.0 2018 midpoint no LT', 'ecosystem qua...  2.711937e-06   \n",
       "('ILCD 2.0 2018 midpoint no LT', 'ecosystem qua...  6.573796e-05   \n",
       "('ILCD 2.0 2018 midpoint no LT', 'ecosystem qua...  7.422966e-04   \n",
       "('ILCD 2.0 2018 midpoint no LT', 'resources', '...  2.248623e-02   \n",
       "('ILCD 2.0 2018 midpoint no LT', 'resources', '...  7.565905e-01   \n",
       "('ILCD 2.0 2018 midpoint no LT', 'resources', '...  3.906599e-01   \n",
       "('ILCD 2.0 2018 midpoint no LT', 'resources', '...  1.891154e-06   \n",
       "\n",
       "                                                           beta3  \\\n",
       "('ILCD 2.0 2018 midpoint no LT', 'human health'...  6.814903e-13   \n",
       "('ILCD 2.0 2018 midpoint no LT', 'human health'...  1.187767e-07   \n",
       "('ILCD 2.0 2018 midpoint no LT', 'human health'...  1.842539e-12   \n",
       "('ILCD 2.0 2018 midpoint no LT', 'human health'...  3.874795e-13   \n",
       "('ILCD 2.0 2018 midpoint no LT', 'human health'...  3.076785e-08   \n",
       "('ILCD 2.0 2018 midpoint no LT', 'human health'...  1.552150e-13   \n",
       "('ILCD 2.0 2018 midpoint no LT', 'ecosystem qua...  2.623848e-08   \n",
       "('ILCD 2.0 2018 midpoint no LT', 'ecosystem qua...  2.074697e-05   \n",
       "('ILCD 2.0 2018 midpoint no LT', 'ecosystem qua...  1.340479e-10   \n",
       "('ILCD 2.0 2018 midpoint no LT', 'ecosystem qua...  9.886552e-09   \n",
       "('ILCD 2.0 2018 midpoint no LT', 'ecosystem qua...  1.073292e-07   \n",
       "('ILCD 2.0 2018 midpoint no LT', 'resources', '...  8.086507e-07   \n",
       "('ILCD 2.0 2018 midpoint no LT', 'resources', '...  4.183874e-05   \n",
       "('ILCD 2.0 2018 midpoint no LT', 'resources', '...  1.129981e-05   \n",
       "('ILCD 2.0 2018 midpoint no LT', 'resources', '...  4.709280e-11   \n",
       "\n",
       "                                                           beta4  \\\n",
       "('ILCD 2.0 2018 midpoint no LT', 'human health'...  4.744639e-10   \n",
       "('ILCD 2.0 2018 midpoint no LT', 'human health'...  5.940828e-05   \n",
       "('ILCD 2.0 2018 midpoint no LT', 'human health'...  1.136789e-09   \n",
       "('ILCD 2.0 2018 midpoint no LT', 'human health'...  1.468170e-10   \n",
       "('ILCD 2.0 2018 midpoint no LT', 'human health'...  1.062496e-05   \n",
       "('ILCD 2.0 2018 midpoint no LT', 'human health'...  1.922713e-10   \n",
       "('ILCD 2.0 2018 midpoint no LT', 'ecosystem qua...  1.291556e-05   \n",
       "('ILCD 2.0 2018 midpoint no LT', 'ecosystem qua...  6.026356e-03   \n",
       "('ILCD 2.0 2018 midpoint no LT', 'ecosystem qua...  1.078047e-07   \n",
       "('ILCD 2.0 2018 midpoint no LT', 'ecosystem qua...  2.613210e-06   \n",
       "('ILCD 2.0 2018 midpoint no LT', 'ecosystem qua...  2.950772e-05   \n",
       "('ILCD 2.0 2018 midpoint no LT', 'resources', '...  8.938708e-04   \n",
       "('ILCD 2.0 2018 midpoint no LT', 'resources', '...  3.007593e-02   \n",
       "('ILCD 2.0 2018 midpoint no LT', 'resources', '...  1.552948e-02   \n",
       "('ILCD 2.0 2018 midpoint no LT', 'resources', '...  7.517702e-08   \n",
       "\n",
       "                                                           beta5         beta6  \n",
       "('ILCD 2.0 2018 midpoint no LT', 'human health'...  8.695687e-15  7.574660e-11  \n",
       "('ILCD 2.0 2018 midpoint no LT', 'human health'...  1.515568e-09  2.060965e-05  \n",
       "('ILCD 2.0 2018 midpoint no LT', 'human health'...  2.351045e-14  2.840649e-10  \n",
       "('ILCD 2.0 2018 midpoint no LT', 'human health'...  4.944165e-15  7.122354e-11  \n",
       "('ILCD 2.0 2018 midpoint no LT', 'human health'...  3.925919e-10  2.713246e-06  \n",
       "('ILCD 2.0 2018 midpoint no LT', 'human health'...  1.980514e-15  4.521798e-11  \n",
       "('ILCD 2.0 2018 midpoint no LT', 'ecosystem qua...  3.347981e-10  4.413580e-06  \n",
       "('ILCD 2.0 2018 midpoint no LT', 'ecosystem qua...  2.647274e-07  1.323571e-03  \n",
       "('ILCD 2.0 2018 midpoint no LT', 'ecosystem qua...  1.710426e-12  3.743753e-08  \n",
       "('ILCD 2.0 2018 midpoint no LT', 'ecosystem qua...  1.261505e-10  8.334420e-07  \n",
       "('ILCD 2.0 2018 midpoint no LT', 'ecosystem qua...  1.369501e-09  7.913192e-06  \n",
       "('ILCD 2.0 2018 midpoint no LT', 'resources', '...  1.031823e-08  3.145744e-04  \n",
       "('ILCD 2.0 2018 midpoint no LT', 'resources', '...  5.338545e-07  8.758930e-03  \n",
       "('ILCD 2.0 2018 midpoint no LT', 'resources', '...  1.441835e-07  4.897494e-03  \n",
       "('ILCD 2.0 2018 midpoint no LT', 'resources', '...  6.008952e-13  3.417304e-08  "
      ]
     },
     "execution_count": 25,
     "metadata": {},
     "output_type": "execute_result"
    }
   ],
   "source": [
    "beta_df_5 = pd.DataFrame.from_dict(beta_dict_5, orient='index')\n",
    "beta_df_5 = beta_df_5.astype(float)\n",
    "beta_df_5"
   ]
  },
  {
   "cell_type": "markdown",
   "metadata": {},
   "source": [
    "# Save to excel"
   ]
  },
  {
   "cell_type": "code",
   "execution_count": 26,
   "metadata": {},
   "outputs": [],
   "source": [
    "with pd.ExcelWriter(os.path.join(path, 'generated_files\\Simplified models coefficients conventional - symbolic - thresholds.xlsx')) as writer:\n",
    "    alpha_df_5.to_excel(writer, sheet_name='alpha_5%')\n",
    "    alpha_df_10.to_excel(writer, sheet_name='alpha_10%')\n",
    "    alpha_df_15.to_excel(writer, sheet_name='alpha_15%')\n",
    "    alpha_df_20.to_excel(writer, sheet_name='alpha_20%')\n",
    "    beta_df_5.to_excel(writer, sheet_name='beta_5%')\n",
    "    beta_df_10.to_excel(writer, sheet_name='beta_10%')\n",
    "    beta_df_15.to_excel(writer, sheet_name='beta_15%')\n",
    "    beta_df_20.to_excel(writer, sheet_name='beta_20%')"
   ]
  },
  {
   "cell_type": "code",
   "execution_count": null,
   "metadata": {},
   "outputs": [],
   "source": []
  }
 ],
 "metadata": {
  "kernelspec": {
   "display_name": "Python 3",
   "language": "python",
   "name": "python3"
  },
  "language_info": {
   "codemirror_mode": {
    "name": "ipython",
    "version": 3
   },
   "file_extension": ".py",
   "mimetype": "text/x-python",
   "name": "python",
   "nbconvert_exporter": "python",
   "pygments_lexer": "ipython3",
   "version": "3.6.9"
  }
 },
 "nbformat": 4,
 "nbformat_minor": 2
}
