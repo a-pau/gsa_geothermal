{
 "cells": [
  {
   "cell_type": "code",
   "execution_count": 2,
   "metadata": {},
   "outputs": [],
   "source": [
    "import colorlover as cl\n",
    "from IPython.display import HTML"
   ]
  },
  {
   "cell_type": "code",
   "execution_count": 3,
   "metadata": {
    "pycharm": {
     "is_executing": false
    }
   },
   "outputs": [
    {
     "data": {
      "text/html": [
       "<div style=\"background-color:rgb(166,206,227);height:20px;width:20px;margin-bottom:0px;display:inline-block;\"></div><div style=\"background-color:rgb(31,120,180);height:20px;width:20px;margin-bottom:0px;display:inline-block;\"></div><div style=\"background-color:rgb(178,223,138);height:20px;width:20px;margin-bottom:0px;display:inline-block;\"></div><div style=\"background-color:rgb(51,160,44);height:20px;width:20px;margin-bottom:0px;display:inline-block;\"></div><div style=\"background-color:rgb(251,154,153);height:20px;width:20px;margin-bottom:0px;display:inline-block;\"></div><div style=\"background-color:rgb(227,26,28);height:20px;width:20px;margin-bottom:0px;display:inline-block;\"></div><div style=\"background-color:rgb(253,191,111);height:20px;width:20px;margin-bottom:0px;display:inline-block;\"></div><div style=\"background-color:rgb(255,127,0);height:20px;width:20px;margin-bottom:0px;display:inline-block;\"></div><div style=\"background-color:rgb(202,178,214);height:20px;width:20px;margin-bottom:0px;display:inline-block;\"></div><div style=\"background-color:rgb(106,61,154);height:20px;width:20px;margin-bottom:0px;display:inline-block;\"></div><div style=\"background-color:rgb(255,255,153);height:20px;width:20px;margin-bottom:0px;display:inline-block;\"></div><div style=\"background-color:rgb(255,237,0);height:20px;width:20px;margin-bottom:0px;display:inline-block;\"></div><div style=\"background-color:rgb(184,255,185);height:20px;width:20px;margin-bottom:0px;display:inline-block;\"></div><div style=\"background-color:rgb(30,221,109);height:20px;width:20px;margin-bottom:0px;display:inline-block;\"></div><div style=\"background-color:rgb(255,210,255);height:20px;width:20px;margin-bottom:0px;display:inline-block;\"></div><div style=\"background-color:rgb(248,114,225);height:20px;width:20px;margin-bottom:0px;display:inline-block;\"></div><div style=\"background-color:rgb(137,231,255);height:20px;width:20px;margin-bottom:0px;display:inline-block;\"></div><div style=\"background-color:rgb(25, 94, 242);height:20px;width:20px;margin-bottom:0px;display:inline-block;\"></div><div style=\"background-color:rgb(199, 150, 162);height:20px;width:20px;margin-bottom:0px;display:inline-block;\"></div><div style=\"background-color:rgb(149, 109, 162);height:20px;width:20px;margin-bottom:0px;display:inline-block;\"></div><div style=\"background-color:rgb(12, 207, 196);height:20px;width:20px;margin-bottom:0px;display:inline-block;\"></div><div style=\"background-color:rgb(20, 121, 132);height:20px;width:20px;margin-bottom:0px;display:inline-block;\"></div>"
      ],
      "text/plain": [
       "<IPython.core.display.HTML object>"
      ]
     },
     "execution_count": 3,
     "metadata": {},
     "output_type": "execute_result"
    }
   ],
   "source": [
    "# Choose colors\n",
    "my_colors = ['rgb(255,237,0)',\n",
    "             'rgb(184,255,185)',\n",
    "             'rgb(30,221,109)',\n",
    "             'rgb(255,210,255)',\n",
    "             'rgb(248,114,225)',\n",
    "             'rgb(137,231,255)',\n",
    "             'rgb(25, 94, 242)',\n",
    "             'rgb(199, 150, 162)',\n",
    "             'rgb(149, 109, 162)',\n",
    "             'rgb(12, 207, 196)',\n",
    "             'rgb(20, 121, 132)'\n",
    "             \n",
    "             ]\n",
    "colors = cl.scales['11']['qual']['Paired'] + my_colors\n",
    "HTML(cl.to_html( colors ))"
   ]
  },
  {
   "cell_type": "markdown",
   "metadata": {},
   "source": [
    "# I. Bar plots of Sobol' indices"
   ]
  },
  {
   "cell_type": "code",
   "execution_count": 4,
   "metadata": {
    "pycharm": {
     "is_executing": false
    }
   },
   "outputs": [],
   "source": [
    "import json\n",
    "import os\n",
    "import brightway2 as bw\n",
    "import numpy as np\n",
    "import pandas as pd\n",
    "\n",
    "# For plotting\n",
    "import plotly.graph_objs as go\n",
    "from plotly.subplots import make_subplots"
   ]
  },
  {
   "cell_type": "code",
   "execution_count": 7,
   "metadata": {},
   "outputs": [],
   "source": [
    "path = 'generated_files//gsa_results//cge_N500/sobol_indices.json'\n",
    "# path = ' '"
   ]
  },
  {
   "cell_type": "markdown",
   "metadata": {},
   "source": [
    "## 1. Load data"
   ]
  },
  {
   "cell_type": "code",
   "execution_count": 8,
   "metadata": {
    "pycharm": {
     "is_executing": false
    }
   },
   "outputs": [],
   "source": [
    "with open(path) as f:\n",
    "    sa_dict = json.load(f)\n",
    "parameters = sa_dict['parameters']\n",
    "n_parameters = len(parameters)\n",
    "\n",
    "# Extract total index into a dictionary and dataframe\n",
    "total_dict, first_dict = {}, {}\n",
    "total_dict['parameters'] = parameters\n",
    "first_dict['parameters'] = parameters\n",
    "for k in sa_dict.keys():\n",
    "    if k != 'parameters':\n",
    "        total_dict[k] = sa_dict[k]['ST']\n",
    "        first_dict[k] = sa_dict[k]['S1']#[abs(a) for a in all_vals_first[n_all-n_parameters:]]\n",
    "total_df = pd.DataFrame(total_dict)\n",
    "first_df = pd.DataFrame(first_dict)"
   ]
  },
  {
   "cell_type": "markdown",
   "metadata": {},
   "source": [
    "## 2. Prepare for plotting"
   ]
  },
  {
   "cell_type": "code",
   "execution_count": 18,
   "metadata": {
    "pycharm": {
     "is_executing": false
    }
   },
   "outputs": [],
   "source": [
    "# def normalize_df(df):\n",
    "#     norm_df = pd.DataFrame([],index = df.index, columns = df.columns)\n",
    "#     norm_df['parameters'] = df['parameters']\n",
    "#     for col in df.columns:\n",
    "#         if col != 'parameters':\n",
    "#             norm_df[col] = df[col] / sum(df[col])\n",
    "#     return norm_df"
   ]
  },
  {
   "cell_type": "code",
   "execution_count": 19,
   "metadata": {},
   "outputs": [],
   "source": [
    "def change_df_index(index):\n",
    "    new_index = []\n",
    "    for i in index:\n",
    "        name = i.replace('_', ' ').capitalize()\n",
    "        if name.lower() == 'co2 emissions':\n",
    "            name = 'Direct CO2 emissions'\n",
    "        elif name.lower() == 'collection pipelines':\n",
    "            name = 'Collection pipelines length'\n",
    "        elif 'success' in name.lower():\n",
    "            name = name[:13] + 'of ' + name[13:]\n",
    "        elif '0to1' in name.lower():\n",
    "            name = name[:-4] + '0 ot 1'\n",
    "        new_index.append(name)\n",
    "    return new_index"
   ]
  },
  {
   "cell_type": "code",
   "execution_count": 20,
   "metadata": {
    "pycharm": {
     "is_executing": false
    }
   },
   "outputs": [],
   "source": [
    "def prepare_df(first_or_total):\n",
    "    # choose total or first here\n",
    "    if first_or_total == 'first':\n",
    "        names = first_df['parameters'].tolist()\n",
    "        df = first_df\n",
    "    elif first_or_total == 'total':\n",
    "        names = total_df['parameters'].tolist()\n",
    "        df = total_df\n",
    "\n",
    "    # Choose the order of parameters\n",
    "    if 'cge' in path:\n",
    "        df = df.set_index('parameters')\n",
    "        new_order = ['co2_emissions',\n",
    "                     'gross_power_per_well', \n",
    "                     'average_depth_of_wells',\n",
    "                     'initial_harmonic_decline_rate',\n",
    "                     'success_rate_primary_wells',\n",
    "                     'lifetime',\n",
    "                     'collection_pipelines', \n",
    "                     'installed_capacity', \n",
    "                     'capacity_factor', \n",
    "                     'auxiliary_power',\n",
    "                     'specific_diesel_consumption', \n",
    "                     'specific_steel_consumption',\n",
    "                     'specific_cement_consumption', \n",
    "                     'specific_drilling_mud_consumption',\n",
    "                     'production_to_injection_ratio',\n",
    "                     'success_rate_exploration_wells', \n",
    "                     'success_rate_makeup_wells']\n",
    "    elif 'ege' in path:\n",
    "        df = df.set_index('parameters')\n",
    "        new_order = ['installed_capacity',\n",
    "                     'average_depth_of_wells',\n",
    "                     'success_rate_primary_wells',\n",
    "                     'success_rate_exploration_wells',\n",
    "                     'number_of_wells',\n",
    "                     'lifetime',\n",
    "                     'specific_diesel_consumption',\n",
    "                     'specific_electricity_stimulation',\n",
    "                     'water_stimulation', \n",
    "                     'auxiliary_power',\n",
    "                     'specific_steel_consumption',\n",
    "                     'number_of_wells_stimulated_0to1', \n",
    "                     'capacity_factor', \n",
    "                     'specific_cement_consumption',\n",
    "                     'collection_pipelines',\n",
    "                     'specific_drilling_mud_consumption']\n",
    "        \n",
    "    \n",
    "    \n",
    "    df = df.reindex(new_order)\n",
    "    new_index = change_df_index(new_order)\n",
    "    df.index = new_index\n",
    "    df['index'] = np.arange(len(df))\n",
    "    df = df.reset_index()\n",
    "    df = df.set_index('index')\n",
    "        \n",
    "    return df"
   ]
  },
  {
   "cell_type": "markdown",
   "metadata": {},
   "source": [
    "## 3. Bar plots"
   ]
  },
  {
   "cell_type": "code",
   "execution_count": 21,
   "metadata": {},
   "outputs": [],
   "source": [
    "colors = {\n",
    "    'Direct CO2 emissions': 'rgb(166,206,227)',\n",
    "    'Gross power per well': 'rgb(31,120,180)', \n",
    "    'Average depth of wells': 'rgb(178,223,138)',\n",
    "    'Initial harmonic decline rate': 'rgb(51,160,44)',\n",
    "    'Success rate of primary wells': 'rgb(251,154,153)',\n",
    "    'Lifetime': 'rgb(227,26,28)', \n",
    "    'Collection pipelines length': 'rgb(202,178,214)',\n",
    "    'Installed capacity': 'rgb(106,61,154)',\n",
    "    'Capacity factor': 'rgb(184,255,185)',\n",
    "    'Auxiliary power': 'rgb(30,221,109)',\n",
    "    'Specific steel consumption': 'rgb(248,114,225)',\n",
    "    'Specific cement consumption': 'rgb(137,231,255)',\n",
    "    'Specific drilling mud consumption': 'rgb(255,255,153)',\n",
    "    'Production to injection ratio': 'rgb(25, 94, 242)',\n",
    "    'Success rate of exploration wells': 'rgb(20, 121, 132)',\n",
    "    'Success rate of makeup wells': 'rgb(199, 150, 162)',\n",
    "    # missing EGE\n",
    "    'Specific diesel consumption': 'rgb(255,127,0)',\n",
    "    'Number of wells': 'rgb(253,191,111)',\n",
    "    'Specific electricity stimulation': 'rgb(255,237,0)',\n",
    "    'Water stimulation': 'rgb(255,210,255)',\n",
    "    'Number of wells stimulated 0 ot 1': 'rgb(12, 207, 196)'\n",
    "}"
   ]
  },
  {
   "cell_type": "code",
   "execution_count": 22,
   "metadata": {
    "pycharm": {
     "is_executing": false
    }
   },
   "outputs": [
    {
     "data": {
      "application/vnd.plotly.v1+json": {
       "config": {
        "plotlyServerURL": "https://plot.ly"
       },
       "data": [
        {
         "marker": {
          "color": "rgb(166,206,227)"
         },
         "name": "Direct CO2 emissions",
         "orientation": "h",
         "showlegend": true,
         "type": "bar",
         "x": [
          0.9481412787385133,
          0,
          0,
          0,
          0,
          0,
          0,
          0,
          0,
          0,
          0,
          0,
          0,
          0,
          0,
          0
         ],
         "xaxis": "x",
         "y": [
          "Climate change total",
          "Carcinogenic effects",
          "Ionising radiation",
          "Non-carcinogenic effects",
          "Ozone layer depletion",
          "Photochemical ozone creation",
          "Respiratory effects, inorganics",
          "Freshwater and terrestrial acidification",
          "Freshwater ecotoxicity",
          "Freshwater eutrophication",
          "Marine eutrophication",
          "Terrestrial eutrophication",
          "Minerals and metals",
          "Dissipated water",
          "Fossil resources",
          "Land use"
         ],
         "yaxis": "y"
        },
        {
         "marker": {
          "color": "rgb(31,120,180)"
         },
         "name": "Gross power per well",
         "orientation": "h",
         "showlegend": true,
         "type": "bar",
         "x": [
          0.0010284721030654632,
          0.6326463641704636,
          0.6072230901185997,
          0.6262094865372788,
          0.5927987978174116,
          0.5890741040834212,
          0.6673366698019478,
          0.6046828680846723,
          0.5963388883725674,
          0.6395634237341649,
          0.5781927678365097,
          0.5790494911387742,
          0.6950385479144834,
          0.6559743998130163,
          0.6301241047767763,
          0.6756435502602207
         ],
         "xaxis": "x",
         "y": [
          "Climate change total",
          "Carcinogenic effects",
          "Ionising radiation",
          "Non-carcinogenic effects",
          "Ozone layer depletion",
          "Photochemical ozone creation",
          "Respiratory effects, inorganics",
          "Freshwater and terrestrial acidification",
          "Freshwater ecotoxicity",
          "Freshwater eutrophication",
          "Marine eutrophication",
          "Terrestrial eutrophication",
          "Minerals and metals",
          "Dissipated water",
          "Fossil resources",
          "Land use"
         ],
         "yaxis": "y"
        },
        {
         "marker": {
          "color": "rgb(178,223,138)"
         },
         "name": "Average depth of wells",
         "orientation": "h",
         "showlegend": true,
         "type": "bar",
         "x": [
          0.002242899231312298,
          0.1956061835968417,
          0.20782430332350332,
          0.2021938681034296,
          0.21642185130486258,
          0.2188574106286667,
          0.1585110011311047,
          0.20793294083606245,
          0.23056838797023999,
          0.1877113984443874,
          0.2247315953811216,
          0.22383713800496166,
          0.14757312031420852,
          0.16512182116210544,
          0.19200666182056886,
          0.15281601726298052
         ],
         "xaxis": "x",
         "y": [
          "Climate change total",
          "Carcinogenic effects",
          "Ionising radiation",
          "Non-carcinogenic effects",
          "Ozone layer depletion",
          "Photochemical ozone creation",
          "Respiratory effects, inorganics",
          "Freshwater and terrestrial acidification",
          "Freshwater ecotoxicity",
          "Freshwater eutrophication",
          "Marine eutrophication",
          "Terrestrial eutrophication",
          "Minerals and metals",
          "Dissipated water",
          "Fossil resources",
          "Land use"
         ],
         "yaxis": "y"
        },
        {
         "marker": {
          "color": "rgb(51,160,44)"
         },
         "name": "Initial harmonic decline rate",
         "orientation": "h",
         "showlegend": true,
         "type": "bar",
         "x": [
          0.001097824589927455,
          0.07113956767952989,
          0.06963717297304207,
          0.0705996260881441,
          0.0679529336915211,
          0.0674327078859381,
          0.07592811657726493,
          0.06964761627457858,
          0.06739569494260454,
          0.07219007526237899,
          0.0661627018352241,
          0.0663786171660175,
          0.08070744321495199,
          0.07331416676996234,
          0.0717024168115244,
          0.0778119739328094
         ],
         "xaxis": "x",
         "y": [
          "Climate change total",
          "Carcinogenic effects",
          "Ionising radiation",
          "Non-carcinogenic effects",
          "Ozone layer depletion",
          "Photochemical ozone creation",
          "Respiratory effects, inorganics",
          "Freshwater and terrestrial acidification",
          "Freshwater ecotoxicity",
          "Freshwater eutrophication",
          "Marine eutrophication",
          "Terrestrial eutrophication",
          "Minerals and metals",
          "Dissipated water",
          "Fossil resources",
          "Land use"
         ],
         "yaxis": "y"
        },
        {
         "marker": {
          "color": "rgb(251,154,153)"
         },
         "name": "Success rate of primary wells",
         "orientation": "h",
         "showlegend": true,
         "type": "bar",
         "x": [
          -1.4877651973413642e-05,
          0.037473131093073264,
          0.039812153526880466,
          0.03875805153286738,
          0.0414296815010564,
          0.04174477701634294,
          0.03121087280714198,
          0.03991749380791647,
          0.04403047973025234,
          0.03632462861511406,
          0.04285379670299003,
          0.04270653076987648,
          0.030120006323437337,
          0.03220050983153339,
          0.03703036872231954,
          0.030609471101774983
         ],
         "xaxis": "x",
         "y": [
          "Climate change total",
          "Carcinogenic effects",
          "Ionising radiation",
          "Non-carcinogenic effects",
          "Ozone layer depletion",
          "Photochemical ozone creation",
          "Respiratory effects, inorganics",
          "Freshwater and terrestrial acidification",
          "Freshwater ecotoxicity",
          "Freshwater eutrophication",
          "Marine eutrophication",
          "Terrestrial eutrophication",
          "Minerals and metals",
          "Dissipated water",
          "Fossil resources",
          "Land use"
         ],
         "yaxis": "y"
        },
        {
         "marker": {
          "color": "rgb(227,26,28)"
         },
         "name": "Lifetime",
         "orientation": "h",
         "showlegend": true,
         "type": "bar",
         "x": [
          0.000280536676860704,
          0.012657385840186821,
          0.012984110918639373,
          0.013407140674632684,
          0.012937578998287609,
          0.01208962623467056,
          0.013897634104772905,
          0.013032453340577819,
          0.012959262367596034,
          0.014522960296425347,
          0.012041972260073548,
          0.011934229336854903,
          0.021003856891053236,
          0.014926839075084825,
          0.013310607946686833,
          0.015901700998087222
         ],
         "xaxis": "x",
         "y": [
          "Climate change total",
          "Carcinogenic effects",
          "Ionising radiation",
          "Non-carcinogenic effects",
          "Ozone layer depletion",
          "Photochemical ozone creation",
          "Respiratory effects, inorganics",
          "Freshwater and terrestrial acidification",
          "Freshwater ecotoxicity",
          "Freshwater eutrophication",
          "Marine eutrophication",
          "Terrestrial eutrophication",
          "Minerals and metals",
          "Dissipated water",
          "Fossil resources",
          "Land use"
         ],
         "yaxis": "y"
        },
        {
         "marker": {
          "color": "rgb(202,178,214)"
         },
         "name": "Collection pipelines length",
         "orientation": "h",
         "showlegend": true,
         "type": "bar",
         "x": [
          4.1461593912032376e-05,
          0.0050418516609425,
          0.0032382116212722376,
          0.0042917840096185125,
          0.00227374076001886,
          0.002045573477305981,
          0.010219052608213796,
          0.003202672103846229,
          0.0016245890988728325,
          0.006040396798342399,
          0.001460036863361151,
          0.001537626404663106,
          0.006502492466648253,
          0.009053591496901244,
          0.005202514458356021,
          0.011585353787738398
         ],
         "xaxis": "x",
         "y": [
          "Climate change total",
          "Carcinogenic effects",
          "Ionising radiation",
          "Non-carcinogenic effects",
          "Ozone layer depletion",
          "Photochemical ozone creation",
          "Respiratory effects, inorganics",
          "Freshwater and terrestrial acidification",
          "Freshwater ecotoxicity",
          "Freshwater eutrophication",
          "Marine eutrophication",
          "Terrestrial eutrophication",
          "Minerals and metals",
          "Dissipated water",
          "Fossil resources",
          "Land use"
         ],
         "yaxis": "y"
        },
        {
         "marker": {
          "color": "rgb(106,61,154)"
         },
         "name": "Installed capacity",
         "orientation": "h",
         "showlegend": true,
         "type": "bar",
         "x": [
          -0.00011682105446902883,
          0.007489668719755025,
          0.006806177135763924,
          0.007368332856502596,
          0.006551017398690753,
          0.0065724002748885554,
          0.007454424467709167,
          0.006696219215092281,
          0.006980262007218194,
          0.007360059071587835,
          0.006389291112223598,
          0.006390836322728412,
          0.006994344908999959,
          0.007425120077266883,
          0.007052742657621265,
          0.007305474947540023
         ],
         "xaxis": "x",
         "y": [
          "Climate change total",
          "Carcinogenic effects",
          "Ionising radiation",
          "Non-carcinogenic effects",
          "Ozone layer depletion",
          "Photochemical ozone creation",
          "Respiratory effects, inorganics",
          "Freshwater and terrestrial acidification",
          "Freshwater ecotoxicity",
          "Freshwater eutrophication",
          "Marine eutrophication",
          "Terrestrial eutrophication",
          "Minerals and metals",
          "Dissipated water",
          "Fossil resources",
          "Land use"
         ],
         "yaxis": "y"
        },
        {
         "marker": {
          "color": "rgb(184,255,185)"
         },
         "name": "Capacity factor",
         "orientation": "h",
         "showlegend": true,
         "type": "bar",
         "x": [
          -2.8932339135291335e-05,
          -0.0007098063105689939,
          -0.0006877707894916266,
          -0.000682202117411053,
          -0.0006265974439381012,
          -0.0005949235809381378,
          -0.0008929175386141943,
          -0.0006801278177011343,
          -0.0005025204267813603,
          -0.0007689914546059705,
          -0.0005389391865353647,
          -0.0005395672600667881,
          -0.0008409507878436003,
          -0.0009245218902161897,
          -0.000813099384014538,
          -0.0008569468673220455
         ],
         "xaxis": "x",
         "y": [
          "Climate change total",
          "Carcinogenic effects",
          "Ionising radiation",
          "Non-carcinogenic effects",
          "Ozone layer depletion",
          "Photochemical ozone creation",
          "Respiratory effects, inorganics",
          "Freshwater and terrestrial acidification",
          "Freshwater ecotoxicity",
          "Freshwater eutrophication",
          "Marine eutrophication",
          "Terrestrial eutrophication",
          "Minerals and metals",
          "Dissipated water",
          "Fossil resources",
          "Land use"
         ],
         "yaxis": "y"
        },
        {
         "marker": {
          "color": "rgb(30,221,109)"
         },
         "name": "Auxiliary power",
         "orientation": "h",
         "showlegend": true,
         "type": "bar",
         "x": [
          -6.163624194998529e-06,
          0.0002424022429626643,
          0.00024009642407857824,
          0.00023094813343859752,
          0.0002209199120907815,
          0.00021216645210112099,
          0.00034619722192295085,
          0.00024003443660595473,
          0.0001589254458012074,
          0.00027050243167873913,
          0.00019881903291850094,
          0.0001996832073902545,
          0.00036852414294075343,
          0.0003297442686866335,
          0.00027113409571010696,
          0.0003645656843495492
         ],
         "xaxis": "x",
         "y": [
          "Climate change total",
          "Carcinogenic effects",
          "Ionising radiation",
          "Non-carcinogenic effects",
          "Ozone layer depletion",
          "Photochemical ozone creation",
          "Respiratory effects, inorganics",
          "Freshwater and terrestrial acidification",
          "Freshwater ecotoxicity",
          "Freshwater eutrophication",
          "Marine eutrophication",
          "Terrestrial eutrophication",
          "Minerals and metals",
          "Dissipated water",
          "Fossil resources",
          "Land use"
         ],
         "yaxis": "y"
        },
        {
         "marker": {
          "color": "rgb(255,127,0)"
         },
         "name": "Specific diesel consumption",
         "orientation": "h",
         "showlegend": true,
         "type": "bar",
         "x": [
          7.036809664071767e-05,
          2.7810077902688684e-06,
          0.007928209017664799,
          2.091156656610308e-05,
          0.010696949197987084,
          0.011810056580066142,
          0.0002551458267685423,
          0.009279536485476619,
          2.2882250158954246e-05,
          1.2647350564803194e-05,
          0.014265261429103651,
          0.014415958693434578,
          -4.331229137786199e-05,
          1.3773435700691534e-05,
          0.003046653857026467,
          6.33153839836713e-06
         ],
         "xaxis": "x",
         "y": [
          "Climate change total",
          "Carcinogenic effects",
          "Ionising radiation",
          "Non-carcinogenic effects",
          "Ozone layer depletion",
          "Photochemical ozone creation",
          "Respiratory effects, inorganics",
          "Freshwater and terrestrial acidification",
          "Freshwater ecotoxicity",
          "Freshwater eutrophication",
          "Marine eutrophication",
          "Terrestrial eutrophication",
          "Minerals and metals",
          "Dissipated water",
          "Fossil resources",
          "Land use"
         ],
         "yaxis": "y"
        },
        {
         "marker": {
          "color": "rgb(248,114,225)"
         },
         "name": "Specific steel consumption",
         "orientation": "h",
         "showlegend": true,
         "type": "bar",
         "x": [
          -0.00015568888766050325,
          0.009680566088300513,
          0.0033273688878988415,
          0.0076404446654669955,
          0.0019351677216837774,
          0.00199152035396557,
          0.01255537233244765,
          0.002674441164369688,
          0.002646525207968458,
          0.008856431242028505,
          0.001214119621776144,
          0.0011847770442664587,
          0.004909301419190664,
          0.013791750268977087,
          0.005855104117307831,
          0.009706188820749296
         ],
         "xaxis": "x",
         "y": [
          "Climate change total",
          "Carcinogenic effects",
          "Ionising radiation",
          "Non-carcinogenic effects",
          "Ozone layer depletion",
          "Photochemical ozone creation",
          "Respiratory effects, inorganics",
          "Freshwater and terrestrial acidification",
          "Freshwater ecotoxicity",
          "Freshwater eutrophication",
          "Marine eutrophication",
          "Terrestrial eutrophication",
          "Minerals and metals",
          "Dissipated water",
          "Fossil resources",
          "Land use"
         ],
         "yaxis": "y"
        },
        {
         "marker": {
          "color": "rgb(137,231,255)"
         },
         "name": "Specific cement consumption",
         "orientation": "h",
         "showlegend": true,
         "type": "bar",
         "x": [
          4.77756292696058e-06,
          1.558299620336951e-05,
          0.0003434978172471817,
          7.969165157836004e-05,
          0.0002604228236662589,
          0.00020233284872464094,
          0.00037546310966007766,
          0.0002930338929203694,
          2.5657600791387893e-05,
          0.0002534626276116249,
          0.00021732222478333937,
          0.0002316661500668214,
          0.008098879507863508,
          0.00023071055276580578,
          0.00033125135393577404,
          0.0009560064148986762
         ],
         "xaxis": "x",
         "y": [
          "Climate change total",
          "Carcinogenic effects",
          "Ionising radiation",
          "Non-carcinogenic effects",
          "Ozone layer depletion",
          "Photochemical ozone creation",
          "Respiratory effects, inorganics",
          "Freshwater and terrestrial acidification",
          "Freshwater ecotoxicity",
          "Freshwater eutrophication",
          "Marine eutrophication",
          "Terrestrial eutrophication",
          "Minerals and metals",
          "Dissipated water",
          "Fossil resources",
          "Land use"
         ],
         "yaxis": "y"
        },
        {
         "marker": {
          "color": "rgb(255,255,153)"
         },
         "name": "Specific drilling mud consumption",
         "orientation": "h",
         "showlegend": true,
         "type": "bar",
         "x": [
          7.340978603289984e-06,
          8.065754948068776e-06,
          8.084476119823171e-05,
          3.0130002560285894e-05,
          0.00011876556852524199,
          5.9189307606421114e-05,
          0.0001897174933065078,
          7.864453836354248e-05,
          9.257910664105587e-06,
          0.0002240738776527567,
          4.671794123299295e-05,
          3.184159974882614e-05,
          0.0001346760538233948,
          0.0008675512171345259,
          0.000521987201733089,
          0.00017446173732892998
         ],
         "xaxis": "x",
         "y": [
          "Climate change total",
          "Carcinogenic effects",
          "Ionising radiation",
          "Non-carcinogenic effects",
          "Ozone layer depletion",
          "Photochemical ozone creation",
          "Respiratory effects, inorganics",
          "Freshwater and terrestrial acidification",
          "Freshwater ecotoxicity",
          "Freshwater eutrophication",
          "Marine eutrophication",
          "Terrestrial eutrophication",
          "Minerals and metals",
          "Dissipated water",
          "Fossil resources",
          "Land use"
         ],
         "yaxis": "y"
        },
        {
         "marker": {
          "color": "rgb(25, 94, 242)"
         },
         "name": "Production to injection ratio",
         "orientation": "h",
         "showlegend": true,
         "type": "bar",
         "x": [
          -0.0003053335773926556,
          0.002175506466707052,
          0.001006024671620804,
          0.0022271218765003813,
          0.0008944138280555908,
          0.0008334199117467595,
          0.00164405723678363,
          0.0009063207403630547,
          0.0025579248894739637,
          0.0020966491726326104,
          0.0007615876127408836,
          0.0007447928026242653,
          0.0021360014812773767,
          0.0018197807246592892,
          0.0012904495414871409,
          0.0018474110235307886
         ],
         "xaxis": "x",
         "y": [
          "Climate change total",
          "Carcinogenic effects",
          "Ionising radiation",
          "Non-carcinogenic effects",
          "Ozone layer depletion",
          "Photochemical ozone creation",
          "Respiratory effects, inorganics",
          "Freshwater and terrestrial acidification",
          "Freshwater ecotoxicity",
          "Freshwater eutrophication",
          "Marine eutrophication",
          "Terrestrial eutrophication",
          "Minerals and metals",
          "Dissipated water",
          "Fossil resources",
          "Land use"
         ],
         "yaxis": "y"
        },
        {
         "marker": {
          "color": "rgb(20, 121, 132)"
         },
         "name": "Success rate of exploration wells",
         "orientation": "h",
         "showlegend": true,
         "type": "bar",
         "x": [
          -8.335530966995697e-05,
          0.004420496907824354,
          0.004563769933158188,
          0.004413666878157596,
          0.004562539429200166,
          0.004612319959382635,
          0.004199479049686051,
          0.004564368134171406,
          0.004462236525226716,
          0.004275473429143814,
          0.004613585175514034,
          0.004620640321038691,
          0.003489146233112118,
          0.004092627316678878,
          0.004373115230879387,
          0.004039661543960828
         ],
         "xaxis": "x",
         "y": [
          "Climate change total",
          "Carcinogenic effects",
          "Ionising radiation",
          "Non-carcinogenic effects",
          "Ozone layer depletion",
          "Photochemical ozone creation",
          "Respiratory effects, inorganics",
          "Freshwater and terrestrial acidification",
          "Freshwater ecotoxicity",
          "Freshwater eutrophication",
          "Marine eutrophication",
          "Terrestrial eutrophication",
          "Minerals and metals",
          "Dissipated water",
          "Fossil resources",
          "Land use"
         ],
         "yaxis": "y"
        },
        {
         "marker": {
          "color": "rgb(199, 150, 162)"
         },
         "name": "Success rate of makeup wells",
         "orientation": "h",
         "showlegend": true,
         "type": "bar",
         "x": [
          0.00038046764748192756,
          0.0036703671748209215,
          0.0036892393159292376,
          0.004141698292015979,
          0.004199449560538265,
          0.004261967981581287,
          0.0012977305458144299,
          0.003679136834300709,
          0.006281537752810562,
          0.003239443163218656,
          0.004590993908281624,
          0.004523856534432584,
          0.0009860443234665462,
          0.0017859931029832988,
          0.0030311130892544686,
          0.001198122960155633
         ],
         "xaxis": "x",
         "y": [
          "Climate change total",
          "Carcinogenic effects",
          "Ionising radiation",
          "Non-carcinogenic effects",
          "Ozone layer depletion",
          "Photochemical ozone creation",
          "Respiratory effects, inorganics",
          "Freshwater and terrestrial acidification",
          "Freshwater ecotoxicity",
          "Freshwater eutrophication",
          "Marine eutrophication",
          "Terrestrial eutrophication",
          "Minerals and metals",
          "Dissipated water",
          "Fossil resources",
          "Land use"
         ],
         "yaxis": "y"
        },
        {
         "marker": {
          "color": "rgb(166,206,227)"
         },
         "name": "Direct CO2 emissions",
         "orientation": "h",
         "showlegend": false,
         "type": "bar",
         "x": [
          0.9758807440723347,
          0,
          0,
          0,
          0,
          0,
          0,
          0,
          0,
          0,
          0,
          0,
          0,
          0,
          0,
          0
         ],
         "xaxis": "x2",
         "y": [
          "Climate change total",
          "Carcinogenic effects",
          "Ionising radiation",
          "Non-carcinogenic effects",
          "Ozone layer depletion",
          "Photochemical ozone creation",
          "Respiratory effects, inorganics",
          "Freshwater and terrestrial acidification",
          "Freshwater ecotoxicity",
          "Freshwater eutrophication",
          "Marine eutrophication",
          "Terrestrial eutrophication",
          "Minerals and metals",
          "Dissipated water",
          "Fossil resources",
          "Land use"
         ],
         "yaxis": "y2"
        },
        {
         "marker": {
          "color": "rgb(31,120,180)"
         },
         "name": "Gross power per well",
         "orientation": "h",
         "showlegend": false,
         "type": "bar",
         "x": [
          0.0019188118344456706,
          0.8043823877350891,
          0.7937418212195061,
          0.8012854922599582,
          0.7832805685745865,
          0.7807781428371087,
          0.831610676241869,
          0.7937833794484549,
          0.7844195197767895,
          0.8095985297397829,
          0.7734545402268073,
          0.7750569011503513,
          0.8586502092160846,
          0.8122979446784815,
          0.8042890688095118,
          0.846361290632542
         ],
         "xaxis": "x2",
         "y": [
          "Climate change total",
          "Carcinogenic effects",
          "Ionising radiation",
          "Non-carcinogenic effects",
          "Ozone layer depletion",
          "Photochemical ozone creation",
          "Respiratory effects, inorganics",
          "Freshwater and terrestrial acidification",
          "Freshwater ecotoxicity",
          "Freshwater eutrophication",
          "Marine eutrophication",
          "Terrestrial eutrophication",
          "Minerals and metals",
          "Dissipated water",
          "Fossil resources",
          "Land use"
         ],
         "yaxis": "y2"
        },
        {
         "marker": {
          "color": "rgb(178,223,138)"
         },
         "name": "Average depth of wells",
         "orientation": "h",
         "showlegend": false,
         "type": "bar",
         "x": [
          0.0007131207886446606,
          0.3159355960804931,
          0.3307004759753512,
          0.32335675011361265,
          0.3427418021476565,
          0.34711010279917287,
          0.2619932063663807,
          0.33050334994338704,
          0.3593978807394925,
          0.3025754912793569,
          0.35522081441271963,
          0.3538303517583807,
          0.2239961919614235,
          0.2742088333468763,
          0.3089892511376346,
          0.24815539139741863
         ],
         "xaxis": "x2",
         "y": [
          "Climate change total",
          "Carcinogenic effects",
          "Ionising radiation",
          "Non-carcinogenic effects",
          "Ozone layer depletion",
          "Photochemical ozone creation",
          "Respiratory effects, inorganics",
          "Freshwater and terrestrial acidification",
          "Freshwater ecotoxicity",
          "Freshwater eutrophication",
          "Marine eutrophication",
          "Terrestrial eutrophication",
          "Minerals and metals",
          "Dissipated water",
          "Fossil resources",
          "Land use"
         ],
         "yaxis": "y2"
        },
        {
         "marker": {
          "color": "rgb(51,160,44)"
         },
         "name": "Initial harmonic decline rate",
         "orientation": "h",
         "showlegend": false,
         "type": "bar",
         "x": [
          0.0003272482979907303,
          0.14169117056620834,
          0.13066737104261084,
          0.13969149057696736,
          0.1265599895716719,
          0.12558031400973804,
          0.1496131618768639,
          0.12969031349169405,
          0.13187311043294173,
          0.14316231566550908,
          0.12255543065107233,
          0.12271806025750628,
          0.15143908562925879,
          0.14842198790960123,
          0.13805406086214692,
          0.15145676651824214
         ],
         "xaxis": "x2",
         "y": [
          "Climate change total",
          "Carcinogenic effects",
          "Ionising radiation",
          "Non-carcinogenic effects",
          "Ozone layer depletion",
          "Photochemical ozone creation",
          "Respiratory effects, inorganics",
          "Freshwater and terrestrial acidification",
          "Freshwater ecotoxicity",
          "Freshwater eutrophication",
          "Marine eutrophication",
          "Terrestrial eutrophication",
          "Minerals and metals",
          "Dissipated water",
          "Fossil resources",
          "Land use"
         ],
         "yaxis": "y2"
        },
        {
         "marker": {
          "color": "rgb(251,154,153)"
         },
         "name": "Success rate of primary wells",
         "orientation": "h",
         "showlegend": false,
         "type": "bar",
         "x": [
          0.0001507910497630107,
          0.0669159475551802,
          0.068972964952309,
          0.0688804128658261,
          0.0714743215709784,
          0.07208762887034856,
          0.05496438997442894,
          0.06881698664867446,
          0.07770105002146489,
          0.06457306086841232,
          0.07372648167769533,
          0.07339601853583821,
          0.05155384137260285,
          0.058110165122540754,
          0.06520389066910945,
          0.052994089609635614
         ],
         "xaxis": "x2",
         "y": [
          "Climate change total",
          "Carcinogenic effects",
          "Ionising radiation",
          "Non-carcinogenic effects",
          "Ozone layer depletion",
          "Photochemical ozone creation",
          "Respiratory effects, inorganics",
          "Freshwater and terrestrial acidification",
          "Freshwater ecotoxicity",
          "Freshwater eutrophication",
          "Marine eutrophication",
          "Terrestrial eutrophication",
          "Minerals and metals",
          "Dissipated water",
          "Fossil resources",
          "Land use"
         ],
         "yaxis": "y2"
        },
        {
         "marker": {
          "color": "rgb(227,26,28)"
         },
         "name": "Lifetime",
         "orientation": "h",
         "showlegend": false,
         "type": "bar",
         "x": [
          5.512049918885186e-05,
          0.02136015250777312,
          0.022821855874844817,
          0.022289076931183482,
          0.022822467172102054,
          0.021675943670908478,
          0.02372933662851706,
          0.022970768298504723,
          0.021308638626157363,
          0.024016311381479076,
          0.021628906378760228,
          0.021500864130759256,
          0.03246413015392269,
          0.025003282827835458,
          0.02327756417646271,
          0.02617362450309384
         ],
         "xaxis": "x2",
         "y": [
          "Climate change total",
          "Carcinogenic effects",
          "Ionising radiation",
          "Non-carcinogenic effects",
          "Ozone layer depletion",
          "Photochemical ozone creation",
          "Respiratory effects, inorganics",
          "Freshwater and terrestrial acidification",
          "Freshwater ecotoxicity",
          "Freshwater eutrophication",
          "Marine eutrophication",
          "Terrestrial eutrophication",
          "Minerals and metals",
          "Dissipated water",
          "Fossil resources",
          "Land use"
         ],
         "yaxis": "y2"
        },
        {
         "marker": {
          "color": "rgb(202,178,214)"
         },
         "name": "Collection pipelines length",
         "orientation": "h",
         "showlegend": false,
         "type": "bar",
         "x": [
          1.1289299021439216e-05,
          0.003929152484287868,
          0.002141254148543608,
          0.0031859045070169994,
          0.0012779217692796112,
          0.001075669279812642,
          0.010194568071046227,
          0.002122541667006047,
          0.0007968110169484109,
          0.005131721149190223,
          0.0006390950921318232,
          0.0006961853042245405,
          0.007164307683568292,
          0.008597470461037867,
          0.004187857741464095,
          0.012402115597594715
         ],
         "xaxis": "x2",
         "y": [
          "Climate change total",
          "Carcinogenic effects",
          "Ionising radiation",
          "Non-carcinogenic effects",
          "Ozone layer depletion",
          "Photochemical ozone creation",
          "Respiratory effects, inorganics",
          "Freshwater and terrestrial acidification",
          "Freshwater ecotoxicity",
          "Freshwater eutrophication",
          "Marine eutrophication",
          "Terrestrial eutrophication",
          "Minerals and metals",
          "Dissipated water",
          "Fossil resources",
          "Land use"
         ],
         "yaxis": "y2"
        },
        {
         "marker": {
          "color": "rgb(106,61,154)"
         },
         "name": "Installed capacity",
         "orientation": "h",
         "showlegend": false,
         "type": "bar",
         "x": [
          3.7390570468457486e-05,
          0.016316542050450824,
          0.016064272196071316,
          0.016397317525781722,
          0.016081948085200585,
          0.01613347815754584,
          0.015416807538139234,
          0.016008176492885006,
          0.016852206542858433,
          0.01603572045248864,
          0.01614443997524307,
          0.016135176488716395,
          0.015411481251131329,
          0.015452734951956225,
          0.01584792615584209,
          0.01524692194119268
         ],
         "xaxis": "x2",
         "y": [
          "Climate change total",
          "Carcinogenic effects",
          "Ionising radiation",
          "Non-carcinogenic effects",
          "Ozone layer depletion",
          "Photochemical ozone creation",
          "Respiratory effects, inorganics",
          "Freshwater and terrestrial acidification",
          "Freshwater ecotoxicity",
          "Freshwater eutrophication",
          "Marine eutrophication",
          "Terrestrial eutrophication",
          "Minerals and metals",
          "Dissipated water",
          "Fossil resources",
          "Land use"
         ],
         "yaxis": "y2"
        },
        {
         "marker": {
          "color": "rgb(184,255,185)"
         },
         "name": "Capacity factor",
         "orientation": "h",
         "showlegend": false,
         "type": "bar",
         "x": [
          5.7322818998232e-06,
          0.002341105843360288,
          0.00231903621447497,
          0.002383260850484733,
          0.00227814349945214,
          0.0021910803346948653,
          0.0025777859397772213,
          0.0023193360451125066,
          0.0022313142663251827,
          0.0025342193634214274,
          0.002157635533744344,
          0.0021500393926778836,
          0.003116488596314182,
          0.002656732642360777,
          0.002424028703309411,
          0.002753150860897111
         ],
         "xaxis": "x2",
         "y": [
          "Climate change total",
          "Carcinogenic effects",
          "Ionising radiation",
          "Non-carcinogenic effects",
          "Ozone layer depletion",
          "Photochemical ozone creation",
          "Respiratory effects, inorganics",
          "Freshwater and terrestrial acidification",
          "Freshwater ecotoxicity",
          "Freshwater eutrophication",
          "Marine eutrophication",
          "Terrestrial eutrophication",
          "Minerals and metals",
          "Dissipated water",
          "Fossil resources",
          "Land use"
         ],
         "yaxis": "y2"
        },
        {
         "marker": {
          "color": "rgb(30,221,109)"
         },
         "name": "Auxiliary power",
         "orientation": "h",
         "showlegend": false,
         "type": "bar",
         "x": [
          1.8332965768220027e-07,
          7.449841165200933e-05,
          7.310779466832582e-05,
          7.558482816463313e-05,
          7.123218695631493e-05,
          6.822366395599183e-05,
          8.421071206129577e-05,
          7.304083965832713e-05,
          6.89511611561282e-05,
          8.126923627112472e-05,
          6.682082820072182e-05,
          6.659905714975578e-05,
          0.00010381261225337769,
          8.638852178118706e-05,
          7.710459218263408e-05,
          9.040117098890388e-05
         ],
         "xaxis": "x2",
         "y": [
          "Climate change total",
          "Carcinogenic effects",
          "Ionising radiation",
          "Non-carcinogenic effects",
          "Ozone layer depletion",
          "Photochemical ozone creation",
          "Respiratory effects, inorganics",
          "Freshwater and terrestrial acidification",
          "Freshwater ecotoxicity",
          "Freshwater eutrophication",
          "Marine eutrophication",
          "Terrestrial eutrophication",
          "Minerals and metals",
          "Dissipated water",
          "Fossil resources",
          "Land use"
         ],
         "yaxis": "y2"
        },
        {
         "marker": {
          "color": "rgb(255,127,0)"
         },
         "name": "Specific diesel consumption",
         "orientation": "h",
         "showlegend": false,
         "type": "bar",
         "x": [
          1.3409859749775536e-05,
          2.660032668861556e-07,
          0.013722221059724397,
          7.850503021592983e-06,
          0.018335938632119377,
          0.020227211330069664,
          0.0005777573272916875,
          0.01616545993809536,
          3.968250126901179e-06,
          6.9454285731757625e-06,
          0.024387255353019575,
          0.024729351396588748,
          1.4456226069148898e-05,
          2.229342062049981e-05,
          0.005251088959029617,
          0.00010171008971899754
         ],
         "xaxis": "x2",
         "y": [
          "Climate change total",
          "Carcinogenic effects",
          "Ionising radiation",
          "Non-carcinogenic effects",
          "Ozone layer depletion",
          "Photochemical ozone creation",
          "Respiratory effects, inorganics",
          "Freshwater and terrestrial acidification",
          "Freshwater ecotoxicity",
          "Freshwater eutrophication",
          "Marine eutrophication",
          "Terrestrial eutrophication",
          "Minerals and metals",
          "Dissipated water",
          "Fossil resources",
          "Land use"
         ],
         "yaxis": "y2"
        },
        {
         "marker": {
          "color": "rgb(248,114,225)"
         },
         "name": "Specific steel consumption",
         "orientation": "h",
         "showlegend": false,
         "type": "bar",
         "x": [
          1.5121798293410989e-05,
          0.012570656619693431,
          0.0032000355105170453,
          0.009334243322673364,
          0.0015084885446790704,
          0.0015975172647030933,
          0.016842924696316812,
          0.0023640953522838016,
          0.0022955614788549347,
          0.011054782385128525,
          0.0007757167104433292,
          0.0007462310279087751,
          0.004575894093115069,
          0.018890867220256003,
          0.006582272782965343,
          0.011966414737307082
         ],
         "xaxis": "x2",
         "y": [
          "Climate change total",
          "Carcinogenic effects",
          "Ionising radiation",
          "Non-carcinogenic effects",
          "Ozone layer depletion",
          "Photochemical ozone creation",
          "Respiratory effects, inorganics",
          "Freshwater and terrestrial acidification",
          "Freshwater ecotoxicity",
          "Freshwater eutrophication",
          "Marine eutrophication",
          "Terrestrial eutrophication",
          "Minerals and metals",
          "Dissipated water",
          "Fossil resources",
          "Land use"
         ],
         "yaxis": "y2"
        },
        {
         "marker": {
          "color": "rgb(137,231,255)"
         },
         "name": "Specific cement consumption",
         "orientation": "h",
         "showlegend": false,
         "type": "bar",
         "x": [
          4.3760586938377486e-07,
          5.95929308733897e-08,
          2.751701361160277e-05,
          1.526624531548525e-06,
          1.64403865915286e-05,
          1.0248257729297836e-05,
          2.969595432414077e-05,
          2.0231419315803288e-05,
          1.6357689328256706e-07,
          1.4332336948240103e-05,
          1.198609850706413e-05,
          1.354016939998205e-05,
          0.0054522710549872785,
          1.1759816186005234e-05,
          2.44172417762209e-05,
          0.0001639753921023157
         ],
         "xaxis": "x2",
         "y": [
          "Climate change total",
          "Carcinogenic effects",
          "Ionising radiation",
          "Non-carcinogenic effects",
          "Ozone layer depletion",
          "Photochemical ozone creation",
          "Respiratory effects, inorganics",
          "Freshwater and terrestrial acidification",
          "Freshwater ecotoxicity",
          "Freshwater eutrophication",
          "Marine eutrophication",
          "Terrestrial eutrophication",
          "Minerals and metals",
          "Dissipated water",
          "Fossil resources",
          "Land use"
         ],
         "yaxis": "y2"
        },
        {
         "marker": {
          "color": "rgb(255,255,153)"
         },
         "name": "Specific drilling mud consumption",
         "orientation": "h",
         "showlegend": false,
         "type": "bar",
         "x": [
          2.650238335991415e-07,
          3.69140230679901e-07,
          3.570379379928712e-05,
          5.5255188947382705e-06,
          7.750528722992875e-05,
          2.525319538726843e-05,
          8.398592515218105e-05,
          3.5988881340785985e-05,
          1.4376970850505237e-06,
          0.0001455562437748864,
          1.9393096868012074e-05,
          1.0025880484452505e-05,
          4.61214034189123e-05,
          0.0008534721468512723,
          0.0005174328282125727,
          8.08070542919547e-05
         ],
         "xaxis": "x2",
         "y": [
          "Climate change total",
          "Carcinogenic effects",
          "Ionising radiation",
          "Non-carcinogenic effects",
          "Ozone layer depletion",
          "Photochemical ozone creation",
          "Respiratory effects, inorganics",
          "Freshwater and terrestrial acidification",
          "Freshwater ecotoxicity",
          "Freshwater eutrophication",
          "Marine eutrophication",
          "Terrestrial eutrophication",
          "Minerals and metals",
          "Dissipated water",
          "Fossil resources",
          "Land use"
         ],
         "yaxis": "y2"
        },
        {
         "marker": {
          "color": "rgb(25, 94, 242)"
         },
         "name": "Production to injection ratio",
         "orientation": "h",
         "showlegend": false,
         "type": "bar",
         "x": [
          2.201053695681868e-05,
          0.009363823934480608,
          0.00911498051509568,
          0.00928293076428878,
          0.008975911876566411,
          0.00896454495050301,
          0.009620783177143977,
          0.00908388640972343,
          0.00898041081910043,
          0.009372632915890789,
          0.008864745428330512,
          0.008873053717234857,
          0.009485270712562268,
          0.009523403219158908,
          0.009287093532287809,
          0.009619934769821032
         ],
         "xaxis": "x2",
         "y": [
          "Climate change total",
          "Carcinogenic effects",
          "Ionising radiation",
          "Non-carcinogenic effects",
          "Ozone layer depletion",
          "Photochemical ozone creation",
          "Respiratory effects, inorganics",
          "Freshwater and terrestrial acidification",
          "Freshwater ecotoxicity",
          "Freshwater eutrophication",
          "Marine eutrophication",
          "Terrestrial eutrophication",
          "Minerals and metals",
          "Dissipated water",
          "Fossil resources",
          "Land use"
         ],
         "yaxis": "y2"
        },
        {
         "marker": {
          "color": "rgb(20, 121, 132)"
         },
         "name": "Success rate of exploration wells",
         "orientation": "h",
         "showlegend": false,
         "type": "bar",
         "x": [
          3.836659294974712e-06,
          0.001713964195667284,
          0.0017689623153810596,
          0.001724443069619535,
          0.0018068403239629876,
          0.0018415374166658122,
          0.0014696928695829988,
          0.0017608212845882237,
          0.001821289297727903,
          0.0016197345193625593,
          0.0018699813479464628,
          0.0018642878626215244,
          0.0011445566758036794,
          0.0015073227310032399,
          0.0016487105868519055,
          0.0013538930596892244
         ],
         "xaxis": "x2",
         "y": [
          "Climate change total",
          "Carcinogenic effects",
          "Ionising radiation",
          "Non-carcinogenic effects",
          "Ozone layer depletion",
          "Photochemical ozone creation",
          "Respiratory effects, inorganics",
          "Freshwater and terrestrial acidification",
          "Freshwater ecotoxicity",
          "Freshwater eutrophication",
          "Marine eutrophication",
          "Terrestrial eutrophication",
          "Minerals and metals",
          "Dissipated water",
          "Fossil resources",
          "Land use"
         ],
         "yaxis": "y2"
        },
        {
         "marker": {
          "color": "rgb(199, 150, 162)"
         },
         "name": "Success rate of makeup wells",
         "orientation": "h",
         "showlegend": false,
         "type": "bar",
         "x": [
          2.872413546887168e-05,
          0.012963001860845445,
          0.013296713163131774,
          0.01338893957810253,
          0.01383411529882257,
          0.013957015769153652,
          0.010440242001534308,
          0.013288246184343535,
          0.015344235678713396,
          0.012459199764966187,
          0.014299960281757371,
          0.014234747862859791,
          0.009236815207501942,
          0.011054093234004624,
          0.012516446263431,
          0.010061104808023353
         ],
         "xaxis": "x2",
         "y": [
          "Climate change total",
          "Carcinogenic effects",
          "Ionising radiation",
          "Non-carcinogenic effects",
          "Ozone layer depletion",
          "Photochemical ozone creation",
          "Respiratory effects, inorganics",
          "Freshwater and terrestrial acidification",
          "Freshwater ecotoxicity",
          "Freshwater eutrophication",
          "Marine eutrophication",
          "Terrestrial eutrophication",
          "Minerals and metals",
          "Dissipated water",
          "Fossil resources",
          "Land use"
         ],
         "yaxis": "y2"
        }
       ],
       "layout": {
        "barmode": "stack",
        "font": {
         "color": "black",
         "family": "Arial",
         "size": 18
        },
        "height": 500,
        "legend": {
         "traceorder": "normal"
        },
        "margin": {
         "b": 0,
         "l": 0,
         "r": 0,
         "t": 0
        },
        "template": {
         "data": {
          "bar": [
           {
            "error_x": {
             "color": "#2a3f5f"
            },
            "error_y": {
             "color": "#2a3f5f"
            },
            "marker": {
             "line": {
              "color": "#E5ECF6",
              "width": 0.5
             }
            },
            "type": "bar"
           }
          ],
          "barpolar": [
           {
            "marker": {
             "line": {
              "color": "#E5ECF6",
              "width": 0.5
             }
            },
            "type": "barpolar"
           }
          ],
          "carpet": [
           {
            "aaxis": {
             "endlinecolor": "#2a3f5f",
             "gridcolor": "white",
             "linecolor": "white",
             "minorgridcolor": "white",
             "startlinecolor": "#2a3f5f"
            },
            "baxis": {
             "endlinecolor": "#2a3f5f",
             "gridcolor": "white",
             "linecolor": "white",
             "minorgridcolor": "white",
             "startlinecolor": "#2a3f5f"
            },
            "type": "carpet"
           }
          ],
          "choropleth": [
           {
            "colorbar": {
             "outlinewidth": 0,
             "ticks": ""
            },
            "type": "choropleth"
           }
          ],
          "contour": [
           {
            "colorbar": {
             "outlinewidth": 0,
             "ticks": ""
            },
            "colorscale": [
             [
              0,
              "#0d0887"
             ],
             [
              0.1111111111111111,
              "#46039f"
             ],
             [
              0.2222222222222222,
              "#7201a8"
             ],
             [
              0.3333333333333333,
              "#9c179e"
             ],
             [
              0.4444444444444444,
              "#bd3786"
             ],
             [
              0.5555555555555556,
              "#d8576b"
             ],
             [
              0.6666666666666666,
              "#ed7953"
             ],
             [
              0.7777777777777778,
              "#fb9f3a"
             ],
             [
              0.8888888888888888,
              "#fdca26"
             ],
             [
              1,
              "#f0f921"
             ]
            ],
            "type": "contour"
           }
          ],
          "contourcarpet": [
           {
            "colorbar": {
             "outlinewidth": 0,
             "ticks": ""
            },
            "type": "contourcarpet"
           }
          ],
          "heatmap": [
           {
            "colorbar": {
             "outlinewidth": 0,
             "ticks": ""
            },
            "colorscale": [
             [
              0,
              "#0d0887"
             ],
             [
              0.1111111111111111,
              "#46039f"
             ],
             [
              0.2222222222222222,
              "#7201a8"
             ],
             [
              0.3333333333333333,
              "#9c179e"
             ],
             [
              0.4444444444444444,
              "#bd3786"
             ],
             [
              0.5555555555555556,
              "#d8576b"
             ],
             [
              0.6666666666666666,
              "#ed7953"
             ],
             [
              0.7777777777777778,
              "#fb9f3a"
             ],
             [
              0.8888888888888888,
              "#fdca26"
             ],
             [
              1,
              "#f0f921"
             ]
            ],
            "type": "heatmap"
           }
          ],
          "heatmapgl": [
           {
            "colorbar": {
             "outlinewidth": 0,
             "ticks": ""
            },
            "colorscale": [
             [
              0,
              "#0d0887"
             ],
             [
              0.1111111111111111,
              "#46039f"
             ],
             [
              0.2222222222222222,
              "#7201a8"
             ],
             [
              0.3333333333333333,
              "#9c179e"
             ],
             [
              0.4444444444444444,
              "#bd3786"
             ],
             [
              0.5555555555555556,
              "#d8576b"
             ],
             [
              0.6666666666666666,
              "#ed7953"
             ],
             [
              0.7777777777777778,
              "#fb9f3a"
             ],
             [
              0.8888888888888888,
              "#fdca26"
             ],
             [
              1,
              "#f0f921"
             ]
            ],
            "type": "heatmapgl"
           }
          ],
          "histogram": [
           {
            "marker": {
             "colorbar": {
              "outlinewidth": 0,
              "ticks": ""
             }
            },
            "type": "histogram"
           }
          ],
          "histogram2d": [
           {
            "colorbar": {
             "outlinewidth": 0,
             "ticks": ""
            },
            "colorscale": [
             [
              0,
              "#0d0887"
             ],
             [
              0.1111111111111111,
              "#46039f"
             ],
             [
              0.2222222222222222,
              "#7201a8"
             ],
             [
              0.3333333333333333,
              "#9c179e"
             ],
             [
              0.4444444444444444,
              "#bd3786"
             ],
             [
              0.5555555555555556,
              "#d8576b"
             ],
             [
              0.6666666666666666,
              "#ed7953"
             ],
             [
              0.7777777777777778,
              "#fb9f3a"
             ],
             [
              0.8888888888888888,
              "#fdca26"
             ],
             [
              1,
              "#f0f921"
             ]
            ],
            "type": "histogram2d"
           }
          ],
          "histogram2dcontour": [
           {
            "colorbar": {
             "outlinewidth": 0,
             "ticks": ""
            },
            "colorscale": [
             [
              0,
              "#0d0887"
             ],
             [
              0.1111111111111111,
              "#46039f"
             ],
             [
              0.2222222222222222,
              "#7201a8"
             ],
             [
              0.3333333333333333,
              "#9c179e"
             ],
             [
              0.4444444444444444,
              "#bd3786"
             ],
             [
              0.5555555555555556,
              "#d8576b"
             ],
             [
              0.6666666666666666,
              "#ed7953"
             ],
             [
              0.7777777777777778,
              "#fb9f3a"
             ],
             [
              0.8888888888888888,
              "#fdca26"
             ],
             [
              1,
              "#f0f921"
             ]
            ],
            "type": "histogram2dcontour"
           }
          ],
          "mesh3d": [
           {
            "colorbar": {
             "outlinewidth": 0,
             "ticks": ""
            },
            "type": "mesh3d"
           }
          ],
          "parcoords": [
           {
            "line": {
             "colorbar": {
              "outlinewidth": 0,
              "ticks": ""
             }
            },
            "type": "parcoords"
           }
          ],
          "pie": [
           {
            "automargin": true,
            "type": "pie"
           }
          ],
          "scatter": [
           {
            "marker": {
             "colorbar": {
              "outlinewidth": 0,
              "ticks": ""
             }
            },
            "type": "scatter"
           }
          ],
          "scatter3d": [
           {
            "line": {
             "colorbar": {
              "outlinewidth": 0,
              "ticks": ""
             }
            },
            "marker": {
             "colorbar": {
              "outlinewidth": 0,
              "ticks": ""
             }
            },
            "type": "scatter3d"
           }
          ],
          "scattercarpet": [
           {
            "marker": {
             "colorbar": {
              "outlinewidth": 0,
              "ticks": ""
             }
            },
            "type": "scattercarpet"
           }
          ],
          "scattergeo": [
           {
            "marker": {
             "colorbar": {
              "outlinewidth": 0,
              "ticks": ""
             }
            },
            "type": "scattergeo"
           }
          ],
          "scattergl": [
           {
            "marker": {
             "colorbar": {
              "outlinewidth": 0,
              "ticks": ""
             }
            },
            "type": "scattergl"
           }
          ],
          "scattermapbox": [
           {
            "marker": {
             "colorbar": {
              "outlinewidth": 0,
              "ticks": ""
             }
            },
            "type": "scattermapbox"
           }
          ],
          "scatterpolar": [
           {
            "marker": {
             "colorbar": {
              "outlinewidth": 0,
              "ticks": ""
             }
            },
            "type": "scatterpolar"
           }
          ],
          "scatterpolargl": [
           {
            "marker": {
             "colorbar": {
              "outlinewidth": 0,
              "ticks": ""
             }
            },
            "type": "scatterpolargl"
           }
          ],
          "scatterternary": [
           {
            "marker": {
             "colorbar": {
              "outlinewidth": 0,
              "ticks": ""
             }
            },
            "type": "scatterternary"
           }
          ],
          "surface": [
           {
            "colorbar": {
             "outlinewidth": 0,
             "ticks": ""
            },
            "colorscale": [
             [
              0,
              "#0d0887"
             ],
             [
              0.1111111111111111,
              "#46039f"
             ],
             [
              0.2222222222222222,
              "#7201a8"
             ],
             [
              0.3333333333333333,
              "#9c179e"
             ],
             [
              0.4444444444444444,
              "#bd3786"
             ],
             [
              0.5555555555555556,
              "#d8576b"
             ],
             [
              0.6666666666666666,
              "#ed7953"
             ],
             [
              0.7777777777777778,
              "#fb9f3a"
             ],
             [
              0.8888888888888888,
              "#fdca26"
             ],
             [
              1,
              "#f0f921"
             ]
            ],
            "type": "surface"
           }
          ],
          "table": [
           {
            "cells": {
             "fill": {
              "color": "#EBF0F8"
             },
             "line": {
              "color": "white"
             }
            },
            "header": {
             "fill": {
              "color": "#C8D4E3"
             },
             "line": {
              "color": "white"
             }
            },
            "type": "table"
           }
          ]
         },
         "layout": {
          "annotationdefaults": {
           "arrowcolor": "#2a3f5f",
           "arrowhead": 0,
           "arrowwidth": 1
          },
          "coloraxis": {
           "colorbar": {
            "outlinewidth": 0,
            "ticks": ""
           }
          },
          "colorscale": {
           "diverging": [
            [
             0,
             "#8e0152"
            ],
            [
             0.1,
             "#c51b7d"
            ],
            [
             0.2,
             "#de77ae"
            ],
            [
             0.3,
             "#f1b6da"
            ],
            [
             0.4,
             "#fde0ef"
            ],
            [
             0.5,
             "#f7f7f7"
            ],
            [
             0.6,
             "#e6f5d0"
            ],
            [
             0.7,
             "#b8e186"
            ],
            [
             0.8,
             "#7fbc41"
            ],
            [
             0.9,
             "#4d9221"
            ],
            [
             1,
             "#276419"
            ]
           ],
           "sequential": [
            [
             0,
             "#0d0887"
            ],
            [
             0.1111111111111111,
             "#46039f"
            ],
            [
             0.2222222222222222,
             "#7201a8"
            ],
            [
             0.3333333333333333,
             "#9c179e"
            ],
            [
             0.4444444444444444,
             "#bd3786"
            ],
            [
             0.5555555555555556,
             "#d8576b"
            ],
            [
             0.6666666666666666,
             "#ed7953"
            ],
            [
             0.7777777777777778,
             "#fb9f3a"
            ],
            [
             0.8888888888888888,
             "#fdca26"
            ],
            [
             1,
             "#f0f921"
            ]
           ],
           "sequentialminus": [
            [
             0,
             "#0d0887"
            ],
            [
             0.1111111111111111,
             "#46039f"
            ],
            [
             0.2222222222222222,
             "#7201a8"
            ],
            [
             0.3333333333333333,
             "#9c179e"
            ],
            [
             0.4444444444444444,
             "#bd3786"
            ],
            [
             0.5555555555555556,
             "#d8576b"
            ],
            [
             0.6666666666666666,
             "#ed7953"
            ],
            [
             0.7777777777777778,
             "#fb9f3a"
            ],
            [
             0.8888888888888888,
             "#fdca26"
            ],
            [
             1,
             "#f0f921"
            ]
           ]
          },
          "colorway": [
           "#636efa",
           "#EF553B",
           "#00cc96",
           "#ab63fa",
           "#FFA15A",
           "#19d3f3",
           "#FF6692",
           "#B6E880",
           "#FF97FF",
           "#FECB52"
          ],
          "font": {
           "color": "#2a3f5f"
          },
          "geo": {
           "bgcolor": "white",
           "lakecolor": "white",
           "landcolor": "#E5ECF6",
           "showlakes": true,
           "showland": true,
           "subunitcolor": "white"
          },
          "hoverlabel": {
           "align": "left"
          },
          "hovermode": "closest",
          "mapbox": {
           "style": "light"
          },
          "paper_bgcolor": "white",
          "plot_bgcolor": "#E5ECF6",
          "polar": {
           "angularaxis": {
            "gridcolor": "white",
            "linecolor": "white",
            "ticks": ""
           },
           "bgcolor": "#E5ECF6",
           "radialaxis": {
            "gridcolor": "white",
            "linecolor": "white",
            "ticks": ""
           }
          },
          "scene": {
           "xaxis": {
            "backgroundcolor": "#E5ECF6",
            "gridcolor": "white",
            "gridwidth": 2,
            "linecolor": "white",
            "showbackground": true,
            "ticks": "",
            "zerolinecolor": "white"
           },
           "yaxis": {
            "backgroundcolor": "#E5ECF6",
            "gridcolor": "white",
            "gridwidth": 2,
            "linecolor": "white",
            "showbackground": true,
            "ticks": "",
            "zerolinecolor": "white"
           },
           "zaxis": {
            "backgroundcolor": "#E5ECF6",
            "gridcolor": "white",
            "gridwidth": 2,
            "linecolor": "white",
            "showbackground": true,
            "ticks": "",
            "zerolinecolor": "white"
           }
          },
          "shapedefaults": {
           "line": {
            "color": "#2a3f5f"
           }
          },
          "ternary": {
           "aaxis": {
            "gridcolor": "white",
            "linecolor": "white",
            "ticks": ""
           },
           "baxis": {
            "gridcolor": "white",
            "linecolor": "white",
            "ticks": ""
           },
           "bgcolor": "#E5ECF6",
           "caxis": {
            "gridcolor": "white",
            "linecolor": "white",
            "ticks": ""
           }
          },
          "title": {
           "x": 0.05
          },
          "xaxis": {
           "automargin": true,
           "gridcolor": "white",
           "linecolor": "white",
           "ticks": "",
           "title": {
            "standoff": 15
           },
           "zerolinecolor": "white",
           "zerolinewidth": 2
          },
          "yaxis": {
           "automargin": true,
           "gridcolor": "white",
           "linecolor": "white",
           "ticks": "",
           "title": {
            "standoff": 15
           },
           "zerolinecolor": "white",
           "zerolinewidth": 2
          }
         }
        },
        "width": 1600,
        "xaxis": {
         "anchor": "y",
         "domain": [
          0,
          0.4825
         ],
         "range": [
          0,
          1.42
         ],
         "tickmode": "array",
         "ticktext": [
          0,
          0.2,
          0.4,
          0.6,
          0.8,
          1,
          1.2,
          1.4
         ],
         "tickvals": [
          0,
          0.2,
          0.4,
          0.6,
          0.8,
          1,
          1.2,
          1.4
         ]
        },
        "xaxis2": {
         "anchor": "y2",
         "domain": [
          0.5175,
          1
         ],
         "range": [
          0,
          1.42
         ],
         "tickmode": "array",
         "ticktext": [
          0,
          0.2,
          0.4,
          0.6,
          0.8,
          1,
          1.2,
          1.4
         ],
         "tickvals": [
          0,
          0.2,
          0.4,
          0.6,
          0.8,
          1,
          1.2,
          1.4
         ]
        },
        "yaxis": {
         "anchor": "x",
         "autorange": "reversed",
         "domain": [
          0,
          1
         ]
        },
        "yaxis2": {
         "anchor": "x2",
         "domain": [
          0,
          1
         ],
         "matches": "y",
         "showticklabels": false
        }
       }
      },
      "text/html": [
       "<div>\n",
       "        \n",
       "        \n",
       "            <div id=\"e9a225a5-4faa-47f2-8cac-cd682a86f65a\" class=\"plotly-graph-div\" style=\"height:500px; width:1600px;\"></div>\n",
       "            <script type=\"text/javascript\">\n",
       "                require([\"plotly\"], function(Plotly) {\n",
       "                    window.PLOTLYENV=window.PLOTLYENV || {};\n",
       "                    \n",
       "                if (document.getElementById(\"e9a225a5-4faa-47f2-8cac-cd682a86f65a\")) {\n",
       "                    Plotly.newPlot(\n",
       "                        'e9a225a5-4faa-47f2-8cac-cd682a86f65a',\n",
       "                        [{\"marker\": {\"color\": \"rgb(166,206,227)\"}, \"name\": \"Direct CO2 emissions\", \"orientation\": \"h\", \"showlegend\": true, \"type\": \"bar\", \"x\": [0.9481412787385133, 0.0, 0.0, 0.0, 0.0, 0.0, 0.0, 0.0, 0.0, 0.0, 0.0, 0.0, 0.0, 0.0, 0.0, 0.0], \"xaxis\": \"x\", \"y\": [\"Climate change total\", \"Carcinogenic effects\", \"Ionising radiation\", \"Non-carcinogenic effects\", \"Ozone layer depletion\", \"Photochemical ozone creation\", \"Respiratory effects, inorganics\", \"Freshwater and terrestrial acidification\", \"Freshwater ecotoxicity\", \"Freshwater eutrophication\", \"Marine eutrophication\", \"Terrestrial eutrophication\", \"Minerals and metals\", \"Dissipated water\", \"Fossil resources\", \"Land use\"], \"yaxis\": \"y\"}, {\"marker\": {\"color\": \"rgb(31,120,180)\"}, \"name\": \"Gross power per well\", \"orientation\": \"h\", \"showlegend\": true, \"type\": \"bar\", \"x\": [0.0010284721030654632, 0.6326463641704636, 0.6072230901185997, 0.6262094865372788, 0.5927987978174116, 0.5890741040834212, 0.6673366698019478, 0.6046828680846723, 0.5963388883725674, 0.6395634237341649, 0.5781927678365097, 0.5790494911387742, 0.6950385479144834, 0.6559743998130163, 0.6301241047767763, 0.6756435502602207], \"xaxis\": \"x\", \"y\": [\"Climate change total\", \"Carcinogenic effects\", \"Ionising radiation\", \"Non-carcinogenic effects\", \"Ozone layer depletion\", \"Photochemical ozone creation\", \"Respiratory effects, inorganics\", \"Freshwater and terrestrial acidification\", \"Freshwater ecotoxicity\", \"Freshwater eutrophication\", \"Marine eutrophication\", \"Terrestrial eutrophication\", \"Minerals and metals\", \"Dissipated water\", \"Fossil resources\", \"Land use\"], \"yaxis\": \"y\"}, {\"marker\": {\"color\": \"rgb(178,223,138)\"}, \"name\": \"Average depth of wells\", \"orientation\": \"h\", \"showlegend\": true, \"type\": \"bar\", \"x\": [0.002242899231312298, 0.1956061835968417, 0.20782430332350332, 0.2021938681034296, 0.21642185130486258, 0.2188574106286667, 0.1585110011311047, 0.20793294083606245, 0.23056838797023999, 0.1877113984443874, 0.2247315953811216, 0.22383713800496166, 0.14757312031420852, 0.16512182116210544, 0.19200666182056886, 0.15281601726298052], \"xaxis\": \"x\", \"y\": [\"Climate change total\", \"Carcinogenic effects\", \"Ionising radiation\", \"Non-carcinogenic effects\", \"Ozone layer depletion\", \"Photochemical ozone creation\", \"Respiratory effects, inorganics\", \"Freshwater and terrestrial acidification\", \"Freshwater ecotoxicity\", \"Freshwater eutrophication\", \"Marine eutrophication\", \"Terrestrial eutrophication\", \"Minerals and metals\", \"Dissipated water\", \"Fossil resources\", \"Land use\"], \"yaxis\": \"y\"}, {\"marker\": {\"color\": \"rgb(51,160,44)\"}, \"name\": \"Initial harmonic decline rate\", \"orientation\": \"h\", \"showlegend\": true, \"type\": \"bar\", \"x\": [0.001097824589927455, 0.07113956767952989, 0.06963717297304207, 0.0705996260881441, 0.0679529336915211, 0.0674327078859381, 0.07592811657726493, 0.06964761627457858, 0.06739569494260454, 0.07219007526237899, 0.0661627018352241, 0.0663786171660175, 0.08070744321495199, 0.07331416676996234, 0.0717024168115244, 0.0778119739328094], \"xaxis\": \"x\", \"y\": [\"Climate change total\", \"Carcinogenic effects\", \"Ionising radiation\", \"Non-carcinogenic effects\", \"Ozone layer depletion\", \"Photochemical ozone creation\", \"Respiratory effects, inorganics\", \"Freshwater and terrestrial acidification\", \"Freshwater ecotoxicity\", \"Freshwater eutrophication\", \"Marine eutrophication\", \"Terrestrial eutrophication\", \"Minerals and metals\", \"Dissipated water\", \"Fossil resources\", \"Land use\"], \"yaxis\": \"y\"}, {\"marker\": {\"color\": \"rgb(251,154,153)\"}, \"name\": \"Success rate of primary wells\", \"orientation\": \"h\", \"showlegend\": true, \"type\": \"bar\", \"x\": [-1.4877651973413642e-05, 0.037473131093073264, 0.039812153526880466, 0.03875805153286738, 0.0414296815010564, 0.04174477701634294, 0.03121087280714198, 0.03991749380791647, 0.04403047973025234, 0.03632462861511406, 0.04285379670299003, 0.04270653076987648, 0.030120006323437337, 0.03220050983153339, 0.03703036872231954, 0.030609471101774983], \"xaxis\": \"x\", \"y\": [\"Climate change total\", \"Carcinogenic effects\", \"Ionising radiation\", \"Non-carcinogenic effects\", \"Ozone layer depletion\", \"Photochemical ozone creation\", \"Respiratory effects, inorganics\", \"Freshwater and terrestrial acidification\", \"Freshwater ecotoxicity\", \"Freshwater eutrophication\", \"Marine eutrophication\", \"Terrestrial eutrophication\", \"Minerals and metals\", \"Dissipated water\", \"Fossil resources\", \"Land use\"], \"yaxis\": \"y\"}, {\"marker\": {\"color\": \"rgb(227,26,28)\"}, \"name\": \"Lifetime\", \"orientation\": \"h\", \"showlegend\": true, \"type\": \"bar\", \"x\": [0.000280536676860704, 0.012657385840186821, 0.012984110918639373, 0.013407140674632684, 0.012937578998287609, 0.01208962623467056, 0.013897634104772905, 0.013032453340577819, 0.012959262367596034, 0.014522960296425347, 0.012041972260073548, 0.011934229336854903, 0.021003856891053236, 0.014926839075084825, 0.013310607946686833, 0.015901700998087222], \"xaxis\": \"x\", \"y\": [\"Climate change total\", \"Carcinogenic effects\", \"Ionising radiation\", \"Non-carcinogenic effects\", \"Ozone layer depletion\", \"Photochemical ozone creation\", \"Respiratory effects, inorganics\", \"Freshwater and terrestrial acidification\", \"Freshwater ecotoxicity\", \"Freshwater eutrophication\", \"Marine eutrophication\", \"Terrestrial eutrophication\", \"Minerals and metals\", \"Dissipated water\", \"Fossil resources\", \"Land use\"], \"yaxis\": \"y\"}, {\"marker\": {\"color\": \"rgb(202,178,214)\"}, \"name\": \"Collection pipelines length\", \"orientation\": \"h\", \"showlegend\": true, \"type\": \"bar\", \"x\": [4.1461593912032376e-05, 0.0050418516609425, 0.0032382116212722376, 0.0042917840096185125, 0.00227374076001886, 0.002045573477305981, 0.010219052608213796, 0.003202672103846229, 0.0016245890988728325, 0.006040396798342399, 0.001460036863361151, 0.001537626404663106, 0.006502492466648253, 0.009053591496901244, 0.005202514458356021, 0.011585353787738398], \"xaxis\": \"x\", \"y\": [\"Climate change total\", \"Carcinogenic effects\", \"Ionising radiation\", \"Non-carcinogenic effects\", \"Ozone layer depletion\", \"Photochemical ozone creation\", \"Respiratory effects, inorganics\", \"Freshwater and terrestrial acidification\", \"Freshwater ecotoxicity\", \"Freshwater eutrophication\", \"Marine eutrophication\", \"Terrestrial eutrophication\", \"Minerals and metals\", \"Dissipated water\", \"Fossil resources\", \"Land use\"], \"yaxis\": \"y\"}, {\"marker\": {\"color\": \"rgb(106,61,154)\"}, \"name\": \"Installed capacity\", \"orientation\": \"h\", \"showlegend\": true, \"type\": \"bar\", \"x\": [-0.00011682105446902883, 0.007489668719755025, 0.006806177135763924, 0.007368332856502596, 0.006551017398690753, 0.0065724002748885554, 0.007454424467709167, 0.006696219215092281, 0.006980262007218194, 0.007360059071587835, 0.006389291112223598, 0.006390836322728412, 0.006994344908999959, 0.007425120077266883, 0.007052742657621265, 0.007305474947540023], \"xaxis\": \"x\", \"y\": [\"Climate change total\", \"Carcinogenic effects\", \"Ionising radiation\", \"Non-carcinogenic effects\", \"Ozone layer depletion\", \"Photochemical ozone creation\", \"Respiratory effects, inorganics\", \"Freshwater and terrestrial acidification\", \"Freshwater ecotoxicity\", \"Freshwater eutrophication\", \"Marine eutrophication\", \"Terrestrial eutrophication\", \"Minerals and metals\", \"Dissipated water\", \"Fossil resources\", \"Land use\"], \"yaxis\": \"y\"}, {\"marker\": {\"color\": \"rgb(184,255,185)\"}, \"name\": \"Capacity factor\", \"orientation\": \"h\", \"showlegend\": true, \"type\": \"bar\", \"x\": [-2.8932339135291335e-05, -0.0007098063105689939, -0.0006877707894916266, -0.000682202117411053, -0.0006265974439381012, -0.0005949235809381378, -0.0008929175386141943, -0.0006801278177011343, -0.0005025204267813603, -0.0007689914546059705, -0.0005389391865353647, -0.0005395672600667881, -0.0008409507878436003, -0.0009245218902161897, -0.000813099384014538, -0.0008569468673220455], \"xaxis\": \"x\", \"y\": [\"Climate change total\", \"Carcinogenic effects\", \"Ionising radiation\", \"Non-carcinogenic effects\", \"Ozone layer depletion\", \"Photochemical ozone creation\", \"Respiratory effects, inorganics\", \"Freshwater and terrestrial acidification\", \"Freshwater ecotoxicity\", \"Freshwater eutrophication\", \"Marine eutrophication\", \"Terrestrial eutrophication\", \"Minerals and metals\", \"Dissipated water\", \"Fossil resources\", \"Land use\"], \"yaxis\": \"y\"}, {\"marker\": {\"color\": \"rgb(30,221,109)\"}, \"name\": \"Auxiliary power\", \"orientation\": \"h\", \"showlegend\": true, \"type\": \"bar\", \"x\": [-6.163624194998529e-06, 0.0002424022429626643, 0.00024009642407857824, 0.00023094813343859752, 0.0002209199120907815, 0.00021216645210112099, 0.00034619722192295085, 0.00024003443660595473, 0.0001589254458012074, 0.00027050243167873913, 0.00019881903291850094, 0.0001996832073902545, 0.00036852414294075343, 0.0003297442686866335, 0.00027113409571010696, 0.0003645656843495492], \"xaxis\": \"x\", \"y\": [\"Climate change total\", \"Carcinogenic effects\", \"Ionising radiation\", \"Non-carcinogenic effects\", \"Ozone layer depletion\", \"Photochemical ozone creation\", \"Respiratory effects, inorganics\", \"Freshwater and terrestrial acidification\", \"Freshwater ecotoxicity\", \"Freshwater eutrophication\", \"Marine eutrophication\", \"Terrestrial eutrophication\", \"Minerals and metals\", \"Dissipated water\", \"Fossil resources\", \"Land use\"], \"yaxis\": \"y\"}, {\"marker\": {\"color\": \"rgb(255,127,0)\"}, \"name\": \"Specific diesel consumption\", \"orientation\": \"h\", \"showlegend\": true, \"type\": \"bar\", \"x\": [7.036809664071767e-05, 2.7810077902688684e-06, 0.007928209017664799, 2.091156656610308e-05, 0.010696949197987084, 0.011810056580066142, 0.0002551458267685423, 0.009279536485476619, 2.2882250158954246e-05, 1.2647350564803194e-05, 0.014265261429103651, 0.014415958693434578, -4.331229137786199e-05, 1.3773435700691534e-05, 0.003046653857026467, 6.33153839836713e-06], \"xaxis\": \"x\", \"y\": [\"Climate change total\", \"Carcinogenic effects\", \"Ionising radiation\", \"Non-carcinogenic effects\", \"Ozone layer depletion\", \"Photochemical ozone creation\", \"Respiratory effects, inorganics\", \"Freshwater and terrestrial acidification\", \"Freshwater ecotoxicity\", \"Freshwater eutrophication\", \"Marine eutrophication\", \"Terrestrial eutrophication\", \"Minerals and metals\", \"Dissipated water\", \"Fossil resources\", \"Land use\"], \"yaxis\": \"y\"}, {\"marker\": {\"color\": \"rgb(248,114,225)\"}, \"name\": \"Specific steel consumption\", \"orientation\": \"h\", \"showlegend\": true, \"type\": \"bar\", \"x\": [-0.00015568888766050325, 0.009680566088300513, 0.0033273688878988415, 0.0076404446654669955, 0.0019351677216837774, 0.00199152035396557, 0.01255537233244765, 0.002674441164369688, 0.002646525207968458, 0.008856431242028505, 0.001214119621776144, 0.0011847770442664587, 0.004909301419190664, 0.013791750268977087, 0.005855104117307831, 0.009706188820749296], \"xaxis\": \"x\", \"y\": [\"Climate change total\", \"Carcinogenic effects\", \"Ionising radiation\", \"Non-carcinogenic effects\", \"Ozone layer depletion\", \"Photochemical ozone creation\", \"Respiratory effects, inorganics\", \"Freshwater and terrestrial acidification\", \"Freshwater ecotoxicity\", \"Freshwater eutrophication\", \"Marine eutrophication\", \"Terrestrial eutrophication\", \"Minerals and metals\", \"Dissipated water\", \"Fossil resources\", \"Land use\"], \"yaxis\": \"y\"}, {\"marker\": {\"color\": \"rgb(137,231,255)\"}, \"name\": \"Specific cement consumption\", \"orientation\": \"h\", \"showlegend\": true, \"type\": \"bar\", \"x\": [4.77756292696058e-06, 1.558299620336951e-05, 0.0003434978172471817, 7.969165157836004e-05, 0.0002604228236662589, 0.00020233284872464094, 0.00037546310966007766, 0.0002930338929203694, 2.5657600791387893e-05, 0.0002534626276116249, 0.00021732222478333937, 0.0002316661500668214, 0.008098879507863508, 0.00023071055276580578, 0.00033125135393577404, 0.0009560064148986762], \"xaxis\": \"x\", \"y\": [\"Climate change total\", \"Carcinogenic effects\", \"Ionising radiation\", \"Non-carcinogenic effects\", \"Ozone layer depletion\", \"Photochemical ozone creation\", \"Respiratory effects, inorganics\", \"Freshwater and terrestrial acidification\", \"Freshwater ecotoxicity\", \"Freshwater eutrophication\", \"Marine eutrophication\", \"Terrestrial eutrophication\", \"Minerals and metals\", \"Dissipated water\", \"Fossil resources\", \"Land use\"], \"yaxis\": \"y\"}, {\"marker\": {\"color\": \"rgb(255,255,153)\"}, \"name\": \"Specific drilling mud consumption\", \"orientation\": \"h\", \"showlegend\": true, \"type\": \"bar\", \"x\": [7.340978603289984e-06, 8.065754948068776e-06, 8.084476119823171e-05, 3.0130002560285894e-05, 0.00011876556852524199, 5.9189307606421114e-05, 0.0001897174933065078, 7.864453836354248e-05, 9.257910664105587e-06, 0.0002240738776527567, 4.671794123299295e-05, 3.184159974882614e-05, 0.0001346760538233948, 0.0008675512171345259, 0.000521987201733089, 0.00017446173732892998], \"xaxis\": \"x\", \"y\": [\"Climate change total\", \"Carcinogenic effects\", \"Ionising radiation\", \"Non-carcinogenic effects\", \"Ozone layer depletion\", \"Photochemical ozone creation\", \"Respiratory effects, inorganics\", \"Freshwater and terrestrial acidification\", \"Freshwater ecotoxicity\", \"Freshwater eutrophication\", \"Marine eutrophication\", \"Terrestrial eutrophication\", \"Minerals and metals\", \"Dissipated water\", \"Fossil resources\", \"Land use\"], \"yaxis\": \"y\"}, {\"marker\": {\"color\": \"rgb(25, 94, 242)\"}, \"name\": \"Production to injection ratio\", \"orientation\": \"h\", \"showlegend\": true, \"type\": \"bar\", \"x\": [-0.0003053335773926556, 0.002175506466707052, 0.001006024671620804, 0.0022271218765003813, 0.0008944138280555908, 0.0008334199117467595, 0.00164405723678363, 0.0009063207403630547, 0.0025579248894739637, 0.0020966491726326104, 0.0007615876127408836, 0.0007447928026242653, 0.0021360014812773767, 0.0018197807246592892, 0.0012904495414871409, 0.0018474110235307886], \"xaxis\": \"x\", \"y\": [\"Climate change total\", \"Carcinogenic effects\", \"Ionising radiation\", \"Non-carcinogenic effects\", \"Ozone layer depletion\", \"Photochemical ozone creation\", \"Respiratory effects, inorganics\", \"Freshwater and terrestrial acidification\", \"Freshwater ecotoxicity\", \"Freshwater eutrophication\", \"Marine eutrophication\", \"Terrestrial eutrophication\", \"Minerals and metals\", \"Dissipated water\", \"Fossil resources\", \"Land use\"], \"yaxis\": \"y\"}, {\"marker\": {\"color\": \"rgb(20, 121, 132)\"}, \"name\": \"Success rate of exploration wells\", \"orientation\": \"h\", \"showlegend\": true, \"type\": \"bar\", \"x\": [-8.335530966995697e-05, 0.004420496907824354, 0.004563769933158188, 0.004413666878157596, 0.004562539429200166, 0.004612319959382635, 0.004199479049686051, 0.004564368134171406, 0.004462236525226716, 0.004275473429143814, 0.004613585175514034, 0.004620640321038691, 0.003489146233112118, 0.004092627316678878, 0.004373115230879387, 0.004039661543960828], \"xaxis\": \"x\", \"y\": [\"Climate change total\", \"Carcinogenic effects\", \"Ionising radiation\", \"Non-carcinogenic effects\", \"Ozone layer depletion\", \"Photochemical ozone creation\", \"Respiratory effects, inorganics\", \"Freshwater and terrestrial acidification\", \"Freshwater ecotoxicity\", \"Freshwater eutrophication\", \"Marine eutrophication\", \"Terrestrial eutrophication\", \"Minerals and metals\", \"Dissipated water\", \"Fossil resources\", \"Land use\"], \"yaxis\": \"y\"}, {\"marker\": {\"color\": \"rgb(199, 150, 162)\"}, \"name\": \"Success rate of makeup wells\", \"orientation\": \"h\", \"showlegend\": true, \"type\": \"bar\", \"x\": [0.00038046764748192756, 0.0036703671748209215, 0.0036892393159292376, 0.004141698292015979, 0.004199449560538265, 0.004261967981581287, 0.0012977305458144299, 0.003679136834300709, 0.006281537752810562, 0.003239443163218656, 0.004590993908281624, 0.004523856534432584, 0.0009860443234665462, 0.0017859931029832988, 0.0030311130892544686, 0.001198122960155633], \"xaxis\": \"x\", \"y\": [\"Climate change total\", \"Carcinogenic effects\", \"Ionising radiation\", \"Non-carcinogenic effects\", \"Ozone layer depletion\", \"Photochemical ozone creation\", \"Respiratory effects, inorganics\", \"Freshwater and terrestrial acidification\", \"Freshwater ecotoxicity\", \"Freshwater eutrophication\", \"Marine eutrophication\", \"Terrestrial eutrophication\", \"Minerals and metals\", \"Dissipated water\", \"Fossil resources\", \"Land use\"], \"yaxis\": \"y\"}, {\"marker\": {\"color\": \"rgb(166,206,227)\"}, \"name\": \"Direct CO2 emissions\", \"orientation\": \"h\", \"showlegend\": false, \"type\": \"bar\", \"x\": [0.9758807440723347, 0.0, 0.0, 0.0, 0.0, 0.0, 0.0, 0.0, 0.0, 0.0, 0.0, 0.0, 0.0, 0.0, 0.0, 0.0], \"xaxis\": \"x2\", \"y\": [\"Climate change total\", \"Carcinogenic effects\", \"Ionising radiation\", \"Non-carcinogenic effects\", \"Ozone layer depletion\", \"Photochemical ozone creation\", \"Respiratory effects, inorganics\", \"Freshwater and terrestrial acidification\", \"Freshwater ecotoxicity\", \"Freshwater eutrophication\", \"Marine eutrophication\", \"Terrestrial eutrophication\", \"Minerals and metals\", \"Dissipated water\", \"Fossil resources\", \"Land use\"], \"yaxis\": \"y2\"}, {\"marker\": {\"color\": \"rgb(31,120,180)\"}, \"name\": \"Gross power per well\", \"orientation\": \"h\", \"showlegend\": false, \"type\": \"bar\", \"x\": [0.0019188118344456706, 0.8043823877350891, 0.7937418212195061, 0.8012854922599582, 0.7832805685745865, 0.7807781428371087, 0.831610676241869, 0.7937833794484549, 0.7844195197767895, 0.8095985297397829, 0.7734545402268073, 0.7750569011503513, 0.8586502092160846, 0.8122979446784815, 0.8042890688095118, 0.846361290632542], \"xaxis\": \"x2\", \"y\": [\"Climate change total\", \"Carcinogenic effects\", \"Ionising radiation\", \"Non-carcinogenic effects\", \"Ozone layer depletion\", \"Photochemical ozone creation\", \"Respiratory effects, inorganics\", \"Freshwater and terrestrial acidification\", \"Freshwater ecotoxicity\", \"Freshwater eutrophication\", \"Marine eutrophication\", \"Terrestrial eutrophication\", \"Minerals and metals\", \"Dissipated water\", \"Fossil resources\", \"Land use\"], \"yaxis\": \"y2\"}, {\"marker\": {\"color\": \"rgb(178,223,138)\"}, \"name\": \"Average depth of wells\", \"orientation\": \"h\", \"showlegend\": false, \"type\": \"bar\", \"x\": [0.0007131207886446606, 0.3159355960804931, 0.3307004759753512, 0.32335675011361265, 0.3427418021476565, 0.34711010279917287, 0.2619932063663807, 0.33050334994338704, 0.3593978807394925, 0.3025754912793569, 0.35522081441271963, 0.3538303517583807, 0.2239961919614235, 0.2742088333468763, 0.3089892511376346, 0.24815539139741863], \"xaxis\": \"x2\", \"y\": [\"Climate change total\", \"Carcinogenic effects\", \"Ionising radiation\", \"Non-carcinogenic effects\", \"Ozone layer depletion\", \"Photochemical ozone creation\", \"Respiratory effects, inorganics\", \"Freshwater and terrestrial acidification\", \"Freshwater ecotoxicity\", \"Freshwater eutrophication\", \"Marine eutrophication\", \"Terrestrial eutrophication\", \"Minerals and metals\", \"Dissipated water\", \"Fossil resources\", \"Land use\"], \"yaxis\": \"y2\"}, {\"marker\": {\"color\": \"rgb(51,160,44)\"}, \"name\": \"Initial harmonic decline rate\", \"orientation\": \"h\", \"showlegend\": false, \"type\": \"bar\", \"x\": [0.0003272482979907303, 0.14169117056620834, 0.13066737104261084, 0.13969149057696736, 0.1265599895716719, 0.12558031400973804, 0.1496131618768639, 0.12969031349169405, 0.13187311043294173, 0.14316231566550908, 0.12255543065107233, 0.12271806025750628, 0.15143908562925879, 0.14842198790960123, 0.13805406086214692, 0.15145676651824214], \"xaxis\": \"x2\", \"y\": [\"Climate change total\", \"Carcinogenic effects\", \"Ionising radiation\", \"Non-carcinogenic effects\", \"Ozone layer depletion\", \"Photochemical ozone creation\", \"Respiratory effects, inorganics\", \"Freshwater and terrestrial acidification\", \"Freshwater ecotoxicity\", \"Freshwater eutrophication\", \"Marine eutrophication\", \"Terrestrial eutrophication\", \"Minerals and metals\", \"Dissipated water\", \"Fossil resources\", \"Land use\"], \"yaxis\": \"y2\"}, {\"marker\": {\"color\": \"rgb(251,154,153)\"}, \"name\": \"Success rate of primary wells\", \"orientation\": \"h\", \"showlegend\": false, \"type\": \"bar\", \"x\": [0.0001507910497630107, 0.0669159475551802, 0.068972964952309, 0.0688804128658261, 0.0714743215709784, 0.07208762887034856, 0.05496438997442894, 0.06881698664867446, 0.07770105002146489, 0.06457306086841232, 0.07372648167769533, 0.07339601853583821, 0.05155384137260285, 0.058110165122540754, 0.06520389066910945, 0.052994089609635614], \"xaxis\": \"x2\", \"y\": [\"Climate change total\", \"Carcinogenic effects\", \"Ionising radiation\", \"Non-carcinogenic effects\", \"Ozone layer depletion\", \"Photochemical ozone creation\", \"Respiratory effects, inorganics\", \"Freshwater and terrestrial acidification\", \"Freshwater ecotoxicity\", \"Freshwater eutrophication\", \"Marine eutrophication\", \"Terrestrial eutrophication\", \"Minerals and metals\", \"Dissipated water\", \"Fossil resources\", \"Land use\"], \"yaxis\": \"y2\"}, {\"marker\": {\"color\": \"rgb(227,26,28)\"}, \"name\": \"Lifetime\", \"orientation\": \"h\", \"showlegend\": false, \"type\": \"bar\", \"x\": [5.512049918885186e-05, 0.02136015250777312, 0.022821855874844817, 0.022289076931183482, 0.022822467172102054, 0.021675943670908478, 0.02372933662851706, 0.022970768298504723, 0.021308638626157363, 0.024016311381479076, 0.021628906378760228, 0.021500864130759256, 0.03246413015392269, 0.025003282827835458, 0.02327756417646271, 0.02617362450309384], \"xaxis\": \"x2\", \"y\": [\"Climate change total\", \"Carcinogenic effects\", \"Ionising radiation\", \"Non-carcinogenic effects\", \"Ozone layer depletion\", \"Photochemical ozone creation\", \"Respiratory effects, inorganics\", \"Freshwater and terrestrial acidification\", \"Freshwater ecotoxicity\", \"Freshwater eutrophication\", \"Marine eutrophication\", \"Terrestrial eutrophication\", \"Minerals and metals\", \"Dissipated water\", \"Fossil resources\", \"Land use\"], \"yaxis\": \"y2\"}, {\"marker\": {\"color\": \"rgb(202,178,214)\"}, \"name\": \"Collection pipelines length\", \"orientation\": \"h\", \"showlegend\": false, \"type\": \"bar\", \"x\": [1.1289299021439216e-05, 0.003929152484287868, 0.002141254148543608, 0.0031859045070169994, 0.0012779217692796112, 0.001075669279812642, 0.010194568071046227, 0.002122541667006047, 0.0007968110169484109, 0.005131721149190223, 0.0006390950921318232, 0.0006961853042245405, 0.007164307683568292, 0.008597470461037867, 0.004187857741464095, 0.012402115597594715], \"xaxis\": \"x2\", \"y\": [\"Climate change total\", \"Carcinogenic effects\", \"Ionising radiation\", \"Non-carcinogenic effects\", \"Ozone layer depletion\", \"Photochemical ozone creation\", \"Respiratory effects, inorganics\", \"Freshwater and terrestrial acidification\", \"Freshwater ecotoxicity\", \"Freshwater eutrophication\", \"Marine eutrophication\", \"Terrestrial eutrophication\", \"Minerals and metals\", \"Dissipated water\", \"Fossil resources\", \"Land use\"], \"yaxis\": \"y2\"}, {\"marker\": {\"color\": \"rgb(106,61,154)\"}, \"name\": \"Installed capacity\", \"orientation\": \"h\", \"showlegend\": false, \"type\": \"bar\", \"x\": [3.7390570468457486e-05, 0.016316542050450824, 0.016064272196071316, 0.016397317525781722, 0.016081948085200585, 0.01613347815754584, 0.015416807538139234, 0.016008176492885006, 0.016852206542858433, 0.01603572045248864, 0.01614443997524307, 0.016135176488716395, 0.015411481251131329, 0.015452734951956225, 0.01584792615584209, 0.01524692194119268], \"xaxis\": \"x2\", \"y\": [\"Climate change total\", \"Carcinogenic effects\", \"Ionising radiation\", \"Non-carcinogenic effects\", \"Ozone layer depletion\", \"Photochemical ozone creation\", \"Respiratory effects, inorganics\", \"Freshwater and terrestrial acidification\", \"Freshwater ecotoxicity\", \"Freshwater eutrophication\", \"Marine eutrophication\", \"Terrestrial eutrophication\", \"Minerals and metals\", \"Dissipated water\", \"Fossil resources\", \"Land use\"], \"yaxis\": \"y2\"}, {\"marker\": {\"color\": \"rgb(184,255,185)\"}, \"name\": \"Capacity factor\", \"orientation\": \"h\", \"showlegend\": false, \"type\": \"bar\", \"x\": [5.7322818998232e-06, 0.002341105843360288, 0.00231903621447497, 0.002383260850484733, 0.00227814349945214, 0.0021910803346948653, 0.0025777859397772213, 0.0023193360451125066, 0.0022313142663251827, 0.0025342193634214274, 0.002157635533744344, 0.0021500393926778836, 0.003116488596314182, 0.002656732642360777, 0.002424028703309411, 0.002753150860897111], \"xaxis\": \"x2\", \"y\": [\"Climate change total\", \"Carcinogenic effects\", \"Ionising radiation\", \"Non-carcinogenic effects\", \"Ozone layer depletion\", \"Photochemical ozone creation\", \"Respiratory effects, inorganics\", \"Freshwater and terrestrial acidification\", \"Freshwater ecotoxicity\", \"Freshwater eutrophication\", \"Marine eutrophication\", \"Terrestrial eutrophication\", \"Minerals and metals\", \"Dissipated water\", \"Fossil resources\", \"Land use\"], \"yaxis\": \"y2\"}, {\"marker\": {\"color\": \"rgb(30,221,109)\"}, \"name\": \"Auxiliary power\", \"orientation\": \"h\", \"showlegend\": false, \"type\": \"bar\", \"x\": [1.8332965768220027e-07, 7.449841165200933e-05, 7.310779466832582e-05, 7.558482816463313e-05, 7.123218695631493e-05, 6.822366395599183e-05, 8.421071206129577e-05, 7.304083965832713e-05, 6.89511611561282e-05, 8.126923627112472e-05, 6.682082820072182e-05, 6.659905714975578e-05, 0.00010381261225337769, 8.638852178118706e-05, 7.710459218263408e-05, 9.040117098890388e-05], \"xaxis\": \"x2\", \"y\": [\"Climate change total\", \"Carcinogenic effects\", \"Ionising radiation\", \"Non-carcinogenic effects\", \"Ozone layer depletion\", \"Photochemical ozone creation\", \"Respiratory effects, inorganics\", \"Freshwater and terrestrial acidification\", \"Freshwater ecotoxicity\", \"Freshwater eutrophication\", \"Marine eutrophication\", \"Terrestrial eutrophication\", \"Minerals and metals\", \"Dissipated water\", \"Fossil resources\", \"Land use\"], \"yaxis\": \"y2\"}, {\"marker\": {\"color\": \"rgb(255,127,0)\"}, \"name\": \"Specific diesel consumption\", \"orientation\": \"h\", \"showlegend\": false, \"type\": \"bar\", \"x\": [1.3409859749775536e-05, 2.660032668861556e-07, 0.013722221059724397, 7.850503021592983e-06, 0.018335938632119377, 0.020227211330069664, 0.0005777573272916875, 0.01616545993809536, 3.968250126901179e-06, 6.9454285731757625e-06, 0.024387255353019575, 0.024729351396588748, 1.4456226069148898e-05, 2.229342062049981e-05, 0.005251088959029617, 0.00010171008971899754], \"xaxis\": \"x2\", \"y\": [\"Climate change total\", \"Carcinogenic effects\", \"Ionising radiation\", \"Non-carcinogenic effects\", \"Ozone layer depletion\", \"Photochemical ozone creation\", \"Respiratory effects, inorganics\", \"Freshwater and terrestrial acidification\", \"Freshwater ecotoxicity\", \"Freshwater eutrophication\", \"Marine eutrophication\", \"Terrestrial eutrophication\", \"Minerals and metals\", \"Dissipated water\", \"Fossil resources\", \"Land use\"], \"yaxis\": \"y2\"}, {\"marker\": {\"color\": \"rgb(248,114,225)\"}, \"name\": \"Specific steel consumption\", \"orientation\": \"h\", \"showlegend\": false, \"type\": \"bar\", \"x\": [1.5121798293410989e-05, 0.012570656619693431, 0.0032000355105170453, 0.009334243322673364, 0.0015084885446790704, 0.0015975172647030933, 0.016842924696316812, 0.0023640953522838016, 0.0022955614788549347, 0.011054782385128525, 0.0007757167104433292, 0.0007462310279087751, 0.004575894093115069, 0.018890867220256003, 0.006582272782965343, 0.011966414737307082], \"xaxis\": \"x2\", \"y\": [\"Climate change total\", \"Carcinogenic effects\", \"Ionising radiation\", \"Non-carcinogenic effects\", \"Ozone layer depletion\", \"Photochemical ozone creation\", \"Respiratory effects, inorganics\", \"Freshwater and terrestrial acidification\", \"Freshwater ecotoxicity\", \"Freshwater eutrophication\", \"Marine eutrophication\", \"Terrestrial eutrophication\", \"Minerals and metals\", \"Dissipated water\", \"Fossil resources\", \"Land use\"], \"yaxis\": \"y2\"}, {\"marker\": {\"color\": \"rgb(137,231,255)\"}, \"name\": \"Specific cement consumption\", \"orientation\": \"h\", \"showlegend\": false, \"type\": \"bar\", \"x\": [4.3760586938377486e-07, 5.95929308733897e-08, 2.751701361160277e-05, 1.526624531548525e-06, 1.64403865915286e-05, 1.0248257729297836e-05, 2.969595432414077e-05, 2.0231419315803288e-05, 1.6357689328256706e-07, 1.4332336948240103e-05, 1.198609850706413e-05, 1.354016939998205e-05, 0.0054522710549872785, 1.1759816186005234e-05, 2.44172417762209e-05, 0.0001639753921023157], \"xaxis\": \"x2\", \"y\": [\"Climate change total\", \"Carcinogenic effects\", \"Ionising radiation\", \"Non-carcinogenic effects\", \"Ozone layer depletion\", \"Photochemical ozone creation\", \"Respiratory effects, inorganics\", \"Freshwater and terrestrial acidification\", \"Freshwater ecotoxicity\", \"Freshwater eutrophication\", \"Marine eutrophication\", \"Terrestrial eutrophication\", \"Minerals and metals\", \"Dissipated water\", \"Fossil resources\", \"Land use\"], \"yaxis\": \"y2\"}, {\"marker\": {\"color\": \"rgb(255,255,153)\"}, \"name\": \"Specific drilling mud consumption\", \"orientation\": \"h\", \"showlegend\": false, \"type\": \"bar\", \"x\": [2.650238335991415e-07, 3.69140230679901e-07, 3.570379379928712e-05, 5.5255188947382705e-06, 7.750528722992875e-05, 2.525319538726843e-05, 8.398592515218105e-05, 3.5988881340785985e-05, 1.4376970850505237e-06, 0.0001455562437748864, 1.9393096868012074e-05, 1.0025880484452505e-05, 4.61214034189123e-05, 0.0008534721468512723, 0.0005174328282125727, 8.08070542919547e-05], \"xaxis\": \"x2\", \"y\": [\"Climate change total\", \"Carcinogenic effects\", \"Ionising radiation\", \"Non-carcinogenic effects\", \"Ozone layer depletion\", \"Photochemical ozone creation\", \"Respiratory effects, inorganics\", \"Freshwater and terrestrial acidification\", \"Freshwater ecotoxicity\", \"Freshwater eutrophication\", \"Marine eutrophication\", \"Terrestrial eutrophication\", \"Minerals and metals\", \"Dissipated water\", \"Fossil resources\", \"Land use\"], \"yaxis\": \"y2\"}, {\"marker\": {\"color\": \"rgb(25, 94, 242)\"}, \"name\": \"Production to injection ratio\", \"orientation\": \"h\", \"showlegend\": false, \"type\": \"bar\", \"x\": [2.201053695681868e-05, 0.009363823934480608, 0.00911498051509568, 0.00928293076428878, 0.008975911876566411, 0.00896454495050301, 0.009620783177143977, 0.00908388640972343, 0.00898041081910043, 0.009372632915890789, 0.008864745428330512, 0.008873053717234857, 0.009485270712562268, 0.009523403219158908, 0.009287093532287809, 0.009619934769821032], \"xaxis\": \"x2\", \"y\": [\"Climate change total\", \"Carcinogenic effects\", \"Ionising radiation\", \"Non-carcinogenic effects\", \"Ozone layer depletion\", \"Photochemical ozone creation\", \"Respiratory effects, inorganics\", \"Freshwater and terrestrial acidification\", \"Freshwater ecotoxicity\", \"Freshwater eutrophication\", \"Marine eutrophication\", \"Terrestrial eutrophication\", \"Minerals and metals\", \"Dissipated water\", \"Fossil resources\", \"Land use\"], \"yaxis\": \"y2\"}, {\"marker\": {\"color\": \"rgb(20, 121, 132)\"}, \"name\": \"Success rate of exploration wells\", \"orientation\": \"h\", \"showlegend\": false, \"type\": \"bar\", \"x\": [3.836659294974712e-06, 0.001713964195667284, 0.0017689623153810596, 0.001724443069619535, 0.0018068403239629876, 0.0018415374166658122, 0.0014696928695829988, 0.0017608212845882237, 0.001821289297727903, 0.0016197345193625593, 0.0018699813479464628, 0.0018642878626215244, 0.0011445566758036794, 0.0015073227310032399, 0.0016487105868519055, 0.0013538930596892244], \"xaxis\": \"x2\", \"y\": [\"Climate change total\", \"Carcinogenic effects\", \"Ionising radiation\", \"Non-carcinogenic effects\", \"Ozone layer depletion\", \"Photochemical ozone creation\", \"Respiratory effects, inorganics\", \"Freshwater and terrestrial acidification\", \"Freshwater ecotoxicity\", \"Freshwater eutrophication\", \"Marine eutrophication\", \"Terrestrial eutrophication\", \"Minerals and metals\", \"Dissipated water\", \"Fossil resources\", \"Land use\"], \"yaxis\": \"y2\"}, {\"marker\": {\"color\": \"rgb(199, 150, 162)\"}, \"name\": \"Success rate of makeup wells\", \"orientation\": \"h\", \"showlegend\": false, \"type\": \"bar\", \"x\": [2.872413546887168e-05, 0.012963001860845445, 0.013296713163131774, 0.01338893957810253, 0.01383411529882257, 0.013957015769153652, 0.010440242001534308, 0.013288246184343535, 0.015344235678713396, 0.012459199764966187, 0.014299960281757371, 0.014234747862859791, 0.009236815207501942, 0.011054093234004624, 0.012516446263431, 0.010061104808023353], \"xaxis\": \"x2\", \"y\": [\"Climate change total\", \"Carcinogenic effects\", \"Ionising radiation\", \"Non-carcinogenic effects\", \"Ozone layer depletion\", \"Photochemical ozone creation\", \"Respiratory effects, inorganics\", \"Freshwater and terrestrial acidification\", \"Freshwater ecotoxicity\", \"Freshwater eutrophication\", \"Marine eutrophication\", \"Terrestrial eutrophication\", \"Minerals and metals\", \"Dissipated water\", \"Fossil resources\", \"Land use\"], \"yaxis\": \"y2\"}],\n",
       "                        {\"barmode\": \"stack\", \"font\": {\"color\": \"black\", \"family\": \"Arial\", \"size\": 18}, \"height\": 500, \"legend\": {\"traceorder\": \"normal\"}, \"margin\": {\"b\": 0, \"l\": 0, \"r\": 0, \"t\": 0}, \"template\": {\"data\": {\"bar\": [{\"error_x\": {\"color\": \"#2a3f5f\"}, \"error_y\": {\"color\": \"#2a3f5f\"}, \"marker\": {\"line\": {\"color\": \"#E5ECF6\", \"width\": 0.5}}, \"type\": \"bar\"}], \"barpolar\": [{\"marker\": {\"line\": {\"color\": \"#E5ECF6\", \"width\": 0.5}}, \"type\": \"barpolar\"}], \"carpet\": [{\"aaxis\": {\"endlinecolor\": \"#2a3f5f\", \"gridcolor\": \"white\", \"linecolor\": \"white\", \"minorgridcolor\": \"white\", \"startlinecolor\": \"#2a3f5f\"}, \"baxis\": {\"endlinecolor\": \"#2a3f5f\", \"gridcolor\": \"white\", \"linecolor\": \"white\", \"minorgridcolor\": \"white\", \"startlinecolor\": \"#2a3f5f\"}, \"type\": \"carpet\"}], \"choropleth\": [{\"colorbar\": {\"outlinewidth\": 0, \"ticks\": \"\"}, \"type\": \"choropleth\"}], \"contour\": [{\"colorbar\": {\"outlinewidth\": 0, \"ticks\": \"\"}, \"colorscale\": [[0.0, \"#0d0887\"], [0.1111111111111111, \"#46039f\"], [0.2222222222222222, \"#7201a8\"], [0.3333333333333333, \"#9c179e\"], [0.4444444444444444, \"#bd3786\"], [0.5555555555555556, \"#d8576b\"], [0.6666666666666666, \"#ed7953\"], [0.7777777777777778, \"#fb9f3a\"], [0.8888888888888888, \"#fdca26\"], [1.0, \"#f0f921\"]], \"type\": \"contour\"}], \"contourcarpet\": [{\"colorbar\": {\"outlinewidth\": 0, \"ticks\": \"\"}, \"type\": \"contourcarpet\"}], \"heatmap\": [{\"colorbar\": {\"outlinewidth\": 0, \"ticks\": \"\"}, \"colorscale\": [[0.0, \"#0d0887\"], [0.1111111111111111, \"#46039f\"], [0.2222222222222222, \"#7201a8\"], [0.3333333333333333, \"#9c179e\"], [0.4444444444444444, \"#bd3786\"], [0.5555555555555556, \"#d8576b\"], [0.6666666666666666, \"#ed7953\"], [0.7777777777777778, \"#fb9f3a\"], [0.8888888888888888, \"#fdca26\"], [1.0, \"#f0f921\"]], \"type\": \"heatmap\"}], \"heatmapgl\": [{\"colorbar\": {\"outlinewidth\": 0, \"ticks\": \"\"}, \"colorscale\": [[0.0, \"#0d0887\"], [0.1111111111111111, \"#46039f\"], [0.2222222222222222, \"#7201a8\"], [0.3333333333333333, \"#9c179e\"], [0.4444444444444444, \"#bd3786\"], [0.5555555555555556, \"#d8576b\"], [0.6666666666666666, \"#ed7953\"], [0.7777777777777778, \"#fb9f3a\"], [0.8888888888888888, \"#fdca26\"], [1.0, \"#f0f921\"]], \"type\": \"heatmapgl\"}], \"histogram\": [{\"marker\": {\"colorbar\": {\"outlinewidth\": 0, \"ticks\": \"\"}}, \"type\": \"histogram\"}], \"histogram2d\": [{\"colorbar\": {\"outlinewidth\": 0, \"ticks\": \"\"}, \"colorscale\": [[0.0, \"#0d0887\"], [0.1111111111111111, \"#46039f\"], [0.2222222222222222, \"#7201a8\"], [0.3333333333333333, \"#9c179e\"], [0.4444444444444444, \"#bd3786\"], [0.5555555555555556, \"#d8576b\"], [0.6666666666666666, \"#ed7953\"], [0.7777777777777778, \"#fb9f3a\"], [0.8888888888888888, \"#fdca26\"], [1.0, \"#f0f921\"]], \"type\": \"histogram2d\"}], \"histogram2dcontour\": [{\"colorbar\": {\"outlinewidth\": 0, \"ticks\": \"\"}, \"colorscale\": [[0.0, \"#0d0887\"], [0.1111111111111111, \"#46039f\"], [0.2222222222222222, \"#7201a8\"], [0.3333333333333333, \"#9c179e\"], [0.4444444444444444, \"#bd3786\"], [0.5555555555555556, \"#d8576b\"], [0.6666666666666666, \"#ed7953\"], [0.7777777777777778, \"#fb9f3a\"], [0.8888888888888888, \"#fdca26\"], [1.0, \"#f0f921\"]], \"type\": \"histogram2dcontour\"}], \"mesh3d\": [{\"colorbar\": {\"outlinewidth\": 0, \"ticks\": \"\"}, \"type\": \"mesh3d\"}], \"parcoords\": [{\"line\": {\"colorbar\": {\"outlinewidth\": 0, \"ticks\": \"\"}}, \"type\": \"parcoords\"}], \"pie\": [{\"automargin\": true, \"type\": \"pie\"}], \"scatter\": [{\"marker\": {\"colorbar\": {\"outlinewidth\": 0, \"ticks\": \"\"}}, \"type\": \"scatter\"}], \"scatter3d\": [{\"line\": {\"colorbar\": {\"outlinewidth\": 0, \"ticks\": \"\"}}, \"marker\": {\"colorbar\": {\"outlinewidth\": 0, \"ticks\": \"\"}}, \"type\": \"scatter3d\"}], \"scattercarpet\": [{\"marker\": {\"colorbar\": {\"outlinewidth\": 0, \"ticks\": \"\"}}, \"type\": \"scattercarpet\"}], \"scattergeo\": [{\"marker\": {\"colorbar\": {\"outlinewidth\": 0, \"ticks\": \"\"}}, \"type\": \"scattergeo\"}], \"scattergl\": [{\"marker\": {\"colorbar\": {\"outlinewidth\": 0, \"ticks\": \"\"}}, \"type\": \"scattergl\"}], \"scattermapbox\": [{\"marker\": {\"colorbar\": {\"outlinewidth\": 0, \"ticks\": \"\"}}, \"type\": \"scattermapbox\"}], \"scatterpolar\": [{\"marker\": {\"colorbar\": {\"outlinewidth\": 0, \"ticks\": \"\"}}, \"type\": \"scatterpolar\"}], \"scatterpolargl\": [{\"marker\": {\"colorbar\": {\"outlinewidth\": 0, \"ticks\": \"\"}}, \"type\": \"scatterpolargl\"}], \"scatterternary\": [{\"marker\": {\"colorbar\": {\"outlinewidth\": 0, \"ticks\": \"\"}}, \"type\": \"scatterternary\"}], \"surface\": [{\"colorbar\": {\"outlinewidth\": 0, \"ticks\": \"\"}, \"colorscale\": [[0.0, \"#0d0887\"], [0.1111111111111111, \"#46039f\"], [0.2222222222222222, \"#7201a8\"], [0.3333333333333333, \"#9c179e\"], [0.4444444444444444, \"#bd3786\"], [0.5555555555555556, \"#d8576b\"], [0.6666666666666666, \"#ed7953\"], [0.7777777777777778, \"#fb9f3a\"], [0.8888888888888888, \"#fdca26\"], [1.0, \"#f0f921\"]], \"type\": \"surface\"}], \"table\": [{\"cells\": {\"fill\": {\"color\": \"#EBF0F8\"}, \"line\": {\"color\": \"white\"}}, \"header\": {\"fill\": {\"color\": \"#C8D4E3\"}, \"line\": {\"color\": \"white\"}}, \"type\": \"table\"}]}, \"layout\": {\"annotationdefaults\": {\"arrowcolor\": \"#2a3f5f\", \"arrowhead\": 0, \"arrowwidth\": 1}, \"coloraxis\": {\"colorbar\": {\"outlinewidth\": 0, \"ticks\": \"\"}}, \"colorscale\": {\"diverging\": [[0, \"#8e0152\"], [0.1, \"#c51b7d\"], [0.2, \"#de77ae\"], [0.3, \"#f1b6da\"], [0.4, \"#fde0ef\"], [0.5, \"#f7f7f7\"], [0.6, \"#e6f5d0\"], [0.7, \"#b8e186\"], [0.8, \"#7fbc41\"], [0.9, \"#4d9221\"], [1, \"#276419\"]], \"sequential\": [[0.0, \"#0d0887\"], [0.1111111111111111, \"#46039f\"], [0.2222222222222222, \"#7201a8\"], [0.3333333333333333, \"#9c179e\"], [0.4444444444444444, \"#bd3786\"], [0.5555555555555556, \"#d8576b\"], [0.6666666666666666, \"#ed7953\"], [0.7777777777777778, \"#fb9f3a\"], [0.8888888888888888, \"#fdca26\"], [1.0, \"#f0f921\"]], \"sequentialminus\": [[0.0, \"#0d0887\"], [0.1111111111111111, \"#46039f\"], [0.2222222222222222, \"#7201a8\"], [0.3333333333333333, \"#9c179e\"], [0.4444444444444444, \"#bd3786\"], [0.5555555555555556, \"#d8576b\"], [0.6666666666666666, \"#ed7953\"], [0.7777777777777778, \"#fb9f3a\"], [0.8888888888888888, \"#fdca26\"], [1.0, \"#f0f921\"]]}, \"colorway\": [\"#636efa\", \"#EF553B\", \"#00cc96\", \"#ab63fa\", \"#FFA15A\", \"#19d3f3\", \"#FF6692\", \"#B6E880\", \"#FF97FF\", \"#FECB52\"], \"font\": {\"color\": \"#2a3f5f\"}, \"geo\": {\"bgcolor\": \"white\", \"lakecolor\": \"white\", \"landcolor\": \"#E5ECF6\", \"showlakes\": true, \"showland\": true, \"subunitcolor\": \"white\"}, \"hoverlabel\": {\"align\": \"left\"}, \"hovermode\": \"closest\", \"mapbox\": {\"style\": \"light\"}, \"paper_bgcolor\": \"white\", \"plot_bgcolor\": \"#E5ECF6\", \"polar\": {\"angularaxis\": {\"gridcolor\": \"white\", \"linecolor\": \"white\", \"ticks\": \"\"}, \"bgcolor\": \"#E5ECF6\", \"radialaxis\": {\"gridcolor\": \"white\", \"linecolor\": \"white\", \"ticks\": \"\"}}, \"scene\": {\"xaxis\": {\"backgroundcolor\": \"#E5ECF6\", \"gridcolor\": \"white\", \"gridwidth\": 2, \"linecolor\": \"white\", \"showbackground\": true, \"ticks\": \"\", \"zerolinecolor\": \"white\"}, \"yaxis\": {\"backgroundcolor\": \"#E5ECF6\", \"gridcolor\": \"white\", \"gridwidth\": 2, \"linecolor\": \"white\", \"showbackground\": true, \"ticks\": \"\", \"zerolinecolor\": \"white\"}, \"zaxis\": {\"backgroundcolor\": \"#E5ECF6\", \"gridcolor\": \"white\", \"gridwidth\": 2, \"linecolor\": \"white\", \"showbackground\": true, \"ticks\": \"\", \"zerolinecolor\": \"white\"}}, \"shapedefaults\": {\"line\": {\"color\": \"#2a3f5f\"}}, \"ternary\": {\"aaxis\": {\"gridcolor\": \"white\", \"linecolor\": \"white\", \"ticks\": \"\"}, \"baxis\": {\"gridcolor\": \"white\", \"linecolor\": \"white\", \"ticks\": \"\"}, \"bgcolor\": \"#E5ECF6\", \"caxis\": {\"gridcolor\": \"white\", \"linecolor\": \"white\", \"ticks\": \"\"}}, \"title\": {\"x\": 0.05}, \"xaxis\": {\"automargin\": true, \"gridcolor\": \"white\", \"linecolor\": \"white\", \"ticks\": \"\", \"title\": {\"standoff\": 15}, \"zerolinecolor\": \"white\", \"zerolinewidth\": 2}, \"yaxis\": {\"automargin\": true, \"gridcolor\": \"white\", \"linecolor\": \"white\", \"ticks\": \"\", \"title\": {\"standoff\": 15}, \"zerolinecolor\": \"white\", \"zerolinewidth\": 2}}}, \"width\": 1600, \"xaxis\": {\"anchor\": \"y\", \"domain\": [0.0, 0.4825], \"range\": [0, 1.42], \"tickmode\": \"array\", \"ticktext\": [0, 0.2, 0.4, 0.6, 0.8, 1, 1.2, 1.4], \"tickvals\": [0, 0.2, 0.4, 0.6, 0.8, 1, 1.2, 1.4]}, \"xaxis2\": {\"anchor\": \"y2\", \"domain\": [0.5175, 1.0], \"range\": [0, 1.42], \"tickmode\": \"array\", \"ticktext\": [0, 0.2, 0.4, 0.6, 0.8, 1, 1.2, 1.4], \"tickvals\": [0, 0.2, 0.4, 0.6, 0.8, 1, 1.2, 1.4]}, \"yaxis\": {\"anchor\": \"x\", \"autorange\": \"reversed\", \"domain\": [0.0, 1.0]}, \"yaxis2\": {\"anchor\": \"x2\", \"domain\": [0.0, 1.0], \"matches\": \"y\", \"showticklabels\": false}},\n",
       "                        {\"responsive\": true}\n",
       "                    ).then(function(){\n",
       "                            \n",
       "var gd = document.getElementById('e9a225a5-4faa-47f2-8cac-cd682a86f65a');\n",
       "var x = new MutationObserver(function (mutations, observer) {{\n",
       "        var display = window.getComputedStyle(gd).display;\n",
       "        if (!display || display === 'none') {{\n",
       "            console.log([gd, 'removed!']);\n",
       "            Plotly.purge(gd);\n",
       "            observer.disconnect();\n",
       "        }}\n",
       "}});\n",
       "\n",
       "// Listen for the removal of the full notebook cells\n",
       "var notebookContainer = gd.closest('#notebook-container');\n",
       "if (notebookContainer) {{\n",
       "    x.observe(notebookContainer, {childList: true});\n",
       "}}\n",
       "\n",
       "// Listen for the clearing of the current output cell\n",
       "var outputEl = gd.closest('.output');\n",
       "if (outputEl) {{\n",
       "    x.observe(outputEl, {childList: true});\n",
       "}}\n",
       "\n",
       "                        })\n",
       "                };\n",
       "                });\n",
       "            </script>\n",
       "        </div>"
      ]
     },
     "metadata": {},
     "output_type": "display_data"
    }
   ],
   "source": [
    "fig = make_subplots(rows=1, \n",
    "                    cols=2,\n",
    "                    shared_yaxes=True,\n",
    "                    horizontal_spacing=0.035,\n",
    "                   )\n",
    "\n",
    "flag_leg = True\n",
    "\n",
    "for j,first_or_total in enumerate(['first', 'total']):\n",
    "    \n",
    "    df = prepare_df(first_or_total)\n",
    "    \n",
    "    ydata = df.columns[1:].tolist()\n",
    "    ydata = [d.capitalize() for d in ydata]\n",
    "    f = [ind for ind,yd in enumerate(ydata) if \"Fossils\"==yd][0]\n",
    "    ydata[f] = 'Fossil resources'\n",
    "    \n",
    "    if 'cge' in path:\n",
    "        range_ = [0,1.42]\n",
    "        tickvals_ = [0, 0.2, 0.4, 0.6, 0.8, 1, 1.2, 1.4]\n",
    "        ticktext_ = [0, 0.2, 0.4, 0.6, 0.8, 1, 1.2, 1.4]\n",
    "    elif 'ege' in path:\n",
    "        range_ = [0,1.03]\n",
    "        tickvals_ = [0, 0.2, 0.4, 0.6, 0.8, 1]\n",
    "        ticktext_ = [0, 0.2, 0.4, 0.6, 0.8, 1]\n",
    "\n",
    "    for i in df.index:\n",
    "        \n",
    "        xdata = df.loc[i][1:].tolist()\n",
    "        name = df.loc[i][0]\n",
    "            \n",
    "        fig.add_bar(name = name, \n",
    "                    x = xdata,\n",
    "                    y = ydata,\n",
    "                    orientation='h',\n",
    "                    marker_color=colors[name],\n",
    "                    row=1, \n",
    "                    col=j+1,\n",
    "                    showlegend=flag_leg)\n",
    "    fig.update_xaxes(range = range_,\n",
    "                     tickmode = 'array', \n",
    "                     tickvals = tickvals_,\n",
    "                     ticktext = ticktext_)\n",
    "\n",
    "    fig.update_layout(barmode='stack',\n",
    "                      font_size = 18,\n",
    "                      width = 1600, \n",
    "                      height = 500,\n",
    "                      legend_traceorder  = 'normal',\n",
    "                      yaxis = dict(autorange=\"reversed\"),\n",
    "                      font_family = 'Arial',\n",
    "                      margin = dict(l=0,r=0,t=0,b=0),\n",
    "                      font_color = 'black',\n",
    "                     )\n",
    "\n",
    "    flag_leg = False\n",
    "\n",
    "fig.show()"
   ]
  },
  {
   "cell_type": "code",
   "execution_count": 25,
   "metadata": {},
   "outputs": [],
   "source": [
    "# Save image\n",
    "path_images = \"generated_plots/write_images\"\n",
    "if not os.path.exists(path_images):\n",
    "    os.mkdir(path_images)\n",
    "    \n",
    "start_end = [i for i, ltr in enumerate(path) if ltr == '/']\n",
    "start = start_end[-2]\n",
    "end = start_end[-1]\n",
    "\n",
    "path_fig = os.path.join(path_images, 'sobol_' + path[start+1:end] + '.png')\n",
    "fig.write_image(path_fig)"
   ]
  },
  {
   "cell_type": "code",
   "execution_count": null,
   "metadata": {},
   "outputs": [],
   "source": []
  },
  {
   "cell_type": "code",
   "execution_count": null,
   "metadata": {},
   "outputs": [],
   "source": []
  },
  {
   "cell_type": "markdown",
   "metadata": {},
   "source": [
    "# II. Plot convergence of Sobol' indices"
   ]
  },
  {
   "cell_type": "code",
   "execution_count": null,
   "metadata": {},
   "outputs": [],
   "source": [
    "import json\n",
    "import os\n",
    "import brightway2 as bw\n",
    "import numpy as np\n",
    "import re\n",
    "import pandas as pd\n",
    "import itertools\n",
    "\n",
    "from SALib.analyze import sobol\n",
    "\n",
    "#Local files\n",
    "from setup_files_gsa import *\n",
    "\n",
    "# For plotting\n",
    "import plotly.graph_objs as go\n",
    "from plotly.subplots import make_subplots"
   ]
  },
  {
   "cell_type": "code",
   "execution_count": null,
   "metadata": {},
   "outputs": [],
   "source": [
    "colors = {\n",
    "    'Direct CO2 emissions': 'rgb(166,206,227)',\n",
    "    'Gross power per well': 'rgb(31,120,180)', \n",
    "    'Average depth of wells': 'rgb(178,223,138)',\n",
    "    'Initial harmonic decline rate': 'rgb(51,160,44)',\n",
    "    'Success rate of primary wells': 'rgb(251,154,153)',\n",
    "    'Lifetime': 'rgb(227,26,28)', \n",
    "    'Collection pipelines length': 'rgb(202,178,214)',\n",
    "    'Installed capacity': 'rgb(106,61,154)',\n",
    "    'Capacity factor': 'rgb(184,255,185)',\n",
    "    'Auxiliary power': 'rgb(30,221,109)',\n",
    "    'Specific steel consumption': 'rgb(248,114,225)',\n",
    "    'Specific cement consumption': 'rgb(137,231,255)',\n",
    "    'Specific drilling mud consumption': 'rgb(255,255,153)',\n",
    "    'Production to injection ratio': 'rgb(25, 94, 242)',\n",
    "    'Success rate of exploration wells': 'rgb(20, 121, 132)',\n",
    "    'Success rate of makeup wells': 'rgb(199, 150, 162)',\n",
    "    # missing EGE\n",
    "    'Specific diesel consumption': 'rgb(255,127,0)',\n",
    "    'Number of wells': 'rgb(253,191,111)',\n",
    "    'Specific electricity stimulation': 'rgb(255,237,0)',\n",
    "    'Water stimulation': 'rgb(255,210,255)',\n",
    "    'Number of wells stimulated 0 ot 1': 'rgb(12, 207, 196)'\n",
    "}"
   ]
  },
  {
   "cell_type": "markdown",
   "metadata": {},
   "source": [
    "## 1. Load data"
   ]
  },
  {
   "cell_type": "code",
   "execution_count": null,
   "metadata": {},
   "outputs": [],
   "source": [
    "project = 'Geothermal'\n",
    "\n",
    "path = 'generated_files/write_files/cge_N500'\n",
    "if 'ege' in path:\n",
    "    option = 'ege'\n",
    "elif 'cge' in path:\n",
    "    option = 'cge'"
   ]
  },
  {
   "cell_type": "code",
   "execution_count": null,
   "metadata": {},
   "outputs": [],
   "source": [
    "scores = get_lcia_results(path)\n",
    "\n",
    "path_sobol = os.path.join(path, 'sobol_indices.json')\n",
    "with open(path_sobol) as f:\n",
    "    sa_dict = json.load(f)\n",
    "parameters = sa_dict['parameters']\n",
    "n_parameters = len(parameters)"
   ]
  },
  {
   "cell_type": "code",
   "execution_count": null,
   "metadata": {},
   "outputs": [],
   "source": [
    "def rename_parameters(parameters_raw):\n",
    "    parameters = []\n",
    "    for name in parameters_raw:\n",
    "        name = name.replace('_', ' ').capitalize()\n",
    "        if name.lower() == 'co2 emissions':\n",
    "            name = 'Direct CO2 emissions'\n",
    "        elif name.lower() == 'collection pipelines':\n",
    "            name = 'Collection pipelines length'\n",
    "        elif 'success' in name.lower():\n",
    "            name = name[:13] + 'of ' + name[13:]\n",
    "        elif '0to1' in name.lower():\n",
    "            name = name[:-4] + '0 ot 1'\n",
    "        parameters.append(name)\n",
    "    return parameters"
   ]
  },
  {
   "cell_type": "code",
   "execution_count": null,
   "metadata": {},
   "outputs": [],
   "source": [
    "# Choose the order of parameters\n",
    "if 'cge' in path:\n",
    "    parameters_ordered = [ 'co2_emissions',\n",
    "                         'gross_power_per_well', \n",
    "                         'average_depth_of_wells',\n",
    "                         'initial_harmonic_decline_rate',\n",
    "                         'success_rate_primary_wells',\n",
    "                         'lifetime',\n",
    "                         'collection_pipelines', \n",
    "                         'installed_capacity', \n",
    "                         'capacity_factor', \n",
    "                         'auxiliary_power',\n",
    "                         'specific_diesel_consumption', \n",
    "                         'specific_steel_consumption',\n",
    "                         'specific_cement_consumption', \n",
    "                         'specific_drilling_mud_consumption',\n",
    "                         'production_to_injection_ratio',\n",
    "                         'success_rate_exploration_wells', \n",
    "                         'success_rate_makeup_wells' ]\n",
    "elif 'ege' in path:\n",
    "    parameters_ordered = ['installed_capacity',\n",
    "                          'average_depth_of_wells',\n",
    "                          'success_rate_primary_wells',\n",
    "                          'success_rate_exploration_wells',\n",
    "                          'number_of_wells',\n",
    "                          'lifetime',\n",
    "                          'specific_diesel_consumption',\n",
    "                          'specific_electricity_stimulation',\n",
    "                          'water_stimulation', \n",
    "                          'auxiliary_power',\n",
    "                          'specific_steel_consumption',\n",
    "                          'number_of_wells_stimulated_0to1', \n",
    "                          'capacity_factor', \n",
    "                          'specific_cement_consumption',\n",
    "                          'collection_pipelines',\n",
    "                          'specific_drilling_mud_consumption' ]"
   ]
  },
  {
   "cell_type": "code",
   "execution_count": null,
   "metadata": {},
   "outputs": [],
   "source": [
    "parameters = rename_parameters(parameters)\n",
    "parameters_ordered = rename_parameters(parameters_ordered)"
   ]
  },
  {
   "cell_type": "markdown",
   "metadata": {},
   "source": [
    "## 2. Prepare for plotting"
   ]
  },
  {
   "cell_type": "code",
   "execution_count": null,
   "metadata": {},
   "outputs": [],
   "source": [
    "problem, calc_second_order = setup_gsa(n_parameters)\n",
    "_, methods, _, _ = setup_gt_project(project, option)\n",
    "\n",
    "N = int(''.join(c for c in path if c.isdigit()))"
   ]
  },
  {
   "cell_type": "code",
   "execution_count": null,
   "metadata": {},
   "outputs": [],
   "source": [
    "methods_names = [m[-1].capitalize() for m in methods]"
   ]
  },
  {
   "cell_type": "code",
   "execution_count": null,
   "metadata": {},
   "outputs": [],
   "source": [
    "%%time\n",
    "N_start = 1\n",
    "N_end = N\n",
    "N_step = N//100 #4032\n",
    "\n",
    "Ns = np.arange(N_start, N_end, N_step)\n",
    "\n",
    "first_arr = np.zeros((Ns.shape[0],len(methods),n_parameters))\n",
    "total_arr = np.zeros((Ns.shape[0],len(methods),n_parameters))\n",
    "\n",
    "for i,n in enumerate(Ns):\n",
    "    \n",
    "    first_methods = {}\n",
    "    total_methods = {}\n",
    "    num_runs = n * (n_parameters+2)\n",
    "    scores_n = scores[:num_runs]\n",
    "    \n",
    "    for j,m in enumerate(methods_names):\n",
    "        sa_dict = sobol.analyze(problem, scores_n[:,j], calc_second_order=calc_second_order)\n",
    "        first = sa_dict['S1']\n",
    "        total = sa_dict['ST']\n",
    "        first_arr[i,j] = abs(first)\n",
    "        total_arr[i,j] = total"
   ]
  },
  {
   "cell_type": "code",
   "execution_count": null,
   "metadata": {},
   "outputs": [],
   "source": [
    "df_first = pd.DataFrame(index=methods_names, columns=parameters)\n",
    "df_total = pd.DataFrame(index=methods_names, columns=parameters)\n",
    "\n",
    "for j,m in enumerate(methods_names):\n",
    "    for k,p in enumerate(parameters):\n",
    "        df_first.loc[m][p] = first_arr[:,j,k]\n",
    "        df_total.loc[m][p] = total_arr[:,j,k]"
   ]
  },
  {
   "cell_type": "code",
   "execution_count": null,
   "metadata": {},
   "outputs": [],
   "source": [
    "df_first = df_first[parameters_ordered]\n",
    "df_total = df_total[parameters_ordered]"
   ]
  },
  {
   "cell_type": "code",
   "execution_count": null,
   "metadata": {},
   "outputs": [],
   "source": []
  },
  {
   "cell_type": "markdown",
   "metadata": {},
   "source": [
    "## Convergence plots"
   ]
  },
  {
   "cell_type": "code",
   "execution_count": null,
   "metadata": {},
   "outputs": [],
   "source": [
    "flatten = lambda l: [item for sublist in l for item in sublist]\n",
    "subplots_titles = [['S1 ' + m, 'ST ' + m] for m in methods_names]\n"
   ]
  },
  {
   "cell_type": "code",
   "execution_count": null,
   "metadata": {},
   "outputs": [],
   "source": [
    "# make colors transparent\n",
    "opacity = 1.0\n",
    "colors_opaque = {name: rgb[:3]+'a'+rgb[3:-1]+',' + str(opacity)+')' for name,rgb in colors.items()}"
   ]
  },
  {
   "cell_type": "code",
   "execution_count": null,
   "metadata": {},
   "outputs": [],
   "source": [
    "n_rows = len(methods)\n",
    "n_cols = 2\n",
    "fig = make_subplots(rows=n_rows, \n",
    "                    cols=n_cols,\n",
    "                    subplot_titles=flatten(subplots_titles),\n",
    "                   )"
   ]
  },
  {
   "cell_type": "code",
   "execution_count": null,
   "metadata": {},
   "outputs": [],
   "source": [
    "flag = True\n",
    "for i,method in enumerate(methods_names):\n",
    "    df_first_row = df_first.loc[method]\n",
    "    df_total_row = df_total.loc[method]\n",
    "    \n",
    "    for j in range(4): \n",
    "        \n",
    "        name_ = df_first_row.index[j]\n",
    "        \n",
    "        fig.add_trace(\n",
    "            go.Scatter(x=Ns, \n",
    "                       y=df_first_row[j],\n",
    "                       name=name_,\n",
    "                       mode='lines+markers',\n",
    "                       marker_size=8,\n",
    "                       marker_symbol='star',\n",
    "                       marker_opacity = opacity,\n",
    "                       line=dict(color=colors_opaque[name_], width=2),\n",
    "                       showlegend=False,\n",
    "                      ),\n",
    "            row=i+1, col=1\n",
    "            )\n",
    "        fig.add_trace(\n",
    "            go.Scatter(x = Ns, \n",
    "                       y = df_total_row[j],\n",
    "                       name = df_first_row.index[j],\n",
    "                       mode='lines+markers',\n",
    "                       marker_size=8,\n",
    "                       marker_symbol='star',\n",
    "                       marker_opacity = opacity,\n",
    "                       line=dict(color=colors_opaque[name_], width=2),\n",
    "                       showlegend=flag,\n",
    "                      ),\n",
    "            row=i+1, col=2\n",
    "            )\n",
    "        fig.update_layout(font_size = 18,\n",
    "                          font_family = 'Arial',\n",
    "                          margin = dict(l=20,r=20,t=100,b=20),\n",
    "                          font_color = 'black',\n",
    "                         )\n",
    "    flag = False\n",
    "    max_val = np.max([1, \n",
    "                      max(np.array([df_j for df_j in df_total_row]).flatten()),\n",
    "                      max(np.array([df_j for df_j in df_first_row]).flatten()),\n",
    "                     ])\n",
    "    range_ = np.arange(0,max_val+0.5,1)\n",
    "    for k in range(2):\n",
    "        fig['layout']['yaxis' + str(i*2+k+1)].update(range=[-0.2, max(range_)+0.2],\n",
    "                                                     tickvals=range_,\n",
    "                                                     ticktext=range_)       \n",
    "        \n",
    "fig.update_layout(height=5000, \n",
    "                  width=1130, \n",
    "                  title_text  = \"Convergence of Sobol' indices \" + option.upper(),\n",
    "                  title_font_color = \"black\",\n",
    "                  title_font_size = 24,\n",
    "                  title_font_family = 'Arial',\n",
    "                  legend=dict(x=0.05, \n",
    "                              y=-0.01,\n",
    "                              orientation=\"h\")\n",
    "                 )\n",
    "\n",
    "for i in fig['layout']['annotations']:\n",
    "    i['font']['size'] = 22\n",
    "    i['font']['color'] = 'black'\n",
    "    i['font']['family'] = 'Arial'\n",
    "    \n",
    "fig.show()"
   ]
  },
  {
   "cell_type": "code",
   "execution_count": null,
   "metadata": {},
   "outputs": [],
   "source": [
    "# Save image\n",
    "path_images = \"generated_plots/write_images\"\n",
    "if not os.path.exists(path_images):\n",
    "    os.mkdir(path_images)\n",
    "\n",
    "path_fig = os.path.join(path_images, 'sobol_convergence_4_' + option + '.png')\n",
    "fig.write_image(path_fig)"
   ]
  },
  {
   "cell_type": "code",
   "execution_count": null,
   "metadata": {},
   "outputs": [],
   "source": []
  },
  {
   "cell_type": "code",
   "execution_count": null,
   "metadata": {},
   "outputs": [],
   "source": []
  },
  {
   "cell_type": "code",
   "execution_count": null,
   "metadata": {},
   "outputs": [],
   "source": []
  },
  {
   "cell_type": "code",
   "execution_count": null,
   "metadata": {},
   "outputs": [],
   "source": []
  },
  {
   "cell_type": "code",
   "execution_count": null,
   "metadata": {},
   "outputs": [],
   "source": []
  },
  {
   "cell_type": "code",
   "execution_count": null,
   "metadata": {},
   "outputs": [],
   "source": []
  },
  {
   "cell_type": "code",
   "execution_count": null,
   "metadata": {},
   "outputs": [],
   "source": []
  }
 ],
 "metadata": {
  "kernelspec": {
   "display_name": "Python 3",
   "language": "python",
   "name": "python3"
  },
  "language_info": {
   "codemirror_mode": {
    "name": "ipython",
    "version": 3
   },
   "file_extension": ".py",
   "mimetype": "text/x-python",
   "name": "python",
   "nbconvert_exporter": "python",
   "pygments_lexer": "ipython3",
   "version": "3.6.9"
  }
 },
 "nbformat": 4,
 "nbformat_minor": 2
}
