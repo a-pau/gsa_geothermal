{
 "cells": [
  {
   "cell_type": "code",
   "execution_count": 49,
   "metadata": {},
   "outputs": [],
   "source": [
    "import json\n",
    "import os\n",
    "import brightway2 as bw\n",
    "import numpy as np\n",
    "import pandas as pd\n",
    "\n",
    "# For plotting\n",
    "import matplotlib.pyplot as plt\n",
    "import plotly.graph_objs as go\n",
    "from plotly.subplots import make_subplots\n",
    "import colorlover as cl\n",
    "from IPython.display import HTML"
   ]
  },
  {
   "cell_type": "markdown",
   "metadata": {},
   "source": [
    "# Load data"
   ]
  },
  {
   "cell_type": "code",
   "execution_count": 64,
   "metadata": {},
   "outputs": [],
   "source": [
    "path = 'generated_files/write_files/ege_N60/sobol_indices.json'\n",
    "first_or_total = 'first'\n",
    "\n",
    "with open(path) as f:\n",
    "    sa_dict = json.load(f)\n",
    "parameters = sa_dict['parameters']\n",
    "n_parameters = len(parameters)\n",
    "\n",
    "# Extract total index into a dictionary and dataframe\n",
    "total_dict, first_dict = {}, {}\n",
    "total_dict['parameters'] = parameters\n",
    "first_dict['parameters'] = parameters\n",
    "for k in sa_dict.keys():\n",
    "    if k != 'parameters':\n",
    "        all_vals_total = sa_dict[k]['ST']\n",
    "        all_vals_first = sa_dict[k]['S1']\n",
    "        n_all = len(all_vals_total)\n",
    "        total_dict[k] = all_vals_total[n_all-n_parameters:]\n",
    "        first_dict[k] = [abs(a) for a in all_vals_first[n_all-n_parameters:]]\n",
    "total_df = pd.DataFrame(total_dict)\n",
    "first_df = pd.DataFrame(first_dict)"
   ]
  },
  {
   "cell_type": "code",
   "execution_count": 66,
   "metadata": {},
   "outputs": [
    {
     "data": {
      "text/html": [
       "<div>\n",
       "<style scoped>\n",
       "    .dataframe tbody tr th:only-of-type {\n",
       "        vertical-align: middle;\n",
       "    }\n",
       "\n",
       "    .dataframe tbody tr th {\n",
       "        vertical-align: top;\n",
       "    }\n",
       "\n",
       "    .dataframe thead th {\n",
       "        text-align: right;\n",
       "    }\n",
       "</style>\n",
       "<table border=\"1\" class=\"dataframe\">\n",
       "  <thead>\n",
       "    <tr style=\"text-align: right;\">\n",
       "      <th></th>\n",
       "      <th>parameters</th>\n",
       "      <th>climate change total</th>\n",
       "      <th>carcinogenic effects</th>\n",
       "      <th>ionising radiation</th>\n",
       "      <th>non-carcinogenic effects</th>\n",
       "      <th>ozone layer depletion</th>\n",
       "      <th>photochemical ozone creation</th>\n",
       "      <th>respiratory effects, inorganics</th>\n",
       "      <th>freshwater and terrestrial acidification</th>\n",
       "      <th>freshwater ecotoxicity</th>\n",
       "      <th>freshwater eutrophication</th>\n",
       "      <th>marine eutrophication</th>\n",
       "      <th>terrestrial eutrophication</th>\n",
       "      <th>minerals and metals</th>\n",
       "      <th>dissipated water</th>\n",
       "      <th>fossils</th>\n",
       "      <th>land use</th>\n",
       "    </tr>\n",
       "  </thead>\n",
       "  <tbody>\n",
       "    <tr>\n",
       "      <td>0</td>\n",
       "      <td>number_of_wells</td>\n",
       "      <td>0.022744</td>\n",
       "      <td>0.012658</td>\n",
       "      <td>0.023133</td>\n",
       "      <td>0.014555</td>\n",
       "      <td>0.023360</td>\n",
       "      <td>0.023337</td>\n",
       "      <td>0.018082</td>\n",
       "      <td>0.023183</td>\n",
       "      <td>0.016432</td>\n",
       "      <td>0.011623</td>\n",
       "      <td>0.023533</td>\n",
       "      <td>0.023506</td>\n",
       "      <td>0.011111</td>\n",
       "      <td>0.014036</td>\n",
       "      <td>0.022294</td>\n",
       "      <td>0.016415</td>\n",
       "    </tr>\n",
       "    <tr>\n",
       "      <td>1</td>\n",
       "      <td>average_depth_of_wells</td>\n",
       "      <td>0.051711</td>\n",
       "      <td>0.101815</td>\n",
       "      <td>0.042756</td>\n",
       "      <td>0.098781</td>\n",
       "      <td>0.041055</td>\n",
       "      <td>0.040760</td>\n",
       "      <td>0.068887</td>\n",
       "      <td>0.042230</td>\n",
       "      <td>0.103381</td>\n",
       "      <td>0.094657</td>\n",
       "      <td>0.039668</td>\n",
       "      <td>0.039783</td>\n",
       "      <td>0.085280</td>\n",
       "      <td>0.092154</td>\n",
       "      <td>0.049855</td>\n",
       "      <td>0.082133</td>\n",
       "    </tr>\n",
       "    <tr>\n",
       "      <td>2</td>\n",
       "      <td>collection_pipelines</td>\n",
       "      <td>0.000124</td>\n",
       "      <td>0.000275</td>\n",
       "      <td>0.000057</td>\n",
       "      <td>0.000244</td>\n",
       "      <td>0.000041</td>\n",
       "      <td>0.000037</td>\n",
       "      <td>0.000306</td>\n",
       "      <td>0.000059</td>\n",
       "      <td>0.000135</td>\n",
       "      <td>0.000354</td>\n",
       "      <td>0.000026</td>\n",
       "      <td>0.000029</td>\n",
       "      <td>0.000401</td>\n",
       "      <td>0.000364</td>\n",
       "      <td>0.000114</td>\n",
       "      <td>0.000380</td>\n",
       "    </tr>\n",
       "    <tr>\n",
       "      <td>3</td>\n",
       "      <td>installed_capacity</td>\n",
       "      <td>0.935136</td>\n",
       "      <td>0.853914</td>\n",
       "      <td>0.908839</td>\n",
       "      <td>0.877581</td>\n",
       "      <td>0.903258</td>\n",
       "      <td>0.902903</td>\n",
       "      <td>0.927751</td>\n",
       "      <td>0.907408</td>\n",
       "      <td>0.884055</td>\n",
       "      <td>0.852414</td>\n",
       "      <td>0.900127</td>\n",
       "      <td>0.900568</td>\n",
       "      <td>0.845155</td>\n",
       "      <td>0.889905</td>\n",
       "      <td>0.922948</td>\n",
       "      <td>0.917238</td>\n",
       "    </tr>\n",
       "    <tr>\n",
       "      <td>4</td>\n",
       "      <td>lifetime</td>\n",
       "      <td>0.001606</td>\n",
       "      <td>0.000729</td>\n",
       "      <td>0.002197</td>\n",
       "      <td>0.000140</td>\n",
       "      <td>0.005073</td>\n",
       "      <td>0.002278</td>\n",
       "      <td>0.000135</td>\n",
       "      <td>0.002207</td>\n",
       "      <td>0.002040</td>\n",
       "      <td>0.001421</td>\n",
       "      <td>0.002364</td>\n",
       "      <td>0.002326</td>\n",
       "      <td>0.002048</td>\n",
       "      <td>0.000138</td>\n",
       "      <td>0.002079</td>\n",
       "      <td>0.000014</td>\n",
       "    </tr>\n",
       "    <tr>\n",
       "      <td>5</td>\n",
       "      <td>capacity_factor</td>\n",
       "      <td>0.002425</td>\n",
       "      <td>0.001294</td>\n",
       "      <td>0.002412</td>\n",
       "      <td>0.001448</td>\n",
       "      <td>0.002421</td>\n",
       "      <td>0.002415</td>\n",
       "      <td>0.002090</td>\n",
       "      <td>0.002417</td>\n",
       "      <td>0.001358</td>\n",
       "      <td>0.001476</td>\n",
       "      <td>0.002424</td>\n",
       "      <td>0.002424</td>\n",
       "      <td>0.001959</td>\n",
       "      <td>0.001531</td>\n",
       "      <td>0.002350</td>\n",
       "      <td>0.001870</td>\n",
       "    </tr>\n",
       "    <tr>\n",
       "      <td>6</td>\n",
       "      <td>auxiliary_power</td>\n",
       "      <td>0.016981</td>\n",
       "      <td>0.019749</td>\n",
       "      <td>0.015614</td>\n",
       "      <td>0.019777</td>\n",
       "      <td>0.015225</td>\n",
       "      <td>0.015304</td>\n",
       "      <td>0.018657</td>\n",
       "      <td>0.015553</td>\n",
       "      <td>0.019525</td>\n",
       "      <td>0.020008</td>\n",
       "      <td>0.015151</td>\n",
       "      <td>0.015174</td>\n",
       "      <td>0.020828</td>\n",
       "      <td>0.019893</td>\n",
       "      <td>0.016494</td>\n",
       "      <td>0.019627</td>\n",
       "    </tr>\n",
       "    <tr>\n",
       "      <td>7</td>\n",
       "      <td>specific_diesel_consumption</td>\n",
       "      <td>0.016757</td>\n",
       "      <td>0.000063</td>\n",
       "      <td>0.022397</td>\n",
       "      <td>0.000170</td>\n",
       "      <td>0.022987</td>\n",
       "      <td>0.024082</td>\n",
       "      <td>0.005784</td>\n",
       "      <td>0.022821</td>\n",
       "      <td>0.000182</td>\n",
       "      <td>0.000094</td>\n",
       "      <td>0.025086</td>\n",
       "      <td>0.024989</td>\n",
       "      <td>0.000052</td>\n",
       "      <td>0.000037</td>\n",
       "      <td>0.016888</td>\n",
       "      <td>0.001635</td>\n",
       "    </tr>\n",
       "    <tr>\n",
       "      <td>8</td>\n",
       "      <td>specific_steel_consumption</td>\n",
       "      <td>0.007657</td>\n",
       "      <td>0.038606</td>\n",
       "      <td>0.003442</td>\n",
       "      <td>0.029173</td>\n",
       "      <td>0.002227</td>\n",
       "      <td>0.002246</td>\n",
       "      <td>0.026530</td>\n",
       "      <td>0.003167</td>\n",
       "      <td>0.013334</td>\n",
       "      <td>0.052483</td>\n",
       "      <td>0.001364</td>\n",
       "      <td>0.001499</td>\n",
       "      <td>0.056911</td>\n",
       "      <td>0.042568</td>\n",
       "      <td>0.007652</td>\n",
       "      <td>0.030947</td>\n",
       "    </tr>\n",
       "    <tr>\n",
       "      <td>9</td>\n",
       "      <td>specific_cement_consumption</td>\n",
       "      <td>0.008216</td>\n",
       "      <td>0.000265</td>\n",
       "      <td>0.001742</td>\n",
       "      <td>0.001863</td>\n",
       "      <td>0.001441</td>\n",
       "      <td>0.001050</td>\n",
       "      <td>0.005699</td>\n",
       "      <td>0.001717</td>\n",
       "      <td>0.000451</td>\n",
       "      <td>0.002539</td>\n",
       "      <td>0.001030</td>\n",
       "      <td>0.001092</td>\n",
       "      <td>0.001744</td>\n",
       "      <td>0.006608</td>\n",
       "      <td>0.002825</td>\n",
       "      <td>0.007819</td>\n",
       "    </tr>\n",
       "    <tr>\n",
       "      <td>10</td>\n",
       "      <td>specific_drilling_mud_consumption</td>\n",
       "      <td>0.000274</td>\n",
       "      <td>0.000032</td>\n",
       "      <td>0.000116</td>\n",
       "      <td>0.000126</td>\n",
       "      <td>0.000118</td>\n",
       "      <td>0.000088</td>\n",
       "      <td>0.000394</td>\n",
       "      <td>0.000109</td>\n",
       "      <td>0.000071</td>\n",
       "      <td>0.000280</td>\n",
       "      <td>0.000070</td>\n",
       "      <td>0.000050</td>\n",
       "      <td>0.000248</td>\n",
       "      <td>0.001769</td>\n",
       "      <td>0.000593</td>\n",
       "      <td>0.000447</td>\n",
       "    </tr>\n",
       "    <tr>\n",
       "      <td>11</td>\n",
       "      <td>number_of_wells_stimulated_0to1</td>\n",
       "      <td>0.002295</td>\n",
       "      <td>0.000073</td>\n",
       "      <td>0.002866</td>\n",
       "      <td>0.000206</td>\n",
       "      <td>0.002946</td>\n",
       "      <td>0.002986</td>\n",
       "      <td>0.001308</td>\n",
       "      <td>0.002902</td>\n",
       "      <td>0.000099</td>\n",
       "      <td>0.000307</td>\n",
       "      <td>0.003071</td>\n",
       "      <td>0.003063</td>\n",
       "      <td>0.000974</td>\n",
       "      <td>0.000427</td>\n",
       "      <td>0.002387</td>\n",
       "      <td>0.000776</td>\n",
       "    </tr>\n",
       "    <tr>\n",
       "      <td>12</td>\n",
       "      <td>water_stimulation</td>\n",
       "      <td>0.037968</td>\n",
       "      <td>0.002460</td>\n",
       "      <td>0.041110</td>\n",
       "      <td>0.006462</td>\n",
       "      <td>0.041232</td>\n",
       "      <td>0.041621</td>\n",
       "      <td>0.028362</td>\n",
       "      <td>0.041371</td>\n",
       "      <td>0.003057</td>\n",
       "      <td>0.010296</td>\n",
       "      <td>0.042069</td>\n",
       "      <td>0.042047</td>\n",
       "      <td>0.029395</td>\n",
       "      <td>0.013165</td>\n",
       "      <td>0.037973</td>\n",
       "      <td>0.020314</td>\n",
       "    </tr>\n",
       "    <tr>\n",
       "      <td>13</td>\n",
       "      <td>specific_electricity_stimulation</td>\n",
       "      <td>0.030741</td>\n",
       "      <td>0.001329</td>\n",
       "      <td>0.034811</td>\n",
       "      <td>0.003797</td>\n",
       "      <td>0.035485</td>\n",
       "      <td>0.035859</td>\n",
       "      <td>0.019746</td>\n",
       "      <td>0.035223</td>\n",
       "      <td>0.001888</td>\n",
       "      <td>0.005858</td>\n",
       "      <td>0.036575</td>\n",
       "      <td>0.036512</td>\n",
       "      <td>0.016987</td>\n",
       "      <td>0.007325</td>\n",
       "      <td>0.030688</td>\n",
       "      <td>0.013075</td>\n",
       "    </tr>\n",
       "    <tr>\n",
       "      <td>14</td>\n",
       "      <td>success_rate_exploration_wells</td>\n",
       "      <td>0.006217</td>\n",
       "      <td>0.007462</td>\n",
       "      <td>0.006344</td>\n",
       "      <td>0.006458</td>\n",
       "      <td>0.006242</td>\n",
       "      <td>0.006285</td>\n",
       "      <td>0.007864</td>\n",
       "      <td>0.006313</td>\n",
       "      <td>0.004173</td>\n",
       "      <td>0.008702</td>\n",
       "      <td>0.006173</td>\n",
       "      <td>0.006191</td>\n",
       "      <td>0.007696</td>\n",
       "      <td>0.007857</td>\n",
       "      <td>0.006572</td>\n",
       "      <td>0.007283</td>\n",
       "    </tr>\n",
       "    <tr>\n",
       "      <td>15</td>\n",
       "      <td>success_rate_primary_wells</td>\n",
       "      <td>0.018402</td>\n",
       "      <td>0.001243</td>\n",
       "      <td>0.019297</td>\n",
       "      <td>0.003524</td>\n",
       "      <td>0.019612</td>\n",
       "      <td>0.019571</td>\n",
       "      <td>0.012741</td>\n",
       "      <td>0.019385</td>\n",
       "      <td>0.003247</td>\n",
       "      <td>0.003090</td>\n",
       "      <td>0.019786</td>\n",
       "      <td>0.019754</td>\n",
       "      <td>0.005999</td>\n",
       "      <td>0.005891</td>\n",
       "      <td>0.018193</td>\n",
       "      <td>0.009218</td>\n",
       "    </tr>\n",
       "  </tbody>\n",
       "</table>\n",
       "</div>"
      ],
      "text/plain": [
       "                           parameters  climate change total  \\\n",
       "0                     number_of_wells              0.022744   \n",
       "1              average_depth_of_wells              0.051711   \n",
       "2                collection_pipelines              0.000124   \n",
       "3                  installed_capacity              0.935136   \n",
       "4                            lifetime              0.001606   \n",
       "5                     capacity_factor              0.002425   \n",
       "6                     auxiliary_power              0.016981   \n",
       "7         specific_diesel_consumption              0.016757   \n",
       "8          specific_steel_consumption              0.007657   \n",
       "9         specific_cement_consumption              0.008216   \n",
       "10  specific_drilling_mud_consumption              0.000274   \n",
       "11    number_of_wells_stimulated_0to1              0.002295   \n",
       "12                  water_stimulation              0.037968   \n",
       "13   specific_electricity_stimulation              0.030741   \n",
       "14     success_rate_exploration_wells              0.006217   \n",
       "15         success_rate_primary_wells              0.018402   \n",
       "\n",
       "    carcinogenic effects  ionising radiation  non-carcinogenic effects  \\\n",
       "0               0.012658            0.023133                  0.014555   \n",
       "1               0.101815            0.042756                  0.098781   \n",
       "2               0.000275            0.000057                  0.000244   \n",
       "3               0.853914            0.908839                  0.877581   \n",
       "4               0.000729            0.002197                  0.000140   \n",
       "5               0.001294            0.002412                  0.001448   \n",
       "6               0.019749            0.015614                  0.019777   \n",
       "7               0.000063            0.022397                  0.000170   \n",
       "8               0.038606            0.003442                  0.029173   \n",
       "9               0.000265            0.001742                  0.001863   \n",
       "10              0.000032            0.000116                  0.000126   \n",
       "11              0.000073            0.002866                  0.000206   \n",
       "12              0.002460            0.041110                  0.006462   \n",
       "13              0.001329            0.034811                  0.003797   \n",
       "14              0.007462            0.006344                  0.006458   \n",
       "15              0.001243            0.019297                  0.003524   \n",
       "\n",
       "    ozone layer depletion  photochemical ozone creation  \\\n",
       "0                0.023360                      0.023337   \n",
       "1                0.041055                      0.040760   \n",
       "2                0.000041                      0.000037   \n",
       "3                0.903258                      0.902903   \n",
       "4                0.005073                      0.002278   \n",
       "5                0.002421                      0.002415   \n",
       "6                0.015225                      0.015304   \n",
       "7                0.022987                      0.024082   \n",
       "8                0.002227                      0.002246   \n",
       "9                0.001441                      0.001050   \n",
       "10               0.000118                      0.000088   \n",
       "11               0.002946                      0.002986   \n",
       "12               0.041232                      0.041621   \n",
       "13               0.035485                      0.035859   \n",
       "14               0.006242                      0.006285   \n",
       "15               0.019612                      0.019571   \n",
       "\n",
       "    respiratory effects, inorganics  freshwater and terrestrial acidification  \\\n",
       "0                          0.018082                                  0.023183   \n",
       "1                          0.068887                                  0.042230   \n",
       "2                          0.000306                                  0.000059   \n",
       "3                          0.927751                                  0.907408   \n",
       "4                          0.000135                                  0.002207   \n",
       "5                          0.002090                                  0.002417   \n",
       "6                          0.018657                                  0.015553   \n",
       "7                          0.005784                                  0.022821   \n",
       "8                          0.026530                                  0.003167   \n",
       "9                          0.005699                                  0.001717   \n",
       "10                         0.000394                                  0.000109   \n",
       "11                         0.001308                                  0.002902   \n",
       "12                         0.028362                                  0.041371   \n",
       "13                         0.019746                                  0.035223   \n",
       "14                         0.007864                                  0.006313   \n",
       "15                         0.012741                                  0.019385   \n",
       "\n",
       "    freshwater ecotoxicity  freshwater eutrophication  marine eutrophication  \\\n",
       "0                 0.016432                   0.011623               0.023533   \n",
       "1                 0.103381                   0.094657               0.039668   \n",
       "2                 0.000135                   0.000354               0.000026   \n",
       "3                 0.884055                   0.852414               0.900127   \n",
       "4                 0.002040                   0.001421               0.002364   \n",
       "5                 0.001358                   0.001476               0.002424   \n",
       "6                 0.019525                   0.020008               0.015151   \n",
       "7                 0.000182                   0.000094               0.025086   \n",
       "8                 0.013334                   0.052483               0.001364   \n",
       "9                 0.000451                   0.002539               0.001030   \n",
       "10                0.000071                   0.000280               0.000070   \n",
       "11                0.000099                   0.000307               0.003071   \n",
       "12                0.003057                   0.010296               0.042069   \n",
       "13                0.001888                   0.005858               0.036575   \n",
       "14                0.004173                   0.008702               0.006173   \n",
       "15                0.003247                   0.003090               0.019786   \n",
       "\n",
       "    terrestrial eutrophication  minerals and metals  dissipated water  \\\n",
       "0                     0.023506             0.011111          0.014036   \n",
       "1                     0.039783             0.085280          0.092154   \n",
       "2                     0.000029             0.000401          0.000364   \n",
       "3                     0.900568             0.845155          0.889905   \n",
       "4                     0.002326             0.002048          0.000138   \n",
       "5                     0.002424             0.001959          0.001531   \n",
       "6                     0.015174             0.020828          0.019893   \n",
       "7                     0.024989             0.000052          0.000037   \n",
       "8                     0.001499             0.056911          0.042568   \n",
       "9                     0.001092             0.001744          0.006608   \n",
       "10                    0.000050             0.000248          0.001769   \n",
       "11                    0.003063             0.000974          0.000427   \n",
       "12                    0.042047             0.029395          0.013165   \n",
       "13                    0.036512             0.016987          0.007325   \n",
       "14                    0.006191             0.007696          0.007857   \n",
       "15                    0.019754             0.005999          0.005891   \n",
       "\n",
       "     fossils  land use  \n",
       "0   0.022294  0.016415  \n",
       "1   0.049855  0.082133  \n",
       "2   0.000114  0.000380  \n",
       "3   0.922948  0.917238  \n",
       "4   0.002079  0.000014  \n",
       "5   0.002350  0.001870  \n",
       "6   0.016494  0.019627  \n",
       "7   0.016888  0.001635  \n",
       "8   0.007652  0.030947  \n",
       "9   0.002825  0.007819  \n",
       "10  0.000593  0.000447  \n",
       "11  0.002387  0.000776  \n",
       "12  0.037973  0.020314  \n",
       "13  0.030688  0.013075  \n",
       "14  0.006572  0.007283  \n",
       "15  0.018193  0.009218  "
      ]
     },
     "execution_count": 66,
     "metadata": {},
     "output_type": "execute_result"
    }
   ],
   "source": [
    "first_df"
   ]
  },
  {
   "cell_type": "code",
   "execution_count": 59,
   "metadata": {},
   "outputs": [
    {
     "data": {
      "text/html": [
       "<div>\n",
       "<style scoped>\n",
       "    .dataframe tbody tr th:only-of-type {\n",
       "        vertical-align: middle;\n",
       "    }\n",
       "\n",
       "    .dataframe tbody tr th {\n",
       "        vertical-align: top;\n",
       "    }\n",
       "\n",
       "    .dataframe thead th {\n",
       "        text-align: right;\n",
       "    }\n",
       "</style>\n",
       "<table border=\"1\" class=\"dataframe\">\n",
       "  <thead>\n",
       "    <tr style=\"text-align: right;\">\n",
       "      <th></th>\n",
       "      <th>parameters</th>\n",
       "      <th>climate change total</th>\n",
       "      <th>carcinogenic effects</th>\n",
       "      <th>ionising radiation</th>\n",
       "      <th>non-carcinogenic effects</th>\n",
       "      <th>ozone layer depletion</th>\n",
       "      <th>photochemical ozone creation</th>\n",
       "      <th>respiratory effects, inorganics</th>\n",
       "      <th>freshwater and terrestrial acidification</th>\n",
       "      <th>freshwater ecotoxicity</th>\n",
       "      <th>freshwater eutrophication</th>\n",
       "      <th>marine eutrophication</th>\n",
       "      <th>terrestrial eutrophication</th>\n",
       "      <th>minerals and metals</th>\n",
       "      <th>dissipated water</th>\n",
       "      <th>fossils</th>\n",
       "      <th>land use</th>\n",
       "    </tr>\n",
       "  </thead>\n",
       "  <tbody>\n",
       "    <tr>\n",
       "      <td>0</td>\n",
       "      <td>gross_power_per_well</td>\n",
       "      <td>2.464539e-03</td>\n",
       "      <td>7.177896e-01</td>\n",
       "      <td>0.714757</td>\n",
       "      <td>7.133210e-01</td>\n",
       "      <td>0.709919</td>\n",
       "      <td>0.710349</td>\n",
       "      <td>0.732350</td>\n",
       "      <td>0.715950</td>\n",
       "      <td>6.964034e-01</td>\n",
       "      <td>0.725082</td>\n",
       "      <td>0.706075</td>\n",
       "      <td>0.708050</td>\n",
       "      <td>7.347852e-01</td>\n",
       "      <td>0.712702</td>\n",
       "      <td>0.714175</td>\n",
       "      <td>0.729539</td>\n",
       "    </tr>\n",
       "    <tr>\n",
       "      <td>1</td>\n",
       "      <td>average_depth_of_wells</td>\n",
       "      <td>1.030810e-03</td>\n",
       "      <td>3.060846e-01</td>\n",
       "      <td>0.334237</td>\n",
       "      <td>3.199665e-01</td>\n",
       "      <td>0.348092</td>\n",
       "      <td>0.351092</td>\n",
       "      <td>0.248386</td>\n",
       "      <td>0.331203</td>\n",
       "      <td>3.720373e-01</td>\n",
       "      <td>0.263599</td>\n",
       "      <td>0.363895</td>\n",
       "      <td>0.360234</td>\n",
       "      <td>2.329985e-01</td>\n",
       "      <td>0.264373</td>\n",
       "      <td>0.306636</td>\n",
       "      <td>0.252753</td>\n",
       "    </tr>\n",
       "    <tr>\n",
       "      <td>2</td>\n",
       "      <td>collection_pipelines</td>\n",
       "      <td>9.087921e-06</td>\n",
       "      <td>2.351854e-03</td>\n",
       "      <td>0.001124</td>\n",
       "      <td>1.831272e-03</td>\n",
       "      <td>0.000715</td>\n",
       "      <td>0.000621</td>\n",
       "      <td>0.005746</td>\n",
       "      <td>0.001252</td>\n",
       "      <td>4.731268e-04</td>\n",
       "      <td>0.004457</td>\n",
       "      <td>0.000344</td>\n",
       "      <td>0.000419</td>\n",
       "      <td>5.403984e-03</td>\n",
       "      <td>0.004630</td>\n",
       "      <td>0.002292</td>\n",
       "      <td>0.005815</td>\n",
       "    </tr>\n",
       "    <tr>\n",
       "      <td>3</td>\n",
       "      <td>installed_capacity</td>\n",
       "      <td>3.117321e-05</td>\n",
       "      <td>1.046197e-02</td>\n",
       "      <td>0.008829</td>\n",
       "      <td>1.040021e-02</td>\n",
       "      <td>0.008642</td>\n",
       "      <td>0.008643</td>\n",
       "      <td>0.009668</td>\n",
       "      <td>0.008748</td>\n",
       "      <td>1.046412e-02</td>\n",
       "      <td>0.010224</td>\n",
       "      <td>0.008461</td>\n",
       "      <td>0.008485</td>\n",
       "      <td>1.013907e-02</td>\n",
       "      <td>0.009789</td>\n",
       "      <td>0.009173</td>\n",
       "      <td>0.009750</td>\n",
       "    </tr>\n",
       "    <tr>\n",
       "      <td>4</td>\n",
       "      <td>co2_emissions</td>\n",
       "      <td>8.708780e-01</td>\n",
       "      <td>0.000000e+00</td>\n",
       "      <td>0.000000</td>\n",
       "      <td>0.000000e+00</td>\n",
       "      <td>0.000000</td>\n",
       "      <td>0.000000</td>\n",
       "      <td>0.000000</td>\n",
       "      <td>0.000000</td>\n",
       "      <td>0.000000e+00</td>\n",
       "      <td>0.000000</td>\n",
       "      <td>0.000000</td>\n",
       "      <td>0.000000</td>\n",
       "      <td>0.000000e+00</td>\n",
       "      <td>0.000000</td>\n",
       "      <td>0.000000</td>\n",
       "      <td>0.000000</td>\n",
       "    </tr>\n",
       "    <tr>\n",
       "      <td>5</td>\n",
       "      <td>lifetime</td>\n",
       "      <td>1.231179e-04</td>\n",
       "      <td>3.272747e-02</td>\n",
       "      <td>0.038194</td>\n",
       "      <td>3.420196e-02</td>\n",
       "      <td>0.039324</td>\n",
       "      <td>0.038571</td>\n",
       "      <td>0.032004</td>\n",
       "      <td>0.038159</td>\n",
       "      <td>3.703438e-02</td>\n",
       "      <td>0.032795</td>\n",
       "      <td>0.039614</td>\n",
       "      <td>0.039269</td>\n",
       "      <td>3.362429e-02</td>\n",
       "      <td>0.033814</td>\n",
       "      <td>0.036167</td>\n",
       "      <td>0.033388</td>\n",
       "    </tr>\n",
       "    <tr>\n",
       "      <td>6</td>\n",
       "      <td>capacity_factor</td>\n",
       "      <td>6.080711e-06</td>\n",
       "      <td>1.606973e-03</td>\n",
       "      <td>0.001791</td>\n",
       "      <td>1.634720e-03</td>\n",
       "      <td>0.001803</td>\n",
       "      <td>0.001760</td>\n",
       "      <td>0.001754</td>\n",
       "      <td>0.001798</td>\n",
       "      <td>1.612447e-03</td>\n",
       "      <td>0.001749</td>\n",
       "      <td>0.001772</td>\n",
       "      <td>0.001766</td>\n",
       "      <td>1.892608e-03</td>\n",
       "      <td>0.001792</td>\n",
       "      <td>0.001774</td>\n",
       "      <td>0.001805</td>\n",
       "    </tr>\n",
       "    <tr>\n",
       "      <td>7</td>\n",
       "      <td>auxiliary_power</td>\n",
       "      <td>1.718805e-07</td>\n",
       "      <td>5.136822e-05</td>\n",
       "      <td>0.000046</td>\n",
       "      <td>5.048325e-05</td>\n",
       "      <td>0.000044</td>\n",
       "      <td>0.000042</td>\n",
       "      <td>0.000058</td>\n",
       "      <td>0.000046</td>\n",
       "      <td>4.498109e-05</td>\n",
       "      <td>0.000060</td>\n",
       "      <td>0.000041</td>\n",
       "      <td>0.000041</td>\n",
       "      <td>6.753932e-05</td>\n",
       "      <td>0.000059</td>\n",
       "      <td>0.000050</td>\n",
       "      <td>0.000059</td>\n",
       "    </tr>\n",
       "    <tr>\n",
       "      <td>8</td>\n",
       "      <td>specific_diesel_consumption</td>\n",
       "      <td>7.362916e-06</td>\n",
       "      <td>1.123496e-07</td>\n",
       "      <td>0.005722</td>\n",
       "      <td>3.118683e-06</td>\n",
       "      <td>0.007343</td>\n",
       "      <td>0.007881</td>\n",
       "      <td>0.000245</td>\n",
       "      <td>0.006104</td>\n",
       "      <td>9.668410e-07</td>\n",
       "      <td>0.000002</td>\n",
       "      <td>0.009723</td>\n",
       "      <td>0.009488</td>\n",
       "      <td>2.004802e-06</td>\n",
       "      <td>0.000008</td>\n",
       "      <td>0.002156</td>\n",
       "      <td>0.000059</td>\n",
       "    </tr>\n",
       "    <tr>\n",
       "      <td>9</td>\n",
       "      <td>specific_steel_consumption</td>\n",
       "      <td>3.415945e-05</td>\n",
       "      <td>1.975948e-02</td>\n",
       "      <td>0.004519</td>\n",
       "      <td>1.411616e-02</td>\n",
       "      <td>0.002418</td>\n",
       "      <td>0.002563</td>\n",
       "      <td>0.025466</td>\n",
       "      <td>0.004046</td>\n",
       "      <td>3.641156e-03</td>\n",
       "      <td>0.033400</td>\n",
       "      <td>0.001153</td>\n",
       "      <td>0.001359</td>\n",
       "      <td>3.982291e-02</td>\n",
       "      <td>0.025646</td>\n",
       "      <td>0.009754</td>\n",
       "      <td>0.020904</td>\n",
       "    </tr>\n",
       "    <tr>\n",
       "      <td>10</td>\n",
       "      <td>specific_cement_consumption</td>\n",
       "      <td>4.476796e-07</td>\n",
       "      <td>1.636195e-08</td>\n",
       "      <td>0.000012</td>\n",
       "      <td>9.351230e-07</td>\n",
       "      <td>0.000010</td>\n",
       "      <td>0.000006</td>\n",
       "      <td>0.000017</td>\n",
       "      <td>0.000012</td>\n",
       "      <td>5.884728e-08</td>\n",
       "      <td>0.000001</td>\n",
       "      <td>0.000006</td>\n",
       "      <td>0.000007</td>\n",
       "      <td>6.873478e-07</td>\n",
       "      <td>0.000011</td>\n",
       "      <td>0.000015</td>\n",
       "      <td>0.000021</td>\n",
       "    </tr>\n",
       "    <tr>\n",
       "      <td>11</td>\n",
       "      <td>specific_drilling_mud_consumption</td>\n",
       "      <td>5.632487e-07</td>\n",
       "      <td>5.017866e-07</td>\n",
       "      <td>0.000055</td>\n",
       "      <td>7.920011e-06</td>\n",
       "      <td>0.000070</td>\n",
       "      <td>0.000040</td>\n",
       "      <td>0.000133</td>\n",
       "      <td>0.000050</td>\n",
       "      <td>2.138999e-06</td>\n",
       "      <td>0.000045</td>\n",
       "      <td>0.000030</td>\n",
       "      <td>0.000015</td>\n",
       "      <td>3.041778e-05</td>\n",
       "      <td>0.002104</td>\n",
       "      <td>0.000774</td>\n",
       "      <td>0.000124</td>\n",
       "    </tr>\n",
       "    <tr>\n",
       "      <td>12</td>\n",
       "      <td>initial_harmonic_decline_rate</td>\n",
       "      <td>5.114876e-04</td>\n",
       "      <td>1.552841e-01</td>\n",
       "      <td>0.137031</td>\n",
       "      <td>1.510978e-01</td>\n",
       "      <td>0.131723</td>\n",
       "      <td>0.130983</td>\n",
       "      <td>0.166648</td>\n",
       "      <td>0.137173</td>\n",
       "      <td>1.372136e-01</td>\n",
       "      <td>0.165326</td>\n",
       "      <td>0.126106</td>\n",
       "      <td>0.127326</td>\n",
       "      <td>1.731146e-01</td>\n",
       "      <td>0.162095</td>\n",
       "      <td>0.146870</td>\n",
       "      <td>0.165570</td>\n",
       "    </tr>\n",
       "    <tr>\n",
       "      <td>13</td>\n",
       "      <td>production_to_injection_ratio</td>\n",
       "      <td>2.262842e-05</td>\n",
       "      <td>6.714094e-03</td>\n",
       "      <td>0.006463</td>\n",
       "      <td>6.681006e-03</td>\n",
       "      <td>0.006409</td>\n",
       "      <td>0.006399</td>\n",
       "      <td>0.006792</td>\n",
       "      <td>0.006465</td>\n",
       "      <td>6.570755e-03</td>\n",
       "      <td>0.006777</td>\n",
       "      <td>0.006352</td>\n",
       "      <td>0.006365</td>\n",
       "      <td>6.813637e-03</td>\n",
       "      <td>0.006742</td>\n",
       "      <td>0.006573</td>\n",
       "      <td>0.006810</td>\n",
       "    </tr>\n",
       "    <tr>\n",
       "      <td>14</td>\n",
       "      <td>success_rate_exploration_wells</td>\n",
       "      <td>1.153660e-06</td>\n",
       "      <td>3.923542e-04</td>\n",
       "      <td>0.000350</td>\n",
       "      <td>4.043533e-04</td>\n",
       "      <td>0.000354</td>\n",
       "      <td>0.000355</td>\n",
       "      <td>0.000309</td>\n",
       "      <td>0.000344</td>\n",
       "      <td>4.595114e-04</td>\n",
       "      <td>0.000344</td>\n",
       "      <td>0.000358</td>\n",
       "      <td>0.000356</td>\n",
       "      <td>3.080113e-04</td>\n",
       "      <td>0.000337</td>\n",
       "      <td>0.000345</td>\n",
       "      <td>0.000319</td>\n",
       "    </tr>\n",
       "    <tr>\n",
       "      <td>15</td>\n",
       "      <td>success_rate_primary_wells</td>\n",
       "      <td>2.611037e-04</td>\n",
       "      <td>7.321153e-02</td>\n",
       "      <td>0.086718</td>\n",
       "      <td>7.745070e-02</td>\n",
       "      <td>0.091376</td>\n",
       "      <td>0.092176</td>\n",
       "      <td>0.059643</td>\n",
       "      <td>0.086171</td>\n",
       "      <td>9.211837e-02</td>\n",
       "      <td>0.061855</td>\n",
       "      <td>0.096517</td>\n",
       "      <td>0.095375</td>\n",
       "      <td>5.393052e-02</td>\n",
       "      <td>0.063767</td>\n",
       "      <td>0.077793</td>\n",
       "      <td>0.060762</td>\n",
       "    </tr>\n",
       "    <tr>\n",
       "      <td>16</td>\n",
       "      <td>success_rate_makeup_wells</td>\n",
       "      <td>9.711714e-06</td>\n",
       "      <td>2.829351e-03</td>\n",
       "      <td>0.003232</td>\n",
       "      <td>2.942430e-03</td>\n",
       "      <td>0.003385</td>\n",
       "      <td>0.003425</td>\n",
       "      <td>0.002329</td>\n",
       "      <td>0.003209</td>\n",
       "      <td>3.380479e-03</td>\n",
       "      <td>0.002463</td>\n",
       "      <td>0.003570</td>\n",
       "      <td>0.003533</td>\n",
       "      <td>2.194448e-03</td>\n",
       "      <td>0.002433</td>\n",
       "      <td>0.002899</td>\n",
       "      <td>0.002344</td>\n",
       "    </tr>\n",
       "  </tbody>\n",
       "</table>\n",
       "</div>"
      ],
      "text/plain": [
       "                           parameters  climate change total  \\\n",
       "0                gross_power_per_well          2.464539e-03   \n",
       "1              average_depth_of_wells          1.030810e-03   \n",
       "2                collection_pipelines          9.087921e-06   \n",
       "3                  installed_capacity          3.117321e-05   \n",
       "4                       co2_emissions          8.708780e-01   \n",
       "5                            lifetime          1.231179e-04   \n",
       "6                     capacity_factor          6.080711e-06   \n",
       "7                     auxiliary_power          1.718805e-07   \n",
       "8         specific_diesel_consumption          7.362916e-06   \n",
       "9          specific_steel_consumption          3.415945e-05   \n",
       "10        specific_cement_consumption          4.476796e-07   \n",
       "11  specific_drilling_mud_consumption          5.632487e-07   \n",
       "12      initial_harmonic_decline_rate          5.114876e-04   \n",
       "13      production_to_injection_ratio          2.262842e-05   \n",
       "14     success_rate_exploration_wells          1.153660e-06   \n",
       "15         success_rate_primary_wells          2.611037e-04   \n",
       "16          success_rate_makeup_wells          9.711714e-06   \n",
       "\n",
       "    carcinogenic effects  ionising radiation  non-carcinogenic effects  \\\n",
       "0           7.177896e-01            0.714757              7.133210e-01   \n",
       "1           3.060846e-01            0.334237              3.199665e-01   \n",
       "2           2.351854e-03            0.001124              1.831272e-03   \n",
       "3           1.046197e-02            0.008829              1.040021e-02   \n",
       "4           0.000000e+00            0.000000              0.000000e+00   \n",
       "5           3.272747e-02            0.038194              3.420196e-02   \n",
       "6           1.606973e-03            0.001791              1.634720e-03   \n",
       "7           5.136822e-05            0.000046              5.048325e-05   \n",
       "8           1.123496e-07            0.005722              3.118683e-06   \n",
       "9           1.975948e-02            0.004519              1.411616e-02   \n",
       "10          1.636195e-08            0.000012              9.351230e-07   \n",
       "11          5.017866e-07            0.000055              7.920011e-06   \n",
       "12          1.552841e-01            0.137031              1.510978e-01   \n",
       "13          6.714094e-03            0.006463              6.681006e-03   \n",
       "14          3.923542e-04            0.000350              4.043533e-04   \n",
       "15          7.321153e-02            0.086718              7.745070e-02   \n",
       "16          2.829351e-03            0.003232              2.942430e-03   \n",
       "\n",
       "    ozone layer depletion  photochemical ozone creation  \\\n",
       "0                0.709919                      0.710349   \n",
       "1                0.348092                      0.351092   \n",
       "2                0.000715                      0.000621   \n",
       "3                0.008642                      0.008643   \n",
       "4                0.000000                      0.000000   \n",
       "5                0.039324                      0.038571   \n",
       "6                0.001803                      0.001760   \n",
       "7                0.000044                      0.000042   \n",
       "8                0.007343                      0.007881   \n",
       "9                0.002418                      0.002563   \n",
       "10               0.000010                      0.000006   \n",
       "11               0.000070                      0.000040   \n",
       "12               0.131723                      0.130983   \n",
       "13               0.006409                      0.006399   \n",
       "14               0.000354                      0.000355   \n",
       "15               0.091376                      0.092176   \n",
       "16               0.003385                      0.003425   \n",
       "\n",
       "    respiratory effects, inorganics  freshwater and terrestrial acidification  \\\n",
       "0                          0.732350                                  0.715950   \n",
       "1                          0.248386                                  0.331203   \n",
       "2                          0.005746                                  0.001252   \n",
       "3                          0.009668                                  0.008748   \n",
       "4                          0.000000                                  0.000000   \n",
       "5                          0.032004                                  0.038159   \n",
       "6                          0.001754                                  0.001798   \n",
       "7                          0.000058                                  0.000046   \n",
       "8                          0.000245                                  0.006104   \n",
       "9                          0.025466                                  0.004046   \n",
       "10                         0.000017                                  0.000012   \n",
       "11                         0.000133                                  0.000050   \n",
       "12                         0.166648                                  0.137173   \n",
       "13                         0.006792                                  0.006465   \n",
       "14                         0.000309                                  0.000344   \n",
       "15                         0.059643                                  0.086171   \n",
       "16                         0.002329                                  0.003209   \n",
       "\n",
       "    freshwater ecotoxicity  freshwater eutrophication  marine eutrophication  \\\n",
       "0             6.964034e-01                   0.725082               0.706075   \n",
       "1             3.720373e-01                   0.263599               0.363895   \n",
       "2             4.731268e-04                   0.004457               0.000344   \n",
       "3             1.046412e-02                   0.010224               0.008461   \n",
       "4             0.000000e+00                   0.000000               0.000000   \n",
       "5             3.703438e-02                   0.032795               0.039614   \n",
       "6             1.612447e-03                   0.001749               0.001772   \n",
       "7             4.498109e-05                   0.000060               0.000041   \n",
       "8             9.668410e-07                   0.000002               0.009723   \n",
       "9             3.641156e-03                   0.033400               0.001153   \n",
       "10            5.884728e-08                   0.000001               0.000006   \n",
       "11            2.138999e-06                   0.000045               0.000030   \n",
       "12            1.372136e-01                   0.165326               0.126106   \n",
       "13            6.570755e-03                   0.006777               0.006352   \n",
       "14            4.595114e-04                   0.000344               0.000358   \n",
       "15            9.211837e-02                   0.061855               0.096517   \n",
       "16            3.380479e-03                   0.002463               0.003570   \n",
       "\n",
       "    terrestrial eutrophication  minerals and metals  dissipated water  \\\n",
       "0                     0.708050         7.347852e-01          0.712702   \n",
       "1                     0.360234         2.329985e-01          0.264373   \n",
       "2                     0.000419         5.403984e-03          0.004630   \n",
       "3                     0.008485         1.013907e-02          0.009789   \n",
       "4                     0.000000         0.000000e+00          0.000000   \n",
       "5                     0.039269         3.362429e-02          0.033814   \n",
       "6                     0.001766         1.892608e-03          0.001792   \n",
       "7                     0.000041         6.753932e-05          0.000059   \n",
       "8                     0.009488         2.004802e-06          0.000008   \n",
       "9                     0.001359         3.982291e-02          0.025646   \n",
       "10                    0.000007         6.873478e-07          0.000011   \n",
       "11                    0.000015         3.041778e-05          0.002104   \n",
       "12                    0.127326         1.731146e-01          0.162095   \n",
       "13                    0.006365         6.813637e-03          0.006742   \n",
       "14                    0.000356         3.080113e-04          0.000337   \n",
       "15                    0.095375         5.393052e-02          0.063767   \n",
       "16                    0.003533         2.194448e-03          0.002433   \n",
       "\n",
       "     fossils  land use  \n",
       "0   0.714175  0.729539  \n",
       "1   0.306636  0.252753  \n",
       "2   0.002292  0.005815  \n",
       "3   0.009173  0.009750  \n",
       "4   0.000000  0.000000  \n",
       "5   0.036167  0.033388  \n",
       "6   0.001774  0.001805  \n",
       "7   0.000050  0.000059  \n",
       "8   0.002156  0.000059  \n",
       "9   0.009754  0.020904  \n",
       "10  0.000015  0.000021  \n",
       "11  0.000774  0.000124  \n",
       "12  0.146870  0.165570  \n",
       "13  0.006573  0.006810  \n",
       "14  0.000345  0.000319  \n",
       "15  0.077793  0.060762  \n",
       "16  0.002899  0.002344  "
      ]
     },
     "execution_count": 59,
     "metadata": {},
     "output_type": "execute_result"
    }
   ],
   "source": [
    "total_df"
   ]
  },
  {
   "cell_type": "code",
   "execution_count": 52,
   "metadata": {},
   "outputs": [],
   "source": [
    "def normalize_df(df):\n",
    "    norm_df = pd.DataFrame([],index = df.index, columns = df.columns)\n",
    "    norm_df['parameters'] = df['parameters']\n",
    "    for col in df.columns:\n",
    "        if col != 'parameters':\n",
    "            norm_df[col] = df[col] / sum(df[col])\n",
    "    return norm_df"
   ]
  },
  {
   "cell_type": "code",
   "execution_count": 53,
   "metadata": {},
   "outputs": [],
   "source": [
    "# TODO choose total or first here\n",
    "if first_or_total == 'first':\n",
    "    names = first_df['parameters'].tolist()\n",
    "    df = normalize_df(first_df)\n",
    "elif first_or_total == 'total':\n",
    "    names = total_df['parameters'].tolist()\n",
    "    df = normalize_df(total_df)"
   ]
  },
  {
   "cell_type": "code",
   "execution_count": 54,
   "metadata": {},
   "outputs": [],
   "source": [
    "if 'cge' in path:\n",
    "    df = df.set_index('parameters')\n",
    "    new_index = ['co2_emissions',\n",
    "                 'gross_power_per_well', \n",
    "                 'average_depth_of_wells',\n",
    "                 'initial_harmonic_decline_rate',\n",
    "                 'success_rate_primary_wells',\n",
    "                 'lifetime',\n",
    "                 'collection_pipelines', \n",
    "                 'installed_capacity', \n",
    "                 'capacity_factor', \n",
    "                 'auxiliary_power',\n",
    "                 'specific_diesel_consumption', \n",
    "                 'specific_steel_consumption',\n",
    "                 'specific_cement_consumption', \n",
    "                 'specific_drilling_mud_consumption',\n",
    "                 'production_to_injection_ratio',\n",
    "                 'success_rate_exploration_wells', \n",
    "                 'success_rate_makeup_wells']\n",
    "    df = df.reindex(new_index)\n",
    "    df['index'] = np.arange(len(df))\n",
    "    df = df.reset_index()\n",
    "    df = df.set_index('index')\n",
    "elif 'ege' in path:\n",
    "#     df = df.sort_values(by=['climate change total'], ascending=False)\n",
    "#     df['index'] = np.arange(len(df))\n",
    "#     df = df.set_index('index')\n",
    "    df = df.set_index('parameters')\n",
    "    new_index = ['installed_capacity',\n",
    "                 'success_rate_primary_wells',\n",
    "                 'average_depth_of_wells',\n",
    "                 'success_rate_exploration_wells',\n",
    "                 'specific_diesel_consumption',\n",
    "                 'number_of_wells',\n",
    "                 'lifetime',\n",
    "                 'specific_electricity_stimulation',\n",
    "                 'water_stimulation', \n",
    "                 'auxiliary_power',\n",
    "                 'specific_steel_consumption',\n",
    "                 'number_of_wells_stimulated_0to1', \n",
    "                 'capacity_factor', \n",
    "                 'specific_cement_consumption',\n",
    "                 'collection_pipelines',\n",
    "                 'specific_drilling_mud_consumption']\n",
    "    df = df.reindex(new_index)\n",
    "    df['index'] = np.arange(len(df))\n",
    "    df = df.reset_index()\n",
    "    df = df.set_index('index')"
   ]
  },
  {
   "cell_type": "code",
   "execution_count": 55,
   "metadata": {},
   "outputs": [
    {
     "data": {
      "text/html": [
       "<div>\n",
       "<style scoped>\n",
       "    .dataframe tbody tr th:only-of-type {\n",
       "        vertical-align: middle;\n",
       "    }\n",
       "\n",
       "    .dataframe tbody tr th {\n",
       "        vertical-align: top;\n",
       "    }\n",
       "\n",
       "    .dataframe thead th {\n",
       "        text-align: right;\n",
       "    }\n",
       "</style>\n",
       "<table border=\"1\" class=\"dataframe\">\n",
       "  <thead>\n",
       "    <tr style=\"text-align: right;\">\n",
       "      <th></th>\n",
       "      <th>parameters</th>\n",
       "      <th>climate change total</th>\n",
       "      <th>carcinogenic effects</th>\n",
       "      <th>ionising radiation</th>\n",
       "      <th>non-carcinogenic effects</th>\n",
       "      <th>ozone layer depletion</th>\n",
       "      <th>photochemical ozone creation</th>\n",
       "      <th>respiratory effects, inorganics</th>\n",
       "      <th>freshwater and terrestrial acidification</th>\n",
       "      <th>freshwater ecotoxicity</th>\n",
       "      <th>freshwater eutrophication</th>\n",
       "      <th>marine eutrophication</th>\n",
       "      <th>terrestrial eutrophication</th>\n",
       "      <th>minerals and metals</th>\n",
       "      <th>dissipated water</th>\n",
       "      <th>fossils</th>\n",
       "      <th>land use</th>\n",
       "    </tr>\n",
       "    <tr>\n",
       "      <th>index</th>\n",
       "      <th></th>\n",
       "      <th></th>\n",
       "      <th></th>\n",
       "      <th></th>\n",
       "      <th></th>\n",
       "      <th></th>\n",
       "      <th></th>\n",
       "      <th></th>\n",
       "      <th></th>\n",
       "      <th></th>\n",
       "      <th></th>\n",
       "      <th></th>\n",
       "      <th></th>\n",
       "      <th></th>\n",
       "      <th></th>\n",
       "      <th></th>\n",
       "      <th></th>\n",
       "    </tr>\n",
       "  </thead>\n",
       "  <tbody>\n",
       "    <tr>\n",
       "      <td>0</td>\n",
       "      <td>co2_emissions</td>\n",
       "      <td>0.986529</td>\n",
       "      <td>0.000000</td>\n",
       "      <td>0.000000</td>\n",
       "      <td>0.000000</td>\n",
       "      <td>0.000000</td>\n",
       "      <td>0.000000</td>\n",
       "      <td>0.000000</td>\n",
       "      <td>0.000000</td>\n",
       "      <td>0.000000</td>\n",
       "      <td>0.000000</td>\n",
       "      <td>0.000000</td>\n",
       "      <td>0.000000</td>\n",
       "      <td>0.000000</td>\n",
       "      <td>0.000000</td>\n",
       "      <td>0.000000</td>\n",
       "      <td>0.000000</td>\n",
       "    </tr>\n",
       "    <tr>\n",
       "      <td>1</td>\n",
       "      <td>gross_power_per_well</td>\n",
       "      <td>0.002694</td>\n",
       "      <td>0.589764</td>\n",
       "      <td>0.586211</td>\n",
       "      <td>0.586126</td>\n",
       "      <td>0.581852</td>\n",
       "      <td>0.581732</td>\n",
       "      <td>0.606388</td>\n",
       "      <td>0.587307</td>\n",
       "      <td>0.569321</td>\n",
       "      <td>0.597942</td>\n",
       "      <td>0.577271</td>\n",
       "      <td>0.578641</td>\n",
       "      <td>0.606463</td>\n",
       "      <td>0.600621</td>\n",
       "      <td>0.594069</td>\n",
       "      <td>0.604232</td>\n",
       "    </tr>\n",
       "    <tr>\n",
       "      <td>2</td>\n",
       "      <td>average_depth_of_wells</td>\n",
       "      <td>0.002684</td>\n",
       "      <td>0.203816</td>\n",
       "      <td>0.195448</td>\n",
       "      <td>0.209499</td>\n",
       "      <td>0.199633</td>\n",
       "      <td>0.200776</td>\n",
       "      <td>0.168284</td>\n",
       "      <td>0.193162</td>\n",
       "      <td>0.235011</td>\n",
       "      <td>0.182091</td>\n",
       "      <td>0.204876</td>\n",
       "      <td>0.203511</td>\n",
       "      <td>0.166412</td>\n",
       "      <td>0.175490</td>\n",
       "      <td>0.186297</td>\n",
       "      <td>0.172232</td>\n",
       "    </tr>\n",
       "    <tr>\n",
       "      <td>3</td>\n",
       "      <td>initial_harmonic_decline_rate</td>\n",
       "      <td>0.002224</td>\n",
       "      <td>0.043474</td>\n",
       "      <td>0.048298</td>\n",
       "      <td>0.043010</td>\n",
       "      <td>0.047880</td>\n",
       "      <td>0.047665</td>\n",
       "      <td>0.051297</td>\n",
       "      <td>0.049082</td>\n",
       "      <td>0.039393</td>\n",
       "      <td>0.046049</td>\n",
       "      <td>0.047177</td>\n",
       "      <td>0.047485</td>\n",
       "      <td>0.049123</td>\n",
       "      <td>0.048933</td>\n",
       "      <td>0.049391</td>\n",
       "      <td>0.050784</td>\n",
       "    </tr>\n",
       "    <tr>\n",
       "      <td>4</td>\n",
       "      <td>success_rate_primary_wells</td>\n",
       "      <td>0.000558</td>\n",
       "      <td>0.064665</td>\n",
       "      <td>0.068670</td>\n",
       "      <td>0.067037</td>\n",
       "      <td>0.071104</td>\n",
       "      <td>0.071418</td>\n",
       "      <td>0.055184</td>\n",
       "      <td>0.068104</td>\n",
       "      <td>0.075876</td>\n",
       "      <td>0.058133</td>\n",
       "      <td>0.073741</td>\n",
       "      <td>0.073033</td>\n",
       "      <td>0.053487</td>\n",
       "      <td>0.058420</td>\n",
       "      <td>0.064421</td>\n",
       "      <td>0.056202</td>\n",
       "    </tr>\n",
       "    <tr>\n",
       "      <td>5</td>\n",
       "      <td>lifetime</td>\n",
       "      <td>0.002424</td>\n",
       "      <td>0.024136</td>\n",
       "      <td>0.025913</td>\n",
       "      <td>0.025220</td>\n",
       "      <td>0.026569</td>\n",
       "      <td>0.025849</td>\n",
       "      <td>0.022931</td>\n",
       "      <td>0.025724</td>\n",
       "      <td>0.027433</td>\n",
       "      <td>0.024660</td>\n",
       "      <td>0.026488</td>\n",
       "      <td>0.026196</td>\n",
       "      <td>0.025685</td>\n",
       "      <td>0.025009</td>\n",
       "      <td>0.025012</td>\n",
       "      <td>0.024352</td>\n",
       "    </tr>\n",
       "    <tr>\n",
       "      <td>6</td>\n",
       "      <td>collection_pipelines</td>\n",
       "      <td>0.000313</td>\n",
       "      <td>0.020833</td>\n",
       "      <td>0.015194</td>\n",
       "      <td>0.018154</td>\n",
       "      <td>0.012093</td>\n",
       "      <td>0.011275</td>\n",
       "      <td>0.035103</td>\n",
       "      <td>0.016157</td>\n",
       "      <td>0.008738</td>\n",
       "      <td>0.029862</td>\n",
       "      <td>0.008376</td>\n",
       "      <td>0.009275</td>\n",
       "      <td>0.033354</td>\n",
       "      <td>0.030493</td>\n",
       "      <td>0.021591</td>\n",
       "      <td>0.035041</td>\n",
       "    </tr>\n",
       "    <tr>\n",
       "      <td>7</td>\n",
       "      <td>installed_capacity</td>\n",
       "      <td>0.000404</td>\n",
       "      <td>0.022686</td>\n",
       "      <td>0.021992</td>\n",
       "      <td>0.022638</td>\n",
       "      <td>0.021740</td>\n",
       "      <td>0.021495</td>\n",
       "      <td>0.023343</td>\n",
       "      <td>0.021962</td>\n",
       "      <td>0.021801</td>\n",
       "      <td>0.023573</td>\n",
       "      <td>0.021263</td>\n",
       "      <td>0.021289</td>\n",
       "      <td>0.024526</td>\n",
       "      <td>0.023611</td>\n",
       "      <td>0.022562</td>\n",
       "      <td>0.023563</td>\n",
       "    </tr>\n",
       "    <tr>\n",
       "      <td>8</td>\n",
       "      <td>capacity_factor</td>\n",
       "      <td>0.000350</td>\n",
       "      <td>0.002210</td>\n",
       "      <td>0.002976</td>\n",
       "      <td>0.002282</td>\n",
       "      <td>0.002973</td>\n",
       "      <td>0.002796</td>\n",
       "      <td>0.002871</td>\n",
       "      <td>0.003030</td>\n",
       "      <td>0.002018</td>\n",
       "      <td>0.002673</td>\n",
       "      <td>0.002774</td>\n",
       "      <td>0.002775</td>\n",
       "      <td>0.003122</td>\n",
       "      <td>0.002868</td>\n",
       "      <td>0.002954</td>\n",
       "      <td>0.002985</td>\n",
       "    </tr>\n",
       "    <tr>\n",
       "      <td>9</td>\n",
       "      <td>auxiliary_power</td>\n",
       "      <td>0.000042</td>\n",
       "      <td>0.000013</td>\n",
       "      <td>0.000167</td>\n",
       "      <td>0.000062</td>\n",
       "      <td>0.000210</td>\n",
       "      <td>0.000200</td>\n",
       "      <td>0.000143</td>\n",
       "      <td>0.000161</td>\n",
       "      <td>0.000200</td>\n",
       "      <td>0.000110</td>\n",
       "      <td>0.000235</td>\n",
       "      <td>0.000223</td>\n",
       "      <td>0.000209</td>\n",
       "      <td>0.000080</td>\n",
       "      <td>0.000080</td>\n",
       "      <td>0.000132</td>\n",
       "    </tr>\n",
       "    <tr>\n",
       "      <td>10</td>\n",
       "      <td>specific_diesel_consumption</td>\n",
       "      <td>0.000362</td>\n",
       "      <td>0.000039</td>\n",
       "      <td>0.011968</td>\n",
       "      <td>0.000203</td>\n",
       "      <td>0.013982</td>\n",
       "      <td>0.014574</td>\n",
       "      <td>0.002098</td>\n",
       "      <td>0.012579</td>\n",
       "      <td>0.000109</td>\n",
       "      <td>0.000170</td>\n",
       "      <td>0.016675</td>\n",
       "      <td>0.016454</td>\n",
       "      <td>0.000173</td>\n",
       "      <td>0.000358</td>\n",
       "      <td>0.006723</td>\n",
       "      <td>0.001003</td>\n",
       "    </tr>\n",
       "    <tr>\n",
       "      <td>11</td>\n",
       "      <td>specific_steel_consumption</td>\n",
       "      <td>0.000515</td>\n",
       "      <td>0.017020</td>\n",
       "      <td>0.007566</td>\n",
       "      <td>0.013534</td>\n",
       "      <td>0.005282</td>\n",
       "      <td>0.005465</td>\n",
       "      <td>0.022321</td>\n",
       "      <td>0.007205</td>\n",
       "      <td>0.005507</td>\n",
       "      <td>0.025039</td>\n",
       "      <td>0.003509</td>\n",
       "      <td>0.003863</td>\n",
       "      <td>0.028795</td>\n",
       "      <td>0.021035</td>\n",
       "      <td>0.011751</td>\n",
       "      <td>0.019536</td>\n",
       "    </tr>\n",
       "    <tr>\n",
       "      <td>12</td>\n",
       "      <td>specific_cement_consumption</td>\n",
       "      <td>0.000145</td>\n",
       "      <td>0.000002</td>\n",
       "      <td>0.000018</td>\n",
       "      <td>0.000012</td>\n",
       "      <td>0.000009</td>\n",
       "      <td>0.000008</td>\n",
       "      <td>0.000067</td>\n",
       "      <td>0.000016</td>\n",
       "      <td>0.000001</td>\n",
       "      <td>0.000027</td>\n",
       "      <td>0.000003</td>\n",
       "      <td>0.000004</td>\n",
       "      <td>0.000020</td>\n",
       "      <td>0.000050</td>\n",
       "      <td>0.000028</td>\n",
       "      <td>0.000065</td>\n",
       "    </tr>\n",
       "    <tr>\n",
       "      <td>13</td>\n",
       "      <td>specific_drilling_mud_consumption</td>\n",
       "      <td>0.000047</td>\n",
       "      <td>0.000043</td>\n",
       "      <td>0.000523</td>\n",
       "      <td>0.000183</td>\n",
       "      <td>0.000618</td>\n",
       "      <td>0.000464</td>\n",
       "      <td>0.000601</td>\n",
       "      <td>0.000495</td>\n",
       "      <td>0.000112</td>\n",
       "      <td>0.000356</td>\n",
       "      <td>0.000418</td>\n",
       "      <td>0.000293</td>\n",
       "      <td>0.000266</td>\n",
       "      <td>0.002930</td>\n",
       "      <td>0.001923</td>\n",
       "      <td>0.000599</td>\n",
       "    </tr>\n",
       "    <tr>\n",
       "      <td>14</td>\n",
       "      <td>production_to_injection_ratio</td>\n",
       "      <td>0.000538</td>\n",
       "      <td>0.005503</td>\n",
       "      <td>0.008501</td>\n",
       "      <td>0.006004</td>\n",
       "      <td>0.009184</td>\n",
       "      <td>0.009298</td>\n",
       "      <td>0.004794</td>\n",
       "      <td>0.008526</td>\n",
       "      <td>0.007417</td>\n",
       "      <td>0.004394</td>\n",
       "      <td>0.009907</td>\n",
       "      <td>0.009752</td>\n",
       "      <td>0.004115</td>\n",
       "      <td>0.005384</td>\n",
       "      <td>0.007425</td>\n",
       "      <td>0.004682</td>\n",
       "    </tr>\n",
       "    <tr>\n",
       "      <td>15</td>\n",
       "      <td>success_rate_exploration_wells</td>\n",
       "      <td>0.000095</td>\n",
       "      <td>0.002549</td>\n",
       "      <td>0.002794</td>\n",
       "      <td>0.002684</td>\n",
       "      <td>0.002938</td>\n",
       "      <td>0.002986</td>\n",
       "      <td>0.001960</td>\n",
       "      <td>0.002772</td>\n",
       "      <td>0.003262</td>\n",
       "      <td>0.002062</td>\n",
       "      <td>0.003128</td>\n",
       "      <td>0.003096</td>\n",
       "      <td>0.001766</td>\n",
       "      <td>0.001980</td>\n",
       "      <td>0.002466</td>\n",
       "      <td>0.001998</td>\n",
       "    </tr>\n",
       "    <tr>\n",
       "      <td>16</td>\n",
       "      <td>success_rate_makeup_wells</td>\n",
       "      <td>0.000076</td>\n",
       "      <td>0.003247</td>\n",
       "      <td>0.003761</td>\n",
       "      <td>0.003351</td>\n",
       "      <td>0.003932</td>\n",
       "      <td>0.003996</td>\n",
       "      <td>0.002616</td>\n",
       "      <td>0.003717</td>\n",
       "      <td>0.003802</td>\n",
       "      <td>0.002859</td>\n",
       "      <td>0.004157</td>\n",
       "      <td>0.004110</td>\n",
       "      <td>0.002484</td>\n",
       "      <td>0.002738</td>\n",
       "      <td>0.003307</td>\n",
       "      <td>0.002594</td>\n",
       "    </tr>\n",
       "  </tbody>\n",
       "</table>\n",
       "</div>"
      ],
      "text/plain": [
       "                              parameters  climate change total  \\\n",
       "index                                                            \n",
       "0                          co2_emissions              0.986529   \n",
       "1                   gross_power_per_well              0.002694   \n",
       "2                 average_depth_of_wells              0.002684   \n",
       "3          initial_harmonic_decline_rate              0.002224   \n",
       "4             success_rate_primary_wells              0.000558   \n",
       "5                               lifetime              0.002424   \n",
       "6                   collection_pipelines              0.000313   \n",
       "7                     installed_capacity              0.000404   \n",
       "8                        capacity_factor              0.000350   \n",
       "9                        auxiliary_power              0.000042   \n",
       "10           specific_diesel_consumption              0.000362   \n",
       "11            specific_steel_consumption              0.000515   \n",
       "12           specific_cement_consumption              0.000145   \n",
       "13     specific_drilling_mud_consumption              0.000047   \n",
       "14         production_to_injection_ratio              0.000538   \n",
       "15        success_rate_exploration_wells              0.000095   \n",
       "16             success_rate_makeup_wells              0.000076   \n",
       "\n",
       "       carcinogenic effects  ionising radiation  non-carcinogenic effects  \\\n",
       "index                                                                       \n",
       "0                  0.000000            0.000000                  0.000000   \n",
       "1                  0.589764            0.586211                  0.586126   \n",
       "2                  0.203816            0.195448                  0.209499   \n",
       "3                  0.043474            0.048298                  0.043010   \n",
       "4                  0.064665            0.068670                  0.067037   \n",
       "5                  0.024136            0.025913                  0.025220   \n",
       "6                  0.020833            0.015194                  0.018154   \n",
       "7                  0.022686            0.021992                  0.022638   \n",
       "8                  0.002210            0.002976                  0.002282   \n",
       "9                  0.000013            0.000167                  0.000062   \n",
       "10                 0.000039            0.011968                  0.000203   \n",
       "11                 0.017020            0.007566                  0.013534   \n",
       "12                 0.000002            0.000018                  0.000012   \n",
       "13                 0.000043            0.000523                  0.000183   \n",
       "14                 0.005503            0.008501                  0.006004   \n",
       "15                 0.002549            0.002794                  0.002684   \n",
       "16                 0.003247            0.003761                  0.003351   \n",
       "\n",
       "       ozone layer depletion  photochemical ozone creation  \\\n",
       "index                                                        \n",
       "0                   0.000000                      0.000000   \n",
       "1                   0.581852                      0.581732   \n",
       "2                   0.199633                      0.200776   \n",
       "3                   0.047880                      0.047665   \n",
       "4                   0.071104                      0.071418   \n",
       "5                   0.026569                      0.025849   \n",
       "6                   0.012093                      0.011275   \n",
       "7                   0.021740                      0.021495   \n",
       "8                   0.002973                      0.002796   \n",
       "9                   0.000210                      0.000200   \n",
       "10                  0.013982                      0.014574   \n",
       "11                  0.005282                      0.005465   \n",
       "12                  0.000009                      0.000008   \n",
       "13                  0.000618                      0.000464   \n",
       "14                  0.009184                      0.009298   \n",
       "15                  0.002938                      0.002986   \n",
       "16                  0.003932                      0.003996   \n",
       "\n",
       "       respiratory effects, inorganics  \\\n",
       "index                                    \n",
       "0                             0.000000   \n",
       "1                             0.606388   \n",
       "2                             0.168284   \n",
       "3                             0.051297   \n",
       "4                             0.055184   \n",
       "5                             0.022931   \n",
       "6                             0.035103   \n",
       "7                             0.023343   \n",
       "8                             0.002871   \n",
       "9                             0.000143   \n",
       "10                            0.002098   \n",
       "11                            0.022321   \n",
       "12                            0.000067   \n",
       "13                            0.000601   \n",
       "14                            0.004794   \n",
       "15                            0.001960   \n",
       "16                            0.002616   \n",
       "\n",
       "       freshwater and terrestrial acidification  freshwater ecotoxicity  \\\n",
       "index                                                                     \n",
       "0                                      0.000000                0.000000   \n",
       "1                                      0.587307                0.569321   \n",
       "2                                      0.193162                0.235011   \n",
       "3                                      0.049082                0.039393   \n",
       "4                                      0.068104                0.075876   \n",
       "5                                      0.025724                0.027433   \n",
       "6                                      0.016157                0.008738   \n",
       "7                                      0.021962                0.021801   \n",
       "8                                      0.003030                0.002018   \n",
       "9                                      0.000161                0.000200   \n",
       "10                                     0.012579                0.000109   \n",
       "11                                     0.007205                0.005507   \n",
       "12                                     0.000016                0.000001   \n",
       "13                                     0.000495                0.000112   \n",
       "14                                     0.008526                0.007417   \n",
       "15                                     0.002772                0.003262   \n",
       "16                                     0.003717                0.003802   \n",
       "\n",
       "       freshwater eutrophication  marine eutrophication  \\\n",
       "index                                                     \n",
       "0                       0.000000               0.000000   \n",
       "1                       0.597942               0.577271   \n",
       "2                       0.182091               0.204876   \n",
       "3                       0.046049               0.047177   \n",
       "4                       0.058133               0.073741   \n",
       "5                       0.024660               0.026488   \n",
       "6                       0.029862               0.008376   \n",
       "7                       0.023573               0.021263   \n",
       "8                       0.002673               0.002774   \n",
       "9                       0.000110               0.000235   \n",
       "10                      0.000170               0.016675   \n",
       "11                      0.025039               0.003509   \n",
       "12                      0.000027               0.000003   \n",
       "13                      0.000356               0.000418   \n",
       "14                      0.004394               0.009907   \n",
       "15                      0.002062               0.003128   \n",
       "16                      0.002859               0.004157   \n",
       "\n",
       "       terrestrial eutrophication  minerals and metals  dissipated water  \\\n",
       "index                                                                      \n",
       "0                        0.000000             0.000000          0.000000   \n",
       "1                        0.578641             0.606463          0.600621   \n",
       "2                        0.203511             0.166412          0.175490   \n",
       "3                        0.047485             0.049123          0.048933   \n",
       "4                        0.073033             0.053487          0.058420   \n",
       "5                        0.026196             0.025685          0.025009   \n",
       "6                        0.009275             0.033354          0.030493   \n",
       "7                        0.021289             0.024526          0.023611   \n",
       "8                        0.002775             0.003122          0.002868   \n",
       "9                        0.000223             0.000209          0.000080   \n",
       "10                       0.016454             0.000173          0.000358   \n",
       "11                       0.003863             0.028795          0.021035   \n",
       "12                       0.000004             0.000020          0.000050   \n",
       "13                       0.000293             0.000266          0.002930   \n",
       "14                       0.009752             0.004115          0.005384   \n",
       "15                       0.003096             0.001766          0.001980   \n",
       "16                       0.004110             0.002484          0.002738   \n",
       "\n",
       "        fossils  land use  \n",
       "index                      \n",
       "0      0.000000  0.000000  \n",
       "1      0.594069  0.604232  \n",
       "2      0.186297  0.172232  \n",
       "3      0.049391  0.050784  \n",
       "4      0.064421  0.056202  \n",
       "5      0.025012  0.024352  \n",
       "6      0.021591  0.035041  \n",
       "7      0.022562  0.023563  \n",
       "8      0.002954  0.002985  \n",
       "9      0.000080  0.000132  \n",
       "10     0.006723  0.001003  \n",
       "11     0.011751  0.019536  \n",
       "12     0.000028  0.000065  \n",
       "13     0.001923  0.000599  \n",
       "14     0.007425  0.004682  \n",
       "15     0.002466  0.001998  \n",
       "16     0.003307  0.002594  "
      ]
     },
     "execution_count": 55,
     "metadata": {},
     "output_type": "execute_result"
    }
   ],
   "source": [
    "df"
   ]
  },
  {
   "cell_type": "code",
   "execution_count": 56,
   "metadata": {},
   "outputs": [
    {
     "data": {
      "text/html": [
       "<div style=\"background-color:rgb(166,206,227);height:20px;width:20px;margin-bottom:0px;display:inline-block;\"></div><div style=\"background-color:rgb(31,120,180);height:20px;width:20px;margin-bottom:0px;display:inline-block;\"></div><div style=\"background-color:rgb(178,223,138);height:20px;width:20px;margin-bottom:0px;display:inline-block;\"></div><div style=\"background-color:rgb(51,160,44);height:20px;width:20px;margin-bottom:0px;display:inline-block;\"></div><div style=\"background-color:rgb(251,154,153);height:20px;width:20px;margin-bottom:0px;display:inline-block;\"></div><div style=\"background-color:rgb(227,26,28);height:20px;width:20px;margin-bottom:0px;display:inline-block;\"></div><div style=\"background-color:rgb(253,191,111);height:20px;width:20px;margin-bottom:0px;display:inline-block;\"></div><div style=\"background-color:rgb(255,127,0);height:20px;width:20px;margin-bottom:0px;display:inline-block;\"></div><div style=\"background-color:rgb(202,178,214);height:20px;width:20px;margin-bottom:0px;display:inline-block;\"></div><div style=\"background-color:rgb(106,61,154);height:20px;width:20px;margin-bottom:0px;display:inline-block;\"></div><div style=\"background-color:rgb(255,255,153);height:20px;width:20px;margin-bottom:0px;display:inline-block;\"></div><div style=\"background-color:rgb(255,237,0);height:20px;width:20px;margin-bottom:0px;display:inline-block;\"></div><div style=\"background-color:rgb(184,255,185);height:20px;width:20px;margin-bottom:0px;display:inline-block;\"></div><div style=\"background-color:rgb(30,221,109);height:20px;width:20px;margin-bottom:0px;display:inline-block;\"></div><div style=\"background-color:rgb(255,210,255);height:20px;width:20px;margin-bottom:0px;display:inline-block;\"></div><div style=\"background-color:rgb(248,114,225);height:20px;width:20px;margin-bottom:0px;display:inline-block;\"></div><div style=\"background-color:rgb(137,231,255);height:20px;width:20px;margin-bottom:0px;display:inline-block;\"></div>"
      ],
      "text/plain": [
       "<IPython.core.display.HTML object>"
      ]
     },
     "execution_count": 56,
     "metadata": {},
     "output_type": "execute_result"
    }
   ],
   "source": [
    "my_colors = ['rgb(255,237,0)',\n",
    "             'rgb(184,255,185)',\n",
    "             'rgb(30,221,109)',\n",
    "             'rgb(255,210,255)',\n",
    "             'rgb(248,114,225)',\n",
    "             'rgb(137,231,255)',\n",
    "             ]\n",
    "colors = cl.scales['11']['qual']['Paired'] + my_colors\n",
    "HTML(cl.to_html( colors ))"
   ]
  },
  {
   "cell_type": "code",
   "execution_count": 57,
   "metadata": {},
   "outputs": [
    {
     "data": {
      "application/vnd.plotly.v1+json": {
       "config": {
        "plotlyServerURL": "https://plot.ly"
       },
       "data": [
        {
         "marker": {
          "color": "rgb(166,206,227)"
         },
         "name": "Direct CO2 emissions",
         "orientation": "h",
         "type": "bar",
         "x": [
          0.9865287848068756,
          0,
          0,
          0,
          0,
          0,
          0,
          0,
          0,
          0,
          0,
          0,
          0,
          0,
          0,
          0
         ],
         "y": [
          "Climate change total",
          "Carcinogenic effects",
          "Ionising radiation",
          "Non-carcinogenic effects",
          "Ozone layer depletion",
          "Photochemical ozone creation",
          "Respiratory effects, inorganics",
          "Freshwater and terrestrial acidification",
          "Freshwater ecotoxicity",
          "Freshwater eutrophication",
          "Marine eutrophication",
          "Terrestrial eutrophication",
          "Minerals and metals",
          "Dissipated water",
          "Fossil resources",
          "Land use"
         ]
        },
        {
         "marker": {
          "color": "rgb(31,120,180)"
         },
         "name": "Gross power per well",
         "orientation": "h",
         "type": "bar",
         "x": [
          0.002694345579627582,
          0.589763889305773,
          0.5862109890310425,
          0.5861260682283201,
          0.5818515821401351,
          0.5817324254651601,
          0.6063884772239031,
          0.5873071454437613,
          0.5693206376097023,
          0.5979416108451558,
          0.5772711880599025,
          0.5786406061690823,
          0.606462954794636,
          0.6006209145012545,
          0.5940686445782359,
          0.604231832589846
         ],
         "y": [
          "Climate change total",
          "Carcinogenic effects",
          "Ionising radiation",
          "Non-carcinogenic effects",
          "Ozone layer depletion",
          "Photochemical ozone creation",
          "Respiratory effects, inorganics",
          "Freshwater and terrestrial acidification",
          "Freshwater ecotoxicity",
          "Freshwater eutrophication",
          "Marine eutrophication",
          "Terrestrial eutrophication",
          "Minerals and metals",
          "Dissipated water",
          "Fossil resources",
          "Land use"
         ]
        },
        {
         "marker": {
          "color": "rgb(178,223,138)"
         },
         "name": "Average depth of wells",
         "orientation": "h",
         "type": "bar",
         "x": [
          0.002683579037675013,
          0.2038161586689159,
          0.19544781728730778,
          0.20949873377851583,
          0.19963269228989156,
          0.20077635685444958,
          0.16828374544486283,
          0.19316206349903,
          0.23501146630666359,
          0.1820908364345949,
          0.2048757145435603,
          0.20351055551724606,
          0.16641184189687186,
          0.17548965459730714,
          0.18629701584637545,
          0.1722324848895376
         ],
         "y": [
          "Climate change total",
          "Carcinogenic effects",
          "Ionising radiation",
          "Non-carcinogenic effects",
          "Ozone layer depletion",
          "Photochemical ozone creation",
          "Respiratory effects, inorganics",
          "Freshwater and terrestrial acidification",
          "Freshwater ecotoxicity",
          "Freshwater eutrophication",
          "Marine eutrophication",
          "Terrestrial eutrophication",
          "Minerals and metals",
          "Dissipated water",
          "Fossil resources",
          "Land use"
         ]
        },
        {
         "marker": {
          "color": "rgb(51,160,44)"
         },
         "name": "Initial harmonic decline rate",
         "orientation": "h",
         "type": "bar",
         "x": [
          0.002223698307900593,
          0.0434744415648154,
          0.04829809939836812,
          0.04300994430963382,
          0.04787954977072423,
          0.047665443891027504,
          0.05129698691344316,
          0.04908217629769409,
          0.03939252895054374,
          0.046049161064161015,
          0.047177363079767914,
          0.04748506335580027,
          0.04912288563172084,
          0.04893278159087984,
          0.04939074316812988,
          0.05078350118505921
         ],
         "y": [
          "Climate change total",
          "Carcinogenic effects",
          "Ionising radiation",
          "Non-carcinogenic effects",
          "Ozone layer depletion",
          "Photochemical ozone creation",
          "Respiratory effects, inorganics",
          "Freshwater and terrestrial acidification",
          "Freshwater ecotoxicity",
          "Freshwater eutrophication",
          "Marine eutrophication",
          "Terrestrial eutrophication",
          "Minerals and metals",
          "Dissipated water",
          "Fossil resources",
          "Land use"
         ]
        },
        {
         "marker": {
          "color": "rgb(251,154,153)"
         },
         "name": "Success rate of primary wells",
         "orientation": "h",
         "type": "bar",
         "x": [
          0.00055750643707944,
          0.06466485093341764,
          0.06867038057143253,
          0.06703744854408152,
          0.07110387993682336,
          0.07141769881181961,
          0.05518415321061258,
          0.068104276668706,
          0.07587564008820873,
          0.058132849999661514,
          0.07374133086402863,
          0.07303274619633851,
          0.05348737284136931,
          0.05841960645167418,
          0.0644207572235491,
          0.05620227506940633
         ],
         "y": [
          "Climate change total",
          "Carcinogenic effects",
          "Ionising radiation",
          "Non-carcinogenic effects",
          "Ozone layer depletion",
          "Photochemical ozone creation",
          "Respiratory effects, inorganics",
          "Freshwater and terrestrial acidification",
          "Freshwater ecotoxicity",
          "Freshwater eutrophication",
          "Marine eutrophication",
          "Terrestrial eutrophication",
          "Minerals and metals",
          "Dissipated water",
          "Fossil resources",
          "Land use"
         ]
        },
        {
         "marker": {
          "color": "rgb(227,26,28)"
         },
         "name": "Lifetime",
         "orientation": "h",
         "type": "bar",
         "x": [
          0.0024244025537308285,
          0.02413560170523798,
          0.02591346904684049,
          0.025220398036336557,
          0.026569148077232808,
          0.025849455167184447,
          0.022930831726604144,
          0.025724076003609826,
          0.02743254584907498,
          0.02466000541234384,
          0.026488426445415915,
          0.02619550110687828,
          0.025684853864589446,
          0.025008615510400182,
          0.025011513317316197,
          0.024351905797324
         ],
         "y": [
          "Climate change total",
          "Carcinogenic effects",
          "Ionising radiation",
          "Non-carcinogenic effects",
          "Ozone layer depletion",
          "Photochemical ozone creation",
          "Respiratory effects, inorganics",
          "Freshwater and terrestrial acidification",
          "Freshwater ecotoxicity",
          "Freshwater eutrophication",
          "Marine eutrophication",
          "Terrestrial eutrophication",
          "Minerals and metals",
          "Dissipated water",
          "Fossil resources",
          "Land use"
         ]
        },
        {
         "marker": {
          "color": "rgb(253,191,111)"
         },
         "name": "Collection pipelines length",
         "orientation": "h",
         "type": "bar",
         "x": [
          0.0003133747287756359,
          0.020832761758211693,
          0.01519362923463405,
          0.018153825783082788,
          0.012092772342471057,
          0.011275170798339968,
          0.0351033087509989,
          0.01615660415893001,
          0.008738097559944032,
          0.029862206353824083,
          0.00837647701942603,
          0.009274850819300122,
          0.03335380437956597,
          0.030493349026657977,
          0.02159068519580243,
          0.03504119794952738
         ],
         "y": [
          "Climate change total",
          "Carcinogenic effects",
          "Ionising radiation",
          "Non-carcinogenic effects",
          "Ozone layer depletion",
          "Photochemical ozone creation",
          "Respiratory effects, inorganics",
          "Freshwater and terrestrial acidification",
          "Freshwater ecotoxicity",
          "Freshwater eutrophication",
          "Marine eutrophication",
          "Terrestrial eutrophication",
          "Minerals and metals",
          "Dissipated water",
          "Fossil resources",
          "Land use"
         ]
        },
        {
         "marker": {
          "color": "rgb(255,127,0)"
         },
         "name": "Installed capacity",
         "orientation": "h",
         "type": "bar",
         "x": [
          0.00040413962431533345,
          0.02268624699540915,
          0.02199218013674525,
          0.02263768414121889,
          0.021740181186552972,
          0.021495409881876842,
          0.023343065284102266,
          0.021961536782157787,
          0.02180131666667015,
          0.023573146285013155,
          0.02126286938800713,
          0.02128947147072802,
          0.024526117745770026,
          0.023611241931208882,
          0.022561978290871365,
          0.02356301859458893
         ],
         "y": [
          "Climate change total",
          "Carcinogenic effects",
          "Ionising radiation",
          "Non-carcinogenic effects",
          "Ozone layer depletion",
          "Photochemical ozone creation",
          "Respiratory effects, inorganics",
          "Freshwater and terrestrial acidification",
          "Freshwater ecotoxicity",
          "Freshwater eutrophication",
          "Marine eutrophication",
          "Terrestrial eutrophication",
          "Minerals and metals",
          "Dissipated water",
          "Fossil resources",
          "Land use"
         ]
        },
        {
         "marker": {
          "color": "rgb(202,178,214)"
         },
         "name": "Capacity factor",
         "orientation": "h",
         "type": "bar",
         "x": [
          0.00035039025890890415,
          0.0022096765991059626,
          0.0029756528632005007,
          0.0022817506645934687,
          0.002973377927114135,
          0.002795845695333627,
          0.0028705444106630327,
          0.0030304662580330818,
          0.0020177079755290847,
          0.002672898923019533,
          0.002774068945160876,
          0.002775355635412784,
          0.003122400275040195,
          0.00286819030488811,
          0.002954175350896847,
          0.0029848091037971195
         ],
         "y": [
          "Climate change total",
          "Carcinogenic effects",
          "Ionising radiation",
          "Non-carcinogenic effects",
          "Ozone layer depletion",
          "Photochemical ozone creation",
          "Respiratory effects, inorganics",
          "Freshwater and terrestrial acidification",
          "Freshwater ecotoxicity",
          "Freshwater eutrophication",
          "Marine eutrophication",
          "Terrestrial eutrophication",
          "Minerals and metals",
          "Dissipated water",
          "Fossil resources",
          "Land use"
         ]
        },
        {
         "marker": {
          "color": "rgb(106,61,154)"
         },
         "name": "Auxiliary power",
         "orientation": "h",
         "type": "bar",
         "x": [
          4.1764694754110025e-05,
          1.3398897367346636e-05,
          0.00016696859354266557,
          6.197971688304209e-05,
          0.00021041281674370044,
          0.0001999999914535745,
          0.00014275024366373353,
          0.0001612044073202435,
          0.00019999912856616254,
          0.00011004288476389081,
          0.00023487103335401638,
          0.00022286184247778538,
          0.00020893137416587684,
          8.048479320221429e-05,
          8.008135918430591e-05,
          0.0001320057672978918
         ],
         "y": [
          "Climate change total",
          "Carcinogenic effects",
          "Ionising radiation",
          "Non-carcinogenic effects",
          "Ozone layer depletion",
          "Photochemical ozone creation",
          "Respiratory effects, inorganics",
          "Freshwater and terrestrial acidification",
          "Freshwater ecotoxicity",
          "Freshwater eutrophication",
          "Marine eutrophication",
          "Terrestrial eutrophication",
          "Minerals and metals",
          "Dissipated water",
          "Fossil resources",
          "Land use"
         ]
        },
        {
         "marker": {
          "color": "rgb(255,255,153)"
         },
         "name": "Specific diesel consumption",
         "orientation": "h",
         "type": "bar",
         "x": [
          0.0003618026391542007,
          3.8523324498528265e-05,
          0.011968100669149549,
          0.00020346601102977206,
          0.013982440733997866,
          0.01457403335945009,
          0.002097848524967109,
          0.012579121510147713,
          0.00010881574752799391,
          0.00017002467176746266,
          0.01667472939966729,
          0.01645440521015773,
          0.00017313431762270198,
          0.0003582394847390835,
          0.006723326381687538,
          0.0010026053135876675
         ],
         "y": [
          "Climate change total",
          "Carcinogenic effects",
          "Ionising radiation",
          "Non-carcinogenic effects",
          "Ozone layer depletion",
          "Photochemical ozone creation",
          "Respiratory effects, inorganics",
          "Freshwater and terrestrial acidification",
          "Freshwater ecotoxicity",
          "Freshwater eutrophication",
          "Marine eutrophication",
          "Terrestrial eutrophication",
          "Minerals and metals",
          "Dissipated water",
          "Fossil resources",
          "Land use"
         ]
        },
        {
         "marker": {
          "color": "rgb(255,237,0)"
         },
         "name": "Specific steel consumption",
         "orientation": "h",
         "type": "bar",
         "x": [
          0.0005147008134486573,
          0.017020255784344306,
          0.007566040055572612,
          0.013534419852846976,
          0.005282162329255804,
          0.005465363822440743,
          0.02232089744937517,
          0.007205409672867818,
          0.00550729141858521,
          0.025038865686803437,
          0.0035086674979567935,
          0.00386274209260052,
          0.028795276058868623,
          0.021035304954247314,
          0.011751185185178953,
          0.01953597124571164
         ],
         "y": [
          "Climate change total",
          "Carcinogenic effects",
          "Ionising radiation",
          "Non-carcinogenic effects",
          "Ozone layer depletion",
          "Photochemical ozone creation",
          "Respiratory effects, inorganics",
          "Freshwater and terrestrial acidification",
          "Freshwater ecotoxicity",
          "Freshwater eutrophication",
          "Marine eutrophication",
          "Terrestrial eutrophication",
          "Minerals and metals",
          "Dissipated water",
          "Fossil resources",
          "Land use"
         ]
        },
        {
         "marker": {
          "color": "rgb(184,255,185)"
         },
         "name": "Specific cement consumption",
         "orientation": "h",
         "type": "bar",
         "x": [
          0.00014520041065824483,
          2.0660150186462597e-06,
          1.796372373291839e-05,
          1.2129216497653406e-05,
          9.369104880369595e-06,
          8.439265630285844e-06,
          6.683503404615796e-05,
          1.6491748833331835e-05,
          1.139252646670511e-06,
          2.670144025518293e-05,
          3.287109581936362e-06,
          4.467905655568166e-06,
          1.9761755943870017e-05,
          4.9533824962083314e-05,
          2.845201272558439e-05,
          6.51073125647756e-05
         ],
         "y": [
          "Climate change total",
          "Carcinogenic effects",
          "Ionising radiation",
          "Non-carcinogenic effects",
          "Ozone layer depletion",
          "Photochemical ozone creation",
          "Respiratory effects, inorganics",
          "Freshwater and terrestrial acidification",
          "Freshwater ecotoxicity",
          "Freshwater eutrophication",
          "Marine eutrophication",
          "Terrestrial eutrophication",
          "Minerals and metals",
          "Dissipated water",
          "Fossil resources",
          "Land use"
         ]
        },
        {
         "marker": {
          "color": "rgb(30,221,109)"
         },
         "name": "Specific drilling mud consumption",
         "orientation": "h",
         "type": "bar",
         "x": [
          4.719217146034854e-05,
          4.309778939189859e-05,
          0.0005230730695610403,
          0.00018271936614881168,
          0.0006178845666052949,
          0.0004641516960463162,
          0.0006007984048027778,
          0.0004952722401388028,
          0.00011177846148042425,
          0.00035634434134253575,
          0.0004184938083758785,
          0.0002926796399854852,
          0.0002659280195510592,
          0.0029300698913098133,
          0.0019228522528451808,
          0.0005993825702841946
         ],
         "y": [
          "Climate change total",
          "Carcinogenic effects",
          "Ionising radiation",
          "Non-carcinogenic effects",
          "Ozone layer depletion",
          "Photochemical ozone creation",
          "Respiratory effects, inorganics",
          "Freshwater and terrestrial acidification",
          "Freshwater ecotoxicity",
          "Freshwater eutrophication",
          "Marine eutrophication",
          "Terrestrial eutrophication",
          "Minerals and metals",
          "Dissipated water",
          "Fossil resources",
          "Land use"
         ]
        },
        {
         "marker": {
          "color": "rgb(255,210,255)"
         },
         "name": "Production to injection ratio",
         "orientation": "h",
         "type": "bar",
         "x": [
          0.000538432925885053,
          0.005502825467186697,
          0.008500564205360888,
          0.00600386399258995,
          0.009183930753932975,
          0.009298218740796116,
          0.004793775623696985,
          0.00852572786665838,
          0.007416610898911805,
          0.00439435003287826,
          0.009907419744089641,
          0.009752164416648803,
          0.004114815544042352,
          0.005383973659802256,
          0.007425392492637498,
          0.004681539808150522
         ],
         "y": [
          "Climate change total",
          "Carcinogenic effects",
          "Ionising radiation",
          "Non-carcinogenic effects",
          "Ozone layer depletion",
          "Photochemical ozone creation",
          "Respiratory effects, inorganics",
          "Freshwater and terrestrial acidification",
          "Freshwater ecotoxicity",
          "Freshwater eutrophication",
          "Marine eutrophication",
          "Terrestrial eutrophication",
          "Minerals and metals",
          "Dissipated water",
          "Fossil resources",
          "Land use"
         ]
        },
        {
         "marker": {
          "color": "rgb(248,114,225)"
         },
         "name": "Success rate of exploration wells",
         "orientation": "h",
         "type": "bar",
         "x": [
          9.453274822584625e-05,
          0.002548820883039734,
          0.002793587752828309,
          0.0026844752923822226,
          0.0029383812892821025,
          0.002985560973957271,
          0.0019600690342412262,
          0.002771863760520939,
          0.003262434671669625,
          0.0020623053133537648,
          0.0031280679146784792,
          0.003096293624466812,
          0.0017658682857475778,
          0.001980464443956249,
          0.002465792941993619,
          0.0019981757283935968
         ],
         "y": [
          "Climate change total",
          "Carcinogenic effects",
          "Ionising radiation",
          "Non-carcinogenic effects",
          "Ozone layer depletion",
          "Photochemical ozone creation",
          "Respiratory effects, inorganics",
          "Freshwater and terrestrial acidification",
          "Freshwater ecotoxicity",
          "Freshwater eutrophication",
          "Marine eutrophication",
          "Terrestrial eutrophication",
          "Minerals and metals",
          "Dissipated water",
          "Fossil resources",
          "Land use"
         ]
        },
        {
         "marker": {
          "color": "rgb(137,231,255)"
         },
         "name": "Success rate of makeup wells",
         "orientation": "h",
         "type": "bar",
         "x": [
          7.61522615246102e-05,
          0.003247384308266286,
          0.0037614843606808977,
          0.0033510930658386773,
          0.0039322347343567704,
          0.0039964255850335655,
          0.002615912720016888,
          0.0037165636815904,
          0.003801989414275706,
          0.0028586503110616364,
          0.004157025147026411,
          0.00411023499722113,
          0.0024840532144944573,
          0.0027375750335098363,
          0.003307404402570103,
          0.0025941870749230387
         ],
         "y": [
          "Climate change total",
          "Carcinogenic effects",
          "Ionising radiation",
          "Non-carcinogenic effects",
          "Ozone layer depletion",
          "Photochemical ozone creation",
          "Respiratory effects, inorganics",
          "Freshwater and terrestrial acidification",
          "Freshwater ecotoxicity",
          "Freshwater eutrophication",
          "Marine eutrophication",
          "Terrestrial eutrophication",
          "Minerals and metals",
          "Dissipated water",
          "Fossil resources",
          "Land use"
         ]
        }
       ],
       "layout": {
        "barmode": "stack",
        "font": {
         "color": "black",
         "family": "Arial",
         "size": 18
        },
        "height": 500,
        "legend": {
         "traceorder": "normal"
        },
        "margin": {
         "b": 0,
         "l": 0,
         "r": 0,
         "t": 0
        },
        "template": {
         "data": {
          "bar": [
           {
            "error_x": {
             "color": "#2a3f5f"
            },
            "error_y": {
             "color": "#2a3f5f"
            },
            "marker": {
             "line": {
              "color": "#E5ECF6",
              "width": 0.5
             }
            },
            "type": "bar"
           }
          ],
          "barpolar": [
           {
            "marker": {
             "line": {
              "color": "#E5ECF6",
              "width": 0.5
             }
            },
            "type": "barpolar"
           }
          ],
          "carpet": [
           {
            "aaxis": {
             "endlinecolor": "#2a3f5f",
             "gridcolor": "white",
             "linecolor": "white",
             "minorgridcolor": "white",
             "startlinecolor": "#2a3f5f"
            },
            "baxis": {
             "endlinecolor": "#2a3f5f",
             "gridcolor": "white",
             "linecolor": "white",
             "minorgridcolor": "white",
             "startlinecolor": "#2a3f5f"
            },
            "type": "carpet"
           }
          ],
          "choropleth": [
           {
            "colorbar": {
             "outlinewidth": 0,
             "ticks": ""
            },
            "type": "choropleth"
           }
          ],
          "contour": [
           {
            "colorbar": {
             "outlinewidth": 0,
             "ticks": ""
            },
            "colorscale": [
             [
              0,
              "#0d0887"
             ],
             [
              0.1111111111111111,
              "#46039f"
             ],
             [
              0.2222222222222222,
              "#7201a8"
             ],
             [
              0.3333333333333333,
              "#9c179e"
             ],
             [
              0.4444444444444444,
              "#bd3786"
             ],
             [
              0.5555555555555556,
              "#d8576b"
             ],
             [
              0.6666666666666666,
              "#ed7953"
             ],
             [
              0.7777777777777778,
              "#fb9f3a"
             ],
             [
              0.8888888888888888,
              "#fdca26"
             ],
             [
              1,
              "#f0f921"
             ]
            ],
            "type": "contour"
           }
          ],
          "contourcarpet": [
           {
            "colorbar": {
             "outlinewidth": 0,
             "ticks": ""
            },
            "type": "contourcarpet"
           }
          ],
          "heatmap": [
           {
            "colorbar": {
             "outlinewidth": 0,
             "ticks": ""
            },
            "colorscale": [
             [
              0,
              "#0d0887"
             ],
             [
              0.1111111111111111,
              "#46039f"
             ],
             [
              0.2222222222222222,
              "#7201a8"
             ],
             [
              0.3333333333333333,
              "#9c179e"
             ],
             [
              0.4444444444444444,
              "#bd3786"
             ],
             [
              0.5555555555555556,
              "#d8576b"
             ],
             [
              0.6666666666666666,
              "#ed7953"
             ],
             [
              0.7777777777777778,
              "#fb9f3a"
             ],
             [
              0.8888888888888888,
              "#fdca26"
             ],
             [
              1,
              "#f0f921"
             ]
            ],
            "type": "heatmap"
           }
          ],
          "heatmapgl": [
           {
            "colorbar": {
             "outlinewidth": 0,
             "ticks": ""
            },
            "colorscale": [
             [
              0,
              "#0d0887"
             ],
             [
              0.1111111111111111,
              "#46039f"
             ],
             [
              0.2222222222222222,
              "#7201a8"
             ],
             [
              0.3333333333333333,
              "#9c179e"
             ],
             [
              0.4444444444444444,
              "#bd3786"
             ],
             [
              0.5555555555555556,
              "#d8576b"
             ],
             [
              0.6666666666666666,
              "#ed7953"
             ],
             [
              0.7777777777777778,
              "#fb9f3a"
             ],
             [
              0.8888888888888888,
              "#fdca26"
             ],
             [
              1,
              "#f0f921"
             ]
            ],
            "type": "heatmapgl"
           }
          ],
          "histogram": [
           {
            "marker": {
             "colorbar": {
              "outlinewidth": 0,
              "ticks": ""
             }
            },
            "type": "histogram"
           }
          ],
          "histogram2d": [
           {
            "colorbar": {
             "outlinewidth": 0,
             "ticks": ""
            },
            "colorscale": [
             [
              0,
              "#0d0887"
             ],
             [
              0.1111111111111111,
              "#46039f"
             ],
             [
              0.2222222222222222,
              "#7201a8"
             ],
             [
              0.3333333333333333,
              "#9c179e"
             ],
             [
              0.4444444444444444,
              "#bd3786"
             ],
             [
              0.5555555555555556,
              "#d8576b"
             ],
             [
              0.6666666666666666,
              "#ed7953"
             ],
             [
              0.7777777777777778,
              "#fb9f3a"
             ],
             [
              0.8888888888888888,
              "#fdca26"
             ],
             [
              1,
              "#f0f921"
             ]
            ],
            "type": "histogram2d"
           }
          ],
          "histogram2dcontour": [
           {
            "colorbar": {
             "outlinewidth": 0,
             "ticks": ""
            },
            "colorscale": [
             [
              0,
              "#0d0887"
             ],
             [
              0.1111111111111111,
              "#46039f"
             ],
             [
              0.2222222222222222,
              "#7201a8"
             ],
             [
              0.3333333333333333,
              "#9c179e"
             ],
             [
              0.4444444444444444,
              "#bd3786"
             ],
             [
              0.5555555555555556,
              "#d8576b"
             ],
             [
              0.6666666666666666,
              "#ed7953"
             ],
             [
              0.7777777777777778,
              "#fb9f3a"
             ],
             [
              0.8888888888888888,
              "#fdca26"
             ],
             [
              1,
              "#f0f921"
             ]
            ],
            "type": "histogram2dcontour"
           }
          ],
          "mesh3d": [
           {
            "colorbar": {
             "outlinewidth": 0,
             "ticks": ""
            },
            "type": "mesh3d"
           }
          ],
          "parcoords": [
           {
            "line": {
             "colorbar": {
              "outlinewidth": 0,
              "ticks": ""
             }
            },
            "type": "parcoords"
           }
          ],
          "pie": [
           {
            "automargin": true,
            "type": "pie"
           }
          ],
          "scatter": [
           {
            "marker": {
             "colorbar": {
              "outlinewidth": 0,
              "ticks": ""
             }
            },
            "type": "scatter"
           }
          ],
          "scatter3d": [
           {
            "line": {
             "colorbar": {
              "outlinewidth": 0,
              "ticks": ""
             }
            },
            "marker": {
             "colorbar": {
              "outlinewidth": 0,
              "ticks": ""
             }
            },
            "type": "scatter3d"
           }
          ],
          "scattercarpet": [
           {
            "marker": {
             "colorbar": {
              "outlinewidth": 0,
              "ticks": ""
             }
            },
            "type": "scattercarpet"
           }
          ],
          "scattergeo": [
           {
            "marker": {
             "colorbar": {
              "outlinewidth": 0,
              "ticks": ""
             }
            },
            "type": "scattergeo"
           }
          ],
          "scattergl": [
           {
            "marker": {
             "colorbar": {
              "outlinewidth": 0,
              "ticks": ""
             }
            },
            "type": "scattergl"
           }
          ],
          "scattermapbox": [
           {
            "marker": {
             "colorbar": {
              "outlinewidth": 0,
              "ticks": ""
             }
            },
            "type": "scattermapbox"
           }
          ],
          "scatterpolar": [
           {
            "marker": {
             "colorbar": {
              "outlinewidth": 0,
              "ticks": ""
             }
            },
            "type": "scatterpolar"
           }
          ],
          "scatterpolargl": [
           {
            "marker": {
             "colorbar": {
              "outlinewidth": 0,
              "ticks": ""
             }
            },
            "type": "scatterpolargl"
           }
          ],
          "scatterternary": [
           {
            "marker": {
             "colorbar": {
              "outlinewidth": 0,
              "ticks": ""
             }
            },
            "type": "scatterternary"
           }
          ],
          "surface": [
           {
            "colorbar": {
             "outlinewidth": 0,
             "ticks": ""
            },
            "colorscale": [
             [
              0,
              "#0d0887"
             ],
             [
              0.1111111111111111,
              "#46039f"
             ],
             [
              0.2222222222222222,
              "#7201a8"
             ],
             [
              0.3333333333333333,
              "#9c179e"
             ],
             [
              0.4444444444444444,
              "#bd3786"
             ],
             [
              0.5555555555555556,
              "#d8576b"
             ],
             [
              0.6666666666666666,
              "#ed7953"
             ],
             [
              0.7777777777777778,
              "#fb9f3a"
             ],
             [
              0.8888888888888888,
              "#fdca26"
             ],
             [
              1,
              "#f0f921"
             ]
            ],
            "type": "surface"
           }
          ],
          "table": [
           {
            "cells": {
             "fill": {
              "color": "#EBF0F8"
             },
             "line": {
              "color": "white"
             }
            },
            "header": {
             "fill": {
              "color": "#C8D4E3"
             },
             "line": {
              "color": "white"
             }
            },
            "type": "table"
           }
          ]
         },
         "layout": {
          "annotationdefaults": {
           "arrowcolor": "#2a3f5f",
           "arrowhead": 0,
           "arrowwidth": 1
          },
          "coloraxis": {
           "colorbar": {
            "outlinewidth": 0,
            "ticks": ""
           }
          },
          "colorscale": {
           "diverging": [
            [
             0,
             "#8e0152"
            ],
            [
             0.1,
             "#c51b7d"
            ],
            [
             0.2,
             "#de77ae"
            ],
            [
             0.3,
             "#f1b6da"
            ],
            [
             0.4,
             "#fde0ef"
            ],
            [
             0.5,
             "#f7f7f7"
            ],
            [
             0.6,
             "#e6f5d0"
            ],
            [
             0.7,
             "#b8e186"
            ],
            [
             0.8,
             "#7fbc41"
            ],
            [
             0.9,
             "#4d9221"
            ],
            [
             1,
             "#276419"
            ]
           ],
           "sequential": [
            [
             0,
             "#0d0887"
            ],
            [
             0.1111111111111111,
             "#46039f"
            ],
            [
             0.2222222222222222,
             "#7201a8"
            ],
            [
             0.3333333333333333,
             "#9c179e"
            ],
            [
             0.4444444444444444,
             "#bd3786"
            ],
            [
             0.5555555555555556,
             "#d8576b"
            ],
            [
             0.6666666666666666,
             "#ed7953"
            ],
            [
             0.7777777777777778,
             "#fb9f3a"
            ],
            [
             0.8888888888888888,
             "#fdca26"
            ],
            [
             1,
             "#f0f921"
            ]
           ],
           "sequentialminus": [
            [
             0,
             "#0d0887"
            ],
            [
             0.1111111111111111,
             "#46039f"
            ],
            [
             0.2222222222222222,
             "#7201a8"
            ],
            [
             0.3333333333333333,
             "#9c179e"
            ],
            [
             0.4444444444444444,
             "#bd3786"
            ],
            [
             0.5555555555555556,
             "#d8576b"
            ],
            [
             0.6666666666666666,
             "#ed7953"
            ],
            [
             0.7777777777777778,
             "#fb9f3a"
            ],
            [
             0.8888888888888888,
             "#fdca26"
            ],
            [
             1,
             "#f0f921"
            ]
           ]
          },
          "colorway": [
           "#636efa",
           "#EF553B",
           "#00cc96",
           "#ab63fa",
           "#FFA15A",
           "#19d3f3",
           "#FF6692",
           "#B6E880",
           "#FF97FF",
           "#FECB52"
          ],
          "font": {
           "color": "#2a3f5f"
          },
          "geo": {
           "bgcolor": "white",
           "lakecolor": "white",
           "landcolor": "#E5ECF6",
           "showlakes": true,
           "showland": true,
           "subunitcolor": "white"
          },
          "hoverlabel": {
           "align": "left"
          },
          "hovermode": "closest",
          "mapbox": {
           "style": "light"
          },
          "paper_bgcolor": "white",
          "plot_bgcolor": "#E5ECF6",
          "polar": {
           "angularaxis": {
            "gridcolor": "white",
            "linecolor": "white",
            "ticks": ""
           },
           "bgcolor": "#E5ECF6",
           "radialaxis": {
            "gridcolor": "white",
            "linecolor": "white",
            "ticks": ""
           }
          },
          "scene": {
           "xaxis": {
            "backgroundcolor": "#E5ECF6",
            "gridcolor": "white",
            "gridwidth": 2,
            "linecolor": "white",
            "showbackground": true,
            "ticks": "",
            "zerolinecolor": "white"
           },
           "yaxis": {
            "backgroundcolor": "#E5ECF6",
            "gridcolor": "white",
            "gridwidth": 2,
            "linecolor": "white",
            "showbackground": true,
            "ticks": "",
            "zerolinecolor": "white"
           },
           "zaxis": {
            "backgroundcolor": "#E5ECF6",
            "gridcolor": "white",
            "gridwidth": 2,
            "linecolor": "white",
            "showbackground": true,
            "ticks": "",
            "zerolinecolor": "white"
           }
          },
          "shapedefaults": {
           "line": {
            "color": "#2a3f5f"
           }
          },
          "ternary": {
           "aaxis": {
            "gridcolor": "white",
            "linecolor": "white",
            "ticks": ""
           },
           "baxis": {
            "gridcolor": "white",
            "linecolor": "white",
            "ticks": ""
           },
           "bgcolor": "#E5ECF6",
           "caxis": {
            "gridcolor": "white",
            "linecolor": "white",
            "ticks": ""
           }
          },
          "title": {
           "x": 0.05
          },
          "xaxis": {
           "automargin": true,
           "gridcolor": "white",
           "linecolor": "white",
           "ticks": "",
           "title": {
            "standoff": 15
           },
           "zerolinecolor": "white",
           "zerolinewidth": 2
          },
          "yaxis": {
           "automargin": true,
           "gridcolor": "white",
           "linecolor": "white",
           "ticks": "",
           "title": {
            "standoff": 15
           },
           "zerolinecolor": "white",
           "zerolinewidth": 2
          }
         }
        },
        "width": 1130,
        "xaxis": {
         "range": [
          0,
          1
         ],
         "tickmode": "array",
         "ticktext": [
          0,
          0.2,
          0.4,
          0.6,
          0.8,
          1
         ],
         "tickvals": [
          0,
          0.2,
          0.4,
          0.6,
          0.8,
          1
         ]
        },
        "yaxis": {
         "autorange": "reversed"
        }
       }
      },
      "text/html": [
       "<div>\n",
       "        \n",
       "        \n",
       "            <div id=\"9fb12694-fedb-4cac-b0fa-983090babc9a\" class=\"plotly-graph-div\" style=\"height:500px; width:1130px;\"></div>\n",
       "            <script type=\"text/javascript\">\n",
       "                require([\"plotly\"], function(Plotly) {\n",
       "                    window.PLOTLYENV=window.PLOTLYENV || {};\n",
       "                    \n",
       "                if (document.getElementById(\"9fb12694-fedb-4cac-b0fa-983090babc9a\")) {\n",
       "                    Plotly.newPlot(\n",
       "                        '9fb12694-fedb-4cac-b0fa-983090babc9a',\n",
       "                        [{\"marker\": {\"color\": \"rgb(166,206,227)\"}, \"name\": \"Direct CO2 emissions\", \"orientation\": \"h\", \"type\": \"bar\", \"x\": [0.9865287848068756, 0.0, 0.0, 0.0, 0.0, 0.0, 0.0, 0.0, 0.0, 0.0, 0.0, 0.0, 0.0, 0.0, 0.0, 0.0], \"y\": [\"Climate change total\", \"Carcinogenic effects\", \"Ionising radiation\", \"Non-carcinogenic effects\", \"Ozone layer depletion\", \"Photochemical ozone creation\", \"Respiratory effects, inorganics\", \"Freshwater and terrestrial acidification\", \"Freshwater ecotoxicity\", \"Freshwater eutrophication\", \"Marine eutrophication\", \"Terrestrial eutrophication\", \"Minerals and metals\", \"Dissipated water\", \"Fossil resources\", \"Land use\"]}, {\"marker\": {\"color\": \"rgb(31,120,180)\"}, \"name\": \"Gross power per well\", \"orientation\": \"h\", \"type\": \"bar\", \"x\": [0.002694345579627582, 0.589763889305773, 0.5862109890310425, 0.5861260682283201, 0.5818515821401351, 0.5817324254651601, 0.6063884772239031, 0.5873071454437613, 0.5693206376097023, 0.5979416108451558, 0.5772711880599025, 0.5786406061690823, 0.606462954794636, 0.6006209145012545, 0.5940686445782359, 0.604231832589846], \"y\": [\"Climate change total\", \"Carcinogenic effects\", \"Ionising radiation\", \"Non-carcinogenic effects\", \"Ozone layer depletion\", \"Photochemical ozone creation\", \"Respiratory effects, inorganics\", \"Freshwater and terrestrial acidification\", \"Freshwater ecotoxicity\", \"Freshwater eutrophication\", \"Marine eutrophication\", \"Terrestrial eutrophication\", \"Minerals and metals\", \"Dissipated water\", \"Fossil resources\", \"Land use\"]}, {\"marker\": {\"color\": \"rgb(178,223,138)\"}, \"name\": \"Average depth of wells\", \"orientation\": \"h\", \"type\": \"bar\", \"x\": [0.002683579037675013, 0.2038161586689159, 0.19544781728730778, 0.20949873377851583, 0.19963269228989156, 0.20077635685444958, 0.16828374544486283, 0.19316206349903, 0.23501146630666359, 0.1820908364345949, 0.2048757145435603, 0.20351055551724606, 0.16641184189687186, 0.17548965459730714, 0.18629701584637545, 0.1722324848895376], \"y\": [\"Climate change total\", \"Carcinogenic effects\", \"Ionising radiation\", \"Non-carcinogenic effects\", \"Ozone layer depletion\", \"Photochemical ozone creation\", \"Respiratory effects, inorganics\", \"Freshwater and terrestrial acidification\", \"Freshwater ecotoxicity\", \"Freshwater eutrophication\", \"Marine eutrophication\", \"Terrestrial eutrophication\", \"Minerals and metals\", \"Dissipated water\", \"Fossil resources\", \"Land use\"]}, {\"marker\": {\"color\": \"rgb(51,160,44)\"}, \"name\": \"Initial harmonic decline rate\", \"orientation\": \"h\", \"type\": \"bar\", \"x\": [0.002223698307900593, 0.0434744415648154, 0.04829809939836812, 0.04300994430963382, 0.04787954977072423, 0.047665443891027504, 0.05129698691344316, 0.04908217629769409, 0.03939252895054374, 0.046049161064161015, 0.047177363079767914, 0.04748506335580027, 0.04912288563172084, 0.04893278159087984, 0.04939074316812988, 0.05078350118505921], \"y\": [\"Climate change total\", \"Carcinogenic effects\", \"Ionising radiation\", \"Non-carcinogenic effects\", \"Ozone layer depletion\", \"Photochemical ozone creation\", \"Respiratory effects, inorganics\", \"Freshwater and terrestrial acidification\", \"Freshwater ecotoxicity\", \"Freshwater eutrophication\", \"Marine eutrophication\", \"Terrestrial eutrophication\", \"Minerals and metals\", \"Dissipated water\", \"Fossil resources\", \"Land use\"]}, {\"marker\": {\"color\": \"rgb(251,154,153)\"}, \"name\": \"Success rate of primary wells\", \"orientation\": \"h\", \"type\": \"bar\", \"x\": [0.00055750643707944, 0.06466485093341764, 0.06867038057143253, 0.06703744854408152, 0.07110387993682336, 0.07141769881181961, 0.05518415321061258, 0.068104276668706, 0.07587564008820873, 0.058132849999661514, 0.07374133086402863, 0.07303274619633851, 0.05348737284136931, 0.05841960645167418, 0.0644207572235491, 0.05620227506940633], \"y\": [\"Climate change total\", \"Carcinogenic effects\", \"Ionising radiation\", \"Non-carcinogenic effects\", \"Ozone layer depletion\", \"Photochemical ozone creation\", \"Respiratory effects, inorganics\", \"Freshwater and terrestrial acidification\", \"Freshwater ecotoxicity\", \"Freshwater eutrophication\", \"Marine eutrophication\", \"Terrestrial eutrophication\", \"Minerals and metals\", \"Dissipated water\", \"Fossil resources\", \"Land use\"]}, {\"marker\": {\"color\": \"rgb(227,26,28)\"}, \"name\": \"Lifetime\", \"orientation\": \"h\", \"type\": \"bar\", \"x\": [0.0024244025537308285, 0.02413560170523798, 0.02591346904684049, 0.025220398036336557, 0.026569148077232808, 0.025849455167184447, 0.022930831726604144, 0.025724076003609826, 0.02743254584907498, 0.02466000541234384, 0.026488426445415915, 0.02619550110687828, 0.025684853864589446, 0.025008615510400182, 0.025011513317316197, 0.024351905797324], \"y\": [\"Climate change total\", \"Carcinogenic effects\", \"Ionising radiation\", \"Non-carcinogenic effects\", \"Ozone layer depletion\", \"Photochemical ozone creation\", \"Respiratory effects, inorganics\", \"Freshwater and terrestrial acidification\", \"Freshwater ecotoxicity\", \"Freshwater eutrophication\", \"Marine eutrophication\", \"Terrestrial eutrophication\", \"Minerals and metals\", \"Dissipated water\", \"Fossil resources\", \"Land use\"]}, {\"marker\": {\"color\": \"rgb(253,191,111)\"}, \"name\": \"Collection pipelines length\", \"orientation\": \"h\", \"type\": \"bar\", \"x\": [0.0003133747287756359, 0.020832761758211693, 0.01519362923463405, 0.018153825783082788, 0.012092772342471057, 0.011275170798339968, 0.0351033087509989, 0.01615660415893001, 0.008738097559944032, 0.029862206353824083, 0.00837647701942603, 0.009274850819300122, 0.03335380437956597, 0.030493349026657977, 0.02159068519580243, 0.03504119794952738], \"y\": [\"Climate change total\", \"Carcinogenic effects\", \"Ionising radiation\", \"Non-carcinogenic effects\", \"Ozone layer depletion\", \"Photochemical ozone creation\", \"Respiratory effects, inorganics\", \"Freshwater and terrestrial acidification\", \"Freshwater ecotoxicity\", \"Freshwater eutrophication\", \"Marine eutrophication\", \"Terrestrial eutrophication\", \"Minerals and metals\", \"Dissipated water\", \"Fossil resources\", \"Land use\"]}, {\"marker\": {\"color\": \"rgb(255,127,0)\"}, \"name\": \"Installed capacity\", \"orientation\": \"h\", \"type\": \"bar\", \"x\": [0.00040413962431533345, 0.02268624699540915, 0.02199218013674525, 0.02263768414121889, 0.021740181186552972, 0.021495409881876842, 0.023343065284102266, 0.021961536782157787, 0.02180131666667015, 0.023573146285013155, 0.02126286938800713, 0.02128947147072802, 0.024526117745770026, 0.023611241931208882, 0.022561978290871365, 0.02356301859458893], \"y\": [\"Climate change total\", \"Carcinogenic effects\", \"Ionising radiation\", \"Non-carcinogenic effects\", \"Ozone layer depletion\", \"Photochemical ozone creation\", \"Respiratory effects, inorganics\", \"Freshwater and terrestrial acidification\", \"Freshwater ecotoxicity\", \"Freshwater eutrophication\", \"Marine eutrophication\", \"Terrestrial eutrophication\", \"Minerals and metals\", \"Dissipated water\", \"Fossil resources\", \"Land use\"]}, {\"marker\": {\"color\": \"rgb(202,178,214)\"}, \"name\": \"Capacity factor\", \"orientation\": \"h\", \"type\": \"bar\", \"x\": [0.00035039025890890415, 0.0022096765991059626, 0.0029756528632005007, 0.0022817506645934687, 0.002973377927114135, 0.002795845695333627, 0.0028705444106630327, 0.0030304662580330818, 0.0020177079755290847, 0.002672898923019533, 0.002774068945160876, 0.002775355635412784, 0.003122400275040195, 0.00286819030488811, 0.002954175350896847, 0.0029848091037971195], \"y\": [\"Climate change total\", \"Carcinogenic effects\", \"Ionising radiation\", \"Non-carcinogenic effects\", \"Ozone layer depletion\", \"Photochemical ozone creation\", \"Respiratory effects, inorganics\", \"Freshwater and terrestrial acidification\", \"Freshwater ecotoxicity\", \"Freshwater eutrophication\", \"Marine eutrophication\", \"Terrestrial eutrophication\", \"Minerals and metals\", \"Dissipated water\", \"Fossil resources\", \"Land use\"]}, {\"marker\": {\"color\": \"rgb(106,61,154)\"}, \"name\": \"Auxiliary power\", \"orientation\": \"h\", \"type\": \"bar\", \"x\": [4.1764694754110025e-05, 1.3398897367346636e-05, 0.00016696859354266557, 6.197971688304209e-05, 0.00021041281674370044, 0.0001999999914535745, 0.00014275024366373353, 0.0001612044073202435, 0.00019999912856616254, 0.00011004288476389081, 0.00023487103335401638, 0.00022286184247778538, 0.00020893137416587684, 8.048479320221429e-05, 8.008135918430591e-05, 0.0001320057672978918], \"y\": [\"Climate change total\", \"Carcinogenic effects\", \"Ionising radiation\", \"Non-carcinogenic effects\", \"Ozone layer depletion\", \"Photochemical ozone creation\", \"Respiratory effects, inorganics\", \"Freshwater and terrestrial acidification\", \"Freshwater ecotoxicity\", \"Freshwater eutrophication\", \"Marine eutrophication\", \"Terrestrial eutrophication\", \"Minerals and metals\", \"Dissipated water\", \"Fossil resources\", \"Land use\"]}, {\"marker\": {\"color\": \"rgb(255,255,153)\"}, \"name\": \"Specific diesel consumption\", \"orientation\": \"h\", \"type\": \"bar\", \"x\": [0.0003618026391542007, 3.8523324498528265e-05, 0.011968100669149549, 0.00020346601102977206, 0.013982440733997866, 0.01457403335945009, 0.002097848524967109, 0.012579121510147713, 0.00010881574752799391, 0.00017002467176746266, 0.01667472939966729, 0.01645440521015773, 0.00017313431762270198, 0.0003582394847390835, 0.006723326381687538, 0.0010026053135876675], \"y\": [\"Climate change total\", \"Carcinogenic effects\", \"Ionising radiation\", \"Non-carcinogenic effects\", \"Ozone layer depletion\", \"Photochemical ozone creation\", \"Respiratory effects, inorganics\", \"Freshwater and terrestrial acidification\", \"Freshwater ecotoxicity\", \"Freshwater eutrophication\", \"Marine eutrophication\", \"Terrestrial eutrophication\", \"Minerals and metals\", \"Dissipated water\", \"Fossil resources\", \"Land use\"]}, {\"marker\": {\"color\": \"rgb(255,237,0)\"}, \"name\": \"Specific steel consumption\", \"orientation\": \"h\", \"type\": \"bar\", \"x\": [0.0005147008134486573, 0.017020255784344306, 0.007566040055572612, 0.013534419852846976, 0.005282162329255804, 0.005465363822440743, 0.02232089744937517, 0.007205409672867818, 0.00550729141858521, 0.025038865686803437, 0.0035086674979567935, 0.00386274209260052, 0.028795276058868623, 0.021035304954247314, 0.011751185185178953, 0.01953597124571164], \"y\": [\"Climate change total\", \"Carcinogenic effects\", \"Ionising radiation\", \"Non-carcinogenic effects\", \"Ozone layer depletion\", \"Photochemical ozone creation\", \"Respiratory effects, inorganics\", \"Freshwater and terrestrial acidification\", \"Freshwater ecotoxicity\", \"Freshwater eutrophication\", \"Marine eutrophication\", \"Terrestrial eutrophication\", \"Minerals and metals\", \"Dissipated water\", \"Fossil resources\", \"Land use\"]}, {\"marker\": {\"color\": \"rgb(184,255,185)\"}, \"name\": \"Specific cement consumption\", \"orientation\": \"h\", \"type\": \"bar\", \"x\": [0.00014520041065824483, 2.0660150186462597e-06, 1.796372373291839e-05, 1.2129216497653406e-05, 9.369104880369595e-06, 8.439265630285844e-06, 6.683503404615796e-05, 1.6491748833331835e-05, 1.139252646670511e-06, 2.670144025518293e-05, 3.287109581936362e-06, 4.467905655568166e-06, 1.9761755943870017e-05, 4.9533824962083314e-05, 2.845201272558439e-05, 6.51073125647756e-05], \"y\": [\"Climate change total\", \"Carcinogenic effects\", \"Ionising radiation\", \"Non-carcinogenic effects\", \"Ozone layer depletion\", \"Photochemical ozone creation\", \"Respiratory effects, inorganics\", \"Freshwater and terrestrial acidification\", \"Freshwater ecotoxicity\", \"Freshwater eutrophication\", \"Marine eutrophication\", \"Terrestrial eutrophication\", \"Minerals and metals\", \"Dissipated water\", \"Fossil resources\", \"Land use\"]}, {\"marker\": {\"color\": \"rgb(30,221,109)\"}, \"name\": \"Specific drilling mud consumption\", \"orientation\": \"h\", \"type\": \"bar\", \"x\": [4.719217146034854e-05, 4.309778939189859e-05, 0.0005230730695610403, 0.00018271936614881168, 0.0006178845666052949, 0.0004641516960463162, 0.0006007984048027778, 0.0004952722401388028, 0.00011177846148042425, 0.00035634434134253575, 0.0004184938083758785, 0.0002926796399854852, 0.0002659280195510592, 0.0029300698913098133, 0.0019228522528451808, 0.0005993825702841946], \"y\": [\"Climate change total\", \"Carcinogenic effects\", \"Ionising radiation\", \"Non-carcinogenic effects\", \"Ozone layer depletion\", \"Photochemical ozone creation\", \"Respiratory effects, inorganics\", \"Freshwater and terrestrial acidification\", \"Freshwater ecotoxicity\", \"Freshwater eutrophication\", \"Marine eutrophication\", \"Terrestrial eutrophication\", \"Minerals and metals\", \"Dissipated water\", \"Fossil resources\", \"Land use\"]}, {\"marker\": {\"color\": \"rgb(255,210,255)\"}, \"name\": \"Production to injection ratio\", \"orientation\": \"h\", \"type\": \"bar\", \"x\": [0.000538432925885053, 0.005502825467186697, 0.008500564205360888, 0.00600386399258995, 0.009183930753932975, 0.009298218740796116, 0.004793775623696985, 0.00852572786665838, 0.007416610898911805, 0.00439435003287826, 0.009907419744089641, 0.009752164416648803, 0.004114815544042352, 0.005383973659802256, 0.007425392492637498, 0.004681539808150522], \"y\": [\"Climate change total\", \"Carcinogenic effects\", \"Ionising radiation\", \"Non-carcinogenic effects\", \"Ozone layer depletion\", \"Photochemical ozone creation\", \"Respiratory effects, inorganics\", \"Freshwater and terrestrial acidification\", \"Freshwater ecotoxicity\", \"Freshwater eutrophication\", \"Marine eutrophication\", \"Terrestrial eutrophication\", \"Minerals and metals\", \"Dissipated water\", \"Fossil resources\", \"Land use\"]}, {\"marker\": {\"color\": \"rgb(248,114,225)\"}, \"name\": \"Success rate of exploration wells\", \"orientation\": \"h\", \"type\": \"bar\", \"x\": [9.453274822584625e-05, 0.002548820883039734, 0.002793587752828309, 0.0026844752923822226, 0.0029383812892821025, 0.002985560973957271, 0.0019600690342412262, 0.002771863760520939, 0.003262434671669625, 0.0020623053133537648, 0.0031280679146784792, 0.003096293624466812, 0.0017658682857475778, 0.001980464443956249, 0.002465792941993619, 0.0019981757283935968], \"y\": [\"Climate change total\", \"Carcinogenic effects\", \"Ionising radiation\", \"Non-carcinogenic effects\", \"Ozone layer depletion\", \"Photochemical ozone creation\", \"Respiratory effects, inorganics\", \"Freshwater and terrestrial acidification\", \"Freshwater ecotoxicity\", \"Freshwater eutrophication\", \"Marine eutrophication\", \"Terrestrial eutrophication\", \"Minerals and metals\", \"Dissipated water\", \"Fossil resources\", \"Land use\"]}, {\"marker\": {\"color\": \"rgb(137,231,255)\"}, \"name\": \"Success rate of makeup wells\", \"orientation\": \"h\", \"type\": \"bar\", \"x\": [7.61522615246102e-05, 0.003247384308266286, 0.0037614843606808977, 0.0033510930658386773, 0.0039322347343567704, 0.0039964255850335655, 0.002615912720016888, 0.0037165636815904, 0.003801989414275706, 0.0028586503110616364, 0.004157025147026411, 0.00411023499722113, 0.0024840532144944573, 0.0027375750335098363, 0.003307404402570103, 0.0025941870749230387], \"y\": [\"Climate change total\", \"Carcinogenic effects\", \"Ionising radiation\", \"Non-carcinogenic effects\", \"Ozone layer depletion\", \"Photochemical ozone creation\", \"Respiratory effects, inorganics\", \"Freshwater and terrestrial acidification\", \"Freshwater ecotoxicity\", \"Freshwater eutrophication\", \"Marine eutrophication\", \"Terrestrial eutrophication\", \"Minerals and metals\", \"Dissipated water\", \"Fossil resources\", \"Land use\"]}],\n",
       "                        {\"barmode\": \"stack\", \"font\": {\"color\": \"black\", \"family\": \"Arial\", \"size\": 18}, \"height\": 500, \"legend\": {\"traceorder\": \"normal\"}, \"margin\": {\"b\": 0, \"l\": 0, \"r\": 0, \"t\": 0}, \"template\": {\"data\": {\"bar\": [{\"error_x\": {\"color\": \"#2a3f5f\"}, \"error_y\": {\"color\": \"#2a3f5f\"}, \"marker\": {\"line\": {\"color\": \"#E5ECF6\", \"width\": 0.5}}, \"type\": \"bar\"}], \"barpolar\": [{\"marker\": {\"line\": {\"color\": \"#E5ECF6\", \"width\": 0.5}}, \"type\": \"barpolar\"}], \"carpet\": [{\"aaxis\": {\"endlinecolor\": \"#2a3f5f\", \"gridcolor\": \"white\", \"linecolor\": \"white\", \"minorgridcolor\": \"white\", \"startlinecolor\": \"#2a3f5f\"}, \"baxis\": {\"endlinecolor\": \"#2a3f5f\", \"gridcolor\": \"white\", \"linecolor\": \"white\", \"minorgridcolor\": \"white\", \"startlinecolor\": \"#2a3f5f\"}, \"type\": \"carpet\"}], \"choropleth\": [{\"colorbar\": {\"outlinewidth\": 0, \"ticks\": \"\"}, \"type\": \"choropleth\"}], \"contour\": [{\"colorbar\": {\"outlinewidth\": 0, \"ticks\": \"\"}, \"colorscale\": [[0.0, \"#0d0887\"], [0.1111111111111111, \"#46039f\"], [0.2222222222222222, \"#7201a8\"], [0.3333333333333333, \"#9c179e\"], [0.4444444444444444, \"#bd3786\"], [0.5555555555555556, \"#d8576b\"], [0.6666666666666666, \"#ed7953\"], [0.7777777777777778, \"#fb9f3a\"], [0.8888888888888888, \"#fdca26\"], [1.0, \"#f0f921\"]], \"type\": \"contour\"}], \"contourcarpet\": [{\"colorbar\": {\"outlinewidth\": 0, \"ticks\": \"\"}, \"type\": \"contourcarpet\"}], \"heatmap\": [{\"colorbar\": {\"outlinewidth\": 0, \"ticks\": \"\"}, \"colorscale\": [[0.0, \"#0d0887\"], [0.1111111111111111, \"#46039f\"], [0.2222222222222222, \"#7201a8\"], [0.3333333333333333, \"#9c179e\"], [0.4444444444444444, \"#bd3786\"], [0.5555555555555556, \"#d8576b\"], [0.6666666666666666, \"#ed7953\"], [0.7777777777777778, \"#fb9f3a\"], [0.8888888888888888, \"#fdca26\"], [1.0, \"#f0f921\"]], \"type\": \"heatmap\"}], \"heatmapgl\": [{\"colorbar\": {\"outlinewidth\": 0, \"ticks\": \"\"}, \"colorscale\": [[0.0, \"#0d0887\"], [0.1111111111111111, \"#46039f\"], [0.2222222222222222, \"#7201a8\"], [0.3333333333333333, \"#9c179e\"], [0.4444444444444444, \"#bd3786\"], [0.5555555555555556, \"#d8576b\"], [0.6666666666666666, \"#ed7953\"], [0.7777777777777778, \"#fb9f3a\"], [0.8888888888888888, \"#fdca26\"], [1.0, \"#f0f921\"]], \"type\": \"heatmapgl\"}], \"histogram\": [{\"marker\": {\"colorbar\": {\"outlinewidth\": 0, \"ticks\": \"\"}}, \"type\": \"histogram\"}], \"histogram2d\": [{\"colorbar\": {\"outlinewidth\": 0, \"ticks\": \"\"}, \"colorscale\": [[0.0, \"#0d0887\"], [0.1111111111111111, \"#46039f\"], [0.2222222222222222, \"#7201a8\"], [0.3333333333333333, \"#9c179e\"], [0.4444444444444444, \"#bd3786\"], [0.5555555555555556, \"#d8576b\"], [0.6666666666666666, \"#ed7953\"], [0.7777777777777778, \"#fb9f3a\"], [0.8888888888888888, \"#fdca26\"], [1.0, \"#f0f921\"]], \"type\": \"histogram2d\"}], \"histogram2dcontour\": [{\"colorbar\": {\"outlinewidth\": 0, \"ticks\": \"\"}, \"colorscale\": [[0.0, \"#0d0887\"], [0.1111111111111111, \"#46039f\"], [0.2222222222222222, \"#7201a8\"], [0.3333333333333333, \"#9c179e\"], [0.4444444444444444, \"#bd3786\"], [0.5555555555555556, \"#d8576b\"], [0.6666666666666666, \"#ed7953\"], [0.7777777777777778, \"#fb9f3a\"], [0.8888888888888888, \"#fdca26\"], [1.0, \"#f0f921\"]], \"type\": \"histogram2dcontour\"}], \"mesh3d\": [{\"colorbar\": {\"outlinewidth\": 0, \"ticks\": \"\"}, \"type\": \"mesh3d\"}], \"parcoords\": [{\"line\": {\"colorbar\": {\"outlinewidth\": 0, \"ticks\": \"\"}}, \"type\": \"parcoords\"}], \"pie\": [{\"automargin\": true, \"type\": \"pie\"}], \"scatter\": [{\"marker\": {\"colorbar\": {\"outlinewidth\": 0, \"ticks\": \"\"}}, \"type\": \"scatter\"}], \"scatter3d\": [{\"line\": {\"colorbar\": {\"outlinewidth\": 0, \"ticks\": \"\"}}, \"marker\": {\"colorbar\": {\"outlinewidth\": 0, \"ticks\": \"\"}}, \"type\": \"scatter3d\"}], \"scattercarpet\": [{\"marker\": {\"colorbar\": {\"outlinewidth\": 0, \"ticks\": \"\"}}, \"type\": \"scattercarpet\"}], \"scattergeo\": [{\"marker\": {\"colorbar\": {\"outlinewidth\": 0, \"ticks\": \"\"}}, \"type\": \"scattergeo\"}], \"scattergl\": [{\"marker\": {\"colorbar\": {\"outlinewidth\": 0, \"ticks\": \"\"}}, \"type\": \"scattergl\"}], \"scattermapbox\": [{\"marker\": {\"colorbar\": {\"outlinewidth\": 0, \"ticks\": \"\"}}, \"type\": \"scattermapbox\"}], \"scatterpolar\": [{\"marker\": {\"colorbar\": {\"outlinewidth\": 0, \"ticks\": \"\"}}, \"type\": \"scatterpolar\"}], \"scatterpolargl\": [{\"marker\": {\"colorbar\": {\"outlinewidth\": 0, \"ticks\": \"\"}}, \"type\": \"scatterpolargl\"}], \"scatterternary\": [{\"marker\": {\"colorbar\": {\"outlinewidth\": 0, \"ticks\": \"\"}}, \"type\": \"scatterternary\"}], \"surface\": [{\"colorbar\": {\"outlinewidth\": 0, \"ticks\": \"\"}, \"colorscale\": [[0.0, \"#0d0887\"], [0.1111111111111111, \"#46039f\"], [0.2222222222222222, \"#7201a8\"], [0.3333333333333333, \"#9c179e\"], [0.4444444444444444, \"#bd3786\"], [0.5555555555555556, \"#d8576b\"], [0.6666666666666666, \"#ed7953\"], [0.7777777777777778, \"#fb9f3a\"], [0.8888888888888888, \"#fdca26\"], [1.0, \"#f0f921\"]], \"type\": \"surface\"}], \"table\": [{\"cells\": {\"fill\": {\"color\": \"#EBF0F8\"}, \"line\": {\"color\": \"white\"}}, \"header\": {\"fill\": {\"color\": \"#C8D4E3\"}, \"line\": {\"color\": \"white\"}}, \"type\": \"table\"}]}, \"layout\": {\"annotationdefaults\": {\"arrowcolor\": \"#2a3f5f\", \"arrowhead\": 0, \"arrowwidth\": 1}, \"coloraxis\": {\"colorbar\": {\"outlinewidth\": 0, \"ticks\": \"\"}}, \"colorscale\": {\"diverging\": [[0, \"#8e0152\"], [0.1, \"#c51b7d\"], [0.2, \"#de77ae\"], [0.3, \"#f1b6da\"], [0.4, \"#fde0ef\"], [0.5, \"#f7f7f7\"], [0.6, \"#e6f5d0\"], [0.7, \"#b8e186\"], [0.8, \"#7fbc41\"], [0.9, \"#4d9221\"], [1, \"#276419\"]], \"sequential\": [[0.0, \"#0d0887\"], [0.1111111111111111, \"#46039f\"], [0.2222222222222222, \"#7201a8\"], [0.3333333333333333, \"#9c179e\"], [0.4444444444444444, \"#bd3786\"], [0.5555555555555556, \"#d8576b\"], [0.6666666666666666, \"#ed7953\"], [0.7777777777777778, \"#fb9f3a\"], [0.8888888888888888, \"#fdca26\"], [1.0, \"#f0f921\"]], \"sequentialminus\": [[0.0, \"#0d0887\"], [0.1111111111111111, \"#46039f\"], [0.2222222222222222, \"#7201a8\"], [0.3333333333333333, \"#9c179e\"], [0.4444444444444444, \"#bd3786\"], [0.5555555555555556, \"#d8576b\"], [0.6666666666666666, \"#ed7953\"], [0.7777777777777778, \"#fb9f3a\"], [0.8888888888888888, \"#fdca26\"], [1.0, \"#f0f921\"]]}, \"colorway\": [\"#636efa\", \"#EF553B\", \"#00cc96\", \"#ab63fa\", \"#FFA15A\", \"#19d3f3\", \"#FF6692\", \"#B6E880\", \"#FF97FF\", \"#FECB52\"], \"font\": {\"color\": \"#2a3f5f\"}, \"geo\": {\"bgcolor\": \"white\", \"lakecolor\": \"white\", \"landcolor\": \"#E5ECF6\", \"showlakes\": true, \"showland\": true, \"subunitcolor\": \"white\"}, \"hoverlabel\": {\"align\": \"left\"}, \"hovermode\": \"closest\", \"mapbox\": {\"style\": \"light\"}, \"paper_bgcolor\": \"white\", \"plot_bgcolor\": \"#E5ECF6\", \"polar\": {\"angularaxis\": {\"gridcolor\": \"white\", \"linecolor\": \"white\", \"ticks\": \"\"}, \"bgcolor\": \"#E5ECF6\", \"radialaxis\": {\"gridcolor\": \"white\", \"linecolor\": \"white\", \"ticks\": \"\"}}, \"scene\": {\"xaxis\": {\"backgroundcolor\": \"#E5ECF6\", \"gridcolor\": \"white\", \"gridwidth\": 2, \"linecolor\": \"white\", \"showbackground\": true, \"ticks\": \"\", \"zerolinecolor\": \"white\"}, \"yaxis\": {\"backgroundcolor\": \"#E5ECF6\", \"gridcolor\": \"white\", \"gridwidth\": 2, \"linecolor\": \"white\", \"showbackground\": true, \"ticks\": \"\", \"zerolinecolor\": \"white\"}, \"zaxis\": {\"backgroundcolor\": \"#E5ECF6\", \"gridcolor\": \"white\", \"gridwidth\": 2, \"linecolor\": \"white\", \"showbackground\": true, \"ticks\": \"\", \"zerolinecolor\": \"white\"}}, \"shapedefaults\": {\"line\": {\"color\": \"#2a3f5f\"}}, \"ternary\": {\"aaxis\": {\"gridcolor\": \"white\", \"linecolor\": \"white\", \"ticks\": \"\"}, \"baxis\": {\"gridcolor\": \"white\", \"linecolor\": \"white\", \"ticks\": \"\"}, \"bgcolor\": \"#E5ECF6\", \"caxis\": {\"gridcolor\": \"white\", \"linecolor\": \"white\", \"ticks\": \"\"}}, \"title\": {\"x\": 0.05}, \"xaxis\": {\"automargin\": true, \"gridcolor\": \"white\", \"linecolor\": \"white\", \"ticks\": \"\", \"title\": {\"standoff\": 15}, \"zerolinecolor\": \"white\", \"zerolinewidth\": 2}, \"yaxis\": {\"automargin\": true, \"gridcolor\": \"white\", \"linecolor\": \"white\", \"ticks\": \"\", \"title\": {\"standoff\": 15}, \"zerolinecolor\": \"white\", \"zerolinewidth\": 2}}}, \"width\": 1130, \"xaxis\": {\"range\": [0, 1], \"tickmode\": \"array\", \"ticktext\": [0, 0.2, 0.4, 0.6, 0.8, 1], \"tickvals\": [0, 0.2, 0.4, 0.6, 0.8, 1]}, \"yaxis\": {\"autorange\": \"reversed\"}},\n",
       "                        {\"responsive\": true}\n",
       "                    ).then(function(){\n",
       "                            \n",
       "var gd = document.getElementById('9fb12694-fedb-4cac-b0fa-983090babc9a');\n",
       "var x = new MutationObserver(function (mutations, observer) {{\n",
       "        var display = window.getComputedStyle(gd).display;\n",
       "        if (!display || display === 'none') {{\n",
       "            console.log([gd, 'removed!']);\n",
       "            Plotly.purge(gd);\n",
       "            observer.disconnect();\n",
       "        }}\n",
       "}});\n",
       "\n",
       "// Listen for the removal of the full notebook cells\n",
       "var notebookContainer = gd.closest('#notebook-container');\n",
       "if (notebookContainer) {{\n",
       "    x.observe(notebookContainer, {childList: true});\n",
       "}}\n",
       "\n",
       "// Listen for the clearing of the current output cell\n",
       "var outputEl = gd.closest('.output');\n",
       "if (outputEl) {{\n",
       "    x.observe(outputEl, {childList: true});\n",
       "}}\n",
       "\n",
       "                        })\n",
       "                };\n",
       "                });\n",
       "            </script>\n",
       "        </div>"
      ]
     },
     "metadata": {},
     "output_type": "display_data"
    }
   ],
   "source": [
    "fig = go.Figure()\n",
    "ydata = df.columns[1:].tolist()\n",
    "ydata = [d.capitalize() for d in ydata]\n",
    "f = [ind for ind,yd in enumerate(ydata) if \"Fossils\"==yd][0]\n",
    "ydata[f] = 'Fossil resources'\n",
    "\n",
    "for i in df.index:\n",
    "    xdata = df.loc[i][1:].tolist()\n",
    "    name = df.loc[i][0].replace('_', ' ').capitalize()\n",
    "    if name.lower() == 'co2 emissions':\n",
    "        name = 'Direct CO2 emissions'\n",
    "    elif name.lower() == 'collection pipelines':\n",
    "        name = 'Collection pipelines length'\n",
    "    elif 'success' in name.lower():\n",
    "        name = name[:13] + 'of ' + name[13:]\n",
    "    elif '0to1' in name.lower():\n",
    "        name = name[:-4] + '0 ot 1'\n",
    "    fig.add_bar(name = name, \n",
    "                x = xdata,\n",
    "                y = ydata,\n",
    "                orientation='h',\n",
    "                marker_color=colors[i])\n",
    "    fig.update_xaxes(range = [0,1])\n",
    "    \n",
    "    fig.update_layout(barmode='stack',\n",
    "                      font_size = 18,\n",
    "                      width = 1130, \n",
    "                      height = 500,\n",
    "                      legend_traceorder  = 'normal',\n",
    "                      yaxis = dict(autorange=\"reversed\"),\n",
    "                      font_family = 'Arial',\n",
    "                      margin = dict(l=0,r=0,t=0,b=0),\n",
    "                      font_color = 'black',\n",
    "                      xaxis = dict(tickmode = 'array', \n",
    "                                   tickvals = [0, 0.2, 0.4, 0.6, 0.8, 1],\n",
    "                                   ticktext = [0, 0.2, 0.4, 0.6, 0.8, 1])\n",
    "                     )\n",
    "fig"
   ]
  },
  {
   "cell_type": "code",
   "execution_count": 58,
   "metadata": {},
   "outputs": [],
   "source": [
    "# Save image\n",
    "path_images = \"generated_plots/write_images\"\n",
    "if not os.path.exists(path_images):\n",
    "    os.mkdir(path_images)\n",
    "    \n",
    "start_end = [i for i, ltr in enumerate(path) if ltr == '/']\n",
    "start = start_end[-2]\n",
    "end = start_end[-1]\n",
    "\n",
    "path_fig = os.path.join(path_images, 'sobol_' + first_or_total + '_' + path[start+1:end] + '.png')\n",
    "fig.write_image(path_fig)"
   ]
  },
  {
   "cell_type": "code",
   "execution_count": null,
   "metadata": {},
   "outputs": [],
   "source": []
  },
  {
   "cell_type": "code",
   "execution_count": null,
   "metadata": {},
   "outputs": [],
   "source": []
  },
  {
   "cell_type": "code",
   "execution_count": null,
   "metadata": {},
   "outputs": [],
   "source": []
  },
  {
   "cell_type": "code",
   "execution_count": null,
   "metadata": {},
   "outputs": [],
   "source": []
  },
  {
   "cell_type": "code",
   "execution_count": null,
   "metadata": {},
   "outputs": [],
   "source": []
  },
  {
   "cell_type": "code",
   "execution_count": null,
   "metadata": {},
   "outputs": [],
   "source": []
  }
 ],
 "metadata": {
  "kernelspec": {
   "display_name": "Python 3",
   "language": "python",
   "name": "python3"
  },
  "language_info": {
   "codemirror_mode": {
    "name": "ipython",
    "version": 3
   },
   "file_extension": ".py",
   "mimetype": "text/x-python",
   "name": "python",
   "nbconvert_exporter": "python",
   "pygments_lexer": "ipython3",
   "version": "3.7.4"
  }
 },
 "nbformat": 4,
 "nbformat_minor": 2
}
