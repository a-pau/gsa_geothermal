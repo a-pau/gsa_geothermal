{
 "cells": [
  {
   "cell_type": "markdown",
   "metadata": {},
   "source": [
    "# 0-1. Common data, specific to plotting"
   ]
  },
  {
   "cell_type": "code",
   "execution_count": null,
   "metadata": {},
   "outputs": [],
   "source": [
    "# Rename parameters to be consistent with names in the paper\n",
    "parameters_dict = {\n",
    "    # Common\n",
    "    'average_depth_of_wells': 'depth (of wells)',\n",
    "    'collection_pipelines': 'collection pipelines length',\n",
    "    'installed_capacity': 'installed capacity',\n",
    "    'lifetime': 'lifetime',\n",
    "    'capacity_factor': 'capacity factor',\n",
    "    'auxiliary_power': 'auxiliary power',\n",
    "    'specific_diesel_consumption': 'diesel',\n",
    "    'specific_steel_consumption': 'steel',\n",
    "    'specific_cement_consumption': 'cement',\n",
    "    'specific_drilling_mud_consumption': 'drilling mud',\n",
    "    'success_rate_exploration_wells': 'success rate, exploratory wells',\n",
    "    'success_rate_primary_wells': 'success rate, primary wells',\n",
    "    # CGE\n",
    "    'gross_power_per_well': 'producers gross power',\n",
    "    'co2_emissions': 'CO2 emissions',\n",
    "    'initial_harmonic_decline_rate': 'initial harmonic decline rate',\n",
    "    'production_to_injection_ratio': 'producers-injectors ratio',\n",
    "    'success_rate_makeup_wells': 'success rate, make-up wells ',\n",
    "    # EGE\n",
    "    'number_of_wells': 'primary wells number',\n",
    "    'number_of_wells_stimulated_0to1': 'wells (for stimulation)',\n",
    "    'water_stimulation': 'water (for stimulation)',\n",
    "    'specific_electricity_stimulation': 'diesel (for stimulation)',\n",
    "}"
   ]
  },
  {
   "cell_type": "code",
   "execution_count": null,
   "metadata": {},
   "outputs": [],
   "source": [
    "colors = {\n",
    "    # Common\n",
    "    'average_depth_of_wells': 'rgb(178,223,138)',\n",
    "    'collection_pipelines': 'rgb(202,178,214)',\n",
    "    'installed_capacity': 'rgb(106,61,154)',\n",
    "    'lifetime': 'rgb(227,26,28)', \n",
    "    'capacity_factor': 'rgb(184,255,185)',\n",
    "    'auxiliary_power': 'rgb(30,221,109)',\n",
    "    'specific_diesel_consumption': 'rgb(255,127,0)',\n",
    "    'specific_steel_consumption': 'rgb(248,114,225)',\n",
    "    'specific_cement_consumption': 'rgb(137,231,255)',\n",
    "    'specific_drilling_mud_consumption': 'rgb(255,255,153)',\n",
    "    'success_rate_exploration_wells': 'rgb(20, 121, 132)',\n",
    "    'success_rate_primary_wells': 'rgb(251,154,153)',\n",
    "    # CGE\n",
    "    'gross_power_per_well': 'rgb(31,120,180)', \n",
    "    'co2_emissions': 'rgb(166,206,227)',\n",
    "    'initial_harmonic_decline_rate': 'rgb(51,160,44)',\n",
    "    'production_to_injection_ratio': 'rgb(25, 94, 242)',\n",
    "    'success_rate_makeup_wells': 'rgb(199, 150, 162)',\n",
    "    # EGE\n",
    "    'number_of_wells': 'rgb(253,191,111)',\n",
    "    'number_of_wells_stimulated_0to1': 'rgb(12, 207, 196)',\n",
    "    'water_stimulation': 'rgb(255,210,255)',\n",
    "    'specific_electricity_stimulation': 'rgb(255,237,0)',   \n",
    "}\n",
    "colors = {parameters_dict.get(k) or k: v for k,v in colors.items()}"
   ]
  },
  {
   "cell_type": "code",
   "execution_count": null,
   "metadata": {},
   "outputs": [],
   "source": [
    "# Background color\n",
    "plot_bgcolor_ ='rgb(231,231,231)'"
   ]
  },
  {
   "cell_type": "code",
   "execution_count": null,
   "metadata": {},
   "outputs": [],
   "source": [
    "# import colorlover as cl\n",
    "# from IPython.display import HTML"
   ]
  },
  {
   "cell_type": "code",
   "execution_count": null,
   "metadata": {
    "pycharm": {
     "is_executing": false
    },
    "scrolled": true
   },
   "outputs": [],
   "source": [
    "# # Choose colors\n",
    "# my_colors = ['rgb(255,237,0)',\n",
    "#              'rgb(184,255,185)',\n",
    "#              'rgb(30,221,109)',\n",
    "#              'rgb(255,210,255)',\n",
    "#              'rgb(248,114,225)',\n",
    "#              'rgb(137,231,255)',\n",
    "#              'rgb(25, 94, 242)',\n",
    "#              'rgb(199, 150, 162)',\n",
    "#              'rgb(149, 109, 162)',\n",
    "#              'rgb(12, 207, 196)',\n",
    "#              'rgb(20, 121, 132)'\n",
    "             \n",
    "#              ]\n",
    "# colors = cl.scales['11']['qual']['Paired'] + my_colors\n",
    "# HTML(cl.to_html( colors ))"
   ]
  },
  {
   "cell_type": "markdown",
   "metadata": {},
   "source": [
    "# 0-2. Common functions"
   ]
  },
  {
   "cell_type": "code",
   "execution_count": null,
   "metadata": {},
   "outputs": [],
   "source": [
    "# Local\n",
    "from setup_files_gsa import *\n",
    "from utils.gsa_lca_dask import *\n",
    "from SALib.analyze import sobol"
   ]
  },
  {
   "cell_type": "code",
   "execution_count": null,
   "metadata": {},
   "outputs": [],
   "source": [
    "def setup_all(option):\n",
    "    project = 'Geothermal'\n",
    "\n",
    "    demand, methods, gt_model, parameters = setup_gt_project(project, option)\n",
    "\n",
    "    lca = bw.LCA(demand, methods[0])\n",
    "    lca.lci()\n",
    "    lca.lcia()\n",
    "    lca.build_demand_array()\n",
    "    gsa_in_lca = GSAinLCA(lca, parameters, gt_model, project = project)\n",
    "\n",
    "    num_vars = len(gsa_in_lca.parameters_array) \\\n",
    "             + len(gsa_in_lca.uncertain_exchanges_dict['tech_params_where']) \\\n",
    "             + len(gsa_in_lca.uncertain_exchanges_dict['bio_params_where'])\n",
    "    problem, calc_second_order = setup_gsa(num_vars)\n",
    "    parameters_list = gsa_in_lca.parameters_array['name'].tolist()\n",
    "    \n",
    "    return problem, calc_second_order, parameters_list, methods"
   ]
  },
  {
   "cell_type": "code",
   "execution_count": null,
   "metadata": {},
   "outputs": [],
   "source": [
    "def separate_output_values(Y, D, N, calc_second_order):\n",
    "    AB = np.zeros((N, D))\n",
    "    BA = np.zeros((N, D)) if calc_second_order else None\n",
    "    step = 2 * D + 2 if calc_second_order else D + 2\n",
    "\n",
    "    A = Y[0:Y.size:step]\n",
    "    B = Y[(step - 1):Y.size:step]\n",
    "    for j in range(D):\n",
    "        AB[:, j] = Y[(j + 1):Y.size:step]\n",
    "        if calc_second_order:\n",
    "            BA[:, j] = Y[(j + 1 + D):Y.size:step]\n",
    "\n",
    "    return A,B,AB,BA\n",
    "\n",
    "def first_order(A, AB, B):\n",
    "    # First order estimator following Saltelli et al. 2010 CPC, normalized by\n",
    "    # sample variance\n",
    "    return np.mean(B * (AB - A), axis=0) / np.var(np.r_[A,B,AB], axis=0)\n",
    "#     return np.mean(B * (AB - A), axis=0) # in the paper\n",
    "\n",
    "def total_order(A, AB, B):\n",
    "    # Total order estimator following Saltelli et al. 2010 CPC, normalized by\n",
    "    # sample variance\n",
    "    return 0.5 * np.mean((A - AB) ** 2, axis=0) / np.var(np.r_[A,AB], axis=0)\n",
    "#     return 0.5 * np.mean((A - AB) ** 2, axis=0) # in the paper"
   ]
  },
  {
   "cell_type": "code",
   "execution_count": null,
   "metadata": {},
   "outputs": [],
   "source": [
    "def my_sobol_analyze(problem, Y, calc_second_order):\n",
    "    \n",
    "    D = problem['num_vars']\n",
    "    if calc_second_order==False:\n",
    "        N = Y.shape[0]//(D+2)\n",
    "        \n",
    "#     Y = (Y - Y.mean())/Y.std()\n",
    "    \n",
    "    A,B,AB,BA = separate_output_values(Y, D, N, calc_second_order)\n",
    "    f = np.zeros(D)\n",
    "    t = np.zeros(D)\n",
    "    \n",
    "    for j in range(D):\n",
    "        t[j] = total_order(A, AB[:,j], B)\n",
    "        f[j] = first_order(A, AB[:,j], B)\n",
    "        \n",
    "    dict_ = dict(S1=f, ST=t)\n",
    "    \n",
    "    return dict_"
   ]
  },
  {
   "cell_type": "markdown",
   "metadata": {},
   "source": [
    "# I. Bar plots of Sobol' indices"
   ]
  },
  {
   "cell_type": "code",
   "execution_count": null,
   "metadata": {
    "pycharm": {
     "is_executing": false
    }
   },
   "outputs": [],
   "source": [
    "import json\n",
    "import os\n",
    "import brightway2 as bw\n",
    "import numpy as np\n",
    "import pandas as pd\n",
    "\n",
    "# For plotting\n",
    "import plotly.graph_objs as go\n",
    "from plotly.subplots import make_subplots\n"
   ]
  },
  {
   "cell_type": "code",
   "execution_count": null,
   "metadata": {},
   "outputs": [],
   "source": [
    "option = 'ege'"
   ]
  },
  {
   "cell_type": "markdown",
   "metadata": {},
   "source": [
    "## 1. Load data and setup"
   ]
  },
  {
   "cell_type": "code",
   "execution_count": null,
   "metadata": {},
   "outputs": [],
   "source": [
    "scores = get_lcia_results('generated_files/write_files/' + option +'_N500')\n",
    "problem, calc_second_order, parameters_list, methods = setup_all(option)"
   ]
  },
  {
   "cell_type": "code",
   "execution_count": null,
   "metadata": {},
   "outputs": [],
   "source": [
    "sa_dict = dict(parameters=parameters_list)\n",
    "for i, method in enumerate(methods):\n",
    "    method_name = method[-1]\n",
    "    Y = scores[:,i]\n",
    "    sa_dict[method_name] = my_sobol_analyze(problem, Y, calc_second_order)"
   ]
  },
  {
   "cell_type": "code",
   "execution_count": null,
   "metadata": {
    "pycharm": {
     "is_executing": false
    }
   },
   "outputs": [],
   "source": [
    "# with open(path) as f:\n",
    "#     sa_dict = json.load(f)\n",
    "parameters = sa_dict['parameters']\n",
    "n_parameters = len(parameters)\n",
    "\n",
    "# Extract total index into a dictionary and dataframe\n",
    "total_dict, first_dict = {}, {}\n",
    "total_dict['parameters'] = parameters\n",
    "first_dict['parameters'] = parameters\n",
    "for k in sa_dict.keys():\n",
    "    if k != 'parameters':\n",
    "        total_dict[k] = sa_dict[k]['ST']\n",
    "        first_dict[k] = [abs(a) for a in sa_dict[k]['S1']]#[abs(a) for a in all_vals_first[n_all-n_parameters:]]\n",
    "total_df = pd.DataFrame(total_dict)\n",
    "first_df = pd.DataFrame(first_dict)"
   ]
  },
  {
   "cell_type": "markdown",
   "metadata": {},
   "source": [
    "### Save sobol indices files"
   ]
  },
  {
   "cell_type": "code",
   "execution_count": null,
   "metadata": {},
   "outputs": [],
   "source": [
    "def save_dict_json(dict_, path):\n",
    "    dict_save = {}\n",
    "    for k,v in dict_.items():\n",
    "        if type(v) == dict:\n",
    "            v['S1'] = list(v['S1'])\n",
    "            v['ST'] = list(v['ST'])\n",
    "        dict_save[k] = v\n",
    "    with open(path, 'w') as f:\n",
    "        json.dump(dict_save, f)\n",
    "    return dict_save"
   ]
  },
  {
   "cell_type": "code",
   "execution_count": null,
   "metadata": {},
   "outputs": [],
   "source": [
    "path = 'generated_files/write_files/' + option + '_N500/'\n",
    "\n",
    "first_df.to_excel(os.path.join(path,'sobol_first.xlsx'))\n",
    "total_df.to_excel(os.path.join(path,'sobol_total.xlsx'))\n",
    "\n",
    "sa_dict_save = save_dict_json(sa_dict, os.path.join(path,'sobol_indices.json'))"
   ]
  },
  {
   "cell_type": "markdown",
   "metadata": {},
   "source": [
    "## 2. Prepare for plotting"
   ]
  },
  {
   "cell_type": "code",
   "execution_count": null,
   "metadata": {
    "pycharm": {
     "is_executing": false
    }
   },
   "outputs": [],
   "source": [
    "# def normalize_df(df):\n",
    "#     norm_df = pd.DataFrame([],index = df.index, columns = df.columns)\n",
    "#     norm_df['parameters'] = df['parameters']\n",
    "#     for col in df.columns:\n",
    "#         if col != 'parameters':\n",
    "#             norm_df[col] = df[col] / sum(df[col])\n",
    "#     return norm_df"
   ]
  },
  {
   "cell_type": "code",
   "execution_count": null,
   "metadata": {},
   "outputs": [],
   "source": [
    "# def change_df_index(index):\n",
    "#     new_index = []\n",
    "#     for i in index:\n",
    "#         name = i.replace('_', ' ').capitalize()\n",
    "#         if name.lower() == 'co2 emissions':\n",
    "#             name = 'Direct CO2 emissions'\n",
    "#         elif name.lower() == 'collection pipelines':\n",
    "#             name = 'Collection pipelines length'\n",
    "#         elif 'success' in name.lower():\n",
    "#             name = name[:13] + 'of ' + name[13:]\n",
    "#         elif '0to1' in name.lower():\n",
    "#             name = name[:-4] + '0 ot 1'\n",
    "#         new_index.append(name)\n",
    "#     return new_index"
   ]
  },
  {
   "cell_type": "code",
   "execution_count": null,
   "metadata": {
    "pycharm": {
     "is_executing": false
    }
   },
   "outputs": [],
   "source": [
    "def prepare_df(first_or_total):\n",
    "    # choose total or first here\n",
    "    if first_or_total == 'first':\n",
    "        names = first_df['parameters'].tolist()\n",
    "        df = first_df\n",
    "    elif first_or_total == 'total':\n",
    "        names = total_df['parameters'].tolist()\n",
    "        df = total_df\n",
    "\n",
    "    # Choose the order of parameters\n",
    "    if 'cge' in path:\n",
    "        df = df.set_index('parameters')\n",
    "        new_order = ['co2_emissions',\n",
    "                     'gross_power_per_well', \n",
    "                     'average_depth_of_wells',\n",
    "                     'initial_harmonic_decline_rate',\n",
    "                     'success_rate_primary_wells',\n",
    "                     'lifetime',\n",
    "                     'collection_pipelines', \n",
    "                     'installed_capacity', \n",
    "                     'capacity_factor', \n",
    "                     'auxiliary_power',\n",
    "                     'specific_diesel_consumption', \n",
    "                     'specific_steel_consumption',\n",
    "                     'specific_cement_consumption', \n",
    "                     'specific_drilling_mud_consumption',\n",
    "                     'production_to_injection_ratio',\n",
    "                     'success_rate_exploration_wells', \n",
    "                     'success_rate_makeup_wells']\n",
    "    elif 'ege' in path:\n",
    "        df = df.set_index('parameters')\n",
    "        new_order = ['installed_capacity',\n",
    "                     'average_depth_of_wells',\n",
    "                     'specific_diesel_consumption',\n",
    "                     'success_rate_primary_wells',\n",
    "                     'success_rate_exploration_wells',\n",
    "                     'number_of_wells',\n",
    "                     'lifetime',\n",
    "                     'specific_electricity_stimulation',\n",
    "                     'water_stimulation', \n",
    "                     'auxiliary_power',\n",
    "                     'specific_steel_consumption',\n",
    "                     'number_of_wells_stimulated_0to1', \n",
    "                     'capacity_factor', \n",
    "                     'specific_cement_consumption',\n",
    "                     'collection_pipelines',\n",
    "                     'specific_drilling_mud_consumption']\n",
    "        \n",
    "    df = df.reindex(new_order)\n",
    "#     new_index = change_df_index(new_order)\n",
    "    new_index = [parameters_dict.get(i) or i for i in df.index]\n",
    "    df.index = new_index\n",
    "    df['index'] = np.arange(len(df))\n",
    "    df = df.reset_index()\n",
    "    df = df.set_index('index')\n",
    "        \n",
    "    return df"
   ]
  },
  {
   "cell_type": "markdown",
   "metadata": {},
   "source": [
    "## 3. Bar plots"
   ]
  },
  {
   "cell_type": "code",
   "execution_count": null,
   "metadata": {
    "pycharm": {
     "is_executing": false
    }
   },
   "outputs": [],
   "source": [
    "fig = make_subplots(rows=1, \n",
    "                    cols=2,\n",
    "                    shared_yaxes=True,\n",
    "                    horizontal_spacing=0.035,\n",
    "                   )\n",
    "\n",
    "flag_leg = True\n",
    "\n",
    "for j,first_or_total in enumerate(['first', 'total']):\n",
    "    \n",
    "    df = prepare_df(first_or_total)\n",
    "    \n",
    "    ydata = df.columns[1:].tolist()\n",
    "    ydata = [d.capitalize() for d in ydata]\n",
    "    f = [ind for ind,yd in enumerate(ydata) if \"Fossils\"==yd][0]\n",
    "    ydata[f] = 'Fossil resources'\n",
    "    \n",
    "    if 'cge' in path:\n",
    "        range_ = [0,1.42]\n",
    "        tickvals_ = [0, 0.2, 0.4, 0.6, 0.8, 1, 1.2, 1.4]\n",
    "        ticktext_ = [0, 0.2, 0.4, 0.6, 0.8, 1, 1.2, 1.4]\n",
    "    elif 'ege' in path:\n",
    "        range_ = [0,1.4]\n",
    "        tickvals_ = [0, 0.2, 0.4, 0.6, 0.8, 1, 1.2, 1.4]\n",
    "        ticktext_ = [0, 0.2, 0.4, 0.6, 0.8, 1, 1.2, 1.4]\n",
    "\n",
    "    for i in df.index:\n",
    "        \n",
    "        xdata = df.loc[i][1:].tolist()\n",
    "        name = df.loc[i][0]\n",
    "            \n",
    "        fig.add_bar(name = name, \n",
    "                    x = xdata,\n",
    "                    y = ydata,\n",
    "                    orientation='h',\n",
    "                    marker_color=colors[name],\n",
    "                    row=1, \n",
    "                    col=j+1,\n",
    "                    showlegend=flag_leg)\n",
    "    fig.update_xaxes(range = range_,\n",
    "                     tickmode = 'array', \n",
    "                     tickvals = tickvals_,\n",
    "                     ticktext = ticktext_)\n",
    "\n",
    "    fig.update_layout(barmode='stack',\n",
    "                      font_size = 18,\n",
    "                      width = 1600, \n",
    "                      height = 500,\n",
    "                      legend_traceorder  = 'normal',\n",
    "                      yaxis = dict(autorange=\"reversed\"),\n",
    "                      font_family = 'Arial',\n",
    "                      margin = dict(l=0,r=0,t=0,b=0),\n",
    "                      font_color = 'black',\n",
    "                      plot_bgcolor=plot_bgcolor_\n",
    "                     )\n",
    "\n",
    "    flag_leg = False\n",
    "\n",
    "fig.show()"
   ]
  },
  {
   "cell_type": "code",
   "execution_count": null,
   "metadata": {},
   "outputs": [],
   "source": [
    "# Save image\n",
    "path_images = \"generated_plots/write_images\"\n",
    "if not os.path.exists(path_images):\n",
    "    os.mkdir(path_images)\n",
    "    \n",
    "start_end = [i for i, ltr in enumerate(path) if ltr == '/']\n",
    "start = start_end[-2]\n",
    "end = start_end[-1]\n",
    "\n",
    "path_fig = os.path.join(path_images, 'sobol_' + path[start+1:end] + '.pdf')\n",
    "fig.write_image(path_fig)"
   ]
  },
  {
   "cell_type": "code",
   "execution_count": null,
   "metadata": {},
   "outputs": [],
   "source": []
  },
  {
   "cell_type": "code",
   "execution_count": null,
   "metadata": {},
   "outputs": [],
   "source": []
  },
  {
   "cell_type": "markdown",
   "metadata": {},
   "source": [
    "# II. Plot convergence of Sobol' indices"
   ]
  },
  {
   "cell_type": "code",
   "execution_count": null,
   "metadata": {},
   "outputs": [],
   "source": [
    "import json\n",
    "import os\n",
    "import brightway2 as bw\n",
    "import numpy as np\n",
    "import re\n",
    "import pandas as pd\n",
    "import itertools\n",
    "\n",
    "from SALib.analyze import sobol\n",
    "\n",
    "#Local files\n",
    "from setup_files_gsa import *\n",
    "\n",
    "# For plotting\n",
    "import plotly.graph_objs as go\n",
    "from plotly.subplots import make_subplots"
   ]
  },
  {
   "cell_type": "markdown",
   "metadata": {},
   "source": [
    "## 1. Load data"
   ]
  },
  {
   "cell_type": "code",
   "execution_count": null,
   "metadata": {},
   "outputs": [],
   "source": [
    "project = 'Geothermal'\n",
    "\n",
    "path = 'generated_files/write_files/ege_N500'\n",
    "if 'ege' in path:\n",
    "    option = 'ege'\n",
    "elif 'cge' in path:\n",
    "    option = 'cge'"
   ]
  },
  {
   "cell_type": "code",
   "execution_count": null,
   "metadata": {},
   "outputs": [],
   "source": [
    "scores = get_lcia_results(path)\n",
    "\n",
    "path_sobol = os.path.join(path, 'sobol_indices.json')\n",
    "with open(path_sobol) as f:\n",
    "    sa_dict = json.load(f)\n",
    "parameters = sa_dict['parameters']\n",
    "n_parameters = len(parameters)"
   ]
  },
  {
   "cell_type": "code",
   "execution_count": null,
   "metadata": {},
   "outputs": [],
   "source": [
    "# Choose the order of parameters\n",
    "if 'cge' in path:\n",
    "    parameters_ordered = [ 'co2_emissions',\n",
    "                         'gross_power_per_well', \n",
    "                         'average_depth_of_wells',\n",
    "                         'initial_harmonic_decline_rate',\n",
    "                         'success_rate_primary_wells',\n",
    "                         'lifetime',\n",
    "                         'collection_pipelines', \n",
    "                         'installed_capacity', \n",
    "                         'capacity_factor', \n",
    "                         'auxiliary_power',\n",
    "                         'specific_diesel_consumption', \n",
    "                         'specific_steel_consumption',\n",
    "                         'specific_cement_consumption', \n",
    "                         'specific_drilling_mud_consumption',\n",
    "                         'production_to_injection_ratio',\n",
    "                         'success_rate_exploration_wells', \n",
    "                         'success_rate_makeup_wells' ]\n",
    "elif 'ege' in path:\n",
    "    parameters_ordered = ['installed_capacity',\n",
    "                          'average_depth_of_wells',\n",
    "                          'success_rate_primary_wells',\n",
    "                          'success_rate_exploration_wells',\n",
    "                          'number_of_wells',\n",
    "                          'lifetime',\n",
    "                          'specific_diesel_consumption',\n",
    "                          'specific_electricity_stimulation',\n",
    "                          'water_stimulation', \n",
    "                          'auxiliary_power',\n",
    "                          'specific_steel_consumption',\n",
    "                          'number_of_wells_stimulated_0to1', \n",
    "                          'capacity_factor', \n",
    "                          'specific_cement_consumption',\n",
    "                          'collection_pipelines',\n",
    "                          'specific_drilling_mud_consumption' ]"
   ]
  },
  {
   "cell_type": "code",
   "execution_count": null,
   "metadata": {},
   "outputs": [],
   "source": [
    "parameters = [parameters_dict.get(p) or p for p in parameters]\n",
    "parameters_ordered = [parameters_dict.get(p) or p for p in parameters_ordered]"
   ]
  },
  {
   "cell_type": "markdown",
   "metadata": {},
   "source": [
    "## 2. Prepare for plotting"
   ]
  },
  {
   "cell_type": "code",
   "execution_count": null,
   "metadata": {},
   "outputs": [],
   "source": [
    "problem, calc_second_order, parameters_list, methods = setup_all(option)\n",
    "N = int(''.join(c for c in path if c.isdigit()))"
   ]
  },
  {
   "cell_type": "code",
   "execution_count": null,
   "metadata": {},
   "outputs": [],
   "source": [
    "methods_names = [m[-1].capitalize() for m in methods]"
   ]
  },
  {
   "cell_type": "code",
   "execution_count": null,
   "metadata": {},
   "outputs": [],
   "source": [
    "%%time\n",
    "N_start = 2\n",
    "N_end = N\n",
    "N_step = N//100 #4032\n",
    "\n",
    "Ns = np.arange(N_start, N_end, N_step)\n",
    "\n",
    "first_arr = np.zeros((Ns.shape[0],len(methods),n_parameters))\n",
    "total_arr = np.zeros((Ns.shape[0],len(methods),n_parameters))\n",
    "\n",
    "for i,n in enumerate(Ns):\n",
    "    \n",
    "    first_methods = {}\n",
    "    total_methods = {}\n",
    "    num_runs = n * (n_parameters+2)\n",
    "    scores_n = scores[:num_runs]\n",
    "    \n",
    "    for j,m in enumerate(methods_names):\n",
    "        sa_dict = my_sobol_analyze(problem, scores_n[:,j], calc_second_order=calc_second_order)\n",
    "        first = sa_dict['S1']\n",
    "        total = sa_dict['ST']\n",
    "        first_arr[i,j] = abs(first)\n",
    "        total_arr[i,j] = total"
   ]
  },
  {
   "cell_type": "code",
   "execution_count": null,
   "metadata": {},
   "outputs": [],
   "source": [
    "df_first = pd.DataFrame(index=methods_names, columns=parameters)\n",
    "df_total = pd.DataFrame(index=methods_names, columns=parameters)\n",
    "\n",
    "for j,m in enumerate(methods_names):\n",
    "    for k,p in enumerate(parameters):\n",
    "        df_first.loc[m][p] = first_arr[:,j,k]\n",
    "        df_total.loc[m][p] = total_arr[:,j,k]"
   ]
  },
  {
   "cell_type": "code",
   "execution_count": null,
   "metadata": {},
   "outputs": [],
   "source": [
    "df_first = df_first[parameters_ordered]\n",
    "df_total = df_total[parameters_ordered]"
   ]
  },
  {
   "cell_type": "code",
   "execution_count": null,
   "metadata": {},
   "outputs": [],
   "source": [
    "sa_dict"
   ]
  },
  {
   "cell_type": "markdown",
   "metadata": {},
   "source": [
    "## Convergence plots"
   ]
  },
  {
   "cell_type": "code",
   "execution_count": null,
   "metadata": {},
   "outputs": [],
   "source": [
    "flatten = lambda l: [item for sublist in l for item in sublist]\n",
    "subplots_titles = [['S1 ' + m, 'ST ' + m] for m in methods_names]\n"
   ]
  },
  {
   "cell_type": "code",
   "execution_count": null,
   "metadata": {},
   "outputs": [],
   "source": [
    "# make colors transparent\n",
    "opacity = 1.0\n",
    "colors_opaque = {name: rgb[:3]+'a'+rgb[3:-1]+',' + str(opacity)+')' for name,rgb in colors.items()}"
   ]
  },
  {
   "cell_type": "code",
   "execution_count": null,
   "metadata": {},
   "outputs": [],
   "source": [
    "n_rows = len(methods)\n",
    "n_cols = 2\n",
    "fig = make_subplots(rows=n_rows, \n",
    "                    cols=n_cols,\n",
    "                    subplot_titles=flatten(subplots_titles),\n",
    "                   )\n",
    "\n",
    "how_many_params = 4\n",
    "\n",
    "flag = True\n",
    "for i,method in enumerate(methods_names):\n",
    "    df_first_row = df_first.loc[method]\n",
    "    df_total_row = df_total.loc[method]\n",
    "    \n",
    "    for j in range(how_many_params): \n",
    "        \n",
    "        name_ = df_first_row.index[j]\n",
    "        \n",
    "        fig.add_trace(\n",
    "            go.Scatter(x=Ns[1:], \n",
    "                       y=df_first_row[j][1:],\n",
    "                       name=name_,\n",
    "                       mode='lines+markers',\n",
    "                       marker_size=8,\n",
    "                       marker_symbol='star',\n",
    "                       marker_opacity = opacity,\n",
    "                       line=dict(color=colors_opaque[name_], width=2),\n",
    "                       showlegend=False,\n",
    "                      ),\n",
    "            row=i+1, col=1\n",
    "            )\n",
    "        fig.add_trace(\n",
    "            go.Scatter(x = Ns[1:], \n",
    "                       y = df_total_row[j][1:],\n",
    "                       name = df_first_row.index[j],\n",
    "                       mode='lines+markers',\n",
    "                       marker_size=8,\n",
    "                       marker_symbol='star',\n",
    "                       marker_opacity = opacity,\n",
    "                       line=dict(color=colors_opaque[name_], width=2),\n",
    "                       showlegend=flag,\n",
    "                      ),\n",
    "            row=i+1, col=2\n",
    "            )\n",
    "        fig.update_layout(font_size = 18,\n",
    "                          font_family = 'Arial',\n",
    "                          margin = dict(l=20,r=20,t=100,b=20),\n",
    "                          font_color = 'black',\n",
    "                         )\n",
    "    flag = False\n",
    "    max_val = np.max([1, \n",
    "                      max(np.array([df_j for df_j in df_total_row]).flatten()),\n",
    "                      max(np.array([df_j for df_j in df_first_row]).flatten()),\n",
    "                     ])\n",
    "    range_ = np.arange(0,max_val+0.8,1)\n",
    "    for k in range(2):\n",
    "        fig['layout']['yaxis' + str(i*2+k+1)].update(range=[-0.2, max(range_)+0.2],\n",
    "                                                     tickvals=range_,\n",
    "                                                     ticktext=range_)       \n",
    "        \n",
    "fig.update_layout(height=5000, \n",
    "                  width=1130, \n",
    "                  title_text  = \"Convergence of Sobol' indices \" + option.upper(),\n",
    "                  title_font_color = \"black\",\n",
    "                  title_font_size = 24,\n",
    "                  title_font_family = 'Arial',\n",
    "                  legend=dict(x=0.1, \n",
    "                              y=-0.01,\n",
    "                              orientation=\"h\"),\n",
    "                  plot_bgcolor=plot_bgcolor_\n",
    "                 )\n",
    "# fig.update_xaxes(showgrid=True, gridwidth=1, gridcolor='white',\n",
    "#                  zeroline=True, zerolinewidth=2, zerolinecolor='gray')\n",
    "# fig.update_yaxes(showgrid=True, gridwidth=1, gridcolor='white',\n",
    "#                  zeroline=True, zerolinewidth=2, zerolinecolor='LightPink')\n",
    "\n",
    "\n",
    "for i in fig['layout']['annotations']:\n",
    "    i['font']['size'] = 22\n",
    "    i['font']['color'] = 'black'\n",
    "    i['font']['family'] = 'Arial'\n",
    "    \n",
    "fig.show()"
   ]
  },
  {
   "cell_type": "code",
   "execution_count": null,
   "metadata": {},
   "outputs": [],
   "source": [
    "# Save image\n",
    "path_images = \"generated_plots/write_images\"\n",
    "if not os.path.exists(path_images):\n",
    "    os.mkdir(path_images)\n",
    "\n",
    "path_fig = os.path.join(path_images, 'sobol_convergence_' + str(how_many_params) + '_' + option + '.pdf')\n",
    "fig.write_image(path_fig)"
   ]
  },
  {
   "cell_type": "code",
   "execution_count": null,
   "metadata": {},
   "outputs": [],
   "source": []
  },
  {
   "cell_type": "code",
   "execution_count": null,
   "metadata": {},
   "outputs": [],
   "source": []
  },
  {
   "cell_type": "code",
   "execution_count": null,
   "metadata": {},
   "outputs": [],
   "source": []
  },
  {
   "cell_type": "code",
   "execution_count": null,
   "metadata": {},
   "outputs": [],
   "source": []
  }
 ],
 "metadata": {
  "kernelspec": {
   "display_name": "Python 3",
   "language": "python",
   "name": "python3"
  },
  "language_info": {
   "codemirror_mode": {
    "name": "ipython",
    "version": 3
   },
   "file_extension": ".py",
   "mimetype": "text/x-python",
   "name": "python",
   "nbconvert_exporter": "python",
   "pygments_lexer": "ipython3",
   "version": "3.7.4"
  }
 },
 "nbformat": 4,
 "nbformat_minor": 2
}
