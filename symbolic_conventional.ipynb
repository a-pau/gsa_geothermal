{
 "cells": [
  {
   "cell_type": "markdown",
   "metadata": {},
   "source": [
    "# Compute i parameters"
   ]
  },
  {
   "cell_type": "code",
   "execution_count": 2,
   "metadata": {},
   "outputs": [],
   "source": [
    "import brightway2 as bw\n",
    "import pandas as pd\n",
    "import os\n",
    "\n",
    "# Set working directry\n",
    "path = \".\"\n",
    "os.chdir(path)\n",
    "\n",
    "# Local functions\n",
    "from utils.lookup_func import lookup_geothermal\n",
    "\n",
    "# Set project\n",
    "bw.projects.set_current(\"Geothermal\")\n",
    "\n",
    "# Retrieve activities\n",
    "wellhead, diesel, steel, cement, water, \\\n",
    "drilling_mud, drill_wst, wells_closr, coll_pipe, \\\n",
    "plant, ORC_fluid, ORC_fluid_wst, diesel_stim, co2,_, _ = lookup_geothermal()\n",
    "cooling_tower=bw.Database(\"geothermal energy\").search(\"cooling tower\")[0].key\n",
    "\n",
    "list_act = [wellhead, diesel, steel, cement, water, \n",
    "         drilling_mud, drill_wst, wells_closr, coll_pipe,\n",
    "         plant, cooling_tower, ORC_fluid, ORC_fluid_wst, diesel_stim]\n",
    "\n",
    "# Retrieve methods \n",
    "ILCD_CC = [method for method in bw.methods if \"ILCD 2.0 2018 midpoint no LT\" in str(method) and \"climate change total\" in str(method)]\n",
    "ILCD_HH = [method for method in bw.methods if \"ILCD 2.0 2018 midpoint no LT\" in str(method) and \"human health\" in str(method)]\n",
    "ILCD_EQ = [method for method in bw.methods if \"ILCD 2.0 2018 midpoint no LT\" in str(method) and \"ecosystem quality\" in str(method)]\n",
    "ILCD_RE = [method for method in bw.methods if \"ILCD 2.0 2018 midpoint no LT\" in str(method) and \"resources\" in str(method)]\n",
    "ILCD = ILCD_CC + ILCD_HH + ILCD_EQ + ILCD_RE\n",
    "\n",
    "# Calculate impact of activities\n",
    "lca = bw.LCA({list_act[0]: 1}, ILCD[0])\n",
    "lca.lci()\n",
    "lca.lcia()\n",
    "coeff = {}\n",
    "for method in ILCD:\n",
    "    s=[]\n",
    "    lca.switch_method(method)\n",
    "    for act in list_act:\n",
    "        lca.redo_lcia({act: 1})\n",
    "        s.append(lca.score)\n",
    "    coeff[method] = s\n",
    "\n",
    "# Retrieve CF for co2 emissions    \n",
    "for method in ILCD:\n",
    "    CFs = bw.Method(method).load()\n",
    "    coeff[method].append(next((cf[1] for cf in CFs if cf[0]==co2),0))\n",
    "\n",
    "# Build matrix\n",
    "col_names = [\"wellhead\", \"diesel\", \"steel\", \"cement\", \"water\", \\\n",
    "         \"drilling_mud\", \"drill_wst\", \"wells_closr\", \"coll_pipe\", \\\n",
    "         \"plant\", \"cooling tower\", \"ORC_fluid\", \"ORC_fluid_wst\", \"diesel_stim\", \"co2\"]\n",
    "coeff_matrix = pd.DataFrame.from_dict(coeff, orient=\"index\", columns=col_names)\n",
    "\n",
    "# Re-arrange matrix\n",
    "coeff_matrix[\"concrete\"] = coeff_matrix[\"cement\"] + coeff_matrix[\"water\"] * 1/0.65\n",
    "coeff_matrix[\"ORC_fluid_tot\"] = coeff_matrix[\"ORC_fluid\"] - coeff_matrix[\"ORC_fluid_wst\"]\n",
    "coeff_matrix[\"electricity_stim\"] = coeff_matrix[\"diesel_stim\"] * 3.6 / 0.3\n",
    "coeff_matrix=coeff_matrix.drop(columns=[\"cement\", \"ORC_fluid\", \"ORC_fluid_wst\", \"diesel_stim\"])\n",
    "\n",
    "col_ord = [\"wellhead\", \"diesel\", \"steel\", \"concrete\", \\\n",
    "         \"drilling_mud\", \"drill_wst\", \"wells_closr\", \"coll_pipe\", \\\n",
    "         \"plant\", \"cooling tower\", \"ORC_fluid_tot\", \"water\", \"electricity_stim\", \"co2\"]\n",
    "coeff_matrix=coeff_matrix[col_ord]\n",
    "\n",
    "is_= [\"i1\", \"i2.1\", \"i2.2\", \"i2.3\", \"i2.4\", \"i2.5\", \\\n",
    "      \"i2.6\",\"i3\", \"i4.1\", \"i4.2\", \"i4.3\", \"i5.1\", \"i5.2\", \"i6\"]\n",
    "\n",
    "if len(coeff_matrix.columns) == len(is_):\n",
    "    coeff_matrix.columns=is_"
   ]
  },
  {
   "cell_type": "code",
   "execution_count": 4,
   "metadata": {},
   "outputs": [
    {
     "data": {
      "text/plain": [
       "'E:\\\\Andrea\\\\OneDrive - University College London\\\\S4CE\\\\GSA\\\\Geothermal'"
      ]
     },
     "execution_count": 4,
     "metadata": {},
     "output_type": "execute_result"
    }
   ],
   "source": [
    "os.path.abspath(path)"
   ]
  },
  {
   "cell_type": "markdown",
   "metadata": {},
   "source": [
    "# Define symbolic"
   ]
  },
  {
   "cell_type": "code",
   "execution_count": 2,
   "metadata": {},
   "outputs": [],
   "source": [
    "from sympy import symbols, collect, ratsimp, fraction"
   ]
  },
  {
   "cell_type": "code",
   "execution_count": 3,
   "metadata": {},
   "outputs": [],
   "source": [
    "# Coefficients\n",
    "i1, i2_1, i2_2, i2_3, i2_4, i2_5, i2_6, i3, i4, i4_1, i4_2, i4_3, i5_1, i5_2, i6 = \\\n",
    "symbols('i1, i2_1, i2_2, i2_3, i2_4, i2_5, i2_6, i3, i4, i4_1, i4_2, i4_3, i5_1, i5_2, i6')\n",
    "\n",
    "# Number of wells With or without success rate coefficients\n",
    "W_nT, W_nTe = symbols('W_nT, W_nTe')\n",
    "\n",
    "# Other variables that are actually irrelevant, because they will be multiplied by 0 in the enhanced model\n",
    "# I wanna keep them though for the sake of completeness\n",
    "SW_n, S_w, S_el = symbols('SW_n, SW, S_el')\n",
    "\n",
    "# Parameters for computing alpha and betas\n",
    "E_co2, W_d, PW_ne = symbols('E_co2, W_d, PW_ne')\n"
   ]
  },
  {
   "cell_type": "code",
   "execution_count": 4,
   "metadata": {},
   "outputs": [],
   "source": [
    "from cge_klausen import parameters\n",
    "parameters.static()    \n",
    "\n",
    "# Rename parameters (in accordance with parametric model)\n",
    "P_ne     = parameters[\"installed_capacity\"]\n",
    "# PW_ne    = parameters[\"gross_power_per_well\"]\n",
    "PI_ratio = parameters[\"production_to_injection_ratio\"]\n",
    "SR_pi    = parameters[\"success_rate_primary_wells\"]/100\n",
    "D_i      = parameters[\"initial_harmonic_decline_rate\"]\n",
    "LT       = parameters[\"lifetime\"]\n",
    "SR_m     = parameters[\"success_rate_makeup_wells\"]/100\n",
    "SR_e     = parameters[\"success_rate_exploration_wells\"]/100\n",
    "D        = parameters[\"specific_diesel_consumption\"]\n",
    "C_S      = parameters[\"specific_steel_consumption\"]\n",
    "C_C      = parameters[\"specific_cement_consumption\"]\n",
    "DM       = parameters[\"specific_drilling_mud_consumption\"]\n",
    "# W_d      = parameters[\"average_depth_of_wells\"]\n",
    "CP       = parameters[\"collection_pipelines\"]\n",
    "CF       = parameters[\"capacity_factor\"]\n",
    "A_p      = parameters[\"auxiliary_power\"]\n",
    "\n",
    "# Constants\n",
    "CT_el  = 864\n",
    "CT_n   = 7/303.3\n",
    "W_e_en = 3 * 0.3\n",
    "OF = 0\n",
    "\n",
    "class1 = [\"climate change total\"]\n",
    "\n",
    "class2 = [\"carcinogenic effects\", \"ionising radiation\", \"non-carcinogenic effects\", \n",
    "          \"ozone layer depletion\", \"photochemical ozone creation\", \"respiratory effects, inorganics\",\n",
    "          \"freshwater and terrestrial acidification\", \"freshwater ecotoxicity\", \n",
    "          \"freshwater eutrophication\", \"marine eutrophication\", \"terrestrial eutrophication\",\n",
    "          \"minerals and metals\", \"dissipated water\", \"fossils\", \"land use\"]\n"
   ]
  },
  {
   "cell_type": "code",
   "execution_count": 5,
   "metadata": {},
   "outputs": [],
   "source": [
    "# Supporting equations for CONVENTIONAL plant wells\n",
    "W_Pn = P_ne/PW_ne             # production wells\n",
    "W_In = P_ne/PW_ne / PI_ratio  # injection wells\n",
    "W_Mn = W_Pn*D_i*LT            # makeup wells\n",
    "\n",
    "# With success rate\n",
    "a1 = (1 + 1/PI_ratio)/SR_pi + D_i*LT/SR_m\n",
    "b1 = W_e_en/SR_e\n",
    "W_nT__with_sr = W_Pn * a1  +  b1\n",
    "\n",
    "# Total number without exploration\n",
    "W_nTe_wout_expl = W_nT - W_e_en/SR_e"
   ]
  },
  {
   "cell_type": "markdown",
   "metadata": {},
   "source": [
    "# Main equation"
   ]
  },
  {
   "cell_type": "code",
   "execution_count": 6,
   "metadata": {},
   "outputs": [],
   "source": [
    "# Equation\n",
    "nominator = W_nT*i1 \\\n",
    "          + W_d*W_nT * (D*i2_1 + C_S*i2_2 + C_C*i2_3  +  DM*i2_4 + i2_5 + i2_6) + \\\n",
    "          + W_nTe*CP*i3 \\\n",
    "          + P_ne*i4 \\\n",
    "          + SW_n*S_w * (i5_1 + S_el*i5_2)\n",
    "\n",
    "c1 = P_ne*CF*(1-A_p)*LT*8760000\n",
    "d1 = CT_el*CT_n*1000*30\n",
    "denominator = c1  -  d1\n",
    "\n",
    "summand = E_co2*i6\n",
    "\n",
    "eq = nominator/denominator + summand\n",
    "eq = eq.subs(i4, i4_1 + i4_2*CT_n + i4_3*OF)"
   ]
  },
  {
   "cell_type": "code",
   "execution_count": 7,
   "metadata": {},
   "outputs": [
    {
     "data": {
      "text/latex": [
       "$\\displaystyle E_{co2} i_{6} + 6.29186220504826 \\cdot 10^{-11} SW SW_{n} \\left(S_{el} i_{5 2} + i_{5 1}\\right) + 6.29186220504826 \\cdot 10^{-11} W_{d} W_{nT} \\left(2200.0 i_{2 1} + 105.0 i_{2 2} + 40.0 i_{2 3} + 0.65 i_{2 4} + i_{2 5} + i_{2 6}\\right) + 6.29186220504826 \\cdot 10^{-11} W_{nT} i_{1} + 3.14593110252413 \\cdot 10^{-8} W_{nTe} i_{3} + 4.40430354353378 \\cdot 10^{-9} i_{4 1} + 1.01648944295208 \\cdot 10^{-10} i_{4 2}$"
      ],
      "text/plain": [
       "E_co2*i6 + 6.29186220504826e-11*SW*SW_n*(S_el*i5_2 + i5_1) + 6.29186220504826e-11*W_d*W_nT*(2200.0*i2_1 + 105.0*i2_2 + 40.0*i2_3 + 0.65*i2_4 + i2_5 + i2_6) + 6.29186220504826e-11*W_nT*i1 + 3.14593110252413e-8*W_nTe*i3 + 4.40430354353378e-9*i4_1 + 1.01648944295208e-10*i4_2"
      ]
     },
     "execution_count": 7,
     "metadata": {},
     "output_type": "execute_result"
    }
   ],
   "source": [
    "eq"
   ]
  },
  {
   "cell_type": "code",
   "execution_count": 8,
   "metadata": {},
   "outputs": [],
   "source": [
    "# Substitute variables in the main equation with supporting equations\n",
    "eq_simplified_conventional_0 = \\\n",
    "eq.subs([(W_nTe, W_nTe_wout_expl), \n",
    "         (W_nT, W_nT__with_sr)])"
   ]
  },
  {
   "cell_type": "code",
   "execution_count": 9,
   "metadata": {},
   "outputs": [
    {
     "data": {
      "text/latex": [
       "$\\displaystyle E_{co2} i_{6} + 6.29186220504826 \\cdot 10^{-11} SW SW_{n} \\left(S_{el} i_{5 2} + i_{5 1}\\right) + 6.29186220504826 \\cdot 10^{-11} W_{d} \\left(1.33978019228699 + \\frac{277.636766510754}{PW_{ne}}\\right) \\left(2200.0 i_{2 1} + 105.0 i_{2 2} + 40.0 i_{2 3} + 0.65 i_{2 4} + i_{2 5} + i_{2 6}\\right) + 6.29186220504826 \\cdot 10^{-11} i_{1} \\left(1.33978019228699 + \\frac{277.636766510754}{PW_{ne}}\\right) + 4.40430354353378 \\cdot 10^{-9} i_{4 1} + 1.01648944295208 \\cdot 10^{-10} i_{4 2} + \\frac{8.73426138970409 \\cdot 10^{-6} i_{3}}{PW_{ne}}$"
      ],
      "text/plain": [
       "E_co2*i6 + 6.29186220504826e-11*SW*SW_n*(S_el*i5_2 + i5_1) + 6.29186220504826e-11*W_d*(1.33978019228699 + 277.636766510754/PW_ne)*(2200.0*i2_1 + 105.0*i2_2 + 40.0*i2_3 + 0.65*i2_4 + i2_5 + i2_6) + 6.29186220504826e-11*i1*(1.33978019228699 + 277.636766510754/PW_ne) + 4.40430354353378e-9*i4_1 + 1.01648944295208e-10*i4_2 + 8.73426138970409e-6*i3/PW_ne"
      ]
     },
     "execution_count": 9,
     "metadata": {},
     "output_type": "execute_result"
    }
   ],
   "source": [
    "eq_simplified_conventional_0"
   ]
  },
  {
   "cell_type": "markdown",
   "metadata": {},
   "source": [
    "## Compute alpha"
   ]
  },
  {
   "cell_type": "code",
   "execution_count": 10,
   "metadata": {},
   "outputs": [],
   "source": [
    "PW_ne_val = parameters[\"gross_power_per_well\"]   # set PW_ne to actual value\n",
    "W_d_val   = parameters[\"average_depth_of_wells\"] # set W_d to actual value\n",
    "\n",
    "eq_simplified_conventional_1 = \\\n",
    "eq_simplified_conventional_0.subs([(PW_ne, PW_ne_val),\n",
    "                                   (W_d, W_d_val)])"
   ]
  },
  {
   "cell_type": "code",
   "execution_count": 11,
   "metadata": {},
   "outputs": [
    {
     "data": {
      "text/latex": [
       "$\\displaystyle E_{co2} i_{6} + 6.29186220504826 \\cdot 10^{-11} SW SW_{n} \\left(S_{el} i_{5 2} + i_{5 1}\\right) + 3.05119441393473 \\cdot 10^{-9} i_{1} + 0.0151034123489769 i_{2 1} + 0.00072084468029208 i_{2 2} + 0.000274607497254126 i_{2 3} + 4.46237183037954 \\cdot 10^{-6} i_{2 4} + 6.86518743135314 \\cdot 10^{-6} i_{2 5} + 6.86518743135314 \\cdot 10^{-6} i_{2 6} + 1.48344864519275 \\cdot 10^{-6} i_{3} + 4.40430354353378 \\cdot 10^{-9} i_{4 1} + 1.01648944295208 \\cdot 10^{-10} i_{4 2}$"
      ],
      "text/plain": [
       "E_co2*i6 + 6.29186220504826e-11*SW*SW_n*(S_el*i5_2 + i5_1) + 3.05119441393473e-9*i1 + 0.0151034123489769*i2_1 + 0.00072084468029208*i2_2 + 0.000274607497254126*i2_3 + 4.46237183037954e-6*i2_4 + 6.86518743135314e-6*i2_5 + 6.86518743135314e-6*i2_6 + 1.48344864519275e-6*i3 + 4.40430354353378e-9*i4_1 + 1.01648944295208e-10*i4_2"
      ]
     },
     "execution_count": 11,
     "metadata": {},
     "output_type": "execute_result"
    }
   ],
   "source": [
    "eq_simplified_conventional_1"
   ]
  },
  {
   "cell_type": "code",
   "execution_count": 20,
   "metadata": {},
   "outputs": [],
   "source": [
    "alpha_dict = {}\n",
    "for method in ILCD:\n",
    "    is_ = dict(coeff_matrix.T[method])\n",
    "    is_dict = {k.replace('.', '_'): v for k,v in is_.items()}\n",
    "    is_dict['i5_1'] = 0\n",
    "    is_dict['i5_2'] = 0\n",
    "    if method[2] in class1:\n",
    "        eq_simplified_conventional_alpha = eq_simplified_conventional_1.subs(is_dict)\n",
    "        alpha1 = collect(eq_simplified_conventional_alpha, E_co2, evaluate=False)[E_co2]\n",
    "        alpha2 = collect(eq_simplified_conventional_alpha, E_co2, evaluate=False)[1]\n",
    "        alpha_dict[str(method)] = {'alpha1': alpha1,\n",
    "                              'alpha2': alpha2}"
   ]
  },
  {
   "cell_type": "code",
   "execution_count": 21,
   "metadata": {},
   "outputs": [
    {
     "data": {
      "text/plain": [
       "{\"('ILCD 2.0 2018 midpoint no LT', 'climate change', 'climate change total')\": {'alpha1': 1.00000000000000,\n",
       "  'alpha2': 0.00456859175698260}}"
      ]
     },
     "execution_count": 21,
     "metadata": {},
     "output_type": "execute_result"
    }
   ],
   "source": [
    "alpha_dict"
   ]
  },
  {
   "cell_type": "code",
   "execution_count": 22,
   "metadata": {},
   "outputs": [
    {
     "data": {
      "text/latex": [
       "$\\displaystyle 1.0 E_{co2} + 0.0045685917569826$"
      ],
      "text/plain": [
       "1.0*E_co2 + 0.0045685917569826"
      ]
     },
     "execution_count": 22,
     "metadata": {},
     "output_type": "execute_result"
    }
   ],
   "source": [
    "# Example of the formula\n",
    "eq_simplified_conventional_alpha"
   ]
  },
  {
   "cell_type": "code",
   "execution_count": 23,
   "metadata": {},
   "outputs": [
    {
     "data": {
      "text/html": [
       "<div>\n",
       "<style scoped>\n",
       "    .dataframe tbody tr th:only-of-type {\n",
       "        vertical-align: middle;\n",
       "    }\n",
       "\n",
       "    .dataframe tbody tr th {\n",
       "        vertical-align: top;\n",
       "    }\n",
       "\n",
       "    .dataframe thead th {\n",
       "        text-align: right;\n",
       "    }\n",
       "</style>\n",
       "<table border=\"1\" class=\"dataframe\">\n",
       "  <thead>\n",
       "    <tr style=\"text-align: right;\">\n",
       "      <th></th>\n",
       "      <th>alpha1</th>\n",
       "      <th>alpha2</th>\n",
       "    </tr>\n",
       "  </thead>\n",
       "  <tbody>\n",
       "    <tr>\n",
       "      <th>('ILCD 2.0 2018 midpoint no LT', 'climate change', 'climate change total')</th>\n",
       "      <td>1.0</td>\n",
       "      <td>0.004569</td>\n",
       "    </tr>\n",
       "  </tbody>\n",
       "</table>\n",
       "</div>"
      ],
      "text/plain": [
       "                                                    alpha1    alpha2\n",
       "('ILCD 2.0 2018 midpoint no LT', 'climate chang...     1.0  0.004569"
      ]
     },
     "execution_count": 23,
     "metadata": {},
     "output_type": "execute_result"
    }
   ],
   "source": [
    "alpha_df = pd.DataFrame.from_dict(alpha_dict, orient='index')\n",
    "alpha_df = alpha_df.astype(float)\n",
    "alpha_df"
   ]
  },
  {
   "cell_type": "markdown",
   "metadata": {},
   "source": [
    "# Compute betas"
   ]
  },
  {
   "cell_type": "code",
   "execution_count": 24,
   "metadata": {},
   "outputs": [],
   "source": [
    "E_co2_val = parameters[\"co2_emissions\"] # set E_co2 to actual value\n",
    "eq_simplified_conventional_2 = \\\n",
    "eq_simplified_conventional_0.subs([(E_co2, E_co2_val)])"
   ]
  },
  {
   "cell_type": "code",
   "execution_count": 25,
   "metadata": {},
   "outputs": [],
   "source": [
    "beta_dict = {}\n",
    "for method in ILCD:\n",
    "    is_ = dict(coeff_matrix.T[method])\n",
    "    is_dict = {k.replace('.', '_'): v for k,v in is_.items()}\n",
    "    is_dict['i5_1'] = 0\n",
    "    is_dict['i5_2'] = 0\n",
    "    if method[2] in class2:\n",
    "        eq_simplified_conventional_beta = eq_simplified_conventional_2.subs(is_dict)\n",
    "        eq_simplified_conventional_beta = ratsimp(eq_simplified_conventional_beta)\n",
    "        temp = collect(eq_simplified_conventional_beta, [W_d,PW_ne,W_d/PW_ne], evaluate=False)\n",
    "        beta1 = collect(temp[list(temp.keys())[1]], W_d, evaluate=False)[W_d]\n",
    "        beta2 = collect(temp[list(temp.keys())[1]], W_d, evaluate=False)[1]\n",
    "        beta3 = temp[W_d]\n",
    "        beta4 = temp[1]\n",
    "        \n",
    "        beta_dict[str(method)] = {'beta1': beta1,\n",
    "                             'beta2': beta2,\n",
    "                             'beta3': beta3,\n",
    "                             'beta4': beta4}\n",
    "        \n",
    "        "
   ]
  },
  {
   "cell_type": "code",
   "execution_count": 26,
   "metadata": {},
   "outputs": [
    {
     "data": {
      "text/plain": [
       "{W_d: 2.04559970225816e-13,\n",
       " 1/PW_ne: 4.23900644433961e-11*W_d + 5.38252583081984e-8,\n",
       " 1: 8.56116125386506e-9}"
      ]
     },
     "execution_count": 26,
     "metadata": {},
     "output_type": "execute_result"
    }
   ],
   "source": [
    "temp"
   ]
  },
  {
   "cell_type": "code",
   "execution_count": 27,
   "metadata": {},
   "outputs": [
    {
     "data": {
      "text/latex": [
       "$\\displaystyle 2.04559970225816 \\cdot 10^{-13} W_{d} + 8.56116125386506 \\cdot 10^{-9} + \\frac{1.0 \\left(4.23900644433961 \\cdot 10^{-11} W_{d} + 5.38252583081984 \\cdot 10^{-8}\\right)}{PW_{ne}}$"
      ],
      "text/plain": [
       "2.04559970225816e-13*W_d + 8.56116125386506e-9 + 1.0*(4.23900644433961e-11*W_d + 5.38252583081984e-8)/PW_ne"
      ]
     },
     "execution_count": 27,
     "metadata": {},
     "output_type": "execute_result"
    }
   ],
   "source": [
    "# Example of the formula\n",
    "eq_simplified_conventional_beta"
   ]
  },
  {
   "cell_type": "code",
   "execution_count": 28,
   "metadata": {},
   "outputs": [
    {
     "data": {
      "text/html": [
       "<div>\n",
       "<style scoped>\n",
       "    .dataframe tbody tr th:only-of-type {\n",
       "        vertical-align: middle;\n",
       "    }\n",
       "\n",
       "    .dataframe tbody tr th {\n",
       "        vertical-align: top;\n",
       "    }\n",
       "\n",
       "    .dataframe thead th {\n",
       "        text-align: right;\n",
       "    }\n",
       "</style>\n",
       "<table border=\"1\" class=\"dataframe\">\n",
       "  <thead>\n",
       "    <tr style=\"text-align: right;\">\n",
       "      <th></th>\n",
       "      <th>beta1</th>\n",
       "      <th>beta2</th>\n",
       "      <th>beta3</th>\n",
       "      <th>beta4</th>\n",
       "    </tr>\n",
       "  </thead>\n",
       "  <tbody>\n",
       "    <tr>\n",
       "      <th>('ILCD 2.0 2018 midpoint no LT', 'human health', 'carcinogenic effects')</th>\n",
       "      <td>1.061112e-12</td>\n",
       "      <td>1.181403e-09</td>\n",
       "      <td>5.120562e-15</td>\n",
       "      <td>7.268506e-11</td>\n",
       "    </tr>\n",
       "    <tr>\n",
       "      <th>('ILCD 2.0 2018 midpoint no LT', 'human health', 'ionising radiation')</th>\n",
       "      <td>3.070379e-07</td>\n",
       "      <td>1.319461e-04</td>\n",
       "      <td>1.481660e-09</td>\n",
       "      <td>2.006216e-05</td>\n",
       "    </tr>\n",
       "    <tr>\n",
       "      <th>('ILCD 2.0 2018 midpoint no LT', 'human health', 'non-carcinogenic effects')</th>\n",
       "      <td>2.575297e-12</td>\n",
       "      <td>2.857134e-09</td>\n",
       "      <td>1.242750e-14</td>\n",
       "      <td>2.296825e-10</td>\n",
       "    </tr>\n",
       "    <tr>\n",
       "      <th>('ILCD 2.0 2018 midpoint no LT', 'human health', 'ozone layer depletion')</th>\n",
       "      <td>1.024445e-12</td>\n",
       "      <td>3.489624e-10</td>\n",
       "      <td>4.943623e-15</td>\n",
       "      <td>6.986769e-11</td>\n",
       "    </tr>\n",
       "    <tr>\n",
       "      <th>('ILCD 2.0 2018 midpoint no LT', 'human health', 'photochemical ozone creation')</th>\n",
       "      <td>7.938542e-08</td>\n",
       "      <td>2.502208e-05</td>\n",
       "      <td>3.830869e-10</td>\n",
       "      <td>2.514107e-06</td>\n",
       "    </tr>\n",
       "    <tr>\n",
       "      <th>('ILCD 2.0 2018 midpoint no LT', 'human health', 'respiratory effects, inorganics')</th>\n",
       "      <td>3.901732e-13</td>\n",
       "      <td>4.623747e-10</td>\n",
       "      <td>1.882842e-15</td>\n",
       "      <td>4.286987e-11</td>\n",
       "    </tr>\n",
       "    <tr>\n",
       "      <th>('ILCD 2.0 2018 midpoint no LT', 'ecosystem quality', 'freshwater and terrestrial acidification')</th>\n",
       "      <td>6.939912e-08</td>\n",
       "      <td>3.239950e-05</td>\n",
       "      <td>3.348964e-10</td>\n",
       "      <td>4.099331e-06</td>\n",
       "    </tr>\n",
       "    <tr>\n",
       "      <th>('ILCD 2.0 2018 midpoint no LT', 'ecosystem quality', 'freshwater ecotoxicity')</th>\n",
       "      <td>1.313228e-05</td>\n",
       "      <td>1.460457e-02</td>\n",
       "      <td>6.337189e-08</td>\n",
       "      <td>1.156160e-03</td>\n",
       "    </tr>\n",
       "    <tr>\n",
       "      <th>('ILCD 2.0 2018 midpoint no LT', 'ecosystem quality', 'freshwater eutrophication')</th>\n",
       "      <td>8.494234e-10</td>\n",
       "      <td>9.463493e-07</td>\n",
       "      <td>4.099027e-12</td>\n",
       "      <td>1.235788e-07</td>\n",
       "    </tr>\n",
       "    <tr>\n",
       "      <th>('ILCD 2.0 2018 midpoint no LT', 'ecosystem quality', 'marine eutrophication')</th>\n",
       "      <td>2.553636e-08</td>\n",
       "      <td>6.042902e-06</td>\n",
       "      <td>1.232297e-10</td>\n",
       "      <td>7.702447e-07</td>\n",
       "    </tr>\n",
       "    <tr>\n",
       "      <th>('ILCD 2.0 2018 midpoint no LT', 'ecosystem quality', 'terrestrial eutrophication')</th>\n",
       "      <td>2.818703e-07</td>\n",
       "      <td>7.359883e-05</td>\n",
       "      <td>1.360210e-09</td>\n",
       "      <td>7.522376e-06</td>\n",
       "    </tr>\n",
       "    <tr>\n",
       "      <th>('ILCD 2.0 2018 midpoint no LT', 'resources', 'dissipated water')</th>\n",
       "      <td>1.403025e-06</td>\n",
       "      <td>1.376910e-03</td>\n",
       "      <td>6.770519e-09</td>\n",
       "      <td>2.855715e-04</td>\n",
       "    </tr>\n",
       "    <tr>\n",
       "      <th>('ILCD 2.0 2018 midpoint no LT', 'resources', 'fossils')</th>\n",
       "      <td>1.077806e-04</td>\n",
       "      <td>7.033989e-02</td>\n",
       "      <td>5.201126e-07</td>\n",
       "      <td>8.524695e-03</td>\n",
       "    </tr>\n",
       "    <tr>\n",
       "      <th>('ILCD 2.0 2018 midpoint no LT', 'resources', 'land use')</th>\n",
       "      <td>2.224053e-05</td>\n",
       "      <td>3.080990e-02</td>\n",
       "      <td>1.073252e-07</td>\n",
       "      <td>3.672573e-03</td>\n",
       "    </tr>\n",
       "    <tr>\n",
       "      <th>('ILCD 2.0 2018 midpoint no LT', 'resources', 'minerals and metals')</th>\n",
       "      <td>4.239006e-11</td>\n",
       "      <td>5.382526e-08</td>\n",
       "      <td>2.045600e-13</td>\n",
       "      <td>8.561161e-09</td>\n",
       "    </tr>\n",
       "  </tbody>\n",
       "</table>\n",
       "</div>"
      ],
      "text/plain": [
       "                                                           beta1  \\\n",
       "('ILCD 2.0 2018 midpoint no LT', 'human health'...  1.061112e-12   \n",
       "('ILCD 2.0 2018 midpoint no LT', 'human health'...  3.070379e-07   \n",
       "('ILCD 2.0 2018 midpoint no LT', 'human health'...  2.575297e-12   \n",
       "('ILCD 2.0 2018 midpoint no LT', 'human health'...  1.024445e-12   \n",
       "('ILCD 2.0 2018 midpoint no LT', 'human health'...  7.938542e-08   \n",
       "('ILCD 2.0 2018 midpoint no LT', 'human health'...  3.901732e-13   \n",
       "('ILCD 2.0 2018 midpoint no LT', 'ecosystem qua...  6.939912e-08   \n",
       "('ILCD 2.0 2018 midpoint no LT', 'ecosystem qua...  1.313228e-05   \n",
       "('ILCD 2.0 2018 midpoint no LT', 'ecosystem qua...  8.494234e-10   \n",
       "('ILCD 2.0 2018 midpoint no LT', 'ecosystem qua...  2.553636e-08   \n",
       "('ILCD 2.0 2018 midpoint no LT', 'ecosystem qua...  2.818703e-07   \n",
       "('ILCD 2.0 2018 midpoint no LT', 'resources', '...  1.403025e-06   \n",
       "('ILCD 2.0 2018 midpoint no LT', 'resources', '...  1.077806e-04   \n",
       "('ILCD 2.0 2018 midpoint no LT', 'resources', '...  2.224053e-05   \n",
       "('ILCD 2.0 2018 midpoint no LT', 'resources', '...  4.239006e-11   \n",
       "\n",
       "                                                           beta2  \\\n",
       "('ILCD 2.0 2018 midpoint no LT', 'human health'...  1.181403e-09   \n",
       "('ILCD 2.0 2018 midpoint no LT', 'human health'...  1.319461e-04   \n",
       "('ILCD 2.0 2018 midpoint no LT', 'human health'...  2.857134e-09   \n",
       "('ILCD 2.0 2018 midpoint no LT', 'human health'...  3.489624e-10   \n",
       "('ILCD 2.0 2018 midpoint no LT', 'human health'...  2.502208e-05   \n",
       "('ILCD 2.0 2018 midpoint no LT', 'human health'...  4.623747e-10   \n",
       "('ILCD 2.0 2018 midpoint no LT', 'ecosystem qua...  3.239950e-05   \n",
       "('ILCD 2.0 2018 midpoint no LT', 'ecosystem qua...  1.460457e-02   \n",
       "('ILCD 2.0 2018 midpoint no LT', 'ecosystem qua...  9.463493e-07   \n",
       "('ILCD 2.0 2018 midpoint no LT', 'ecosystem qua...  6.042902e-06   \n",
       "('ILCD 2.0 2018 midpoint no LT', 'ecosystem qua...  7.359883e-05   \n",
       "('ILCD 2.0 2018 midpoint no LT', 'resources', '...  1.376910e-03   \n",
       "('ILCD 2.0 2018 midpoint no LT', 'resources', '...  7.033989e-02   \n",
       "('ILCD 2.0 2018 midpoint no LT', 'resources', '...  3.080990e-02   \n",
       "('ILCD 2.0 2018 midpoint no LT', 'resources', '...  5.382526e-08   \n",
       "\n",
       "                                                           beta3         beta4  \n",
       "('ILCD 2.0 2018 midpoint no LT', 'human health'...  5.120562e-15  7.268506e-11  \n",
       "('ILCD 2.0 2018 midpoint no LT', 'human health'...  1.481660e-09  2.006216e-05  \n",
       "('ILCD 2.0 2018 midpoint no LT', 'human health'...  1.242750e-14  2.296825e-10  \n",
       "('ILCD 2.0 2018 midpoint no LT', 'human health'...  4.943623e-15  6.986769e-11  \n",
       "('ILCD 2.0 2018 midpoint no LT', 'human health'...  3.830869e-10  2.514107e-06  \n",
       "('ILCD 2.0 2018 midpoint no LT', 'human health'...  1.882842e-15  4.286987e-11  \n",
       "('ILCD 2.0 2018 midpoint no LT', 'ecosystem qua...  3.348964e-10  4.099331e-06  \n",
       "('ILCD 2.0 2018 midpoint no LT', 'ecosystem qua...  6.337189e-08  1.156160e-03  \n",
       "('ILCD 2.0 2018 midpoint no LT', 'ecosystem qua...  4.099027e-12  1.235788e-07  \n",
       "('ILCD 2.0 2018 midpoint no LT', 'ecosystem qua...  1.232297e-10  7.702447e-07  \n",
       "('ILCD 2.0 2018 midpoint no LT', 'ecosystem qua...  1.360210e-09  7.522376e-06  \n",
       "('ILCD 2.0 2018 midpoint no LT', 'resources', '...  6.770519e-09  2.855715e-04  \n",
       "('ILCD 2.0 2018 midpoint no LT', 'resources', '...  5.201126e-07  8.524695e-03  \n",
       "('ILCD 2.0 2018 midpoint no LT', 'resources', '...  1.073252e-07  3.672573e-03  \n",
       "('ILCD 2.0 2018 midpoint no LT', 'resources', '...  2.045600e-13  8.561161e-09  "
      ]
     },
     "execution_count": 28,
     "metadata": {},
     "output_type": "execute_result"
    }
   ],
   "source": [
    "beta_df = pd.DataFrame.from_dict(beta_dict, orient='index')\n",
    "beta_df = beta_df.astype(float)\n",
    "beta_df"
   ]
  },
  {
   "cell_type": "markdown",
   "metadata": {},
   "source": [
    "# Save to excel"
   ]
  },
  {
   "cell_type": "code",
   "execution_count": 29,
   "metadata": {},
   "outputs": [],
   "source": [
    "with pd.ExcelWriter(os.path.join(path, 'Simplified models coefficients conventional - symbolic.xlsx')) as writer:\n",
    "    alpha_df.to_excel(writer, sheet_name='alpha')\n",
    "    beta_df.to_excel(writer, sheet_name='beta')"
   ]
  },
  {
   "cell_type": "markdown",
   "metadata": {},
   "source": [
    "# Compare with analytical solution"
   ]
  },
  {
   "cell_type": "code",
   "execution_count": 30,
   "metadata": {},
   "outputs": [],
   "source": [
    "coeffs_=pd.read_excel(os.path.join(path, \"Simplified models coefficients - analytical.xlsx\"), sheet_name=[\"alpha\", \"beta\", \"chi\", \"delta\"], index_col=0, dtype=object)\n",
    "alpha_an = coeffs_[\"alpha\"]\n",
    "beta_an = coeffs_[\"beta\"]"
   ]
  },
  {
   "cell_type": "code",
   "execution_count": 33,
   "metadata": {},
   "outputs": [
    {
     "data": {
      "text/html": [
       "<div>\n",
       "<style scoped>\n",
       "    .dataframe tbody tr th:only-of-type {\n",
       "        vertical-align: middle;\n",
       "    }\n",
       "\n",
       "    .dataframe tbody tr th {\n",
       "        vertical-align: top;\n",
       "    }\n",
       "\n",
       "    .dataframe thead th {\n",
       "        text-align: right;\n",
       "    }\n",
       "</style>\n",
       "<table border=\"1\" class=\"dataframe\">\n",
       "  <thead>\n",
       "    <tr style=\"text-align: right;\">\n",
       "      <th></th>\n",
       "      <th>alpha1</th>\n",
       "      <th>alpha2</th>\n",
       "    </tr>\n",
       "  </thead>\n",
       "  <tbody>\n",
       "    <tr>\n",
       "      <th>('ILCD 2.0 2018 midpoint no LT', 'climate change', 'climate change total')</th>\n",
       "      <td>0</td>\n",
       "      <td>-2.25011e-05</td>\n",
       "    </tr>\n",
       "  </tbody>\n",
       "</table>\n",
       "</div>"
      ],
      "text/plain": [
       "                                                   alpha1       alpha2\n",
       "('ILCD 2.0 2018 midpoint no LT', 'climate chang...      0 -2.25011e-05"
      ]
     },
     "execution_count": 33,
     "metadata": {},
     "output_type": "execute_result"
    }
   ],
   "source": [
    "alpha_df-alpha_an"
   ]
  },
  {
   "cell_type": "code",
   "execution_count": 34,
   "metadata": {},
   "outputs": [
    {
     "data": {
      "text/html": [
       "<div>\n",
       "<style scoped>\n",
       "    .dataframe tbody tr th:only-of-type {\n",
       "        vertical-align: middle;\n",
       "    }\n",
       "\n",
       "    .dataframe tbody tr th {\n",
       "        vertical-align: top;\n",
       "    }\n",
       "\n",
       "    .dataframe thead th {\n",
       "        text-align: right;\n",
       "    }\n",
       "</style>\n",
       "<table border=\"1\" class=\"dataframe\">\n",
       "  <thead>\n",
       "    <tr style=\"text-align: right;\">\n",
       "      <th></th>\n",
       "      <th>beta1</th>\n",
       "      <th>beta2</th>\n",
       "      <th>beta3</th>\n",
       "      <th>beta4</th>\n",
       "    </tr>\n",
       "  </thead>\n",
       "  <tbody>\n",
       "    <tr>\n",
       "      <th>('ILCD 2.0 2018 midpoint no LT', 'human health', 'carcinogenic effects')</th>\n",
       "      <td>-7.40443e-13</td>\n",
       "      <td>-4.1359e-25</td>\n",
       "      <td>-3.57313e-15</td>\n",
       "      <td>1.29247e-26</td>\n",
       "    </tr>\n",
       "    <tr>\n",
       "      <th>('ILCD 2.0 2018 midpoint no LT', 'human health', 'ionising radiation')</th>\n",
       "      <td>-5.44659e-09</td>\n",
       "      <td>2.71051e-20</td>\n",
       "      <td>-2.62834e-11</td>\n",
       "      <td>0</td>\n",
       "    </tr>\n",
       "    <tr>\n",
       "      <th>('ILCD 2.0 2018 midpoint no LT', 'human health', 'non-carcinogenic effects')</th>\n",
       "      <td>-2.29606e-12</td>\n",
       "      <td>-4.1359e-25</td>\n",
       "      <td>-1.108e-14</td>\n",
       "      <td>-2.58494e-26</td>\n",
       "    </tr>\n",
       "    <tr>\n",
       "      <th>('ILCD 2.0 2018 midpoint no LT', 'human health', 'ozone layer depletion')</th>\n",
       "      <td>-1.90047e-14</td>\n",
       "      <td>5.16988e-26</td>\n",
       "      <td>-9.171e-17</td>\n",
       "      <td>-1.29247e-26</td>\n",
       "    </tr>\n",
       "    <tr>\n",
       "      <th>('ILCD 2.0 2018 midpoint no LT', 'human health', 'photochemical ozone creation')</th>\n",
       "      <td>-4.69612e-10</td>\n",
       "      <td>3.38813e-21</td>\n",
       "      <td>-2.26619e-12</td>\n",
       "      <td>4.23516e-22</td>\n",
       "    </tr>\n",
       "    <tr>\n",
       "      <th>('ILCD 2.0 2018 midpoint no LT', 'human health', 'respiratory effects, inorganics')</th>\n",
       "      <td>-6.27475e-15</td>\n",
       "      <td>0</td>\n",
       "      <td>-3.02798e-17</td>\n",
       "      <td>6.46235e-27</td>\n",
       "    </tr>\n",
       "    <tr>\n",
       "      <th>('ILCD 2.0 2018 midpoint no LT', 'ecosystem quality', 'freshwater and terrestrial acidification')</th>\n",
       "      <td>-4.53419e-10</td>\n",
       "      <td>0</td>\n",
       "      <td>-2.18804e-12</td>\n",
       "      <td>0</td>\n",
       "    </tr>\n",
       "    <tr>\n",
       "      <th>('ILCD 2.0 2018 midpoint no LT', 'ecosystem quality', 'freshwater ecotoxicity')</th>\n",
       "      <td>-4.12723e-05</td>\n",
       "      <td>5.20417e-18</td>\n",
       "      <td>-1.99166e-07</td>\n",
       "      <td>0</td>\n",
       "    </tr>\n",
       "    <tr>\n",
       "      <th>('ILCD 2.0 2018 midpoint no LT', 'ecosystem quality', 'freshwater eutrophication')</th>\n",
       "      <td>-1.20136e-10</td>\n",
       "      <td>0</td>\n",
       "      <td>-5.79734e-13</td>\n",
       "      <td>2.64698e-23</td>\n",
       "    </tr>\n",
       "    <tr>\n",
       "      <th>('ILCD 2.0 2018 midpoint no LT', 'ecosystem quality', 'marine eutrophication')</th>\n",
       "      <td>-1.43824e-10</td>\n",
       "      <td>-1.69407e-21</td>\n",
       "      <td>-6.94044e-13</td>\n",
       "      <td>-1.05879e-22</td>\n",
       "    </tr>\n",
       "    <tr>\n",
       "      <th>('ILCD 2.0 2018 midpoint no LT', 'ecosystem quality', 'terrestrial eutrophication')</th>\n",
       "      <td>-1.60662e-09</td>\n",
       "      <td>1.35525e-20</td>\n",
       "      <td>-7.75298e-12</td>\n",
       "      <td>-8.47033e-22</td>\n",
       "    </tr>\n",
       "    <tr>\n",
       "      <th>('ILCD 2.0 2018 midpoint no LT', 'resources', 'dissipated water')</th>\n",
       "      <td>-4.8689e-09</td>\n",
       "      <td>6.50521e-19</td>\n",
       "      <td>-2.34956e-11</td>\n",
       "      <td>0</td>\n",
       "    </tr>\n",
       "    <tr>\n",
       "      <th>('ILCD 2.0 2018 midpoint no LT', 'resources', 'fossils')</th>\n",
       "      <td>-1.35962e-06</td>\n",
       "      <td>0</td>\n",
       "      <td>-6.56105e-09</td>\n",
       "      <td>-1.73472e-18</td>\n",
       "    </tr>\n",
       "    <tr>\n",
       "      <th>('ILCD 2.0 2018 midpoint no LT', 'resources', 'land use')</th>\n",
       "      <td>-4.4904e-06</td>\n",
       "      <td>3.46945e-18</td>\n",
       "      <td>-2.16691e-08</td>\n",
       "      <td>4.33681e-19</td>\n",
       "    </tr>\n",
       "    <tr>\n",
       "      <th>('ILCD 2.0 2018 midpoint no LT', 'resources', 'minerals and metals')</th>\n",
       "      <td>-1.88437e-13</td>\n",
       "      <td>6.61744e-24</td>\n",
       "      <td>-9.09335e-16</td>\n",
       "      <td>-1.65436e-24</td>\n",
       "    </tr>\n",
       "  </tbody>\n",
       "</table>\n",
       "</div>"
      ],
      "text/plain": [
       "                                                          beta1        beta2  \\\n",
       "('ILCD 2.0 2018 midpoint no LT', 'human health'... -7.40443e-13  -4.1359e-25   \n",
       "('ILCD 2.0 2018 midpoint no LT', 'human health'... -5.44659e-09  2.71051e-20   \n",
       "('ILCD 2.0 2018 midpoint no LT', 'human health'... -2.29606e-12  -4.1359e-25   \n",
       "('ILCD 2.0 2018 midpoint no LT', 'human health'... -1.90047e-14  5.16988e-26   \n",
       "('ILCD 2.0 2018 midpoint no LT', 'human health'... -4.69612e-10  3.38813e-21   \n",
       "('ILCD 2.0 2018 midpoint no LT', 'human health'... -6.27475e-15            0   \n",
       "('ILCD 2.0 2018 midpoint no LT', 'ecosystem qua... -4.53419e-10            0   \n",
       "('ILCD 2.0 2018 midpoint no LT', 'ecosystem qua... -4.12723e-05  5.20417e-18   \n",
       "('ILCD 2.0 2018 midpoint no LT', 'ecosystem qua... -1.20136e-10            0   \n",
       "('ILCD 2.0 2018 midpoint no LT', 'ecosystem qua... -1.43824e-10 -1.69407e-21   \n",
       "('ILCD 2.0 2018 midpoint no LT', 'ecosystem qua... -1.60662e-09  1.35525e-20   \n",
       "('ILCD 2.0 2018 midpoint no LT', 'resources', '...  -4.8689e-09  6.50521e-19   \n",
       "('ILCD 2.0 2018 midpoint no LT', 'resources', '... -1.35962e-06            0   \n",
       "('ILCD 2.0 2018 midpoint no LT', 'resources', '...  -4.4904e-06  3.46945e-18   \n",
       "('ILCD 2.0 2018 midpoint no LT', 'resources', '... -1.88437e-13  6.61744e-24   \n",
       "\n",
       "                                                          beta3        beta4  \n",
       "('ILCD 2.0 2018 midpoint no LT', 'human health'... -3.57313e-15  1.29247e-26  \n",
       "('ILCD 2.0 2018 midpoint no LT', 'human health'... -2.62834e-11            0  \n",
       "('ILCD 2.0 2018 midpoint no LT', 'human health'...   -1.108e-14 -2.58494e-26  \n",
       "('ILCD 2.0 2018 midpoint no LT', 'human health'...   -9.171e-17 -1.29247e-26  \n",
       "('ILCD 2.0 2018 midpoint no LT', 'human health'... -2.26619e-12  4.23516e-22  \n",
       "('ILCD 2.0 2018 midpoint no LT', 'human health'... -3.02798e-17  6.46235e-27  \n",
       "('ILCD 2.0 2018 midpoint no LT', 'ecosystem qua... -2.18804e-12            0  \n",
       "('ILCD 2.0 2018 midpoint no LT', 'ecosystem qua... -1.99166e-07            0  \n",
       "('ILCD 2.0 2018 midpoint no LT', 'ecosystem qua... -5.79734e-13  2.64698e-23  \n",
       "('ILCD 2.0 2018 midpoint no LT', 'ecosystem qua... -6.94044e-13 -1.05879e-22  \n",
       "('ILCD 2.0 2018 midpoint no LT', 'ecosystem qua... -7.75298e-12 -8.47033e-22  \n",
       "('ILCD 2.0 2018 midpoint no LT', 'resources', '... -2.34956e-11            0  \n",
       "('ILCD 2.0 2018 midpoint no LT', 'resources', '... -6.56105e-09 -1.73472e-18  \n",
       "('ILCD 2.0 2018 midpoint no LT', 'resources', '... -2.16691e-08  4.33681e-19  \n",
       "('ILCD 2.0 2018 midpoint no LT', 'resources', '... -9.09335e-16 -1.65436e-24  "
      ]
     },
     "execution_count": 34,
     "metadata": {},
     "output_type": "execute_result"
    }
   ],
   "source": [
    "beta_df-beta_an"
   ]
  },
  {
   "cell_type": "code",
   "execution_count": null,
   "metadata": {},
   "outputs": [],
   "source": []
  }
 ],
 "metadata": {
  "kernelspec": {
   "display_name": "Python 3",
   "language": "python",
   "name": "python3"
  },
  "language_info": {
   "codemirror_mode": {
    "name": "ipython",
    "version": 3
   },
   "file_extension": ".py",
   "mimetype": "text/x-python",
   "name": "python",
   "nbconvert_exporter": "python",
   "pygments_lexer": "ipython3",
   "version": "3.6.9"
  }
 },
 "nbformat": 4,
 "nbformat_minor": 2
}
