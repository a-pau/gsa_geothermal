{
 "cells": [
  {
   "cell_type": "markdown",
   "metadata": {},
   "source": [
    "# DASK"
   ]
  },
  {
   "cell_type": "code",
   "execution_count": null,
   "metadata": {},
   "outputs": [],
   "source": [
    "option_comp = 'local'"
   ]
  },
  {
   "cell_type": "code",
   "execution_count": null,
   "metadata": {},
   "outputs": [],
   "source": [
    "if option_comp == \"merlin\":\n",
    "\n",
    "    from dask_jobqueue import SLURMCluster\n",
    "    \n",
    "    cluster = SLURMCluster(cores     = 8, \n",
    "                           memory    ='4GB', \n",
    "                           walltime  = '06:00:00',\n",
    "                           interface ='ib0',\n",
    "                           local_directory = '/data/user/kim_a',\n",
    "                           log_directory   = '/data/user/kim_a',\n",
    "                           job_extra=\"--exclusive\") \n",
    "    \n",
    "elif option_comp == \"local\":\n",
    "\n",
    "    from dask.distributed import LocalCluster\n",
    "    \n",
    "    cluster = LocalCluster()"
   ]
  },
  {
   "cell_type": "code",
   "execution_count": null,
   "metadata": {},
   "outputs": [],
   "source": [
    "client = Client(cluster)"
   ]
  },
  {
   "cell_type": "code",
   "execution_count": null,
   "metadata": {},
   "outputs": [],
   "source": [
    "n_workers = 4\n",
    "cluster.scale(n_workers)"
   ]
  },
  {
   "cell_type": "code",
   "execution_count": null,
   "metadata": {},
   "outputs": [],
   "source": [
    "client"
   ]
  },
  {
   "cell_type": "markdown",
   "metadata": {},
   "source": [
    "# Conventional reference model"
   ]
  },
  {
   "cell_type": "code",
   "execution_count": 4,
   "metadata": {},
   "outputs": [],
   "source": [
    "from cge_klausen import parameters as cge_parameters\n",
    "from cge_model import GeothermalConventionalModel\n",
    "from utils.Stoc_MultiMethod_LCA_pygsa import run_mc\n",
    "from setup_files_gsa import *\n",
    "\n",
    "n_iter = 10\n",
    "project = 'Geothermal'\n",
    "option = 'cge'\n",
    "\n",
    "electricity_conv_prod, methods, cge_model, cge_parameters = setup_gt_project(project, option)\n",
    "\n",
    "# Generate stochastic values\n",
    "cge_parameters.stochastic(iterations=n_iter)\n",
    "# Reference model\n",
    "cge_parameters_sto = cge_model.run_ps(cge_parameters)"
   ]
  },
  {
   "cell_type": "code",
   "execution_count": 7,
   "metadata": {},
   "outputs": [
    {
     "name": "stdout",
     "output_type": "stream",
     "text": [
      "CPU times: user 5min 22s, sys: 9.48 s, total: 5min 32s\n",
      "Wall time: 59.5 s\n"
     ]
    }
   ],
   "source": [
    "%%time \n",
    "ref_cge = run_mc(cge_parameters_sto, demand, methods, n_iter)"
   ]
  },
  {
   "cell_type": "code",
   "execution_count": 8,
   "metadata": {},
   "outputs": [
    {
     "data": {
      "text/plain": [
       "{('ILCD 2.0 2018 midpoint no LT',\n",
       "  'climate change',\n",
       "  'climate change total'): array([0.32442353, 0.02523904, 0.19555245, 0.34414948, 0.03563107,\n",
       "        0.19788587, 0.03584003, 0.08371313, 0.0571818 , 0.06142323]),\n",
       " ('ILCD 2.0 2018 midpoint no LT',\n",
       "  'human health',\n",
       "  'carcinogenic effects'): array([3.69986566e-10, 2.65766981e-10, 7.65079301e-10, 1.73111722e-09,\n",
       "        2.02771923e-09, 1.65338182e-09, 1.38089481e-09, 2.92638659e-10,\n",
       "        1.12038707e-09, 2.93643469e-09]),\n",
       " ('ILCD 2.0 2018 midpoint no LT',\n",
       "  'human health',\n",
       "  'ionising radiation'): array([6.46131626e-05, 4.78182736e-05, 1.37513545e-04, 2.77585253e-04,\n",
       "        3.49734473e-04, 2.57495535e-04, 2.19571556e-04, 5.60248022e-05,\n",
       "        2.16394032e-04, 4.20992248e-04]),\n",
       " ('ILCD 2.0 2018 midpoint no LT',\n",
       "  'human health',\n",
       "  'non-carcinogenic effects'): array([1.04333277e-09, 7.65618449e-10, 2.10057576e-09, 4.74199350e-09,\n",
       "        5.44154799e-09, 4.43422959e-09, 3.80886504e-09, 8.73918825e-10,\n",
       "        3.11946030e-09, 7.80585842e-09]),\n",
       " ('ILCD 2.0 2018 midpoint no LT',\n",
       "  'human health',\n",
       "  'ozone layer depletion'): array([1.98931249e-10, 1.46338908e-10, 4.29761837e-10, 8.78990411e-10,\n",
       "        1.09919508e-09, 7.99173148e-10, 6.99998595e-10, 1.73007730e-10,\n",
       "        7.10656952e-10, 1.29107762e-09]),\n",
       " ('ILCD 2.0 2018 midpoint no LT',\n",
       "  'human health',\n",
       "  'photochemical ozone creation'): array([1.38321551e-05, 9.77519263e-06, 3.17393969e-05, 6.66470764e-05,\n",
       "        8.42274625e-05, 6.09134206e-05, 5.32418688e-05, 1.10802998e-05,\n",
       "        5.48090692e-05, 9.88832896e-05]),\n",
       " ('ILCD 2.0 2018 midpoint no LT',\n",
       "  'human health',\n",
       "  'respiratory effects, inorganics'): array([1.23421896e-10, 9.58666125e-11, 2.37344738e-10, 4.49818246e-10,\n",
       "        5.78811441e-10, 4.41834651e-10, 3.40491358e-10, 1.11689704e-10,\n",
       "        2.86615544e-10, 7.53909687e-10]),\n",
       " ('ILCD 2.0 2018 midpoint no LT',\n",
       "  'ecosystem quality',\n",
       "  'freshwater and terrestrial acidification'): array([1.43719089e-05, 1.07028831e-05, 3.05982680e-05, 6.13567250e-05,\n",
       "        7.76688982e-05, 5.62750560e-05, 4.83755295e-05, 1.25750798e-05,\n",
       "        4.85292564e-05, 9.11749067e-05]),\n",
       " ('ILCD 2.0 2018 midpoint no LT',\n",
       "  'ecosystem quality',\n",
       "  'freshwater ecotoxicity'): array([0.00897304, 0.00620692, 0.01942176, 0.05044044, 0.05357516,\n",
       "        0.04409627, 0.04192902, 0.00680046, 0.03433122, 0.07817374]),\n",
       " ('ILCD 2.0 2018 midpoint no LT',\n",
       "  'ecosystem quality',\n",
       "  'freshwater eutrophication'): array([9.34928420e-08, 7.15129345e-08, 1.77144428e-07, 3.70972236e-07,\n",
       "        4.35443857e-07, 3.50545643e-07, 2.92077701e-07, 8.51702518e-08,\n",
       "        2.38982919e-07, 6.07107871e-07]),\n",
       " ('ILCD 2.0 2018 midpoint no LT',\n",
       "  'ecosystem quality',\n",
       "  'marine eutrophication'): array([4.22252469e-06, 2.96126798e-06, 9.88048388e-06, 2.08691928e-05,\n",
       "        2.63234693e-05, 1.88409040e-05, 1.67858636e-05, 3.36880535e-06,\n",
       "        1.76909994e-05, 3.02581197e-05]),\n",
       " ('ILCD 2.0 2018 midpoint no LT',\n",
       "  'ecosystem quality',\n",
       "  'terrestrial eutrophication'): array([4.53406213e-05, 3.16811906e-05, 1.07042719e-04, 2.26195458e-04,\n",
       "        2.86413348e-04, 2.04043450e-04, 1.81745555e-04, 3.57103874e-05,\n",
       "        1.91973688e-04, 3.27356022e-04]),\n",
       " ('ILCD 2.0 2018 midpoint no LT',\n",
       "  'resources',\n",
       "  'minerals and metals'): array([5.92963084e-08, 5.03318679e-08, 1.10781714e-07, 1.68866191e-07,\n",
       "        2.23802605e-07, 1.68833028e-07, 1.39851539e-07, 6.46669637e-08,\n",
       "        1.09311256e-07, 2.65797024e-07]),\n",
       " ('ILCD 2.0 2018 midpoint no LT',\n",
       "  'resources',\n",
       "  'dissipated water'): array([0.00067585, 0.00052616, 0.0012299 , 0.00237689, 0.00292574,\n",
       "        0.00234393, 0.00181126, 0.00063925, 0.00147386, 0.00403324]),\n",
       " ('ILCD 2.0 2018 midpoint no LT',\n",
       "  'resources',\n",
       "  'fossils'): array([0.02627569, 0.01964453, 0.05279479, 0.10706444, 0.13276282,\n",
       "        0.1010589 , 0.08325902, 0.02320741, 0.07545854, 0.16899164]),\n",
       " ('ILCD 2.0 2018 midpoint no LT',\n",
       "  'resources',\n",
       "  'land use'): array([0.01067046, 0.00856824, 0.01954282, 0.03617986, 0.04549203,\n",
       "        0.03435724, 0.02738939, 0.01029936, 0.02263329, 0.05742213])}"
      ]
     },
     "execution_count": 8,
     "metadata": {},
     "output_type": "execute_result"
    }
   ],
   "source": [
    "ref_cge"
   ]
  },
  {
   "cell_type": "code",
   "execution_count": null,
   "metadata": {},
   "outputs": [],
   "source": []
  }
 ],
 "metadata": {
  "kernelspec": {
   "display_name": "Python 3",
   "language": "python",
   "name": "python3"
  },
  "language_info": {
   "codemirror_mode": {
    "name": "ipython",
    "version": 3
   },
   "file_extension": ".py",
   "mimetype": "text/x-python",
   "name": "python",
   "nbconvert_exporter": "python",
   "pygments_lexer": "ipython3",
   "version": "3.7.4"
  },
  "varInspector": {
   "cols": {
    "lenName": 16,
    "lenType": 16,
    "lenVar": 40
   },
   "kernels_config": {
    "python": {
     "delete_cmd_postfix": "",
     "delete_cmd_prefix": "del ",
     "library": "var_list.py",
     "varRefreshCmd": "print(var_dic_list())"
    },
    "r": {
     "delete_cmd_postfix": ") ",
     "delete_cmd_prefix": "rm(",
     "library": "var_list.r",
     "varRefreshCmd": "cat(var_dic_list()) "
    }
   },
   "types_to_exclude": [
    "module",
    "function",
    "builtin_function_or_method",
    "instance",
    "_Feature"
   ],
   "window_display": false
  }
 },
 "nbformat": 4,
 "nbformat_minor": 4
}
