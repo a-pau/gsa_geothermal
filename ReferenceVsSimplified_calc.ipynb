{
 "cells": [
  {
   "cell_type": "markdown",
   "metadata": {},
   "source": [
    "# TODO choose options"
   ]
  },
  {
   "cell_type": "code",
   "execution_count": 18,
   "metadata": {},
   "outputs": [],
   "source": [
    "option = 'cge'\n",
    "threshold = 5 # give integer as a percentage\n",
    "project = 'Geothermal'\n",
    "n_iter=100 # Number of MC iterations\n",
    "\n",
    "# Files for simplified models coefficients\n",
    "file_cge = 'Simplified models coefficients conventional - symbolic - thresholds.xlsx'\n",
    "file_ege = 'Simplified models coefficients enhanced - symbolic - thresholds.xlsx'"
   ]
  },
  {
   "cell_type": "markdown",
   "metadata": {},
   "source": [
    "# Set up geothermal"
   ]
  },
  {
   "cell_type": "code",
   "execution_count": 19,
   "metadata": {},
   "outputs": [],
   "source": [
    "from setup_files_gsa import *"
   ]
  },
  {
   "cell_type": "code",
   "execution_count": 20,
   "metadata": {},
   "outputs": [],
   "source": [
    "demand, methods, gt_model, parameters = setup_gt_project(project, option)"
   ]
  },
  {
   "cell_type": "code",
   "execution_count": 104,
   "metadata": {},
   "outputs": [],
   "source": [
    "if option == 'cge':\n",
    "    path_cge = os.path.join(\"generated_files\", file_cge)\n",
    "    coeffs = pd.read_excel(path_cge, sheet_name=['alpha_'+ str(threshold)+'%', \n",
    "                                                  'beta_'+ str(threshold)+'%'])\n",
    "elif option == 'ege':\n",
    "    path_ege = os.path.join(\"generated_files\", file_ege)\n",
    "    coeffs = pd.read_excel(path_cge, sheet_name=['chi_'+ str(threshold)+'%', \n",
    "                                                  'delta_'+ str(threshold)+'%'])"
   ]
  },
  {
   "cell_type": "code",
   "execution_count": 105,
   "metadata": {},
   "outputs": [],
   "source": [
    "def simplified_model(coeffs, option, threshold):\n",
    "    if option == 'cge':\n",
    "        results = simplified_cge_model(coeffs, threshold)\n",
    "    elif option == 'ege':\n",
    "        results = simplified_ege_model(coeffs, threshold)\n",
    "    return results"
   ]
  },
  {
   "cell_type": "code",
   "execution_count": 106,
   "metadata": {},
   "outputs": [],
   "source": [
    "alpha_df = coeffs['alpha_' + str(threshold) + '%']\n",
    "alpha_df = alpha_df.rename(columns={alpha_df.columns[0]: 'methods'})\n",
    "beta_df  = coeffs['beta_'  + str(threshold) + '%']\n",
    "beta_df  = beta_df.rename(columns={alpha_df.columns[0]: 'methods'})"
   ]
  },
  {
   "cell_type": "code",
   "execution_count": 107,
   "metadata": {},
   "outputs": [
    {
     "data": {
      "text/html": [
       "<div>\n",
       "<style scoped>\n",
       "    .dataframe tbody tr th:only-of-type {\n",
       "        vertical-align: middle;\n",
       "    }\n",
       "\n",
       "    .dataframe tbody tr th {\n",
       "        vertical-align: top;\n",
       "    }\n",
       "\n",
       "    .dataframe thead th {\n",
       "        text-align: right;\n",
       "    }\n",
       "</style>\n",
       "<table border=\"1\" class=\"dataframe\">\n",
       "  <thead>\n",
       "    <tr style=\"text-align: right;\">\n",
       "      <th></th>\n",
       "      <th>methods</th>\n",
       "      <th>alpha1</th>\n",
       "      <th>alpha2</th>\n",
       "    </tr>\n",
       "  </thead>\n",
       "  <tbody>\n",
       "    <tr>\n",
       "      <td>0</td>\n",
       "      <td>('ILCD 2.0 2018 midpoint no LT', 'climate chan...</td>\n",
       "      <td>1</td>\n",
       "      <td>0.00476</td>\n",
       "    </tr>\n",
       "  </tbody>\n",
       "</table>\n",
       "</div>"
      ],
      "text/plain": [
       "                                             methods  alpha1   alpha2\n",
       "0  ('ILCD 2.0 2018 midpoint no LT', 'climate chan...       1  0.00476"
      ]
     },
     "execution_count": 107,
     "metadata": {},
     "output_type": "execute_result"
    }
   ],
   "source": [
    "alpha_df"
   ]
  },
  {
   "cell_type": "code",
   "execution_count": 108,
   "metadata": {},
   "outputs": [],
   "source": [
    "def simplified_cge_model(coeffs, option, threshold):\n",
    "    '''\n",
    "    alpha and beta are pandas DataFrame with methods as indices and coefficients as columns.\n",
    "    ''' \n",
    "    alpha_df = coeffs['alpha_' + str(threshold) + '%']\n",
    "    alpha_df = alpha_df.rename(columns={alpha_df.columns[0]: 'methods'})\n",
    "    beta_df  = coeffs['beta_'  + str(threshold) + '%']\n",
    "    beta_df  = beta_df.rename(columns={alpha_df.columns[0]: 'methods'})\n",
    "    \n",
    "    # Define methods\n",
    "    ILCD_CC = ('ILCD 2.0 2018 midpoint no LT', 'climate change', 'climate change total')\n",
    "    ILCD_EQ = [('ILCD 2.0 2018 midpoint no LT', 'ecosystem quality', 'freshwater and terrestrial acidification'),\n",
    "               ('ILCD 2.0 2018 midpoint no LT', 'ecosystem quality', 'freshwater ecotoxicity'),\n",
    "               ('ILCD 2.0 2018 midpoint no LT', 'ecosystem quality', 'freshwater eutrophication'),\n",
    "               ('ILCD 2.0 2018 midpoint no LT', 'ecosystem quality', 'marine eutrophication'),\n",
    "               ('ILCD 2.0 2018 midpoint no LT', 'ecosystem quality', 'terrestrial eutrophication')]\n",
    "    ILCD_HH = [('ILCD 2.0 2018 midpoint no LT', 'human health', 'carcinogenic effects'),\n",
    "               ('ILCD 2.0 2018 midpoint no LT', 'human health', 'ionising radiation'),\n",
    "               ('ILCD 2.0 2018 midpoint no LT', 'human health', 'non-carcinogenic effects'),\n",
    "               ('ILCD 2.0 2018 midpoint no LT', 'human health', 'ozone layer depletion'),\n",
    "               ('ILCD 2.0 2018 midpoint no LT', 'human health', 'photochemical ozone creation'),\n",
    "               ('ILCD 2.0 2018 midpoint no LT', 'human health', 'respiratory effects, inorganics')]\n",
    "    ILCD_RE = [('ILCD 2.0 2018 midpoint no LT', 'resources', 'dissipated water'),\n",
    "               ('ILCD 2.0 2018 midpoint no LT', 'resources', 'fossils'),\n",
    "               ('ILCD 2.0 2018 midpoint no LT', 'resources', 'land use'),\n",
    "               ('ILCD 2.0 2018 midpoint no LT', 'resources', 'minerals and metals')]\n",
    "    \n",
    "        \n",
    "    # Calculate results\n",
    "    results = {}   \n",
    "    \n",
    "    for method in methods:\n",
    "        if method == ILCD_CC:\n",
    "            results[method] = [ params[\"co2_emissions\"][i] * alpha[\"alpha1\"][str(method)] + alpha[\"alpha2\"][str(method)]\n",
    "                                for i in range(len_1) ]\n",
    "        elif method in ILCD_EQ or method in ILCD_HH or method in ILCD_RE:\n",
    "            results[method] = [ (( params[\"average_depth_of_wells\"][i] * beta[\"beta1\"][str(method)] + beta[\"beta2\"][str(method)] )\\\n",
    "                               / params[\"gross_power_per_well\"][i] ) + params[\"average_depth_of_wells\"][i] * beta[\"beta3\"][str(method)] + beta[\"beta4\"][str(method)] \n",
    "                            for i in range(len_2) ]\n",
    "        else:\n",
    "            raise Exception(\"The simplified model does not work with the impact category:  \", method)\n",
    "            \n",
    "    return results    "
   ]
  },
  {
   "cell_type": "code",
   "execution_count": null,
   "metadata": {},
   "outputs": [],
   "source": [
    "model_dict = {\n",
    "    'cge': {\n",
    "        '5%':\n",
    "        '10%':\n",
    "        '15%':\n",
    "        '20%':\n",
    "    },\n",
    "    'ege':\n",
    "}"
   ]
  },
  {
   "cell_type": "code",
   "execution_count": null,
   "metadata": {},
   "outputs": [],
   "source": []
  }
 ],
 "metadata": {
  "kernelspec": {
   "display_name": "Python 3",
   "language": "python",
   "name": "python3"
  },
  "language_info": {
   "codemirror_mode": {
    "name": "ipython",
    "version": 3
   },
   "file_extension": ".py",
   "mimetype": "text/x-python",
   "name": "python",
   "nbconvert_exporter": "python",
   "pygments_lexer": "ipython3",
   "version": "3.7.4"
  },
  "varInspector": {
   "cols": {
    "lenName": 16,
    "lenType": 16,
    "lenVar": 40
   },
   "kernels_config": {
    "python": {
     "delete_cmd_postfix": "",
     "delete_cmd_prefix": "del ",
     "library": "var_list.py",
     "varRefreshCmd": "print(var_dic_list())"
    },
    "r": {
     "delete_cmd_postfix": ") ",
     "delete_cmd_prefix": "rm(",
     "library": "var_list.r",
     "varRefreshCmd": "cat(var_dic_list()) "
    }
   },
   "types_to_exclude": [
    "module",
    "function",
    "builtin_function_or_method",
    "instance",
    "_Feature"
   ],
   "window_display": false
  }
 },
 "nbformat": 4,
 "nbformat_minor": 4
}
