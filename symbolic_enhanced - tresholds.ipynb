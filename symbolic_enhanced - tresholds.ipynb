{
 "cells": [
  {
   "cell_type": "markdown",
   "metadata": {},
   "source": [
    "# Compute i coefficients"
   ]
  },
  {
   "cell_type": "code",
   "execution_count": null,
   "metadata": {},
   "outputs": [],
   "source": [
    "import brightway2 as bw\n",
    "import pandas as pd\n",
    "import os\n",
    "import numpy as np\n",
    "\n",
    "# Set working directry\n",
    "path = \".\"\n",
    "os.chdir(path)\n",
    "\n",
    "# Local functions\n",
    "from utils.lookup_func import lookup_geothermal\n",
    "\n",
    "# Set project\n",
    "bw.projects.set_current(\"Geothermal\")\n",
    "\n",
    "# Retrieve activities\n",
    "wellhead, diesel, steel, cement, water, \\\n",
    "drilling_mud, drill_wst, wells_closr, coll_pipe, \\\n",
    "plant, ORC_fluid, ORC_fluid_wst, diesel_stim, co2,_, _ = lookup_geothermal()\n",
    "cooling_tower=bw.Database(\"geothermal energy\").search(\"cooling tower\")[0].key\n",
    "\n",
    "list_act = [wellhead, diesel, steel, cement, water, \n",
    "         drilling_mud, drill_wst, wells_closr, coll_pipe,\n",
    "         plant, cooling_tower, ORC_fluid, ORC_fluid_wst, diesel_stim]\n",
    "\n",
    "# Retrieve methods \n",
    "ILCD_CC = [method for method in bw.methods if \"ILCD 2.0 2018 midpoint no LT\" in str(method) and \"climate change total\" in str(method)]\n",
    "ILCD_HH = [method for method in bw.methods if \"ILCD 2.0 2018 midpoint no LT\" in str(method) and \"human health\" in str(method)]\n",
    "ILCD_EQ = [method for method in bw.methods if \"ILCD 2.0 2018 midpoint no LT\" in str(method) and \"ecosystem quality\" in str(method)]\n",
    "ILCD_RE = [method for method in bw.methods if \"ILCD 2.0 2018 midpoint no LT\" in str(method) and \"resources\" in str(method)]\n",
    "ILCD = ILCD_CC + ILCD_HH + ILCD_EQ + ILCD_RE\n",
    "\n",
    "# Calculate impact of activities\n",
    "lca = bw.LCA({list_act[0]: 1}, ILCD[0])\n",
    "lca.lci()\n",
    "lca.lcia()\n",
    "coeff = {}\n",
    "for method in ILCD:\n",
    "    s=[]\n",
    "    lca.switch_method(method)\n",
    "    for act in list_act:\n",
    "        lca.redo_lcia({act: 1})\n",
    "        s.append(lca.score)\n",
    "    coeff[method] = s\n",
    "\n",
    "# Retrieve CF for co2 emissions    \n",
    "for method in ILCD:\n",
    "    CFs = bw.Method(method).load()\n",
    "    coeff[method].append(next((cf[1] for cf in CFs if cf[0]==co2),0))\n",
    "\n",
    "# Build matrix\n",
    "col_names = [\"wellhead\", \"diesel\", \"steel\", \"cement\", \"water\", \\\n",
    "         \"drilling_mud\", \"drill_wst\", \"wells_closr\", \"coll_pipe\", \\\n",
    "         \"plant\", \"cooling tower\", \"ORC_fluid\", \"ORC_fluid_wst\", \"diesel_stim\", \"co2\"]\n",
    "coeff_matrix = pd.DataFrame.from_dict(coeff, orient=\"index\", columns=col_names)\n",
    "\n",
    "#Constant\n",
    "drilling_waste_per_metre = 450\n",
    "\n",
    "# Re-arrange matrix\n",
    "coeff_matrix[\"concrete\"] = coeff_matrix[\"cement\"] + coeff_matrix[\"water\"] * 1/0.65\n",
    "coeff_matrix[\"ORC_fluid_tot\"] = coeff_matrix[\"ORC_fluid\"] - coeff_matrix[\"ORC_fluid_wst\"]\n",
    "coeff_matrix[\"electricity_stim\"] = coeff_matrix[\"diesel_stim\"] * 3.6 / 0.3\n",
    "coeff_matrix[\"drill_wst\"] = coeff_matrix[\"drill_wst\"] * -1 * drilling_waste_per_metre\n",
    "coeff_matrix=coeff_matrix.drop(columns=[\"cement\", \"ORC_fluid\", \"ORC_fluid_wst\", \"diesel_stim\"])\n",
    "\n",
    "col_ord = [\"wellhead\", \"diesel\", \"steel\", \"concrete\", \\\n",
    "         \"drilling_mud\", \"drill_wst\", \"wells_closr\", \"coll_pipe\", \\\n",
    "         \"plant\", \"cooling tower\", \"ORC_fluid_tot\", \"water\", \"electricity_stim\", \"co2\"]\n",
    "coeff_matrix=coeff_matrix[col_ord]\n",
    "\n",
    "is_= [\"i1\", \"i2.1\", \"i2.2\", \"i2.3\", \"i2.4\", \"i2.5\", \\\n",
    "      \"i2.6\",\"i3\", \"i4.1\", \"i4.2\", \"i4.3\", \"i5.1\", \"i5.2\", \"i6\"]\n",
    "\n",
    "if len(coeff_matrix.columns) == len(is_):\n",
    "    coeff_matrix.columns=is_"
   ]
  },
  {
   "cell_type": "code",
   "execution_count": null,
   "metadata": {
    "scrolled": true
   },
   "outputs": [],
   "source": [
    "coeff_matrix\n"
   ]
  },
  {
   "cell_type": "markdown",
   "metadata": {},
   "source": [
    "# Enhanced geothermal"
   ]
  },
  {
   "cell_type": "markdown",
   "metadata": {},
   "source": [
    "# Define symbolic"
   ]
  },
  {
   "cell_type": "code",
   "execution_count": null,
   "metadata": {},
   "outputs": [],
   "source": [
    "from sympy import symbols, collect, ratsimp, fraction, factor_terms"
   ]
  },
  {
   "cell_type": "code",
   "execution_count": null,
   "metadata": {},
   "outputs": [],
   "source": [
    "# Coefficients\n",
    "i1, i2_1, i2_2, i2_3, i2_4, i2_5, i2_6, i3, i4, i4_1, i4_2, i4_3, i5_1, i5_2, i6 = \\\n",
    "symbols('i1, i2_1, i2_2, i2_3, i2_4, i2_5, i2_6, i3, i4, i4_1, i4_2, i4_3, i5_1, i5_2, i6')\n",
    "\n",
    "# Main parameters\n",
    "W_Pn, P_ne , PIratio, W_d, E_co2, SR_p, D_i, LT, SR_m, SR_e, D, C_S, C_C, DM, CP, CF, AP, SW_n, S_w, S_el  = \\\n",
    "symbols('W_Pn, P_ne, PIratio, W_d, E_co2, SR_p, D_i, LT, SR_m, SR_e, D, C_S, C_C, DM, CP, CF, AP, SW_n, SW, S_el')\n",
    "\n",
    "# Other variables that are actually irrelevant, because they will be multiplied by 0 in the enhanced model\n",
    "# I wanna keep them though for the sake of completeness\n",
    "E_co2 = symbols('E_co2')\n",
    "\n",
    "# Constants\n",
    "CT_el, CT_n, W_en, OF, DW = symbols ('CT_el, CT_n, W_E_en, OF, DW')\n"
   ]
  },
  {
   "cell_type": "markdown",
   "metadata": {},
   "source": [
    "# Main equation\n"
   ]
  },
  {
   "cell_type": "code",
   "execution_count": null,
   "metadata": {},
   "outputs": [],
   "source": [
    "# Number of wells with success rate\n",
    "W_n = W_Pn/SR_p\n",
    "W_E_en = W_en/SR_e"
   ]
  },
  {
   "cell_type": "code",
   "execution_count": null,
   "metadata": {},
   "outputs": [],
   "source": [
    "# Equation\n",
    "nominator = (W_n + W_E_en) *i1 \\\n",
    "          + W_d* (W_n + W_E_en) * (D*i2_1 + C_S*i2_2 + C_C*i2_3  +  DM*i2_4 + DW*i2_5 + i2_6) + \\\n",
    "          + W_n*CP*i3 \\\n",
    "          + P_ne*i4 \\\n",
    "          + W_n*SW_n*S_w* (i5_1 + S_el*i5_2)\n",
    "\n",
    "c1 = P_ne*CF*(1-AP)*LT*8760000\n",
    "d1 = CT_el*CT_n*1000*LT\n",
    "denominator = c1  -  d1\n",
    "\n",
    "summand = E_co2*i6\n",
    "\n",
    "eq = nominator/denominator + summand\n",
    "eq = eq.subs(i4, i4_1 + i4_2*CT_n + i4_3*OF)"
   ]
  },
  {
   "cell_type": "code",
   "execution_count": null,
   "metadata": {},
   "outputs": [],
   "source": [
    "eq"
   ]
  },
  {
   "cell_type": "markdown",
   "metadata": {},
   "source": [
    "# Get parameters value"
   ]
  },
  {
   "cell_type": "code",
   "execution_count": null,
   "metadata": {},
   "outputs": [],
   "source": [
    "# Klausen\n",
    "from ege_klausen import parameters\n",
    "parameters.static()   \n",
    "\n",
    "# Parameters of simplified models\n",
    "D_val      = parameters[\"specific_diesel_consumption\"]\n",
    "W_d_val      = parameters[\"average_depth_of_wells\"]\n",
    "P_ne_val     = parameters[\"installed_capacity\"]\n",
    "SR_p_val     = parameters[\"success_rate_primary_wells\"]/100\n",
    "\n",
    "# Parameters to be fixed\n",
    "LT_val     = parameters[\"lifetime\"]\n",
    "SR_e_val   = parameters[\"success_rate_exploration_wells\"] / 100\n",
    "C_S_val    = parameters[\"specific_steel_consumption\"]\n",
    "C_C_val    = parameters[\"specific_cement_consumption\"]\n",
    "DM_val     = parameters[\"specific_drilling_mud_consumption\"]\n",
    "CP_val     = parameters[\"collection_pipelines\"]\n",
    "CF_val     = parameters[\"capacity_factor\"]\n",
    "AP_val     = parameters[\"auxiliary_power\"]\n",
    "W_Pn_val   = parameters[\"number_of_wells\"] \n",
    "SW_n_val   = np.round(0.5 + parameters[\"number_of_wells_stimulated_0to1\"] * parameters[\"number_of_wells\"])\n",
    "S_w_val    = parameters[\"water_stimulation\"]\n",
    "S_el_val   = parameters[\"specific_electricity_stimulation\"] / 1000\n",
    "\n",
    "# Parameters that are not used in ENHANCED\n",
    "D_i_val     = 0\n",
    "E_co2_val   = 0\n",
    "\n",
    "# Constants\n",
    "CT_el_val  = 864\n",
    "CT_n_val   = 7/303.3\n",
    "W_en_val   = 3 * 0.3\n",
    "OF_val     = 300\n",
    "DW_val     = 450\n",
    "\n",
    "par_dict = { LT: LT_val,\n",
    "             SR_e: SR_e_val,\n",
    "             C_S: C_S_val,\n",
    "             C_C: C_C_val,\n",
    "             DM: DM_val,\n",
    "             CP: CP_val,\n",
    "             CF: CF_val,\n",
    "             AP: AP_val,\n",
    "             W_Pn: W_Pn_val,\n",
    "             SW_n: SW_n_val,\n",
    "             S_w: S_w_val,\n",
    "             S_el: S_el_val,\n",
    "             D_i: D_i_val,\n",
    "             E_co2: E_co2_val, \n",
    "             CT_el: CT_el_val,\n",
    "             CT_n: CT_n_val,\n",
    "             W_en: W_en_val,\n",
    "             OF: OF_val,\n",
    "             DW: DW_val}"
   ]
  },
  {
   "cell_type": "markdown",
   "metadata": {},
   "source": [
    "# Groups of environmental categories"
   ]
  },
  {
   "cell_type": "code",
   "execution_count": null,
   "metadata": {},
   "outputs": [],
   "source": [
    "# Group2 uses Diesel consumption\n",
    "\n",
    "\n",
    "group1_05 = [\"carcinogenic effects\", \"non-carcinogenic effects\", \"respiratory effects, inorganics\",  \"freshwater ecotoxicity\",\n",
    "             \"freshwater eutrophication\", \"minerals and metals\", \"dissipated water\", \"land use\"]  \n",
    "\n",
    "group2_05 = [\"climate change total\", \"ionising radiation\", \"ozone layer depletion\", \"photochemical ozone creation\", \\\n",
    "            \"freshwater and terrestrial acidification\", \"marine eutrophication\", \"terrestrial eutrophication\", \"fossils\"]\n",
    "\n",
    "\n",
    "group1_10 = [\"climate change total\",  \"carcinogenic effects\", \"non-carcinogenic effects\",\\\n",
    "              \"respiratory effects, inorganics\",  \"freshwater ecotoxicity\", \"freshwater eutrophication\", \\\n",
    "              \"minerals and metals\", \"dissipated water\", \"fossils\", \"land use\"]            \n",
    "\n",
    "group2_10 = [\"ionising radiation\", \"ozone layer depletion\", \"photochemical ozone creation\", \\\n",
    "            \"freshwater and terrestrial acidification\", \"marine eutrophication\", \"terrestrial eutrophication\"]\n",
    "\n",
    "\n",
    "group1_15 = [\"climate change total\", \"carcinogenic effects\", \"ionising radiation\", \"non-carcinogenic effects\", \\\n",
    "            \"ozone layer depletion\", \"photochemical ozone creation\", \"respiratory effects, inorganics\", \\\n",
    "            \"freshwater and terrestrial acidification\", \"freshwater ecotoxicity\", \"freshwater eutrophication\", \\\n",
    "            \"minerals and metals\", \"dissipated water\", \"fossils\", \"land use\"]\n",
    "\n",
    "group2_15 = [\"marine eutrophication\", \"terrestrial eutrophication\"]\n",
    "\n",
    "group_20 = [method[2] for method in ILCD]\n"
   ]
  },
  {
   "cell_type": "markdown",
   "metadata": {},
   "source": [
    "# Simplified equations"
   ]
  },
  {
   "cell_type": "code",
   "execution_count": null,
   "metadata": {},
   "outputs": [],
   "source": [
    "chi_1, chi_2, chi_3, chi_4, chi_5, chi_6, chi_7, delta_1, delta_2, delta_3, delta_4, delta_5, delta_6,\\\n",
    "delta_7, delta_8, delta_9 = \\\n",
    "symbols('chi_1, chi_2, chi_3, chi_4, chi_5, chi_6, chi_7, delta_1, delta_2, delta_3, delta_4, delta_5, \\\n",
    "delta_6, delta_7, delta_8, delta_9')\n"
   ]
  },
  {
   "cell_type": "markdown",
   "metadata": {},
   "source": [
    "## Threshold 20% - one group only"
   ]
  },
  {
   "cell_type": "code",
   "execution_count": null,
   "metadata": {},
   "outputs": [],
   "source": [
    "eq_group_20 = chi_1/(chi_2*P_ne - chi_3) + chi_4#\n",
    "eq_group_20"
   ]
  },
  {
   "cell_type": "markdown",
   "metadata": {},
   "source": [
    "## Threhold 15/10% - group 1"
   ]
  },
  {
   "cell_type": "code",
   "execution_count": null,
   "metadata": {},
   "outputs": [],
   "source": [
    "eq_group1_15_10 = chi_1/(chi_2*P_ne - chi_3) + chi_4\n",
    "eq_group1_15_10"
   ]
  },
  {
   "cell_type": "markdown",
   "metadata": {},
   "source": [
    "## Threhold 15/10% - group 2"
   ]
  },
  {
   "cell_type": "code",
   "execution_count": null,
   "metadata": {},
   "outputs": [],
   "source": [
    "eq_group2_15_10 = (D*delta_1 + delta_2) / (P_ne*delta_3 - delta_4) + delta_5\n",
    "eq_group2_15_10"
   ]
  },
  {
   "cell_type": "markdown",
   "metadata": {},
   "source": [
    "## Threshold 5% - group1"
   ]
  },
  {
   "cell_type": "code",
   "execution_count": null,
   "metadata": {},
   "outputs": [],
   "source": [
    "eq_group1_05 = (SR_p*W_d*chi_1 + SR_p*chi_2 + W_d*chi_3 + chi_4) / (P_ne*SR_p*chi_5 - SR_p*chi_6) +chi_7\n",
    "eq_group1_05"
   ]
  },
  {
   "cell_type": "markdown",
   "metadata": {},
   "source": [
    "## Threshold 5% - group2"
   ]
  },
  {
   "cell_type": "code",
   "execution_count": null,
   "metadata": {},
   "outputs": [],
   "source": [
    "eq_group2_05 = (D*SR_p*W_d*delta_1 + D*W_d*delta_2 + SR_p*W_d*delta_3 + SR_p*delta_4 + W_d*delta_5 + delta_6 ) \\\n",
    "/ (P_ne*SR_p*delta_7 - SR_p*delta_8) + delta_9\n",
    "eq_group2_05"
   ]
  },
  {
   "cell_type": "markdown",
   "metadata": {},
   "source": [
    "# Compute chi"
   ]
  },
  {
   "cell_type": "markdown",
   "metadata": {},
   "source": [
    "## Threshold = 20%"
   ]
  },
  {
   "cell_type": "code",
   "execution_count": null,
   "metadata": {},
   "outputs": [],
   "source": [
    "# Replace parameters in equation\n",
    "eq_chi_20 = eq.subs(par_dict)\n",
    "repl = {SR_p: SR_p_val,\n",
    "        D: D_val,\n",
    "        W_d: W_d_val}\n",
    "eq_chi_20 = eq_chi_20.subs(repl)\n",
    "\n",
    "chi_dict_20 = {}\n",
    "for method in ILCD:\n",
    "    is_ = dict(coeff_matrix.T[method])\n",
    "    is_dict = {k.replace('.', '_'): v for k,v in is_.items()}\n",
    "    if method[2] in group_20:\n",
    "        eq_chi_20_is = eq_chi_20.subs(is_dict)\n",
    "        eq_chi_20_is = ratsimp(eq_chi_20_is)\n",
    "              \n",
    "        chi4 = eq_chi_20_is.args[0] \n",
    "        chi1 = fraction(eq_chi_20_is.args[1])[0]\n",
    "        \n",
    "        den = fraction(eq_chi_20_is.args[1])[1]\n",
    "        chi2 = collect(den, P_ne, evaluate=False)[P_ne]\n",
    "        chi3 = collect(den, P_ne, evaluate=False)[1]\n",
    "        \n",
    "        chi_dict_20[str(method)] = {'chi1': chi1, 'chi2': chi2,\n",
    "                                   'chi3': chi3, 'chi4': chi4}\n",
    "           "
   ]
  },
  {
   "cell_type": "code",
   "execution_count": null,
   "metadata": {},
   "outputs": [],
   "source": [
    "# Show example of the formula\n",
    "eq_chi_20_is"
   ]
  },
  {
   "cell_type": "code",
   "execution_count": null,
   "metadata": {
    "scrolled": true
   },
   "outputs": [],
   "source": [
    "chi_df_20 = pd.DataFrame.from_dict(chi_dict_20, orient='index')\n",
    "chi_df_20 = chi_df_20.astype(float)\n",
    "chi_df_20"
   ]
  },
  {
   "cell_type": "markdown",
   "metadata": {},
   "source": [
    "## Threshold 15%"
   ]
  },
  {
   "cell_type": "code",
   "execution_count": null,
   "metadata": {
    "scrolled": true
   },
   "outputs": [],
   "source": [
    "# Select from chi_df_20 the categories that are in group1_15\n",
    "mask =[chi_df_20.index.str.contains(method) for method in group1_15]\n",
    "chi_df_15 = pd.concat([chi_df_20[m] for m in mask])\n",
    "chi_df_15"
   ]
  },
  {
   "cell_type": "markdown",
   "metadata": {},
   "source": [
    "## Threshold 10%"
   ]
  },
  {
   "cell_type": "code",
   "execution_count": null,
   "metadata": {},
   "outputs": [],
   "source": [
    "# Select from chi_df_20 the categories that are in group1_15\n",
    "mask =[chi_df_20.index.str.contains(method) for method in group1_10]\n",
    "chi_df_10 = pd.concat([chi_df_20[m] for m in mask])\n",
    "chi_df_10"
   ]
  },
  {
   "cell_type": "markdown",
   "metadata": {},
   "source": [
    "## Threshold 5%"
   ]
  },
  {
   "cell_type": "code",
   "execution_count": null,
   "metadata": {},
   "outputs": [],
   "source": [
    "# Replace parameters in equation\n",
    "eq_chi_05 = eq.subs(par_dict)\n",
    "repl = {D: D_val}\n",
    "eq_chi_05 = eq_chi_05.subs(repl)\n",
    "\n",
    "chi_dict_05 = {}\n",
    "for method in ILCD:\n",
    "    is_ = dict(coeff_matrix.T[method])\n",
    "    is_dict = {k.replace('.', '_'): v for k,v in is_.items()}\n",
    "    if method[2] in group1_05:\n",
    "        eq_chi_05_is = eq_chi_05.subs(is_dict)\n",
    "        eq_chi_05_is = ratsimp(eq_chi_05_is)\n",
    "              \n",
    "        chi7 = eq_chi_05_is.args[0] \n",
    "        num =fraction(eq_chi_05_is.args[1])[0]\n",
    "        chi1 = collect(num, [SR_p*W_d, SR_p, W_d], evaluate=False)[SR_p*W_d]\n",
    "        chi2 = collect(num, [SR_p*W_d, SR_p, W_d], evaluate=False)[SR_p]\n",
    "        chi3 = collect(num, [SR_p*W_d, SR_p, W_d], evaluate=False)[W_d]\n",
    "        chi4 = collect(num, [SR_p*W_d, SR_p, W_d], evaluate=False)[1]\n",
    "        \n",
    "        den = fraction(eq_chi_05_is.args[1])[1]\n",
    "        chi5 = collect(den, [P_ne*SR_p, SR_p], evaluate=False)[P_ne*SR_p]\n",
    "        chi6 = collect(den, [P_ne*SR_p, SR_p], evaluate=False)[SR_p]\n",
    "        \n",
    "        chi_dict_05[str(method)] = {'chi1': chi1, 'chi2': chi2,\n",
    "                                    'chi3': chi3, 'chi4': chi4,\n",
    "                                    'chi5': chi5, 'chi6': chi6,\n",
    "                                    'chi7': chi7}\n",
    "           "
   ]
  },
  {
   "cell_type": "code",
   "execution_count": null,
   "metadata": {},
   "outputs": [],
   "source": [
    "# Show example of the formula\n",
    "eq_chi_05_is"
   ]
  },
  {
   "cell_type": "code",
   "execution_count": null,
   "metadata": {
    "scrolled": true
   },
   "outputs": [],
   "source": [
    "chi_df_05 = pd.DataFrame.from_dict(chi_dict_05, orient='index')\n",
    "chi_df_05 = chi_df_05.astype(float)\n",
    "chi_df_05"
   ]
  },
  {
   "cell_type": "markdown",
   "metadata": {},
   "source": [
    "# Compute delta"
   ]
  },
  {
   "cell_type": "markdown",
   "metadata": {},
   "source": [
    "## Threshold = 15%"
   ]
  },
  {
   "cell_type": "code",
   "execution_count": null,
   "metadata": {},
   "outputs": [],
   "source": [
    "# Replace parameters in equation\n",
    "eq_delta_15 = eq.subs(par_dict)\n",
    "repl = {SR_p: SR_p_val,\n",
    "        W_d: W_d_val}\n",
    "eq_delta_15 = eq_delta_15.subs(repl)\n",
    "\n",
    "delta_dict_15 = {}\n",
    "for method in ILCD:\n",
    "    is_ = dict(coeff_matrix.T[method])\n",
    "    is_dict = {k.replace('.', '_'): v for k,v in is_.items()}\n",
    "    if method[2] in group2_15:\n",
    "        eq_delta_15_is = eq_delta_15.subs(is_dict)\n",
    "        eq_delta_15_is = ratsimp(eq_delta_15_is)\n",
    "              \n",
    "        delta5 = eq_delta_15_is.args[0] \n",
    "        \n",
    "        num  = fraction(eq_delta_15_is.args[1])[0]\n",
    "        delta1 = collect(num, [D], evaluate=False)[D]\n",
    "        delta2 = collect(num, [D], evaluate=False)[1]\n",
    "        \n",
    "        den  = fraction(eq_delta_15_is.args[1])[1]\n",
    "        delta3 = collect(den, [P_ne], evaluate=False)[P_ne]\n",
    "        delta4 = collect(den, [P_ne], evaluate=False)[1]\n",
    "                \n",
    "        delta_dict_15[str(method)] = {'delta1': delta1, 'delta2': delta2,\n",
    "                                    'delta3': delta3, 'delta4': delta4,\n",
    "                                    'delta5': delta5}"
   ]
  },
  {
   "cell_type": "code",
   "execution_count": null,
   "metadata": {},
   "outputs": [],
   "source": [
    "# Show example of the formula\n",
    "eq_delta_15_is"
   ]
  },
  {
   "cell_type": "code",
   "execution_count": null,
   "metadata": {},
   "outputs": [],
   "source": [
    "delta_df_15 = pd.DataFrame.from_dict(delta_dict_15, orient='index')\n",
    "delta_df_15 = delta_df_15.astype(float)\n",
    "delta_df_15"
   ]
  },
  {
   "cell_type": "markdown",
   "metadata": {},
   "source": [
    "## Threshold = 10%"
   ]
  },
  {
   "cell_type": "code",
   "execution_count": null,
   "metadata": {},
   "outputs": [],
   "source": [
    "# Replace parameters in equation\n",
    "eq_delta_10 = eq.subs(par_dict)\n",
    "repl = {SR_p: SR_p_val,\n",
    "        W_d: W_d_val}\n",
    "eq_delta_10 = eq_delta_10.subs(repl)\n",
    "\n",
    "delta_dict_10 = {}\n",
    "for method in ILCD:\n",
    "    is_ = dict(coeff_matrix.T[method])\n",
    "    is_dict = {k.replace('.', '_'): v for k,v in is_.items()}\n",
    "    if method[2] in group2_10:\n",
    "        eq_delta_10_is = eq_delta_10.subs(is_dict)\n",
    "        eq_delta_10_is = ratsimp(eq_delta_10_is)\n",
    "              \n",
    "        delta5 = eq_delta_10_is.args[0] \n",
    "        \n",
    "        num  = fraction(eq_delta_10_is.args[1])[0]\n",
    "        delta1 = collect(num, [D], evaluate=False)[D]\n",
    "        delta2 = collect(num, [D], evaluate=False)[1]\n",
    "        \n",
    "        den  = fraction(eq_delta_10_is.args[1])[1]\n",
    "        delta3 = collect(den, [P_ne], evaluate=False)[P_ne]\n",
    "        delta4 = collect(den, [P_ne], evaluate=False)[1]\n",
    "                \n",
    "        delta_dict_10[str(method)] = {'delta1': delta1, 'delta2': delta2,\n",
    "                                    'delta3': delta3, 'delta4': delta4,\n",
    "                                    'delta5': delta5}"
   ]
  },
  {
   "cell_type": "code",
   "execution_count": null,
   "metadata": {},
   "outputs": [],
   "source": [
    "# Show example of the formula\n",
    "eq_delta_15_is"
   ]
  },
  {
   "cell_type": "code",
   "execution_count": null,
   "metadata": {},
   "outputs": [],
   "source": [
    "delta_df_10 = pd.DataFrame.from_dict(delta_dict_10, orient='index')\n",
    "delta_df_10 = delta_df_10.astype(float)\n",
    "delta_df_10"
   ]
  },
  {
   "cell_type": "markdown",
   "metadata": {},
   "source": [
    "## Threshold = 5%"
   ]
  },
  {
   "cell_type": "code",
   "execution_count": null,
   "metadata": {},
   "outputs": [],
   "source": [
    "# Replace parameters in equation\n",
    "eq_delta_05 = eq.subs(par_dict)\n",
    "\n",
    "delta_dict_05 = {}\n",
    "for method in ILCD:\n",
    "    is_ = dict(coeff_matrix.T[method])\n",
    "    is_dict = {k.replace('.', '_'): v for k,v in is_.items()}\n",
    "    if method[2] in group1_05:\n",
    "        eq_delta_05_is = eq_delta_05.subs(is_dict)\n",
    "        eq_delta_05_is = ratsimp(eq_delta_05_is)\n",
    "              \n",
    "        delta9 = eq_delta_05_is.args[0] \n",
    "        \n",
    "        num = fraction(eq_delta_05_is.args[1])[0]\n",
    "        delta1 = collect(num, [D*SR_p*W_d, D*W_d, SR_p*W_d, SR_p, W_d], evaluate=False)[D*SR_p*W_d]\n",
    "        delta2 = collect(num, [D*SR_p*W_d, D*W_d, SR_p*W_d, SR_p, W_d], evaluate=False)[D*W_d]\n",
    "        delta3 = collect(num, [D*SR_p*W_d, D*W_d, SR_p*W_d, SR_p, W_d], evaluate=False)[SR_p*W_d]\n",
    "        delta3 = collect(num, [D*SR_p*W_d, D*W_d, SR_p*W_d, SR_p, W_d], evaluate=False)[SR_p]\n",
    "        delta5 = collect(num, [D*SR_p*W_d, D*W_d, SR_p*W_d, SR_p, W_d], evaluate=False)[W_d]\n",
    "        delta6 = collect(num, [D*SR_p*W_d, D*W_d, SR_p*W_d, SR_p, W_d], evaluate=False)[1]\n",
    "        \n",
    "        den = fraction(eq_delta_05_is.args[1])[1]\n",
    "        delta7 = collect(den, [P_ne*SR_p, SR_p], evaluate=False)[P_ne*SR_p]\n",
    "        delta8 = collect(den, [P_ne*SR_p, SR_p], evaluate=False)[SR_p]\n",
    "        \n",
    "        delta_dict_05[str(method)] = {'delta1': delta1, 'delta2': delta2,\n",
    "                                    'delta3': delta3, 'delta4': delta4,\n",
    "                                    'delta5': delta5, 'delta6': delta6,\n",
    "                                    'delta7': delta7, 'delta8': delta8,\n",
    "                                    'delta9': delta9}"
   ]
  },
  {
   "cell_type": "code",
   "execution_count": null,
   "metadata": {},
   "outputs": [],
   "source": [
    "# Show example of the formula\n",
    "eq_delta_05_is"
   ]
  },
  {
   "cell_type": "code",
   "execution_count": null,
   "metadata": {},
   "outputs": [],
   "source": [
    "delta_df_05 = pd.DataFrame.from_dict(delta_dict_05, orient='index')\n",
    "delta_df_05 = delta_df_05.astype(float)\n",
    "delta_df_05"
   ]
  },
  {
   "cell_type": "markdown",
   "metadata": {},
   "source": [
    "# Save to excel"
   ]
  },
  {
   "cell_type": "code",
   "execution_count": null,
   "metadata": {},
   "outputs": [],
   "source": [
    "with pd.ExcelWriter(os.path.join(path, 'generated_files\\Simplified models coefficients enhanced - symbolic - thresholds.xlsx')) as writer:\n",
    "    chi_df_05.to_excel(writer, sheet_name='chi_5%')\n",
    "    chi_df_10.to_excel(writer, sheet_name='chi_10%')\n",
    "    chi_df_15.to_excel(writer, sheet_name='chi_15%')\n",
    "    chi_df_20.to_excel(writer, sheet_name='chi_20%')    \n",
    "    delta_df_05.to_excel(writer, sheet_name='delta_5%')\n",
    "    delta_df_10.to_excel(writer, sheet_name='delta_10%')\n",
    "    delta_df_15.to_excel(writer, sheet_name='delta_15%')\n",
    "    "
   ]
  },
  {
   "cell_type": "code",
   "execution_count": null,
   "metadata": {},
   "outputs": [],
   "source": []
  },
  {
   "cell_type": "code",
   "execution_count": null,
   "metadata": {},
   "outputs": [],
   "source": []
  }
 ],
 "metadata": {
  "kernelspec": {
   "display_name": "Python 3",
   "language": "python",
   "name": "python3"
  },
  "language_info": {
   "codemirror_mode": {
    "name": "ipython",
    "version": 3
   },
   "file_extension": ".py",
   "mimetype": "text/x-python",
   "name": "python",
   "nbconvert_exporter": "python",
   "pygments_lexer": "ipython3",
   "version": "3.6.9"
  },
  "varInspector": {
   "cols": {
    "lenName": 16,
    "lenType": 16,
    "lenVar": 40
   },
   "kernels_config": {
    "python": {
     "delete_cmd_postfix": "",
     "delete_cmd_prefix": "del ",
     "library": "var_list.py",
     "varRefreshCmd": "print(var_dic_list())"
    },
    "r": {
     "delete_cmd_postfix": ") ",
     "delete_cmd_prefix": "rm(",
     "library": "var_list.r",
     "varRefreshCmd": "cat(var_dic_list()) "
    }
   },
   "types_to_exclude": [
    "module",
    "function",
    "builtin_function_or_method",
    "instance",
    "_Feature"
   ],
   "window_display": false
  }
 },
 "nbformat": 4,
 "nbformat_minor": 2
}
