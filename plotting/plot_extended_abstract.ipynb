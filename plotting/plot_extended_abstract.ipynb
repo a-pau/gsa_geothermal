{
 "cells": [
  {
   "cell_type": "code",
   "execution_count": 10,
   "metadata": {},
   "outputs": [],
   "source": [
    "import json\n",
    "import os\n",
    "import brightway2 as bw\n",
    "import numpy as np\n",
    "import pandas as pd\n",
    "\n",
    "# For plotting\n",
    "import matplotlib.pyplot as plt\n",
    "import plotly.graph_objs as go\n",
    "from plotly.subplots import make_subplots\n",
    "import colorlover as cl\n",
    "from IPython.display import HTML"
   ]
  },
  {
   "cell_type": "markdown",
   "metadata": {},
   "source": [
    "# Load data"
   ]
  },
  {
   "cell_type": "code",
   "execution_count": 11,
   "metadata": {},
   "outputs": [],
   "source": [
    "path = '../generated_files/gsa_results/cge_N80.json'\n",
    "with open(path) as f:\n",
    "    sa_dict = json.load(f)\n",
    "parameters = sa_dict['parameters']\n",
    "n_parameters = len(parameters)\n",
    "\n",
    "# Extract total index into a dictionary and dataframe\n",
    "total_dict = {}\n",
    "total_dict['parameters'] = parameters\n",
    "for k in sa_dict.keys():\n",
    "    if k != 'parameters':\n",
    "        all_vals = sa_dict[k]['ST']\n",
    "        n_all = len(all_vals)\n",
    "        total_dict[k] = all_vals[n_all-n_parameters:]\n",
    "total_df = pd.DataFrame(total_dict)"
   ]
  },
  {
   "cell_type": "code",
   "execution_count": 21,
   "metadata": {},
   "outputs": [
    {
     "data": {
      "text/html": [
       "<div>\n",
       "<style scoped>\n",
       "    .dataframe tbody tr th:only-of-type {\n",
       "        vertical-align: middle;\n",
       "    }\n",
       "\n",
       "    .dataframe tbody tr th {\n",
       "        vertical-align: top;\n",
       "    }\n",
       "\n",
       "    .dataframe thead th {\n",
       "        text-align: right;\n",
       "    }\n",
       "</style>\n",
       "<table border=\"1\" class=\"dataframe\">\n",
       "  <thead>\n",
       "    <tr style=\"text-align: right;\">\n",
       "      <th></th>\n",
       "      <th>parameters</th>\n",
       "      <th>climate change total</th>\n",
       "      <th>carcinogenic effects</th>\n",
       "      <th>ionising radiation</th>\n",
       "      <th>non-carcinogenic effects</th>\n",
       "      <th>ozone layer depletion</th>\n",
       "      <th>photochemical ozone creation</th>\n",
       "      <th>respiratory effects, inorganics</th>\n",
       "      <th>freshwater and terrestrial acidification</th>\n",
       "      <th>freshwater ecotoxicity</th>\n",
       "      <th>freshwater eutrophication</th>\n",
       "      <th>marine eutrophication</th>\n",
       "      <th>terrestrial eutrophication</th>\n",
       "      <th>dissipated water</th>\n",
       "      <th>fossils</th>\n",
       "      <th>land use</th>\n",
       "      <th>minerals and metals</th>\n",
       "    </tr>\n",
       "  </thead>\n",
       "  <tbody>\n",
       "    <tr>\n",
       "      <th>0</th>\n",
       "      <td>gross_power_per_well</td>\n",
       "      <td>1.110658e-03</td>\n",
       "      <td>4.411758e-01</td>\n",
       "      <td>0.452529</td>\n",
       "      <td>0.440554</td>\n",
       "      <td>0.451621</td>\n",
       "      <td>0.452872</td>\n",
       "      <td>0.464684</td>\n",
       "      <td>0.456244</td>\n",
       "      <td>4.315683e-01</td>\n",
       "      <td>0.447013</td>\n",
       "      <td>0.451917</td>\n",
       "      <td>0.452692</td>\n",
       "      <td>0.459807</td>\n",
       "      <td>0.458195</td>\n",
       "      <td>0.456943</td>\n",
       "      <td>0.452562</td>\n",
       "    </tr>\n",
       "    <tr>\n",
       "      <th>1</th>\n",
       "      <td>average_depth_of_wells</td>\n",
       "      <td>6.892457e-04</td>\n",
       "      <td>2.780466e-01</td>\n",
       "      <td>0.322866</td>\n",
       "      <td>0.288272</td>\n",
       "      <td>0.335318</td>\n",
       "      <td>0.334915</td>\n",
       "      <td>0.234964</td>\n",
       "      <td>0.315896</td>\n",
       "      <td>3.334397e-01</td>\n",
       "      <td>0.239500</td>\n",
       "      <td>0.345940</td>\n",
       "      <td>0.342963</td>\n",
       "      <td>0.246711</td>\n",
       "      <td>0.292602</td>\n",
       "      <td>0.246318</td>\n",
       "      <td>0.211950</td>\n",
       "    </tr>\n",
       "    <tr>\n",
       "      <th>2</th>\n",
       "      <td>collection_pipelines</td>\n",
       "      <td>9.086518e-06</td>\n",
       "      <td>3.549353e-03</td>\n",
       "      <td>0.001182</td>\n",
       "      <td>0.002832</td>\n",
       "      <td>0.000702</td>\n",
       "      <td>0.000741</td>\n",
       "      <td>0.008501</td>\n",
       "      <td>0.001647</td>\n",
       "      <td>6.598753e-04</td>\n",
       "      <td>0.007027</td>\n",
       "      <td>0.000406</td>\n",
       "      <td>0.000503</td>\n",
       "      <td>0.006963</td>\n",
       "      <td>0.003029</td>\n",
       "      <td>0.007341</td>\n",
       "      <td>0.008511</td>\n",
       "    </tr>\n",
       "    <tr>\n",
       "      <th>3</th>\n",
       "      <td>installed_capacity</td>\n",
       "      <td>4.927023e-05</td>\n",
       "      <td>2.213421e-02</td>\n",
       "      <td>0.019927</td>\n",
       "      <td>0.022197</td>\n",
       "      <td>0.019775</td>\n",
       "      <td>0.019782</td>\n",
       "      <td>0.020617</td>\n",
       "      <td>0.019814</td>\n",
       "      <td>2.281111e-02</td>\n",
       "      <td>0.021243</td>\n",
       "      <td>0.019624</td>\n",
       "      <td>0.019639</td>\n",
       "      <td>0.020576</td>\n",
       "      <td>0.020338</td>\n",
       "      <td>0.021050</td>\n",
       "      <td>0.020672</td>\n",
       "    </tr>\n",
       "    <tr>\n",
       "      <th>4</th>\n",
       "      <td>co2_emissions</td>\n",
       "      <td>9.766563e-01</td>\n",
       "      <td>0.000000e+00</td>\n",
       "      <td>0.000000</td>\n",
       "      <td>0.000000</td>\n",
       "      <td>0.000000</td>\n",
       "      <td>0.000000</td>\n",
       "      <td>0.000000</td>\n",
       "      <td>0.000000</td>\n",
       "      <td>0.000000e+00</td>\n",
       "      <td>0.000000</td>\n",
       "      <td>0.000000</td>\n",
       "      <td>0.000000</td>\n",
       "      <td>0.000000</td>\n",
       "      <td>0.000000</td>\n",
       "      <td>0.000000</td>\n",
       "      <td>0.000000</td>\n",
       "    </tr>\n",
       "    <tr>\n",
       "      <th>5</th>\n",
       "      <td>lifetime</td>\n",
       "      <td>3.711634e-05</td>\n",
       "      <td>1.421670e-02</td>\n",
       "      <td>0.013632</td>\n",
       "      <td>0.014341</td>\n",
       "      <td>0.013139</td>\n",
       "      <td>0.012211</td>\n",
       "      <td>0.017556</td>\n",
       "      <td>0.013831</td>\n",
       "      <td>1.242271e-02</td>\n",
       "      <td>0.019610</td>\n",
       "      <td>0.011842</td>\n",
       "      <td>0.011794</td>\n",
       "      <td>0.022800</td>\n",
       "      <td>0.015252</td>\n",
       "      <td>0.018261</td>\n",
       "      <td>0.024746</td>\n",
       "    </tr>\n",
       "    <tr>\n",
       "      <th>6</th>\n",
       "      <td>capacity_factor</td>\n",
       "      <td>5.906498e-06</td>\n",
       "      <td>2.246191e-03</td>\n",
       "      <td>0.002389</td>\n",
       "      <td>0.002278</td>\n",
       "      <td>0.002382</td>\n",
       "      <td>0.002323</td>\n",
       "      <td>0.002465</td>\n",
       "      <td>0.002403</td>\n",
       "      <td>2.222400e-03</td>\n",
       "      <td>0.002496</td>\n",
       "      <td>0.002320</td>\n",
       "      <td>0.002313</td>\n",
       "      <td>0.002776</td>\n",
       "      <td>0.002444</td>\n",
       "      <td>0.002500</td>\n",
       "      <td>0.002736</td>\n",
       "    </tr>\n",
       "    <tr>\n",
       "      <th>7</th>\n",
       "      <td>auxiliary_power</td>\n",
       "      <td>1.162124e-07</td>\n",
       "      <td>4.582317e-05</td>\n",
       "      <td>0.000046</td>\n",
       "      <td>0.000046</td>\n",
       "      <td>0.000045</td>\n",
       "      <td>0.000044</td>\n",
       "      <td>0.000050</td>\n",
       "      <td>0.000046</td>\n",
       "      <td>4.517552e-05</td>\n",
       "      <td>0.000051</td>\n",
       "      <td>0.000044</td>\n",
       "      <td>0.000044</td>\n",
       "      <td>0.000055</td>\n",
       "      <td>0.000047</td>\n",
       "      <td>0.000051</td>\n",
       "      <td>0.000057</td>\n",
       "    </tr>\n",
       "    <tr>\n",
       "      <th>8</th>\n",
       "      <td>specific_diesel_consumption</td>\n",
       "      <td>1.677615e-05</td>\n",
       "      <td>3.559355e-07</td>\n",
       "      <td>0.017770</td>\n",
       "      <td>0.000009</td>\n",
       "      <td>0.021717</td>\n",
       "      <td>0.022615</td>\n",
       "      <td>0.000835</td>\n",
       "      <td>0.017797</td>\n",
       "      <td>2.899559e-06</td>\n",
       "      <td>0.000006</td>\n",
       "      <td>0.026902</td>\n",
       "      <td>0.026377</td>\n",
       "      <td>0.000053</td>\n",
       "      <td>0.007054</td>\n",
       "      <td>0.000202</td>\n",
       "      <td>0.000006</td>\n",
       "    </tr>\n",
       "    <tr>\n",
       "      <th>9</th>\n",
       "      <td>specific_steel_consumption</td>\n",
       "      <td>1.596462e-05</td>\n",
       "      <td>1.486610e-02</td>\n",
       "      <td>0.002516</td>\n",
       "      <td>0.010969</td>\n",
       "      <td>0.001339</td>\n",
       "      <td>0.001533</td>\n",
       "      <td>0.019651</td>\n",
       "      <td>0.002579</td>\n",
       "      <td>2.558733e-03</td>\n",
       "      <td>0.026394</td>\n",
       "      <td>0.000708</td>\n",
       "      <td>0.000835</td>\n",
       "      <td>0.014288</td>\n",
       "      <td>0.006288</td>\n",
       "      <td>0.016839</td>\n",
       "      <td>0.031624</td>\n",
       "    </tr>\n",
       "    <tr>\n",
       "      <th>10</th>\n",
       "      <td>specific_cement_consumption</td>\n",
       "      <td>5.282025e-07</td>\n",
       "      <td>2.684265e-08</td>\n",
       "      <td>0.000019</td>\n",
       "      <td>0.000001</td>\n",
       "      <td>0.000015</td>\n",
       "      <td>0.000008</td>\n",
       "      <td>0.000030</td>\n",
       "      <td>0.000018</td>\n",
       "      <td>9.138899e-08</td>\n",
       "      <td>0.000002</td>\n",
       "      <td>0.000009</td>\n",
       "      <td>0.000010</td>\n",
       "      <td>0.000036</td>\n",
       "      <td>0.000025</td>\n",
       "      <td>0.000038</td>\n",
       "      <td>0.000001</td>\n",
       "    </tr>\n",
       "    <tr>\n",
       "      <th>11</th>\n",
       "      <td>specific_drilling_mud_consumption</td>\n",
       "      <td>2.464676e-07</td>\n",
       "      <td>3.053063e-07</td>\n",
       "      <td>0.000033</td>\n",
       "      <td>0.000004</td>\n",
       "      <td>0.000040</td>\n",
       "      <td>0.000022</td>\n",
       "      <td>0.000087</td>\n",
       "      <td>0.000028</td>\n",
       "      <td>1.231982e-06</td>\n",
       "      <td>0.000026</td>\n",
       "      <td>0.000016</td>\n",
       "      <td>0.000008</td>\n",
       "      <td>0.002522</td>\n",
       "      <td>0.000487</td>\n",
       "      <td>0.000082</td>\n",
       "      <td>0.000017</td>\n",
       "    </tr>\n",
       "    <tr>\n",
       "      <th>12</th>\n",
       "      <td>initial_harmonic_decline_rate</td>\n",
       "      <td>1.857005e-04</td>\n",
       "      <td>7.781363e-02</td>\n",
       "      <td>0.072341</td>\n",
       "      <td>0.076407</td>\n",
       "      <td>0.070815</td>\n",
       "      <td>0.071272</td>\n",
       "      <td>0.083558</td>\n",
       "      <td>0.073394</td>\n",
       "      <td>7.071324e-02</td>\n",
       "      <td>0.081800</td>\n",
       "      <td>0.069917</td>\n",
       "      <td>0.070373</td>\n",
       "      <td>0.079081</td>\n",
       "      <td>0.075681</td>\n",
       "      <td>0.081585</td>\n",
       "      <td>0.085218</td>\n",
       "    </tr>\n",
       "    <tr>\n",
       "      <th>13</th>\n",
       "      <td>production_to_injection_ratio</td>\n",
       "      <td>1.936355e-05</td>\n",
       "      <td>7.853124e-03</td>\n",
       "      <td>0.007910</td>\n",
       "      <td>0.007793</td>\n",
       "      <td>0.007854</td>\n",
       "      <td>0.007903</td>\n",
       "      <td>0.008223</td>\n",
       "      <td>0.007985</td>\n",
       "      <td>7.518285e-03</td>\n",
       "      <td>0.007989</td>\n",
       "      <td>0.007859</td>\n",
       "      <td>0.007890</td>\n",
       "      <td>0.007727</td>\n",
       "      <td>0.007911</td>\n",
       "      <td>0.008067</td>\n",
       "      <td>0.008177</td>\n",
       "    </tr>\n",
       "    <tr>\n",
       "      <th>14</th>\n",
       "      <td>success_rate_exploration_wells</td>\n",
       "      <td>1.227071e-06</td>\n",
       "      <td>5.558330e-04</td>\n",
       "      <td>0.000545</td>\n",
       "      <td>0.000555</td>\n",
       "      <td>0.000549</td>\n",
       "      <td>0.000553</td>\n",
       "      <td>0.000488</td>\n",
       "      <td>0.000534</td>\n",
       "      <td>5.766200e-04</td>\n",
       "      <td>0.000523</td>\n",
       "      <td>0.000556</td>\n",
       "      <td>0.000554</td>\n",
       "      <td>0.000473</td>\n",
       "      <td>0.000521</td>\n",
       "      <td>0.000498</td>\n",
       "      <td>0.000486</td>\n",
       "    </tr>\n",
       "    <tr>\n",
       "      <th>15</th>\n",
       "      <td>success_rate_primary_wells</td>\n",
       "      <td>4.523736e-05</td>\n",
       "      <td>1.943496e-02</td>\n",
       "      <td>0.020873</td>\n",
       "      <td>0.020104</td>\n",
       "      <td>0.021535</td>\n",
       "      <td>0.021507</td>\n",
       "      <td>0.015983</td>\n",
       "      <td>0.020409</td>\n",
       "      <td>2.335193e-02</td>\n",
       "      <td>0.016640</td>\n",
       "      <td>0.022080</td>\n",
       "      <td>0.021915</td>\n",
       "      <td>0.016633</td>\n",
       "      <td>0.019208</td>\n",
       "      <td>0.016912</td>\n",
       "      <td>0.014728</td>\n",
       "    </tr>\n",
       "    <tr>\n",
       "      <th>16</th>\n",
       "      <td>success_rate_makeup_wells</td>\n",
       "      <td>2.139714e-05</td>\n",
       "      <td>8.613223e-03</td>\n",
       "      <td>0.009992</td>\n",
       "      <td>0.008896</td>\n",
       "      <td>0.010359</td>\n",
       "      <td>0.010352</td>\n",
       "      <td>0.007389</td>\n",
       "      <td>0.009780</td>\n",
       "      <td>1.013726e-02</td>\n",
       "      <td>0.007532</td>\n",
       "      <td>0.010671</td>\n",
       "      <td>0.010579</td>\n",
       "      <td>0.007842</td>\n",
       "      <td>0.009142</td>\n",
       "      <td>0.007699</td>\n",
       "      <td>0.006709</td>\n",
       "    </tr>\n",
       "  </tbody>\n",
       "</table>\n",
       "</div>"
      ],
      "text/plain": [
       "                           parameters  climate change total  \\\n",
       "0                gross_power_per_well          1.110658e-03   \n",
       "1              average_depth_of_wells          6.892457e-04   \n",
       "2                collection_pipelines          9.086518e-06   \n",
       "3                  installed_capacity          4.927023e-05   \n",
       "4                       co2_emissions          9.766563e-01   \n",
       "5                            lifetime          3.711634e-05   \n",
       "6                     capacity_factor          5.906498e-06   \n",
       "7                     auxiliary_power          1.162124e-07   \n",
       "8         specific_diesel_consumption          1.677615e-05   \n",
       "9          specific_steel_consumption          1.596462e-05   \n",
       "10        specific_cement_consumption          5.282025e-07   \n",
       "11  specific_drilling_mud_consumption          2.464676e-07   \n",
       "12      initial_harmonic_decline_rate          1.857005e-04   \n",
       "13      production_to_injection_ratio          1.936355e-05   \n",
       "14     success_rate_exploration_wells          1.227071e-06   \n",
       "15         success_rate_primary_wells          4.523736e-05   \n",
       "16          success_rate_makeup_wells          2.139714e-05   \n",
       "\n",
       "    carcinogenic effects  ionising radiation  non-carcinogenic effects  \\\n",
       "0           4.411758e-01            0.452529                  0.440554   \n",
       "1           2.780466e-01            0.322866                  0.288272   \n",
       "2           3.549353e-03            0.001182                  0.002832   \n",
       "3           2.213421e-02            0.019927                  0.022197   \n",
       "4           0.000000e+00            0.000000                  0.000000   \n",
       "5           1.421670e-02            0.013632                  0.014341   \n",
       "6           2.246191e-03            0.002389                  0.002278   \n",
       "7           4.582317e-05            0.000046                  0.000046   \n",
       "8           3.559355e-07            0.017770                  0.000009   \n",
       "9           1.486610e-02            0.002516                  0.010969   \n",
       "10          2.684265e-08            0.000019                  0.000001   \n",
       "11          3.053063e-07            0.000033                  0.000004   \n",
       "12          7.781363e-02            0.072341                  0.076407   \n",
       "13          7.853124e-03            0.007910                  0.007793   \n",
       "14          5.558330e-04            0.000545                  0.000555   \n",
       "15          1.943496e-02            0.020873                  0.020104   \n",
       "16          8.613223e-03            0.009992                  0.008896   \n",
       "\n",
       "    ozone layer depletion  photochemical ozone creation  \\\n",
       "0                0.451621                      0.452872   \n",
       "1                0.335318                      0.334915   \n",
       "2                0.000702                      0.000741   \n",
       "3                0.019775                      0.019782   \n",
       "4                0.000000                      0.000000   \n",
       "5                0.013139                      0.012211   \n",
       "6                0.002382                      0.002323   \n",
       "7                0.000045                      0.000044   \n",
       "8                0.021717                      0.022615   \n",
       "9                0.001339                      0.001533   \n",
       "10               0.000015                      0.000008   \n",
       "11               0.000040                      0.000022   \n",
       "12               0.070815                      0.071272   \n",
       "13               0.007854                      0.007903   \n",
       "14               0.000549                      0.000553   \n",
       "15               0.021535                      0.021507   \n",
       "16               0.010359                      0.010352   \n",
       "\n",
       "    respiratory effects, inorganics  freshwater and terrestrial acidification  \\\n",
       "0                          0.464684                                  0.456244   \n",
       "1                          0.234964                                  0.315896   \n",
       "2                          0.008501                                  0.001647   \n",
       "3                          0.020617                                  0.019814   \n",
       "4                          0.000000                                  0.000000   \n",
       "5                          0.017556                                  0.013831   \n",
       "6                          0.002465                                  0.002403   \n",
       "7                          0.000050                                  0.000046   \n",
       "8                          0.000835                                  0.017797   \n",
       "9                          0.019651                                  0.002579   \n",
       "10                         0.000030                                  0.000018   \n",
       "11                         0.000087                                  0.000028   \n",
       "12                         0.083558                                  0.073394   \n",
       "13                         0.008223                                  0.007985   \n",
       "14                         0.000488                                  0.000534   \n",
       "15                         0.015983                                  0.020409   \n",
       "16                         0.007389                                  0.009780   \n",
       "\n",
       "    freshwater ecotoxicity  freshwater eutrophication  marine eutrophication  \\\n",
       "0             4.315683e-01                   0.447013               0.451917   \n",
       "1             3.334397e-01                   0.239500               0.345940   \n",
       "2             6.598753e-04                   0.007027               0.000406   \n",
       "3             2.281111e-02                   0.021243               0.019624   \n",
       "4             0.000000e+00                   0.000000               0.000000   \n",
       "5             1.242271e-02                   0.019610               0.011842   \n",
       "6             2.222400e-03                   0.002496               0.002320   \n",
       "7             4.517552e-05                   0.000051               0.000044   \n",
       "8             2.899559e-06                   0.000006               0.026902   \n",
       "9             2.558733e-03                   0.026394               0.000708   \n",
       "10            9.138899e-08                   0.000002               0.000009   \n",
       "11            1.231982e-06                   0.000026               0.000016   \n",
       "12            7.071324e-02                   0.081800               0.069917   \n",
       "13            7.518285e-03                   0.007989               0.007859   \n",
       "14            5.766200e-04                   0.000523               0.000556   \n",
       "15            2.335193e-02                   0.016640               0.022080   \n",
       "16            1.013726e-02                   0.007532               0.010671   \n",
       "\n",
       "    terrestrial eutrophication  dissipated water   fossils  land use  \\\n",
       "0                     0.452692          0.459807  0.458195  0.456943   \n",
       "1                     0.342963          0.246711  0.292602  0.246318   \n",
       "2                     0.000503          0.006963  0.003029  0.007341   \n",
       "3                     0.019639          0.020576  0.020338  0.021050   \n",
       "4                     0.000000          0.000000  0.000000  0.000000   \n",
       "5                     0.011794          0.022800  0.015252  0.018261   \n",
       "6                     0.002313          0.002776  0.002444  0.002500   \n",
       "7                     0.000044          0.000055  0.000047  0.000051   \n",
       "8                     0.026377          0.000053  0.007054  0.000202   \n",
       "9                     0.000835          0.014288  0.006288  0.016839   \n",
       "10                    0.000010          0.000036  0.000025  0.000038   \n",
       "11                    0.000008          0.002522  0.000487  0.000082   \n",
       "12                    0.070373          0.079081  0.075681  0.081585   \n",
       "13                    0.007890          0.007727  0.007911  0.008067   \n",
       "14                    0.000554          0.000473  0.000521  0.000498   \n",
       "15                    0.021915          0.016633  0.019208  0.016912   \n",
       "16                    0.010579          0.007842  0.009142  0.007699   \n",
       "\n",
       "    minerals and metals  \n",
       "0              0.452562  \n",
       "1              0.211950  \n",
       "2              0.008511  \n",
       "3              0.020672  \n",
       "4              0.000000  \n",
       "5              0.024746  \n",
       "6              0.002736  \n",
       "7              0.000057  \n",
       "8              0.000006  \n",
       "9              0.031624  \n",
       "10             0.000001  \n",
       "11             0.000017  \n",
       "12             0.085218  \n",
       "13             0.008177  \n",
       "14             0.000486  \n",
       "15             0.014728  \n",
       "16             0.006709  "
      ]
     },
     "execution_count": 21,
     "metadata": {},
     "output_type": "execute_result"
    }
   ],
   "source": [
    "total_df\n"
   ]
  },
  {
   "cell_type": "code",
   "execution_count": 12,
   "metadata": {},
   "outputs": [],
   "source": [
    "names = total_df['parameters'].tolist()\n",
    "\n",
    "def normalize_df(df):\n",
    "    norm_df = pd.DataFrame([],index = df.index, columns = df.columns)\n",
    "    norm_df['parameters'] = df['parameters']\n",
    "    for col in df.columns:\n",
    "        if col != 'parameters':\n",
    "            norm_df[col] = df[col] / sum(df[col])\n",
    "    return norm_df"
   ]
  },
  {
   "cell_type": "code",
   "execution_count": 13,
   "metadata": {},
   "outputs": [],
   "source": [
    "df = normalize_df(total_df)"
   ]
  },
  {
   "cell_type": "code",
   "execution_count": 14,
   "metadata": {},
   "outputs": [],
   "source": [
    "df = df.set_index('parameters')\n",
    "new_index = ['co2_emissions',\n",
    "             'gross_power_per_well', \n",
    "             'average_depth_of_wells',\n",
    "             'initial_harmonic_decline_rate',\n",
    "             'success_rate_primary_wells',\n",
    "             'lifetime',\n",
    "             'collection_pipelines', \n",
    "             'installed_capacity', \n",
    "             'capacity_factor', \n",
    "             'auxiliary_power',\n",
    "             'specific_diesel_consumption', \n",
    "             'specific_steel_consumption',\n",
    "             'specific_cement_consumption', \n",
    "             'specific_drilling_mud_consumption',\n",
    "             'production_to_injection_ratio',\n",
    "             'success_rate_exploration_wells', \n",
    "             'success_rate_makeup_wells']\n",
    "df = df.reindex(new_index)"
   ]
  },
  {
   "cell_type": "code",
   "execution_count": 15,
   "metadata": {},
   "outputs": [],
   "source": [
    "df['index'] = np.arange(len(df))\n",
    "df = df.reset_index()\n",
    "df = df.set_index('index')"
   ]
  },
  {
   "cell_type": "code",
   "execution_count": 16,
   "metadata": {},
   "outputs": [
    {
     "data": {
      "text/html": [
       "<div>\n",
       "<style scoped>\n",
       "    .dataframe tbody tr th:only-of-type {\n",
       "        vertical-align: middle;\n",
       "    }\n",
       "\n",
       "    .dataframe tbody tr th {\n",
       "        vertical-align: top;\n",
       "    }\n",
       "\n",
       "    .dataframe thead th {\n",
       "        text-align: right;\n",
       "    }\n",
       "</style>\n",
       "<table border=\"1\" class=\"dataframe\">\n",
       "  <thead>\n",
       "    <tr style=\"text-align: right;\">\n",
       "      <th></th>\n",
       "      <th>parameters</th>\n",
       "      <th>climate change total</th>\n",
       "      <th>carcinogenic effects</th>\n",
       "      <th>ionising radiation</th>\n",
       "      <th>non-carcinogenic effects</th>\n",
       "      <th>ozone layer depletion</th>\n",
       "      <th>photochemical ozone creation</th>\n",
       "      <th>respiratory effects, inorganics</th>\n",
       "      <th>freshwater and terrestrial acidification</th>\n",
       "      <th>freshwater ecotoxicity</th>\n",
       "      <th>freshwater eutrophication</th>\n",
       "      <th>marine eutrophication</th>\n",
       "      <th>terrestrial eutrophication</th>\n",
       "      <th>dissipated water</th>\n",
       "      <th>fossils</th>\n",
       "      <th>land use</th>\n",
       "      <th>minerals and metals</th>\n",
       "    </tr>\n",
       "    <tr>\n",
       "      <th>index</th>\n",
       "      <th></th>\n",
       "      <th></th>\n",
       "      <th></th>\n",
       "      <th></th>\n",
       "      <th></th>\n",
       "      <th></th>\n",
       "      <th></th>\n",
       "      <th></th>\n",
       "      <th></th>\n",
       "      <th></th>\n",
       "      <th></th>\n",
       "      <th></th>\n",
       "      <th></th>\n",
       "      <th></th>\n",
       "      <th></th>\n",
       "      <th></th>\n",
       "      <th></th>\n",
       "    </tr>\n",
       "  </thead>\n",
       "  <tbody>\n",
       "    <tr>\n",
       "      <th>0</th>\n",
       "      <td>co2_emissions</td>\n",
       "      <td>9.977445e-01</td>\n",
       "      <td>0.000000e+00</td>\n",
       "      <td>0.000000</td>\n",
       "      <td>0.000000</td>\n",
       "      <td>0.000000</td>\n",
       "      <td>0.000000</td>\n",
       "      <td>0.000000</td>\n",
       "      <td>0.000000</td>\n",
       "      <td>0.000000e+00</td>\n",
       "      <td>0.000000</td>\n",
       "      <td>0.000000</td>\n",
       "      <td>0.000000</td>\n",
       "      <td>0.000000</td>\n",
       "      <td>0.000000</td>\n",
       "      <td>0.000000</td>\n",
       "      <td>0.000000</td>\n",
       "    </tr>\n",
       "    <tr>\n",
       "      <th>1</th>\n",
       "      <td>gross_power_per_well</td>\n",
       "      <td>1.134640e-03</td>\n",
       "      <td>4.953958e-01</td>\n",
       "      <td>0.479084</td>\n",
       "      <td>0.492096</td>\n",
       "      <td>0.471811</td>\n",
       "      <td>0.472405</td>\n",
       "      <td>0.525020</td>\n",
       "      <td>0.484127</td>\n",
       "      <td>4.701029e-01</td>\n",
       "      <td>0.509212</td>\n",
       "      <td>0.465505</td>\n",
       "      <td>0.467420</td>\n",
       "      <td>0.517601</td>\n",
       "      <td>0.499002</td>\n",
       "      <td>0.516679</td>\n",
       "      <td>0.521264</td>\n",
       "    </tr>\n",
       "    <tr>\n",
       "      <th>2</th>\n",
       "      <td>average_depth_of_wells</td>\n",
       "      <td>7.041281e-04</td>\n",
       "      <td>3.122182e-01</td>\n",
       "      <td>0.341812</td>\n",
       "      <td>0.321998</td>\n",
       "      <td>0.350309</td>\n",
       "      <td>0.349361</td>\n",
       "      <td>0.265472</td>\n",
       "      <td>0.335202</td>\n",
       "      <td>3.632123e-01</td>\n",
       "      <td>0.272825</td>\n",
       "      <td>0.356342</td>\n",
       "      <td>0.354122</td>\n",
       "      <td>0.277720</td>\n",
       "      <td>0.318661</td>\n",
       "      <td>0.278519</td>\n",
       "      <td>0.244126</td>\n",
       "    </tr>\n",
       "    <tr>\n",
       "      <th>3</th>\n",
       "      <td>initial_harmonic_decline_rate</td>\n",
       "      <td>1.897102e-04</td>\n",
       "      <td>8.737683e-02</td>\n",
       "      <td>0.076586</td>\n",
       "      <td>0.085347</td>\n",
       "      <td>0.073980</td>\n",
       "      <td>0.074346</td>\n",
       "      <td>0.094407</td>\n",
       "      <td>0.077879</td>\n",
       "      <td>7.702719e-02</td>\n",
       "      <td>0.093182</td>\n",
       "      <td>0.072020</td>\n",
       "      <td>0.072663</td>\n",
       "      <td>0.089021</td>\n",
       "      <td>0.082421</td>\n",
       "      <td>0.092250</td>\n",
       "      <td>0.098155</td>\n",
       "    </tr>\n",
       "    <tr>\n",
       "      <th>4</th>\n",
       "      <td>success_rate_primary_wells</td>\n",
       "      <td>4.621414e-05</td>\n",
       "      <td>2.182349e-02</td>\n",
       "      <td>0.022098</td>\n",
       "      <td>0.022456</td>\n",
       "      <td>0.022498</td>\n",
       "      <td>0.022434</td>\n",
       "      <td>0.018058</td>\n",
       "      <td>0.021657</td>\n",
       "      <td>2.543701e-02</td>\n",
       "      <td>0.018956</td>\n",
       "      <td>0.022744</td>\n",
       "      <td>0.022628</td>\n",
       "      <td>0.018724</td>\n",
       "      <td>0.020918</td>\n",
       "      <td>0.019123</td>\n",
       "      <td>0.016964</td>\n",
       "    </tr>\n",
       "    <tr>\n",
       "      <th>5</th>\n",
       "      <td>lifetime</td>\n",
       "      <td>3.791777e-05</td>\n",
       "      <td>1.596391e-02</td>\n",
       "      <td>0.014432</td>\n",
       "      <td>0.016018</td>\n",
       "      <td>0.013727</td>\n",
       "      <td>0.012738</td>\n",
       "      <td>0.019836</td>\n",
       "      <td>0.014676</td>\n",
       "      <td>1.353193e-02</td>\n",
       "      <td>0.022338</td>\n",
       "      <td>0.012198</td>\n",
       "      <td>0.012178</td>\n",
       "      <td>0.025665</td>\n",
       "      <td>0.016610</td>\n",
       "      <td>0.020648</td>\n",
       "      <td>0.028503</td>\n",
       "    </tr>\n",
       "    <tr>\n",
       "      <th>6</th>\n",
       "      <td>collection_pipelines</td>\n",
       "      <td>9.282716e-06</td>\n",
       "      <td>3.985564e-03</td>\n",
       "      <td>0.001252</td>\n",
       "      <td>0.003163</td>\n",
       "      <td>0.000733</td>\n",
       "      <td>0.000773</td>\n",
       "      <td>0.009605</td>\n",
       "      <td>0.001748</td>\n",
       "      <td>7.187952e-04</td>\n",
       "      <td>0.008004</td>\n",
       "      <td>0.000418</td>\n",
       "      <td>0.000519</td>\n",
       "      <td>0.007838</td>\n",
       "      <td>0.003299</td>\n",
       "      <td>0.008300</td>\n",
       "      <td>0.009803</td>\n",
       "    </tr>\n",
       "    <tr>\n",
       "      <th>7</th>\n",
       "      <td>installed_capacity</td>\n",
       "      <td>5.033408e-05</td>\n",
       "      <td>2.485447e-02</td>\n",
       "      <td>0.021096</td>\n",
       "      <td>0.024794</td>\n",
       "      <td>0.020659</td>\n",
       "      <td>0.020635</td>\n",
       "      <td>0.023294</td>\n",
       "      <td>0.021025</td>\n",
       "      <td>2.484791e-02</td>\n",
       "      <td>0.024199</td>\n",
       "      <td>0.020214</td>\n",
       "      <td>0.020278</td>\n",
       "      <td>0.023162</td>\n",
       "      <td>0.022150</td>\n",
       "      <td>0.023802</td>\n",
       "      <td>0.023810</td>\n",
       "    </tr>\n",
       "    <tr>\n",
       "      <th>8</th>\n",
       "      <td>capacity_factor</td>\n",
       "      <td>6.034033e-06</td>\n",
       "      <td>2.522245e-03</td>\n",
       "      <td>0.002529</td>\n",
       "      <td>0.002545</td>\n",
       "      <td>0.002489</td>\n",
       "      <td>0.002423</td>\n",
       "      <td>0.002785</td>\n",
       "      <td>0.002549</td>\n",
       "      <td>2.420837e-03</td>\n",
       "      <td>0.002843</td>\n",
       "      <td>0.002390</td>\n",
       "      <td>0.002389</td>\n",
       "      <td>0.003125</td>\n",
       "      <td>0.002661</td>\n",
       "      <td>0.002827</td>\n",
       "      <td>0.003152</td>\n",
       "    </tr>\n",
       "    <tr>\n",
       "      <th>9</th>\n",
       "      <td>auxiliary_power</td>\n",
       "      <td>1.187217e-07</td>\n",
       "      <td>5.145478e-05</td>\n",
       "      <td>0.000049</td>\n",
       "      <td>0.000052</td>\n",
       "      <td>0.000047</td>\n",
       "      <td>0.000046</td>\n",
       "      <td>0.000056</td>\n",
       "      <td>0.000049</td>\n",
       "      <td>4.920922e-05</td>\n",
       "      <td>0.000059</td>\n",
       "      <td>0.000045</td>\n",
       "      <td>0.000045</td>\n",
       "      <td>0.000062</td>\n",
       "      <td>0.000052</td>\n",
       "      <td>0.000058</td>\n",
       "      <td>0.000065</td>\n",
       "    </tr>\n",
       "    <tr>\n",
       "      <th>10</th>\n",
       "      <td>specific_diesel_consumption</td>\n",
       "      <td>1.713839e-05</td>\n",
       "      <td>3.996796e-07</td>\n",
       "      <td>0.018813</td>\n",
       "      <td>0.000010</td>\n",
       "      <td>0.022688</td>\n",
       "      <td>0.023590</td>\n",
       "      <td>0.000943</td>\n",
       "      <td>0.018885</td>\n",
       "      <td>3.158459e-06</td>\n",
       "      <td>0.000007</td>\n",
       "      <td>0.027710</td>\n",
       "      <td>0.027236</td>\n",
       "      <td>0.000059</td>\n",
       "      <td>0.007682</td>\n",
       "      <td>0.000228</td>\n",
       "      <td>0.000007</td>\n",
       "    </tr>\n",
       "    <tr>\n",
       "      <th>11</th>\n",
       "      <td>specific_steel_consumption</td>\n",
       "      <td>1.630934e-05</td>\n",
       "      <td>1.669312e-02</td>\n",
       "      <td>0.002664</td>\n",
       "      <td>0.012253</td>\n",
       "      <td>0.001399</td>\n",
       "      <td>0.001599</td>\n",
       "      <td>0.022202</td>\n",
       "      <td>0.002736</td>\n",
       "      <td>2.787201e-03</td>\n",
       "      <td>0.030067</td>\n",
       "      <td>0.000729</td>\n",
       "      <td>0.000862</td>\n",
       "      <td>0.016084</td>\n",
       "      <td>0.006848</td>\n",
       "      <td>0.019040</td>\n",
       "      <td>0.036425</td>\n",
       "    </tr>\n",
       "    <tr>\n",
       "      <th>12</th>\n",
       "      <td>specific_cement_consumption</td>\n",
       "      <td>5.396076e-07</td>\n",
       "      <td>3.014158e-08</td>\n",
       "      <td>0.000020</td>\n",
       "      <td>0.000002</td>\n",
       "      <td>0.000016</td>\n",
       "      <td>0.000009</td>\n",
       "      <td>0.000034</td>\n",
       "      <td>0.000019</td>\n",
       "      <td>9.954907e-08</td>\n",
       "      <td>0.000003</td>\n",
       "      <td>0.000009</td>\n",
       "      <td>0.000010</td>\n",
       "      <td>0.000041</td>\n",
       "      <td>0.000028</td>\n",
       "      <td>0.000043</td>\n",
       "      <td>0.000001</td>\n",
       "    </tr>\n",
       "    <tr>\n",
       "      <th>13</th>\n",
       "      <td>specific_drilling_mud_consumption</td>\n",
       "      <td>2.517894e-07</td>\n",
       "      <td>3.428280e-07</td>\n",
       "      <td>0.000035</td>\n",
       "      <td>0.000005</td>\n",
       "      <td>0.000042</td>\n",
       "      <td>0.000023</td>\n",
       "      <td>0.000098</td>\n",
       "      <td>0.000030</td>\n",
       "      <td>1.341985e-06</td>\n",
       "      <td>0.000029</td>\n",
       "      <td>0.000016</td>\n",
       "      <td>0.000008</td>\n",
       "      <td>0.002840</td>\n",
       "      <td>0.000530</td>\n",
       "      <td>0.000093</td>\n",
       "      <td>0.000019</td>\n",
       "    </tr>\n",
       "    <tr>\n",
       "      <th>14</th>\n",
       "      <td>production_to_injection_ratio</td>\n",
       "      <td>1.978165e-05</td>\n",
       "      <td>8.818263e-03</td>\n",
       "      <td>0.008374</td>\n",
       "      <td>0.008705</td>\n",
       "      <td>0.008205</td>\n",
       "      <td>0.008244</td>\n",
       "      <td>0.009290</td>\n",
       "      <td>0.008473</td>\n",
       "      <td>8.189589e-03</td>\n",
       "      <td>0.009100</td>\n",
       "      <td>0.008095</td>\n",
       "      <td>0.008146</td>\n",
       "      <td>0.008698</td>\n",
       "      <td>0.008616</td>\n",
       "      <td>0.009121</td>\n",
       "      <td>0.009418</td>\n",
       "    </tr>\n",
       "    <tr>\n",
       "      <th>15</th>\n",
       "      <td>success_rate_exploration_wells</td>\n",
       "      <td>1.253566e-06</td>\n",
       "      <td>6.241442e-04</td>\n",
       "      <td>0.000577</td>\n",
       "      <td>0.000620</td>\n",
       "      <td>0.000574</td>\n",
       "      <td>0.000577</td>\n",
       "      <td>0.000551</td>\n",
       "      <td>0.000567</td>\n",
       "      <td>6.281061e-04</td>\n",
       "      <td>0.000596</td>\n",
       "      <td>0.000573</td>\n",
       "      <td>0.000572</td>\n",
       "      <td>0.000532</td>\n",
       "      <td>0.000567</td>\n",
       "      <td>0.000564</td>\n",
       "      <td>0.000560</td>\n",
       "    </tr>\n",
       "    <tr>\n",
       "      <th>16</th>\n",
       "      <td>success_rate_makeup_wells</td>\n",
       "      <td>2.185915e-05</td>\n",
       "      <td>9.671777e-03</td>\n",
       "      <td>0.010579</td>\n",
       "      <td>0.009936</td>\n",
       "      <td>0.010823</td>\n",
       "      <td>0.010799</td>\n",
       "      <td>0.008349</td>\n",
       "      <td>0.010377</td>\n",
       "      <td>1.104241e-02</td>\n",
       "      <td>0.008581</td>\n",
       "      <td>0.010991</td>\n",
       "      <td>0.010923</td>\n",
       "      <td>0.008828</td>\n",
       "      <td>0.009956</td>\n",
       "      <td>0.008705</td>\n",
       "      <td>0.007727</td>\n",
       "    </tr>\n",
       "  </tbody>\n",
       "</table>\n",
       "</div>"
      ],
      "text/plain": [
       "                              parameters  climate change total  \\\n",
       "index                                                            \n",
       "0                          co2_emissions          9.977445e-01   \n",
       "1                   gross_power_per_well          1.134640e-03   \n",
       "2                 average_depth_of_wells          7.041281e-04   \n",
       "3          initial_harmonic_decline_rate          1.897102e-04   \n",
       "4             success_rate_primary_wells          4.621414e-05   \n",
       "5                               lifetime          3.791777e-05   \n",
       "6                   collection_pipelines          9.282716e-06   \n",
       "7                     installed_capacity          5.033408e-05   \n",
       "8                        capacity_factor          6.034033e-06   \n",
       "9                        auxiliary_power          1.187217e-07   \n",
       "10           specific_diesel_consumption          1.713839e-05   \n",
       "11            specific_steel_consumption          1.630934e-05   \n",
       "12           specific_cement_consumption          5.396076e-07   \n",
       "13     specific_drilling_mud_consumption          2.517894e-07   \n",
       "14         production_to_injection_ratio          1.978165e-05   \n",
       "15        success_rate_exploration_wells          1.253566e-06   \n",
       "16             success_rate_makeup_wells          2.185915e-05   \n",
       "\n",
       "       carcinogenic effects  ionising radiation  non-carcinogenic effects  \\\n",
       "index                                                                       \n",
       "0              0.000000e+00            0.000000                  0.000000   \n",
       "1              4.953958e-01            0.479084                  0.492096   \n",
       "2              3.122182e-01            0.341812                  0.321998   \n",
       "3              8.737683e-02            0.076586                  0.085347   \n",
       "4              2.182349e-02            0.022098                  0.022456   \n",
       "5              1.596391e-02            0.014432                  0.016018   \n",
       "6              3.985564e-03            0.001252                  0.003163   \n",
       "7              2.485447e-02            0.021096                  0.024794   \n",
       "8              2.522245e-03            0.002529                  0.002545   \n",
       "9              5.145478e-05            0.000049                  0.000052   \n",
       "10             3.996796e-07            0.018813                  0.000010   \n",
       "11             1.669312e-02            0.002664                  0.012253   \n",
       "12             3.014158e-08            0.000020                  0.000002   \n",
       "13             3.428280e-07            0.000035                  0.000005   \n",
       "14             8.818263e-03            0.008374                  0.008705   \n",
       "15             6.241442e-04            0.000577                  0.000620   \n",
       "16             9.671777e-03            0.010579                  0.009936   \n",
       "\n",
       "       ozone layer depletion  photochemical ozone creation  \\\n",
       "index                                                        \n",
       "0                   0.000000                      0.000000   \n",
       "1                   0.471811                      0.472405   \n",
       "2                   0.350309                      0.349361   \n",
       "3                   0.073980                      0.074346   \n",
       "4                   0.022498                      0.022434   \n",
       "5                   0.013727                      0.012738   \n",
       "6                   0.000733                      0.000773   \n",
       "7                   0.020659                      0.020635   \n",
       "8                   0.002489                      0.002423   \n",
       "9                   0.000047                      0.000046   \n",
       "10                  0.022688                      0.023590   \n",
       "11                  0.001399                      0.001599   \n",
       "12                  0.000016                      0.000009   \n",
       "13                  0.000042                      0.000023   \n",
       "14                  0.008205                      0.008244   \n",
       "15                  0.000574                      0.000577   \n",
       "16                  0.010823                      0.010799   \n",
       "\n",
       "       respiratory effects, inorganics  \\\n",
       "index                                    \n",
       "0                             0.000000   \n",
       "1                             0.525020   \n",
       "2                             0.265472   \n",
       "3                             0.094407   \n",
       "4                             0.018058   \n",
       "5                             0.019836   \n",
       "6                             0.009605   \n",
       "7                             0.023294   \n",
       "8                             0.002785   \n",
       "9                             0.000056   \n",
       "10                            0.000943   \n",
       "11                            0.022202   \n",
       "12                            0.000034   \n",
       "13                            0.000098   \n",
       "14                            0.009290   \n",
       "15                            0.000551   \n",
       "16                            0.008349   \n",
       "\n",
       "       freshwater and terrestrial acidification  freshwater ecotoxicity  \\\n",
       "index                                                                     \n",
       "0                                      0.000000            0.000000e+00   \n",
       "1                                      0.484127            4.701029e-01   \n",
       "2                                      0.335202            3.632123e-01   \n",
       "3                                      0.077879            7.702719e-02   \n",
       "4                                      0.021657            2.543701e-02   \n",
       "5                                      0.014676            1.353193e-02   \n",
       "6                                      0.001748            7.187952e-04   \n",
       "7                                      0.021025            2.484791e-02   \n",
       "8                                      0.002549            2.420837e-03   \n",
       "9                                      0.000049            4.920922e-05   \n",
       "10                                     0.018885            3.158459e-06   \n",
       "11                                     0.002736            2.787201e-03   \n",
       "12                                     0.000019            9.954907e-08   \n",
       "13                                     0.000030            1.341985e-06   \n",
       "14                                     0.008473            8.189589e-03   \n",
       "15                                     0.000567            6.281061e-04   \n",
       "16                                     0.010377            1.104241e-02   \n",
       "\n",
       "       freshwater eutrophication  marine eutrophication  \\\n",
       "index                                                     \n",
       "0                       0.000000               0.000000   \n",
       "1                       0.509212               0.465505   \n",
       "2                       0.272825               0.356342   \n",
       "3                       0.093182               0.072020   \n",
       "4                       0.018956               0.022744   \n",
       "5                       0.022338               0.012198   \n",
       "6                       0.008004               0.000418   \n",
       "7                       0.024199               0.020214   \n",
       "8                       0.002843               0.002390   \n",
       "9                       0.000059               0.000045   \n",
       "10                      0.000007               0.027710   \n",
       "11                      0.030067               0.000729   \n",
       "12                      0.000003               0.000009   \n",
       "13                      0.000029               0.000016   \n",
       "14                      0.009100               0.008095   \n",
       "15                      0.000596               0.000573   \n",
       "16                      0.008581               0.010991   \n",
       "\n",
       "       terrestrial eutrophication  dissipated water   fossils  land use  \\\n",
       "index                                                                     \n",
       "0                        0.000000          0.000000  0.000000  0.000000   \n",
       "1                        0.467420          0.517601  0.499002  0.516679   \n",
       "2                        0.354122          0.277720  0.318661  0.278519   \n",
       "3                        0.072663          0.089021  0.082421  0.092250   \n",
       "4                        0.022628          0.018724  0.020918  0.019123   \n",
       "5                        0.012178          0.025665  0.016610  0.020648   \n",
       "6                        0.000519          0.007838  0.003299  0.008300   \n",
       "7                        0.020278          0.023162  0.022150  0.023802   \n",
       "8                        0.002389          0.003125  0.002661  0.002827   \n",
       "9                        0.000045          0.000062  0.000052  0.000058   \n",
       "10                       0.027236          0.000059  0.007682  0.000228   \n",
       "11                       0.000862          0.016084  0.006848  0.019040   \n",
       "12                       0.000010          0.000041  0.000028  0.000043   \n",
       "13                       0.000008          0.002840  0.000530  0.000093   \n",
       "14                       0.008146          0.008698  0.008616  0.009121   \n",
       "15                       0.000572          0.000532  0.000567  0.000564   \n",
       "16                       0.010923          0.008828  0.009956  0.008705   \n",
       "\n",
       "       minerals and metals  \n",
       "index                       \n",
       "0                 0.000000  \n",
       "1                 0.521264  \n",
       "2                 0.244126  \n",
       "3                 0.098155  \n",
       "4                 0.016964  \n",
       "5                 0.028503  \n",
       "6                 0.009803  \n",
       "7                 0.023810  \n",
       "8                 0.003152  \n",
       "9                 0.000065  \n",
       "10                0.000007  \n",
       "11                0.036425  \n",
       "12                0.000001  \n",
       "13                0.000019  \n",
       "14                0.009418  \n",
       "15                0.000560  \n",
       "16                0.007727  "
      ]
     },
     "execution_count": 16,
     "metadata": {},
     "output_type": "execute_result"
    }
   ],
   "source": [
    "df"
   ]
  },
  {
   "cell_type": "code",
   "execution_count": 17,
   "metadata": {},
   "outputs": [
    {
     "data": {
      "text/html": [
       "<div style=\"background-color:rgb(166,206,227);height:20px;width:20px;margin-bottom:0px;display:inline-block;\"></div><div style=\"background-color:rgb(31,120,180);height:20px;width:20px;margin-bottom:0px;display:inline-block;\"></div><div style=\"background-color:rgb(178,223,138);height:20px;width:20px;margin-bottom:0px;display:inline-block;\"></div><div style=\"background-color:rgb(51,160,44);height:20px;width:20px;margin-bottom:0px;display:inline-block;\"></div><div style=\"background-color:rgb(251,154,153);height:20px;width:20px;margin-bottom:0px;display:inline-block;\"></div><div style=\"background-color:rgb(227,26,28);height:20px;width:20px;margin-bottom:0px;display:inline-block;\"></div><div style=\"background-color:rgb(253,191,111);height:20px;width:20px;margin-bottom:0px;display:inline-block;\"></div><div style=\"background-color:rgb(255,127,0);height:20px;width:20px;margin-bottom:0px;display:inline-block;\"></div><div style=\"background-color:rgb(202,178,214);height:20px;width:20px;margin-bottom:0px;display:inline-block;\"></div><div style=\"background-color:rgb(106,61,154);height:20px;width:20px;margin-bottom:0px;display:inline-block;\"></div><div style=\"background-color:rgb(255,255,153);height:20px;width:20px;margin-bottom:0px;display:inline-block;\"></div><div style=\"background-color:rgb(255,237,0);height:20px;width:20px;margin-bottom:0px;display:inline-block;\"></div><div style=\"background-color:rgb(184,255,185);height:20px;width:20px;margin-bottom:0px;display:inline-block;\"></div><div style=\"background-color:rgb(30,221,109);height:20px;width:20px;margin-bottom:0px;display:inline-block;\"></div><div style=\"background-color:rgb(255,210,255);height:20px;width:20px;margin-bottom:0px;display:inline-block;\"></div><div style=\"background-color:rgb(248,114,225);height:20px;width:20px;margin-bottom:0px;display:inline-block;\"></div><div style=\"background-color:rgb(137,231,255);height:20px;width:20px;margin-bottom:0px;display:inline-block;\"></div>"
      ],
      "text/plain": [
       "<IPython.core.display.HTML object>"
      ]
     },
     "execution_count": 17,
     "metadata": {},
     "output_type": "execute_result"
    }
   ],
   "source": [
    "my_colors = ['rgb(255,237,0)',\n",
    "             'rgb(184,255,185)',\n",
    "             'rgb(30,221,109)',\n",
    "             'rgb(255,210,255)',\n",
    "             'rgb(248,114,225)',\n",
    "             'rgb(137,231,255)',\n",
    "             ]\n",
    "colors = cl.scales['11']['qual']['Paired'] + my_colors\n",
    "HTML(cl.to_html( colors ))"
   ]
  },
  {
   "cell_type": "code",
   "execution_count": 18,
   "metadata": {},
   "outputs": [
    {
     "data": {
      "application/vnd.plotly.v1+json": {
       "config": {
        "plotlyServerURL": "https://plot.ly"
       },
       "data": [
        {
         "marker": {
          "color": "rgb(166,206,227)"
         },
         "name": "Direct CO2 emissions",
         "orientation": "h",
         "type": "bar",
         "x": [
          0.9977444870075327,
          0,
          0,
          0,
          0,
          0,
          0,
          0,
          0,
          0,
          0,
          0,
          0,
          0,
          0,
          0
         ],
         "y": [
          "Climate change total",
          "Carcinogenic effects",
          "Ionising radiation",
          "Non-carcinogenic effects",
          "Ozone layer depletion",
          "Photochemical ozone creation",
          "Respiratory effects, inorganics",
          "Freshwater and terrestrial acidification",
          "Freshwater ecotoxicity",
          "Freshwater eutrophication",
          "Marine eutrophication",
          "Terrestrial eutrophication",
          "Dissipated water",
          "Fossil resources",
          "Land use",
          "Minerals and metals"
         ]
        },
        {
         "marker": {
          "color": "rgb(31,120,180)"
         },
         "name": "Gross power per well",
         "orientation": "h",
         "type": "bar",
         "x": [
          0.001134639733136267,
          0.4953957915166087,
          0.4790839808880348,
          0.49209618858421206,
          0.47181149350340906,
          0.4724049159441148,
          0.5250195255476308,
          0.4841272181656231,
          0.47010286321922223,
          0.509211706326565,
          0.46550541734191486,
          0.4674201506504798,
          0.5176005918583767,
          0.4990020933748571,
          0.5166791476288715,
          0.5212642396481578
         ],
         "y": [
          "Climate change total",
          "Carcinogenic effects",
          "Ionising radiation",
          "Non-carcinogenic effects",
          "Ozone layer depletion",
          "Photochemical ozone creation",
          "Respiratory effects, inorganics",
          "Freshwater and terrestrial acidification",
          "Freshwater ecotoxicity",
          "Freshwater eutrophication",
          "Marine eutrophication",
          "Terrestrial eutrophication",
          "Dissipated water",
          "Fossil resources",
          "Land use",
          "Minerals and metals"
         ]
        },
        {
         "marker": {
          "color": "rgb(178,223,138)"
         },
         "name": "Average depth of wells",
         "orientation": "h",
         "type": "bar",
         "x": [
          0.0007041281081992802,
          0.3122181599925091,
          0.34181203061647697,
          0.3219981277264035,
          0.35030886930196864,
          0.349360577946488,
          0.26547177891580703,
          0.33520201667895866,
          0.3632123437027421,
          0.27282500189965336,
          0.356341778680098,
          0.3541217895551683,
          0.2777198594162854,
          0.3186609977808749,
          0.278518850965971,
          0.2441255509064982
         ],
         "y": [
          "Climate change total",
          "Carcinogenic effects",
          "Ionising radiation",
          "Non-carcinogenic effects",
          "Ozone layer depletion",
          "Photochemical ozone creation",
          "Respiratory effects, inorganics",
          "Freshwater and terrestrial acidification",
          "Freshwater ecotoxicity",
          "Freshwater eutrophication",
          "Marine eutrophication",
          "Terrestrial eutrophication",
          "Dissipated water",
          "Fossil resources",
          "Land use",
          "Minerals and metals"
         ]
        },
        {
         "marker": {
          "color": "rgb(51,160,44)"
         },
         "name": "Initial harmonic decline rate",
         "orientation": "h",
         "type": "bar",
         "x": [
          0.0001897102031534554,
          0.08737682864500743,
          0.0765858261799555,
          0.08534654183363506,
          0.07398045341970537,
          0.07434594665075209,
          0.09440700125974322,
          0.07787924855314496,
          0.07702719145167639,
          0.09318203600956346,
          0.07201953077210033,
          0.07266293481220631,
          0.0890206409876726,
          0.08242080678766525,
          0.0922500014402365,
          0.09815499314839006
         ],
         "y": [
          "Climate change total",
          "Carcinogenic effects",
          "Ionising radiation",
          "Non-carcinogenic effects",
          "Ozone layer depletion",
          "Photochemical ozone creation",
          "Respiratory effects, inorganics",
          "Freshwater and terrestrial acidification",
          "Freshwater ecotoxicity",
          "Freshwater eutrophication",
          "Marine eutrophication",
          "Terrestrial eutrophication",
          "Dissipated water",
          "Fossil resources",
          "Land use",
          "Minerals and metals"
         ]
        },
        {
         "marker": {
          "color": "rgb(251,154,153)"
         },
         "name": "Success rate of primary wells",
         "orientation": "h",
         "type": "bar",
         "x": [
          4.6214135067501036e-05,
          0.021823487214607997,
          0.022098347151896663,
          0.02245611281126922,
          0.02249754496907825,
          0.022434275259950943,
          0.018058392737324777,
          0.021656511904243603,
          0.02543701346995864,
          0.018955841905081806,
          0.02274408024304078,
          0.02262829551261158,
          0.01872355450488922,
          0.020918180450336745,
          0.0191227442785187,
          0.01696420563056856
         ],
         "y": [
          "Climate change total",
          "Carcinogenic effects",
          "Ionising radiation",
          "Non-carcinogenic effects",
          "Ozone layer depletion",
          "Photochemical ozone creation",
          "Respiratory effects, inorganics",
          "Freshwater and terrestrial acidification",
          "Freshwater ecotoxicity",
          "Freshwater eutrophication",
          "Marine eutrophication",
          "Terrestrial eutrophication",
          "Dissipated water",
          "Fossil resources",
          "Land use",
          "Minerals and metals"
         ]
        },
        {
         "marker": {
          "color": "rgb(227,26,28)"
         },
         "name": "Lifetime",
         "orientation": "h",
         "type": "bar",
         "x": [
          3.791776757098893e-05,
          0.01596391199050251,
          0.014432432434998605,
          0.0160183345755804,
          0.013726927118404685,
          0.012738096087508876,
          0.01983584158402735,
          0.014675765593042872,
          0.013531931700646614,
          0.022338046548775643,
          0.01219836869692315,
          0.012177823564589952,
          0.025665238646381767,
          0.016610398143347523,
          0.020648463734111368,
          0.028502886948151816
         ],
         "y": [
          "Climate change total",
          "Carcinogenic effects",
          "Ionising radiation",
          "Non-carcinogenic effects",
          "Ozone layer depletion",
          "Photochemical ozone creation",
          "Respiratory effects, inorganics",
          "Freshwater and terrestrial acidification",
          "Freshwater ecotoxicity",
          "Freshwater eutrophication",
          "Marine eutrophication",
          "Terrestrial eutrophication",
          "Dissipated water",
          "Fossil resources",
          "Land use",
          "Minerals and metals"
         ]
        },
        {
         "marker": {
          "color": "rgb(253,191,111)"
         },
         "name": "Collection pipelines length",
         "orientation": "h",
         "type": "bar",
         "x": [
          9.282716425791484e-06,
          0.003985564411322104,
          0.0012518374298372003,
          0.0031634071237233623,
          0.0007330056593948572,
          0.0007727744005775631,
          0.00960460461580129,
          0.0017481032675150392,
          0.0007187952288404094,
          0.00800444919913132,
          0.00041770002784211166,
          0.0005188627396519392,
          0.007838045694251767,
          0.003298878803148398,
          0.008300344265329553,
          0.009803126238027836
         ],
         "y": [
          "Climate change total",
          "Carcinogenic effects",
          "Ionising radiation",
          "Non-carcinogenic effects",
          "Ozone layer depletion",
          "Photochemical ozone creation",
          "Respiratory effects, inorganics",
          "Freshwater and terrestrial acidification",
          "Freshwater ecotoxicity",
          "Freshwater eutrophication",
          "Marine eutrophication",
          "Terrestrial eutrophication",
          "Dissipated water",
          "Fossil resources",
          "Land use",
          "Minerals and metals"
         ]
        },
        {
         "marker": {
          "color": "rgb(255,127,0)"
         },
         "name": "Installed capacity",
         "orientation": "h",
         "type": "bar",
         "x": [
          5.033408337940102e-05,
          0.02485447454308018,
          0.02109606167553192,
          0.024794204383919164,
          0.020658776894058116,
          0.02063476084334983,
          0.023293726724547863,
          0.021024933121803722,
          0.024847905988756254,
          0.024198546207596264,
          0.020213733545356005,
          0.020278168437781238,
          0.02316247234438937,
          0.02214961927159045,
          0.023801632956979377,
          0.023809988648610572
         ],
         "y": [
          "Climate change total",
          "Carcinogenic effects",
          "Ionising radiation",
          "Non-carcinogenic effects",
          "Ozone layer depletion",
          "Photochemical ozone creation",
          "Respiratory effects, inorganics",
          "Freshwater and terrestrial acidification",
          "Freshwater ecotoxicity",
          "Freshwater eutrophication",
          "Marine eutrophication",
          "Terrestrial eutrophication",
          "Dissipated water",
          "Fossil resources",
          "Land use",
          "Minerals and metals"
         ]
        },
        {
         "marker": {
          "color": "rgb(202,178,214)"
         },
         "name": "Capacity factor",
         "orientation": "h",
         "type": "bar",
         "x": [
          6.034032547317791e-06,
          0.00252224480308555,
          0.0025294777941420386,
          0.002544933817867124,
          0.0024885832627191853,
          0.0024231324793220163,
          0.0027847183721642407,
          0.0025493290749340016,
          0.00242083700698942,
          0.0028434387186972846,
          0.002390209145117399,
          0.002388766363291433,
          0.003125220122109246,
          0.002661329357902948,
          0.0028271002237142766,
          0.0031515778722883943
         ],
         "y": [
          "Climate change total",
          "Carcinogenic effects",
          "Ionising radiation",
          "Non-carcinogenic effects",
          "Ozone layer depletion",
          "Photochemical ozone creation",
          "Respiratory effects, inorganics",
          "Freshwater and terrestrial acidification",
          "Freshwater ecotoxicity",
          "Freshwater eutrophication",
          "Marine eutrophication",
          "Terrestrial eutrophication",
          "Dissipated water",
          "Fossil resources",
          "Land use",
          "Minerals and metals"
         ]
        },
        {
         "marker": {
          "color": "rgb(106,61,154)"
         },
         "name": "Auxiliary power",
         "orientation": "h",
         "type": "bar",
         "x": [
          1.1872171670722727e-07,
          5.145477509434142e-05,
          4.861121826685765e-05,
          5.184836984121291e-05,
          4.744817592109881e-05,
          4.5958190200375655e-05,
          5.6213713887136375e-05,
          4.910183566127486e-05,
          4.9209216689762524e-05,
          5.8604731239053795e-05,
          4.5034580938997614e-05,
          4.507794730738768e-05,
          6.238524958232892e-05,
          5.170595892376558e-05,
          5.767000043969209e-05,
          6.540432217335031e-05
         ],
         "y": [
          "Climate change total",
          "Carcinogenic effects",
          "Ionising radiation",
          "Non-carcinogenic effects",
          "Ozone layer depletion",
          "Photochemical ozone creation",
          "Respiratory effects, inorganics",
          "Freshwater and terrestrial acidification",
          "Freshwater ecotoxicity",
          "Freshwater eutrophication",
          "Marine eutrophication",
          "Terrestrial eutrophication",
          "Dissipated water",
          "Fossil resources",
          "Land use",
          "Minerals and metals"
         ]
        },
        {
         "marker": {
          "color": "rgb(255,255,153)"
         },
         "name": "Specific diesel consumption",
         "orientation": "h",
         "type": "bar",
         "x": [
          1.7138389777986316e-05,
          3.996795604754611e-07,
          0.018812650882433314,
          1.029784837513476e-05,
          0.022688055962153213,
          0.023589911224369906,
          0.0009428756215544145,
          0.018884608927401948,
          3.1584587090796947e-06,
          6.937506631077952e-06,
          0.02771041935194889,
          0.027235637691219627,
          5.911618589368252e-05,
          0.007681745269584797,
          0.00022813306700433239,
          6.6742286894911256e-06
         ],
         "y": [
          "Climate change total",
          "Carcinogenic effects",
          "Ionising radiation",
          "Non-carcinogenic effects",
          "Ozone layer depletion",
          "Photochemical ozone creation",
          "Respiratory effects, inorganics",
          "Freshwater and terrestrial acidification",
          "Freshwater ecotoxicity",
          "Freshwater eutrophication",
          "Marine eutrophication",
          "Terrestrial eutrophication",
          "Dissipated water",
          "Fossil resources",
          "Land use",
          "Minerals and metals"
         ]
        },
        {
         "marker": {
          "color": "rgb(255,237,0)"
         },
         "name": "Specific steel consumption",
         "orientation": "h",
         "type": "bar",
         "x": [
          1.630933600141198e-05,
          0.01669312453584672,
          0.002664000333491647,
          0.01225271349742605,
          0.0013993223631479958,
          0.0015987165330389238,
          0.022202498481589655,
          0.0027363968662704936,
          0.0027872005455017,
          0.030066569599021303,
          0.0007289773382728062,
          0.0008621819065790316,
          0.016084124185716638,
          0.006847511097151136,
          0.01903979627533647,
          0.03642502808516432
         ],
         "y": [
          "Climate change total",
          "Carcinogenic effects",
          "Ionising radiation",
          "Non-carcinogenic effects",
          "Ozone layer depletion",
          "Photochemical ozone creation",
          "Respiratory effects, inorganics",
          "Freshwater and terrestrial acidification",
          "Freshwater ecotoxicity",
          "Freshwater eutrophication",
          "Marine eutrophication",
          "Terrestrial eutrophication",
          "Dissipated water",
          "Fossil resources",
          "Land use",
          "Minerals and metals"
         ]
        },
        {
         "marker": {
          "color": "rgb(184,255,185)"
         },
         "name": "Specific cement consumption",
         "orientation": "h",
         "type": "bar",
         "x": [
          5.396076253259278e-07,
          3.0141578601916704e-08,
          2.0169880669554984e-05,
          1.598949083980975e-06,
          1.6129532016978585e-05,
          8.644397462290728e-06,
          3.4411039473661136e-05,
          1.938747994295727e-05,
          9.954906509031396e-08,
          2.613591602648451e-06,
          9.453598709729066e-06,
          1.0484411405310074e-05,
          4.097037983453155e-05,
          2.7624090029759193e-05,
          4.300282490996784e-05,
          1.1849413885617004e-06
         ],
         "y": [
          "Climate change total",
          "Carcinogenic effects",
          "Ionising radiation",
          "Non-carcinogenic effects",
          "Ozone layer depletion",
          "Photochemical ozone creation",
          "Respiratory effects, inorganics",
          "Freshwater and terrestrial acidification",
          "Freshwater ecotoxicity",
          "Freshwater eutrophication",
          "Marine eutrophication",
          "Terrestrial eutrophication",
          "Dissipated water",
          "Fossil resources",
          "Land use",
          "Minerals and metals"
         ]
        },
        {
         "marker": {
          "color": "rgb(30,221,109)"
         },
         "name": "Specific drilling mud consumption",
         "orientation": "h",
         "type": "bar",
         "x": [
          2.517893707853457e-07,
          3.428280260258584e-07,
          3.5014122701209e-05,
          5.022478076397944e-06,
          4.152389442521733e-05,
          2.28501376568213e-05,
          9.795507072736318e-05,
          2.9981205158874315e-05,
          1.34198528595774e-06,
          2.942735281263491e-05,
          1.6323548384130866e-05,
          8.312655890420873e-06,
          0.002839533004400798,
          0.0005300183046891251,
          9.310058593416986e-05,
          1.9447967884218033e-05
         ],
         "y": [
          "Climate change total",
          "Carcinogenic effects",
          "Ionising radiation",
          "Non-carcinogenic effects",
          "Ozone layer depletion",
          "Photochemical ozone creation",
          "Respiratory effects, inorganics",
          "Freshwater and terrestrial acidification",
          "Freshwater ecotoxicity",
          "Freshwater eutrophication",
          "Marine eutrophication",
          "Terrestrial eutrophication",
          "Dissipated water",
          "Fossil resources",
          "Land use",
          "Minerals and metals"
         ]
        },
        {
         "marker": {
          "color": "rgb(255,210,255)"
         },
         "name": "Production to injection ratio",
         "orientation": "h",
         "type": "bar",
         "x": [
          1.9781653327118566e-05,
          0.008818263459881568,
          0.008374016974294102,
          0.008704708002772935,
          0.008205433472504917,
          0.008244202327587822,
          0.009290352861737832,
          0.00847298443441072,
          0.00818958865586454,
          0.009100454158833093,
          0.00809496115369473,
          0.008146482070599564,
          0.008698366332281398,
          0.008615665425836097,
          0.009121291115462452,
          0.009418322453612522
         ],
         "y": [
          "Climate change total",
          "Carcinogenic effects",
          "Ionising radiation",
          "Non-carcinogenic effects",
          "Ozone layer depletion",
          "Photochemical ozone creation",
          "Respiratory effects, inorganics",
          "Freshwater and terrestrial acidification",
          "Freshwater ecotoxicity",
          "Freshwater eutrophication",
          "Marine eutrophication",
          "Terrestrial eutrophication",
          "Dissipated water",
          "Fossil resources",
          "Land use",
          "Minerals and metals"
         ]
        },
        {
         "marker": {
          "color": "rgb(248,114,225)"
         },
         "name": "Success rate of exploration wells",
         "orientation": "h",
         "type": "bar",
         "x": [
          1.2535659217936844e-06,
          0.0006241442313673179,
          0.0005767553606595129,
          0.0006196917971440604,
          0.0005739316181084164,
          0.0005767196770930047,
          0.0005514190729466745,
          0.0005669934796973077,
          0.0006281060991653591,
          0.0005958065569030767,
          0.0005726663054165187,
          0.0005722981429908154,
          0.0005322811365867799,
          0.000566988896543329,
          0.00056353240538162,
          0.0005603374305788547
         ],
         "y": [
          "Climate change total",
          "Carcinogenic effects",
          "Ionising radiation",
          "Non-carcinogenic effects",
          "Ozone layer depletion",
          "Photochemical ozone creation",
          "Respiratory effects, inorganics",
          "Freshwater and terrestrial acidification",
          "Freshwater ecotoxicity",
          "Freshwater eutrophication",
          "Marine eutrophication",
          "Terrestrial eutrophication",
          "Dissipated water",
          "Fossil resources",
          "Land use",
          "Minerals and metals"
         ]
        },
        {
         "marker": {
          "color": "rgb(137,231,255)"
         },
         "name": "Success rate of makeup wells",
         "orientation": "h",
         "type": "bar",
         "x": [
          2.18591492460053e-05,
          0.009671777231921216,
          0.01057878705661028,
          0.009936268200670412,
          0.010822500852983693,
          0.010798517900526411,
          0.008348684381036687,
          0.010377419412190397,
          0.01104241372088682,
          0.008580519687893,
          0.010991345670241586,
          0.010922733538227095,
          0.008827599951347638,
          0.00995643698751886,
          0.008705188231799105,
          0.007727031529815463
         ],
         "y": [
          "Climate change total",
          "Carcinogenic effects",
          "Ionising radiation",
          "Non-carcinogenic effects",
          "Ozone layer depletion",
          "Photochemical ozone creation",
          "Respiratory effects, inorganics",
          "Freshwater and terrestrial acidification",
          "Freshwater ecotoxicity",
          "Freshwater eutrophication",
          "Marine eutrophication",
          "Terrestrial eutrophication",
          "Dissipated water",
          "Fossil resources",
          "Land use",
          "Minerals and metals"
         ]
        }
       ],
       "layout": {
        "barmode": "stack",
        "font": {
         "color": "black",
         "family": "Arial",
         "size": 10
        },
        "height": 350,
        "legend": {
         "traceorder": "normal"
        },
        "margin": {
         "b": 0,
         "l": 0,
         "r": 0,
         "t": 0
        },
        "template": {
         "data": {
          "bar": [
           {
            "error_x": {
             "color": "#2a3f5f"
            },
            "error_y": {
             "color": "#2a3f5f"
            },
            "marker": {
             "line": {
              "color": "#E5ECF6",
              "width": 0.5
             }
            },
            "type": "bar"
           }
          ],
          "barpolar": [
           {
            "marker": {
             "line": {
              "color": "#E5ECF6",
              "width": 0.5
             }
            },
            "type": "barpolar"
           }
          ],
          "carpet": [
           {
            "aaxis": {
             "endlinecolor": "#2a3f5f",
             "gridcolor": "white",
             "linecolor": "white",
             "minorgridcolor": "white",
             "startlinecolor": "#2a3f5f"
            },
            "baxis": {
             "endlinecolor": "#2a3f5f",
             "gridcolor": "white",
             "linecolor": "white",
             "minorgridcolor": "white",
             "startlinecolor": "#2a3f5f"
            },
            "type": "carpet"
           }
          ],
          "choropleth": [
           {
            "colorbar": {
             "outlinewidth": 0,
             "ticks": ""
            },
            "type": "choropleth"
           }
          ],
          "contour": [
           {
            "colorbar": {
             "outlinewidth": 0,
             "ticks": ""
            },
            "colorscale": [
             [
              0,
              "#0d0887"
             ],
             [
              0.1111111111111111,
              "#46039f"
             ],
             [
              0.2222222222222222,
              "#7201a8"
             ],
             [
              0.3333333333333333,
              "#9c179e"
             ],
             [
              0.4444444444444444,
              "#bd3786"
             ],
             [
              0.5555555555555556,
              "#d8576b"
             ],
             [
              0.6666666666666666,
              "#ed7953"
             ],
             [
              0.7777777777777778,
              "#fb9f3a"
             ],
             [
              0.8888888888888888,
              "#fdca26"
             ],
             [
              1,
              "#f0f921"
             ]
            ],
            "type": "contour"
           }
          ],
          "contourcarpet": [
           {
            "colorbar": {
             "outlinewidth": 0,
             "ticks": ""
            },
            "type": "contourcarpet"
           }
          ],
          "heatmap": [
           {
            "colorbar": {
             "outlinewidth": 0,
             "ticks": ""
            },
            "colorscale": [
             [
              0,
              "#0d0887"
             ],
             [
              0.1111111111111111,
              "#46039f"
             ],
             [
              0.2222222222222222,
              "#7201a8"
             ],
             [
              0.3333333333333333,
              "#9c179e"
             ],
             [
              0.4444444444444444,
              "#bd3786"
             ],
             [
              0.5555555555555556,
              "#d8576b"
             ],
             [
              0.6666666666666666,
              "#ed7953"
             ],
             [
              0.7777777777777778,
              "#fb9f3a"
             ],
             [
              0.8888888888888888,
              "#fdca26"
             ],
             [
              1,
              "#f0f921"
             ]
            ],
            "type": "heatmap"
           }
          ],
          "heatmapgl": [
           {
            "colorbar": {
             "outlinewidth": 0,
             "ticks": ""
            },
            "colorscale": [
             [
              0,
              "#0d0887"
             ],
             [
              0.1111111111111111,
              "#46039f"
             ],
             [
              0.2222222222222222,
              "#7201a8"
             ],
             [
              0.3333333333333333,
              "#9c179e"
             ],
             [
              0.4444444444444444,
              "#bd3786"
             ],
             [
              0.5555555555555556,
              "#d8576b"
             ],
             [
              0.6666666666666666,
              "#ed7953"
             ],
             [
              0.7777777777777778,
              "#fb9f3a"
             ],
             [
              0.8888888888888888,
              "#fdca26"
             ],
             [
              1,
              "#f0f921"
             ]
            ],
            "type": "heatmapgl"
           }
          ],
          "histogram": [
           {
            "marker": {
             "colorbar": {
              "outlinewidth": 0,
              "ticks": ""
             }
            },
            "type": "histogram"
           }
          ],
          "histogram2d": [
           {
            "colorbar": {
             "outlinewidth": 0,
             "ticks": ""
            },
            "colorscale": [
             [
              0,
              "#0d0887"
             ],
             [
              0.1111111111111111,
              "#46039f"
             ],
             [
              0.2222222222222222,
              "#7201a8"
             ],
             [
              0.3333333333333333,
              "#9c179e"
             ],
             [
              0.4444444444444444,
              "#bd3786"
             ],
             [
              0.5555555555555556,
              "#d8576b"
             ],
             [
              0.6666666666666666,
              "#ed7953"
             ],
             [
              0.7777777777777778,
              "#fb9f3a"
             ],
             [
              0.8888888888888888,
              "#fdca26"
             ],
             [
              1,
              "#f0f921"
             ]
            ],
            "type": "histogram2d"
           }
          ],
          "histogram2dcontour": [
           {
            "colorbar": {
             "outlinewidth": 0,
             "ticks": ""
            },
            "colorscale": [
             [
              0,
              "#0d0887"
             ],
             [
              0.1111111111111111,
              "#46039f"
             ],
             [
              0.2222222222222222,
              "#7201a8"
             ],
             [
              0.3333333333333333,
              "#9c179e"
             ],
             [
              0.4444444444444444,
              "#bd3786"
             ],
             [
              0.5555555555555556,
              "#d8576b"
             ],
             [
              0.6666666666666666,
              "#ed7953"
             ],
             [
              0.7777777777777778,
              "#fb9f3a"
             ],
             [
              0.8888888888888888,
              "#fdca26"
             ],
             [
              1,
              "#f0f921"
             ]
            ],
            "type": "histogram2dcontour"
           }
          ],
          "mesh3d": [
           {
            "colorbar": {
             "outlinewidth": 0,
             "ticks": ""
            },
            "type": "mesh3d"
           }
          ],
          "parcoords": [
           {
            "line": {
             "colorbar": {
              "outlinewidth": 0,
              "ticks": ""
             }
            },
            "type": "parcoords"
           }
          ],
          "scatter": [
           {
            "marker": {
             "colorbar": {
              "outlinewidth": 0,
              "ticks": ""
             }
            },
            "type": "scatter"
           }
          ],
          "scatter3d": [
           {
            "line": {
             "colorbar": {
              "outlinewidth": 0,
              "ticks": ""
             }
            },
            "marker": {
             "colorbar": {
              "outlinewidth": 0,
              "ticks": ""
             }
            },
            "type": "scatter3d"
           }
          ],
          "scattercarpet": [
           {
            "marker": {
             "colorbar": {
              "outlinewidth": 0,
              "ticks": ""
             }
            },
            "type": "scattercarpet"
           }
          ],
          "scattergeo": [
           {
            "marker": {
             "colorbar": {
              "outlinewidth": 0,
              "ticks": ""
             }
            },
            "type": "scattergeo"
           }
          ],
          "scattergl": [
           {
            "marker": {
             "colorbar": {
              "outlinewidth": 0,
              "ticks": ""
             }
            },
            "type": "scattergl"
           }
          ],
          "scattermapbox": [
           {
            "marker": {
             "colorbar": {
              "outlinewidth": 0,
              "ticks": ""
             }
            },
            "type": "scattermapbox"
           }
          ],
          "scatterpolar": [
           {
            "marker": {
             "colorbar": {
              "outlinewidth": 0,
              "ticks": ""
             }
            },
            "type": "scatterpolar"
           }
          ],
          "scatterpolargl": [
           {
            "marker": {
             "colorbar": {
              "outlinewidth": 0,
              "ticks": ""
             }
            },
            "type": "scatterpolargl"
           }
          ],
          "scatterternary": [
           {
            "marker": {
             "colorbar": {
              "outlinewidth": 0,
              "ticks": ""
             }
            },
            "type": "scatterternary"
           }
          ],
          "surface": [
           {
            "colorbar": {
             "outlinewidth": 0,
             "ticks": ""
            },
            "colorscale": [
             [
              0,
              "#0d0887"
             ],
             [
              0.1111111111111111,
              "#46039f"
             ],
             [
              0.2222222222222222,
              "#7201a8"
             ],
             [
              0.3333333333333333,
              "#9c179e"
             ],
             [
              0.4444444444444444,
              "#bd3786"
             ],
             [
              0.5555555555555556,
              "#d8576b"
             ],
             [
              0.6666666666666666,
              "#ed7953"
             ],
             [
              0.7777777777777778,
              "#fb9f3a"
             ],
             [
              0.8888888888888888,
              "#fdca26"
             ],
             [
              1,
              "#f0f921"
             ]
            ],
            "type": "surface"
           }
          ],
          "table": [
           {
            "cells": {
             "fill": {
              "color": "#EBF0F8"
             },
             "line": {
              "color": "white"
             }
            },
            "header": {
             "fill": {
              "color": "#C8D4E3"
             },
             "line": {
              "color": "white"
             }
            },
            "type": "table"
           }
          ]
         },
         "layout": {
          "annotationdefaults": {
           "arrowcolor": "#2a3f5f",
           "arrowhead": 0,
           "arrowwidth": 1
          },
          "colorscale": {
           "diverging": [
            [
             0,
             "#8e0152"
            ],
            [
             0.1,
             "#c51b7d"
            ],
            [
             0.2,
             "#de77ae"
            ],
            [
             0.3,
             "#f1b6da"
            ],
            [
             0.4,
             "#fde0ef"
            ],
            [
             0.5,
             "#f7f7f7"
            ],
            [
             0.6,
             "#e6f5d0"
            ],
            [
             0.7,
             "#b8e186"
            ],
            [
             0.8,
             "#7fbc41"
            ],
            [
             0.9,
             "#4d9221"
            ],
            [
             1,
             "#276419"
            ]
           ],
           "sequential": [
            [
             0,
             "#0d0887"
            ],
            [
             0.1111111111111111,
             "#46039f"
            ],
            [
             0.2222222222222222,
             "#7201a8"
            ],
            [
             0.3333333333333333,
             "#9c179e"
            ],
            [
             0.4444444444444444,
             "#bd3786"
            ],
            [
             0.5555555555555556,
             "#d8576b"
            ],
            [
             0.6666666666666666,
             "#ed7953"
            ],
            [
             0.7777777777777778,
             "#fb9f3a"
            ],
            [
             0.8888888888888888,
             "#fdca26"
            ],
            [
             1,
             "#f0f921"
            ]
           ],
           "sequentialminus": [
            [
             0,
             "#0d0887"
            ],
            [
             0.1111111111111111,
             "#46039f"
            ],
            [
             0.2222222222222222,
             "#7201a8"
            ],
            [
             0.3333333333333333,
             "#9c179e"
            ],
            [
             0.4444444444444444,
             "#bd3786"
            ],
            [
             0.5555555555555556,
             "#d8576b"
            ],
            [
             0.6666666666666666,
             "#ed7953"
            ],
            [
             0.7777777777777778,
             "#fb9f3a"
            ],
            [
             0.8888888888888888,
             "#fdca26"
            ],
            [
             1,
             "#f0f921"
            ]
           ]
          },
          "colorway": [
           "#636efa",
           "#EF553B",
           "#00cc96",
           "#ab63fa",
           "#FFA15A",
           "#19d3f3",
           "#FF6692",
           "#B6E880",
           "#FF97FF",
           "#FECB52"
          ],
          "font": {
           "color": "#2a3f5f"
          },
          "geo": {
           "bgcolor": "white",
           "lakecolor": "white",
           "landcolor": "#E5ECF6",
           "showlakes": true,
           "showland": true,
           "subunitcolor": "white"
          },
          "hoverlabel": {
           "align": "left"
          },
          "hovermode": "closest",
          "mapbox": {
           "style": "light"
          },
          "paper_bgcolor": "white",
          "plot_bgcolor": "#E5ECF6",
          "polar": {
           "angularaxis": {
            "gridcolor": "white",
            "linecolor": "white",
            "ticks": ""
           },
           "bgcolor": "#E5ECF6",
           "radialaxis": {
            "gridcolor": "white",
            "linecolor": "white",
            "ticks": ""
           }
          },
          "scene": {
           "xaxis": {
            "backgroundcolor": "#E5ECF6",
            "gridcolor": "white",
            "gridwidth": 2,
            "linecolor": "white",
            "showbackground": true,
            "ticks": "",
            "zerolinecolor": "white"
           },
           "yaxis": {
            "backgroundcolor": "#E5ECF6",
            "gridcolor": "white",
            "gridwidth": 2,
            "linecolor": "white",
            "showbackground": true,
            "ticks": "",
            "zerolinecolor": "white"
           },
           "zaxis": {
            "backgroundcolor": "#E5ECF6",
            "gridcolor": "white",
            "gridwidth": 2,
            "linecolor": "white",
            "showbackground": true,
            "ticks": "",
            "zerolinecolor": "white"
           }
          },
          "shapedefaults": {
           "line": {
            "color": "#2a3f5f"
           }
          },
          "ternary": {
           "aaxis": {
            "gridcolor": "white",
            "linecolor": "white",
            "ticks": ""
           },
           "baxis": {
            "gridcolor": "white",
            "linecolor": "white",
            "ticks": ""
           },
           "bgcolor": "#E5ECF6",
           "caxis": {
            "gridcolor": "white",
            "linecolor": "white",
            "ticks": ""
           }
          },
          "title": {
           "x": 0.05
          },
          "xaxis": {
           "automargin": true,
           "gridcolor": "white",
           "linecolor": "white",
           "ticks": "",
           "zerolinecolor": "white",
           "zerolinewidth": 2
          },
          "yaxis": {
           "automargin": true,
           "gridcolor": "white",
           "linecolor": "white",
           "ticks": "",
           "zerolinecolor": "white",
           "zerolinewidth": 2
          }
         }
        },
        "width": 630,
        "xaxis": {
         "range": [
          0,
          1
         ],
         "tickmode": "array",
         "ticktext": [
          0,
          0.2,
          0.4,
          0.6,
          0.8,
          1
         ],
         "tickvals": [
          0,
          0.2,
          0.4,
          0.6,
          0.8,
          1
         ]
        },
        "yaxis": {
         "autorange": "reversed"
        }
       }
      },
      "text/html": [
       "<div>\n",
       "        \n",
       "        \n",
       "            <div id=\"e4fab976-2202-426e-a849-c9ff575b1983\" class=\"plotly-graph-div\" style=\"height:350px; width:630px;\"></div>\n",
       "            <script type=\"text/javascript\">\n",
       "                require([\"plotly\"], function(Plotly) {\n",
       "                    window.PLOTLYENV=window.PLOTLYENV || {};\n",
       "                    \n",
       "                if (document.getElementById(\"e4fab976-2202-426e-a849-c9ff575b1983\")) {\n",
       "                    Plotly.newPlot(\n",
       "                        'e4fab976-2202-426e-a849-c9ff575b1983',\n",
       "                        [{\"marker\": {\"color\": \"rgb(166,206,227)\"}, \"name\": \"Direct CO2 emissions\", \"orientation\": \"h\", \"type\": \"bar\", \"x\": [0.9977444870075327, 0.0, 0.0, 0.0, 0.0, 0.0, 0.0, 0.0, 0.0, 0.0, 0.0, 0.0, 0.0, 0.0, 0.0, 0.0], \"y\": [\"Climate change total\", \"Carcinogenic effects\", \"Ionising radiation\", \"Non-carcinogenic effects\", \"Ozone layer depletion\", \"Photochemical ozone creation\", \"Respiratory effects, inorganics\", \"Freshwater and terrestrial acidification\", \"Freshwater ecotoxicity\", \"Freshwater eutrophication\", \"Marine eutrophication\", \"Terrestrial eutrophication\", \"Dissipated water\", \"Fossil resources\", \"Land use\", \"Minerals and metals\"]}, {\"marker\": {\"color\": \"rgb(31,120,180)\"}, \"name\": \"Gross power per well\", \"orientation\": \"h\", \"type\": \"bar\", \"x\": [0.001134639733136267, 0.4953957915166087, 0.4790839808880348, 0.49209618858421206, 0.47181149350340906, 0.4724049159441148, 0.5250195255476308, 0.4841272181656231, 0.47010286321922223, 0.509211706326565, 0.46550541734191486, 0.4674201506504798, 0.5176005918583767, 0.4990020933748571, 0.5166791476288715, 0.5212642396481578], \"y\": [\"Climate change total\", \"Carcinogenic effects\", \"Ionising radiation\", \"Non-carcinogenic effects\", \"Ozone layer depletion\", \"Photochemical ozone creation\", \"Respiratory effects, inorganics\", \"Freshwater and terrestrial acidification\", \"Freshwater ecotoxicity\", \"Freshwater eutrophication\", \"Marine eutrophication\", \"Terrestrial eutrophication\", \"Dissipated water\", \"Fossil resources\", \"Land use\", \"Minerals and metals\"]}, {\"marker\": {\"color\": \"rgb(178,223,138)\"}, \"name\": \"Average depth of wells\", \"orientation\": \"h\", \"type\": \"bar\", \"x\": [0.0007041281081992802, 0.3122181599925091, 0.34181203061647697, 0.3219981277264035, 0.35030886930196864, 0.349360577946488, 0.26547177891580703, 0.33520201667895866, 0.3632123437027421, 0.27282500189965336, 0.356341778680098, 0.3541217895551683, 0.2777198594162854, 0.3186609977808749, 0.278518850965971, 0.2441255509064982], \"y\": [\"Climate change total\", \"Carcinogenic effects\", \"Ionising radiation\", \"Non-carcinogenic effects\", \"Ozone layer depletion\", \"Photochemical ozone creation\", \"Respiratory effects, inorganics\", \"Freshwater and terrestrial acidification\", \"Freshwater ecotoxicity\", \"Freshwater eutrophication\", \"Marine eutrophication\", \"Terrestrial eutrophication\", \"Dissipated water\", \"Fossil resources\", \"Land use\", \"Minerals and metals\"]}, {\"marker\": {\"color\": \"rgb(51,160,44)\"}, \"name\": \"Initial harmonic decline rate\", \"orientation\": \"h\", \"type\": \"bar\", \"x\": [0.0001897102031534554, 0.08737682864500743, 0.0765858261799555, 0.08534654183363506, 0.07398045341970537, 0.07434594665075209, 0.09440700125974322, 0.07787924855314496, 0.07702719145167639, 0.09318203600956346, 0.07201953077210033, 0.07266293481220631, 0.0890206409876726, 0.08242080678766525, 0.0922500014402365, 0.09815499314839006], \"y\": [\"Climate change total\", \"Carcinogenic effects\", \"Ionising radiation\", \"Non-carcinogenic effects\", \"Ozone layer depletion\", \"Photochemical ozone creation\", \"Respiratory effects, inorganics\", \"Freshwater and terrestrial acidification\", \"Freshwater ecotoxicity\", \"Freshwater eutrophication\", \"Marine eutrophication\", \"Terrestrial eutrophication\", \"Dissipated water\", \"Fossil resources\", \"Land use\", \"Minerals and metals\"]}, {\"marker\": {\"color\": \"rgb(251,154,153)\"}, \"name\": \"Success rate of primary wells\", \"orientation\": \"h\", \"type\": \"bar\", \"x\": [4.6214135067501036e-05, 0.021823487214607997, 0.022098347151896663, 0.02245611281126922, 0.02249754496907825, 0.022434275259950943, 0.018058392737324777, 0.021656511904243603, 0.02543701346995864, 0.018955841905081806, 0.02274408024304078, 0.02262829551261158, 0.01872355450488922, 0.020918180450336745, 0.0191227442785187, 0.01696420563056856], \"y\": [\"Climate change total\", \"Carcinogenic effects\", \"Ionising radiation\", \"Non-carcinogenic effects\", \"Ozone layer depletion\", \"Photochemical ozone creation\", \"Respiratory effects, inorganics\", \"Freshwater and terrestrial acidification\", \"Freshwater ecotoxicity\", \"Freshwater eutrophication\", \"Marine eutrophication\", \"Terrestrial eutrophication\", \"Dissipated water\", \"Fossil resources\", \"Land use\", \"Minerals and metals\"]}, {\"marker\": {\"color\": \"rgb(227,26,28)\"}, \"name\": \"Lifetime\", \"orientation\": \"h\", \"type\": \"bar\", \"x\": [3.791776757098893e-05, 0.01596391199050251, 0.014432432434998605, 0.0160183345755804, 0.013726927118404685, 0.012738096087508876, 0.01983584158402735, 0.014675765593042872, 0.013531931700646614, 0.022338046548775643, 0.01219836869692315, 0.012177823564589952, 0.025665238646381767, 0.016610398143347523, 0.020648463734111368, 0.028502886948151816], \"y\": [\"Climate change total\", \"Carcinogenic effects\", \"Ionising radiation\", \"Non-carcinogenic effects\", \"Ozone layer depletion\", \"Photochemical ozone creation\", \"Respiratory effects, inorganics\", \"Freshwater and terrestrial acidification\", \"Freshwater ecotoxicity\", \"Freshwater eutrophication\", \"Marine eutrophication\", \"Terrestrial eutrophication\", \"Dissipated water\", \"Fossil resources\", \"Land use\", \"Minerals and metals\"]}, {\"marker\": {\"color\": \"rgb(253,191,111)\"}, \"name\": \"Collection pipelines length\", \"orientation\": \"h\", \"type\": \"bar\", \"x\": [9.282716425791484e-06, 0.003985564411322104, 0.0012518374298372003, 0.0031634071237233623, 0.0007330056593948572, 0.0007727744005775631, 0.00960460461580129, 0.0017481032675150392, 0.0007187952288404094, 0.00800444919913132, 0.00041770002784211166, 0.0005188627396519392, 0.007838045694251767, 0.003298878803148398, 0.008300344265329553, 0.009803126238027836], \"y\": [\"Climate change total\", \"Carcinogenic effects\", \"Ionising radiation\", \"Non-carcinogenic effects\", \"Ozone layer depletion\", \"Photochemical ozone creation\", \"Respiratory effects, inorganics\", \"Freshwater and terrestrial acidification\", \"Freshwater ecotoxicity\", \"Freshwater eutrophication\", \"Marine eutrophication\", \"Terrestrial eutrophication\", \"Dissipated water\", \"Fossil resources\", \"Land use\", \"Minerals and metals\"]}, {\"marker\": {\"color\": \"rgb(255,127,0)\"}, \"name\": \"Installed capacity\", \"orientation\": \"h\", \"type\": \"bar\", \"x\": [5.033408337940102e-05, 0.02485447454308018, 0.02109606167553192, 0.024794204383919164, 0.020658776894058116, 0.02063476084334983, 0.023293726724547863, 0.021024933121803722, 0.024847905988756254, 0.024198546207596264, 0.020213733545356005, 0.020278168437781238, 0.02316247234438937, 0.02214961927159045, 0.023801632956979377, 0.023809988648610572], \"y\": [\"Climate change total\", \"Carcinogenic effects\", \"Ionising radiation\", \"Non-carcinogenic effects\", \"Ozone layer depletion\", \"Photochemical ozone creation\", \"Respiratory effects, inorganics\", \"Freshwater and terrestrial acidification\", \"Freshwater ecotoxicity\", \"Freshwater eutrophication\", \"Marine eutrophication\", \"Terrestrial eutrophication\", \"Dissipated water\", \"Fossil resources\", \"Land use\", \"Minerals and metals\"]}, {\"marker\": {\"color\": \"rgb(202,178,214)\"}, \"name\": \"Capacity factor\", \"orientation\": \"h\", \"type\": \"bar\", \"x\": [6.034032547317791e-06, 0.00252224480308555, 0.0025294777941420386, 0.002544933817867124, 0.0024885832627191853, 0.0024231324793220163, 0.0027847183721642407, 0.0025493290749340016, 0.00242083700698942, 0.0028434387186972846, 0.002390209145117399, 0.002388766363291433, 0.003125220122109246, 0.002661329357902948, 0.0028271002237142766, 0.0031515778722883943], \"y\": [\"Climate change total\", \"Carcinogenic effects\", \"Ionising radiation\", \"Non-carcinogenic effects\", \"Ozone layer depletion\", \"Photochemical ozone creation\", \"Respiratory effects, inorganics\", \"Freshwater and terrestrial acidification\", \"Freshwater ecotoxicity\", \"Freshwater eutrophication\", \"Marine eutrophication\", \"Terrestrial eutrophication\", \"Dissipated water\", \"Fossil resources\", \"Land use\", \"Minerals and metals\"]}, {\"marker\": {\"color\": \"rgb(106,61,154)\"}, \"name\": \"Auxiliary power\", \"orientation\": \"h\", \"type\": \"bar\", \"x\": [1.1872171670722727e-07, 5.145477509434142e-05, 4.861121826685765e-05, 5.184836984121291e-05, 4.744817592109881e-05, 4.5958190200375655e-05, 5.6213713887136375e-05, 4.910183566127486e-05, 4.9209216689762524e-05, 5.8604731239053795e-05, 4.5034580938997614e-05, 4.507794730738768e-05, 6.238524958232892e-05, 5.170595892376558e-05, 5.767000043969209e-05, 6.540432217335031e-05], \"y\": [\"Climate change total\", \"Carcinogenic effects\", \"Ionising radiation\", \"Non-carcinogenic effects\", \"Ozone layer depletion\", \"Photochemical ozone creation\", \"Respiratory effects, inorganics\", \"Freshwater and terrestrial acidification\", \"Freshwater ecotoxicity\", \"Freshwater eutrophication\", \"Marine eutrophication\", \"Terrestrial eutrophication\", \"Dissipated water\", \"Fossil resources\", \"Land use\", \"Minerals and metals\"]}, {\"marker\": {\"color\": \"rgb(255,255,153)\"}, \"name\": \"Specific diesel consumption\", \"orientation\": \"h\", \"type\": \"bar\", \"x\": [1.7138389777986316e-05, 3.996795604754611e-07, 0.018812650882433314, 1.029784837513476e-05, 0.022688055962153213, 0.023589911224369906, 0.0009428756215544145, 0.018884608927401948, 3.1584587090796947e-06, 6.937506631077952e-06, 0.02771041935194889, 0.027235637691219627, 5.911618589368252e-05, 0.007681745269584797, 0.00022813306700433239, 6.6742286894911256e-06], \"y\": [\"Climate change total\", \"Carcinogenic effects\", \"Ionising radiation\", \"Non-carcinogenic effects\", \"Ozone layer depletion\", \"Photochemical ozone creation\", \"Respiratory effects, inorganics\", \"Freshwater and terrestrial acidification\", \"Freshwater ecotoxicity\", \"Freshwater eutrophication\", \"Marine eutrophication\", \"Terrestrial eutrophication\", \"Dissipated water\", \"Fossil resources\", \"Land use\", \"Minerals and metals\"]}, {\"marker\": {\"color\": \"rgb(255,237,0)\"}, \"name\": \"Specific steel consumption\", \"orientation\": \"h\", \"type\": \"bar\", \"x\": [1.630933600141198e-05, 0.01669312453584672, 0.002664000333491647, 0.01225271349742605, 0.0013993223631479958, 0.0015987165330389238, 0.022202498481589655, 0.0027363968662704936, 0.0027872005455017, 0.030066569599021303, 0.0007289773382728062, 0.0008621819065790316, 0.016084124185716638, 0.006847511097151136, 0.01903979627533647, 0.03642502808516432], \"y\": [\"Climate change total\", \"Carcinogenic effects\", \"Ionising radiation\", \"Non-carcinogenic effects\", \"Ozone layer depletion\", \"Photochemical ozone creation\", \"Respiratory effects, inorganics\", \"Freshwater and terrestrial acidification\", \"Freshwater ecotoxicity\", \"Freshwater eutrophication\", \"Marine eutrophication\", \"Terrestrial eutrophication\", \"Dissipated water\", \"Fossil resources\", \"Land use\", \"Minerals and metals\"]}, {\"marker\": {\"color\": \"rgb(184,255,185)\"}, \"name\": \"Specific cement consumption\", \"orientation\": \"h\", \"type\": \"bar\", \"x\": [5.396076253259278e-07, 3.0141578601916704e-08, 2.0169880669554984e-05, 1.598949083980975e-06, 1.6129532016978585e-05, 8.644397462290728e-06, 3.4411039473661136e-05, 1.938747994295727e-05, 9.954906509031396e-08, 2.613591602648451e-06, 9.453598709729066e-06, 1.0484411405310074e-05, 4.097037983453155e-05, 2.7624090029759193e-05, 4.300282490996784e-05, 1.1849413885617004e-06], \"y\": [\"Climate change total\", \"Carcinogenic effects\", \"Ionising radiation\", \"Non-carcinogenic effects\", \"Ozone layer depletion\", \"Photochemical ozone creation\", \"Respiratory effects, inorganics\", \"Freshwater and terrestrial acidification\", \"Freshwater ecotoxicity\", \"Freshwater eutrophication\", \"Marine eutrophication\", \"Terrestrial eutrophication\", \"Dissipated water\", \"Fossil resources\", \"Land use\", \"Minerals and metals\"]}, {\"marker\": {\"color\": \"rgb(30,221,109)\"}, \"name\": \"Specific drilling mud consumption\", \"orientation\": \"h\", \"type\": \"bar\", \"x\": [2.517893707853457e-07, 3.428280260258584e-07, 3.5014122701209e-05, 5.022478076397944e-06, 4.152389442521733e-05, 2.28501376568213e-05, 9.795507072736318e-05, 2.9981205158874315e-05, 1.34198528595774e-06, 2.942735281263491e-05, 1.6323548384130866e-05, 8.312655890420873e-06, 0.002839533004400798, 0.0005300183046891251, 9.310058593416986e-05, 1.9447967884218033e-05], \"y\": [\"Climate change total\", \"Carcinogenic effects\", \"Ionising radiation\", \"Non-carcinogenic effects\", \"Ozone layer depletion\", \"Photochemical ozone creation\", \"Respiratory effects, inorganics\", \"Freshwater and terrestrial acidification\", \"Freshwater ecotoxicity\", \"Freshwater eutrophication\", \"Marine eutrophication\", \"Terrestrial eutrophication\", \"Dissipated water\", \"Fossil resources\", \"Land use\", \"Minerals and metals\"]}, {\"marker\": {\"color\": \"rgb(255,210,255)\"}, \"name\": \"Production to injection ratio\", \"orientation\": \"h\", \"type\": \"bar\", \"x\": [1.9781653327118566e-05, 0.008818263459881568, 0.008374016974294102, 0.008704708002772935, 0.008205433472504917, 0.008244202327587822, 0.009290352861737832, 0.00847298443441072, 0.00818958865586454, 0.009100454158833093, 0.00809496115369473, 0.008146482070599564, 0.008698366332281398, 0.008615665425836097, 0.009121291115462452, 0.009418322453612522], \"y\": [\"Climate change total\", \"Carcinogenic effects\", \"Ionising radiation\", \"Non-carcinogenic effects\", \"Ozone layer depletion\", \"Photochemical ozone creation\", \"Respiratory effects, inorganics\", \"Freshwater and terrestrial acidification\", \"Freshwater ecotoxicity\", \"Freshwater eutrophication\", \"Marine eutrophication\", \"Terrestrial eutrophication\", \"Dissipated water\", \"Fossil resources\", \"Land use\", \"Minerals and metals\"]}, {\"marker\": {\"color\": \"rgb(248,114,225)\"}, \"name\": \"Success rate of exploration wells\", \"orientation\": \"h\", \"type\": \"bar\", \"x\": [1.2535659217936844e-06, 0.0006241442313673179, 0.0005767553606595129, 0.0006196917971440604, 0.0005739316181084164, 0.0005767196770930047, 0.0005514190729466745, 0.0005669934796973077, 0.0006281060991653591, 0.0005958065569030767, 0.0005726663054165187, 0.0005722981429908154, 0.0005322811365867799, 0.000566988896543329, 0.00056353240538162, 0.0005603374305788547], \"y\": [\"Climate change total\", \"Carcinogenic effects\", \"Ionising radiation\", \"Non-carcinogenic effects\", \"Ozone layer depletion\", \"Photochemical ozone creation\", \"Respiratory effects, inorganics\", \"Freshwater and terrestrial acidification\", \"Freshwater ecotoxicity\", \"Freshwater eutrophication\", \"Marine eutrophication\", \"Terrestrial eutrophication\", \"Dissipated water\", \"Fossil resources\", \"Land use\", \"Minerals and metals\"]}, {\"marker\": {\"color\": \"rgb(137,231,255)\"}, \"name\": \"Success rate of makeup wells\", \"orientation\": \"h\", \"type\": \"bar\", \"x\": [2.18591492460053e-05, 0.009671777231921216, 0.01057878705661028, 0.009936268200670412, 0.010822500852983693, 0.010798517900526411, 0.008348684381036687, 0.010377419412190397, 0.01104241372088682, 0.008580519687893, 0.010991345670241586, 0.010922733538227095, 0.008827599951347638, 0.00995643698751886, 0.008705188231799105, 0.007727031529815463], \"y\": [\"Climate change total\", \"Carcinogenic effects\", \"Ionising radiation\", \"Non-carcinogenic effects\", \"Ozone layer depletion\", \"Photochemical ozone creation\", \"Respiratory effects, inorganics\", \"Freshwater and terrestrial acidification\", \"Freshwater ecotoxicity\", \"Freshwater eutrophication\", \"Marine eutrophication\", \"Terrestrial eutrophication\", \"Dissipated water\", \"Fossil resources\", \"Land use\", \"Minerals and metals\"]}],\n",
       "                        {\"barmode\": \"stack\", \"font\": {\"color\": \"black\", \"family\": \"Arial\", \"size\": 10}, \"height\": 350, \"legend\": {\"traceorder\": \"normal\"}, \"margin\": {\"b\": 0, \"l\": 0, \"r\": 0, \"t\": 0}, \"template\": {\"data\": {\"bar\": [{\"error_x\": {\"color\": \"#2a3f5f\"}, \"error_y\": {\"color\": \"#2a3f5f\"}, \"marker\": {\"line\": {\"color\": \"#E5ECF6\", \"width\": 0.5}}, \"type\": \"bar\"}], \"barpolar\": [{\"marker\": {\"line\": {\"color\": \"#E5ECF6\", \"width\": 0.5}}, \"type\": \"barpolar\"}], \"carpet\": [{\"aaxis\": {\"endlinecolor\": \"#2a3f5f\", \"gridcolor\": \"white\", \"linecolor\": \"white\", \"minorgridcolor\": \"white\", \"startlinecolor\": \"#2a3f5f\"}, \"baxis\": {\"endlinecolor\": \"#2a3f5f\", \"gridcolor\": \"white\", \"linecolor\": \"white\", \"minorgridcolor\": \"white\", \"startlinecolor\": \"#2a3f5f\"}, \"type\": \"carpet\"}], \"choropleth\": [{\"colorbar\": {\"outlinewidth\": 0, \"ticks\": \"\"}, \"type\": \"choropleth\"}], \"contour\": [{\"colorbar\": {\"outlinewidth\": 0, \"ticks\": \"\"}, \"colorscale\": [[0.0, \"#0d0887\"], [0.1111111111111111, \"#46039f\"], [0.2222222222222222, \"#7201a8\"], [0.3333333333333333, \"#9c179e\"], [0.4444444444444444, \"#bd3786\"], [0.5555555555555556, \"#d8576b\"], [0.6666666666666666, \"#ed7953\"], [0.7777777777777778, \"#fb9f3a\"], [0.8888888888888888, \"#fdca26\"], [1.0, \"#f0f921\"]], \"type\": \"contour\"}], \"contourcarpet\": [{\"colorbar\": {\"outlinewidth\": 0, \"ticks\": \"\"}, \"type\": \"contourcarpet\"}], \"heatmap\": [{\"colorbar\": {\"outlinewidth\": 0, \"ticks\": \"\"}, \"colorscale\": [[0.0, \"#0d0887\"], [0.1111111111111111, \"#46039f\"], [0.2222222222222222, \"#7201a8\"], [0.3333333333333333, \"#9c179e\"], [0.4444444444444444, \"#bd3786\"], [0.5555555555555556, \"#d8576b\"], [0.6666666666666666, \"#ed7953\"], [0.7777777777777778, \"#fb9f3a\"], [0.8888888888888888, \"#fdca26\"], [1.0, \"#f0f921\"]], \"type\": \"heatmap\"}], \"heatmapgl\": [{\"colorbar\": {\"outlinewidth\": 0, \"ticks\": \"\"}, \"colorscale\": [[0.0, \"#0d0887\"], [0.1111111111111111, \"#46039f\"], [0.2222222222222222, \"#7201a8\"], [0.3333333333333333, \"#9c179e\"], [0.4444444444444444, \"#bd3786\"], [0.5555555555555556, \"#d8576b\"], [0.6666666666666666, \"#ed7953\"], [0.7777777777777778, \"#fb9f3a\"], [0.8888888888888888, \"#fdca26\"], [1.0, \"#f0f921\"]], \"type\": \"heatmapgl\"}], \"histogram\": [{\"marker\": {\"colorbar\": {\"outlinewidth\": 0, \"ticks\": \"\"}}, \"type\": \"histogram\"}], \"histogram2d\": [{\"colorbar\": {\"outlinewidth\": 0, \"ticks\": \"\"}, \"colorscale\": [[0.0, \"#0d0887\"], [0.1111111111111111, \"#46039f\"], [0.2222222222222222, \"#7201a8\"], [0.3333333333333333, \"#9c179e\"], [0.4444444444444444, \"#bd3786\"], [0.5555555555555556, \"#d8576b\"], [0.6666666666666666, \"#ed7953\"], [0.7777777777777778, \"#fb9f3a\"], [0.8888888888888888, \"#fdca26\"], [1.0, \"#f0f921\"]], \"type\": \"histogram2d\"}], \"histogram2dcontour\": [{\"colorbar\": {\"outlinewidth\": 0, \"ticks\": \"\"}, \"colorscale\": [[0.0, \"#0d0887\"], [0.1111111111111111, \"#46039f\"], [0.2222222222222222, \"#7201a8\"], [0.3333333333333333, \"#9c179e\"], [0.4444444444444444, \"#bd3786\"], [0.5555555555555556, \"#d8576b\"], [0.6666666666666666, \"#ed7953\"], [0.7777777777777778, \"#fb9f3a\"], [0.8888888888888888, \"#fdca26\"], [1.0, \"#f0f921\"]], \"type\": \"histogram2dcontour\"}], \"mesh3d\": [{\"colorbar\": {\"outlinewidth\": 0, \"ticks\": \"\"}, \"type\": \"mesh3d\"}], \"parcoords\": [{\"line\": {\"colorbar\": {\"outlinewidth\": 0, \"ticks\": \"\"}}, \"type\": \"parcoords\"}], \"scatter\": [{\"marker\": {\"colorbar\": {\"outlinewidth\": 0, \"ticks\": \"\"}}, \"type\": \"scatter\"}], \"scatter3d\": [{\"line\": {\"colorbar\": {\"outlinewidth\": 0, \"ticks\": \"\"}}, \"marker\": {\"colorbar\": {\"outlinewidth\": 0, \"ticks\": \"\"}}, \"type\": \"scatter3d\"}], \"scattercarpet\": [{\"marker\": {\"colorbar\": {\"outlinewidth\": 0, \"ticks\": \"\"}}, \"type\": \"scattercarpet\"}], \"scattergeo\": [{\"marker\": {\"colorbar\": {\"outlinewidth\": 0, \"ticks\": \"\"}}, \"type\": \"scattergeo\"}], \"scattergl\": [{\"marker\": {\"colorbar\": {\"outlinewidth\": 0, \"ticks\": \"\"}}, \"type\": \"scattergl\"}], \"scattermapbox\": [{\"marker\": {\"colorbar\": {\"outlinewidth\": 0, \"ticks\": \"\"}}, \"type\": \"scattermapbox\"}], \"scatterpolar\": [{\"marker\": {\"colorbar\": {\"outlinewidth\": 0, \"ticks\": \"\"}}, \"type\": \"scatterpolar\"}], \"scatterpolargl\": [{\"marker\": {\"colorbar\": {\"outlinewidth\": 0, \"ticks\": \"\"}}, \"type\": \"scatterpolargl\"}], \"scatterternary\": [{\"marker\": {\"colorbar\": {\"outlinewidth\": 0, \"ticks\": \"\"}}, \"type\": \"scatterternary\"}], \"surface\": [{\"colorbar\": {\"outlinewidth\": 0, \"ticks\": \"\"}, \"colorscale\": [[0.0, \"#0d0887\"], [0.1111111111111111, \"#46039f\"], [0.2222222222222222, \"#7201a8\"], [0.3333333333333333, \"#9c179e\"], [0.4444444444444444, \"#bd3786\"], [0.5555555555555556, \"#d8576b\"], [0.6666666666666666, \"#ed7953\"], [0.7777777777777778, \"#fb9f3a\"], [0.8888888888888888, \"#fdca26\"], [1.0, \"#f0f921\"]], \"type\": \"surface\"}], \"table\": [{\"cells\": {\"fill\": {\"color\": \"#EBF0F8\"}, \"line\": {\"color\": \"white\"}}, \"header\": {\"fill\": {\"color\": \"#C8D4E3\"}, \"line\": {\"color\": \"white\"}}, \"type\": \"table\"}]}, \"layout\": {\"annotationdefaults\": {\"arrowcolor\": \"#2a3f5f\", \"arrowhead\": 0, \"arrowwidth\": 1}, \"colorscale\": {\"diverging\": [[0, \"#8e0152\"], [0.1, \"#c51b7d\"], [0.2, \"#de77ae\"], [0.3, \"#f1b6da\"], [0.4, \"#fde0ef\"], [0.5, \"#f7f7f7\"], [0.6, \"#e6f5d0\"], [0.7, \"#b8e186\"], [0.8, \"#7fbc41\"], [0.9, \"#4d9221\"], [1, \"#276419\"]], \"sequential\": [[0.0, \"#0d0887\"], [0.1111111111111111, \"#46039f\"], [0.2222222222222222, \"#7201a8\"], [0.3333333333333333, \"#9c179e\"], [0.4444444444444444, \"#bd3786\"], [0.5555555555555556, \"#d8576b\"], [0.6666666666666666, \"#ed7953\"], [0.7777777777777778, \"#fb9f3a\"], [0.8888888888888888, \"#fdca26\"], [1.0, \"#f0f921\"]], \"sequentialminus\": [[0.0, \"#0d0887\"], [0.1111111111111111, \"#46039f\"], [0.2222222222222222, \"#7201a8\"], [0.3333333333333333, \"#9c179e\"], [0.4444444444444444, \"#bd3786\"], [0.5555555555555556, \"#d8576b\"], [0.6666666666666666, \"#ed7953\"], [0.7777777777777778, \"#fb9f3a\"], [0.8888888888888888, \"#fdca26\"], [1.0, \"#f0f921\"]]}, \"colorway\": [\"#636efa\", \"#EF553B\", \"#00cc96\", \"#ab63fa\", \"#FFA15A\", \"#19d3f3\", \"#FF6692\", \"#B6E880\", \"#FF97FF\", \"#FECB52\"], \"font\": {\"color\": \"#2a3f5f\"}, \"geo\": {\"bgcolor\": \"white\", \"lakecolor\": \"white\", \"landcolor\": \"#E5ECF6\", \"showlakes\": true, \"showland\": true, \"subunitcolor\": \"white\"}, \"hoverlabel\": {\"align\": \"left\"}, \"hovermode\": \"closest\", \"mapbox\": {\"style\": \"light\"}, \"paper_bgcolor\": \"white\", \"plot_bgcolor\": \"#E5ECF6\", \"polar\": {\"angularaxis\": {\"gridcolor\": \"white\", \"linecolor\": \"white\", \"ticks\": \"\"}, \"bgcolor\": \"#E5ECF6\", \"radialaxis\": {\"gridcolor\": \"white\", \"linecolor\": \"white\", \"ticks\": \"\"}}, \"scene\": {\"xaxis\": {\"backgroundcolor\": \"#E5ECF6\", \"gridcolor\": \"white\", \"gridwidth\": 2, \"linecolor\": \"white\", \"showbackground\": true, \"ticks\": \"\", \"zerolinecolor\": \"white\"}, \"yaxis\": {\"backgroundcolor\": \"#E5ECF6\", \"gridcolor\": \"white\", \"gridwidth\": 2, \"linecolor\": \"white\", \"showbackground\": true, \"ticks\": \"\", \"zerolinecolor\": \"white\"}, \"zaxis\": {\"backgroundcolor\": \"#E5ECF6\", \"gridcolor\": \"white\", \"gridwidth\": 2, \"linecolor\": \"white\", \"showbackground\": true, \"ticks\": \"\", \"zerolinecolor\": \"white\"}}, \"shapedefaults\": {\"line\": {\"color\": \"#2a3f5f\"}}, \"ternary\": {\"aaxis\": {\"gridcolor\": \"white\", \"linecolor\": \"white\", \"ticks\": \"\"}, \"baxis\": {\"gridcolor\": \"white\", \"linecolor\": \"white\", \"ticks\": \"\"}, \"bgcolor\": \"#E5ECF6\", \"caxis\": {\"gridcolor\": \"white\", \"linecolor\": \"white\", \"ticks\": \"\"}}, \"title\": {\"x\": 0.05}, \"xaxis\": {\"automargin\": true, \"gridcolor\": \"white\", \"linecolor\": \"white\", \"ticks\": \"\", \"zerolinecolor\": \"white\", \"zerolinewidth\": 2}, \"yaxis\": {\"automargin\": true, \"gridcolor\": \"white\", \"linecolor\": \"white\", \"ticks\": \"\", \"zerolinecolor\": \"white\", \"zerolinewidth\": 2}}}, \"width\": 630, \"xaxis\": {\"range\": [0, 1], \"tickmode\": \"array\", \"ticktext\": [0, 0.2, 0.4, 0.6, 0.8, 1], \"tickvals\": [0, 0.2, 0.4, 0.6, 0.8, 1]}, \"yaxis\": {\"autorange\": \"reversed\"}},\n",
       "                        {\"responsive\": true}\n",
       "                    ).then(function(){\n",
       "                            \n",
       "var gd = document.getElementById('e4fab976-2202-426e-a849-c9ff575b1983');\n",
       "var x = new MutationObserver(function (mutations, observer) {{\n",
       "        var display = window.getComputedStyle(gd).display;\n",
       "        if (!display || display === 'none') {{\n",
       "            console.log([gd, 'removed!']);\n",
       "            Plotly.purge(gd);\n",
       "            observer.disconnect();\n",
       "        }}\n",
       "}});\n",
       "\n",
       "// Listen for the removal of the full notebook cells\n",
       "var notebookContainer = gd.closest('#notebook-container');\n",
       "if (notebookContainer) {{\n",
       "    x.observe(notebookContainer, {childList: true});\n",
       "}}\n",
       "\n",
       "// Listen for the clearing of the current output cell\n",
       "var outputEl = gd.closest('.output');\n",
       "if (outputEl) {{\n",
       "    x.observe(outputEl, {childList: true});\n",
       "}}\n",
       "\n",
       "                        })\n",
       "                };\n",
       "                });\n",
       "            </script>\n",
       "        </div>"
      ]
     },
     "metadata": {},
     "output_type": "display_data"
    }
   ],
   "source": [
    "fig = go.Figure()\n",
    "ydata = df.columns[1:].tolist()\n",
    "ydata = [d.capitalize() for d in ydata]\n",
    "f = [ind for ind,yd in enumerate(ydata) if \"Fossils\"==yd][0]\n",
    "ydata[f] = 'Fossil resources'\n",
    "\n",
    "for i in df.index:\n",
    "    xdata = df.loc[i][1:].tolist()\n",
    "    name = df.loc[i][0].replace('_', ' ').capitalize()\n",
    "    if name.lower() == 'co2 emissions':\n",
    "        name = 'Direct CO2 emissions'\n",
    "    elif name.lower() == 'collection pipelines':\n",
    "        name = 'Collection pipelines length'\n",
    "    elif 'success' in name.lower():\n",
    "        name = name[:13] + 'of ' + name[13:]\n",
    "    fig.add_bar(name = name, \n",
    "                x = xdata,\n",
    "                y = ydata,\n",
    "                orientation='h',\n",
    "                marker_color=colors[i])\n",
    "    fig.update_xaxes(range = [0,1])\n",
    "    \n",
    "    fig.update_layout(barmode='stack',\n",
    "                      font_size = 10,\n",
    "                      width = 630, \n",
    "                      height = 350,\n",
    "                      legend_traceorder  = 'normal',\n",
    "                      yaxis = dict(autorange=\"reversed\"),\n",
    "                      font_family = 'Arial',\n",
    "                      margin = dict(l=0,r=0,t=0,b=0),\n",
    "                      font_color = 'black',\n",
    "                      xaxis = dict(tickmode = 'array', \n",
    "                                   tickvals = [0, 0.2, 0.4, 0.6, 0.8, 1],\n",
    "                                   ticktext = [0, 0.2, 0.4, 0.6, 0.8, 1])\n",
    "                     )\n",
    "fig"
   ]
  },
  {
   "cell_type": "code",
   "execution_count": 20,
   "metadata": {},
   "outputs": [],
   "source": [
    "# Save image\n",
    "path_images = \"write_images\"\n",
    "if not os.path.exists(path_images):\n",
    "    os.mkdir(path_images)\n",
    "path_fig = os.path.join(path_images, 'extended_abstract_' + path[path.rfind('/')+1:path.rfind('.')] + '.jpg')\n",
    "fig.write_image(path_fig)"
   ]
  },
  {
   "cell_type": "code",
   "execution_count": null,
   "metadata": {},
   "outputs": [],
   "source": []
  },
  {
   "cell_type": "code",
   "execution_count": null,
   "metadata": {},
   "outputs": [],
   "source": []
  },
  {
   "cell_type": "code",
   "execution_count": null,
   "metadata": {},
   "outputs": [],
   "source": []
  },
  {
   "cell_type": "code",
   "execution_count": null,
   "metadata": {},
   "outputs": [],
   "source": []
  },
  {
   "cell_type": "code",
   "execution_count": null,
   "metadata": {},
   "outputs": [],
   "source": []
  }
 ],
 "metadata": {
  "kernelspec": {
   "display_name": "Python 3",
   "language": "python",
   "name": "python3"
  },
  "language_info": {
   "codemirror_mode": {
    "name": "ipython",
    "version": 3
   },
   "file_extension": ".py",
   "mimetype": "text/x-python",
   "name": "python",
   "nbconvert_exporter": "python",
   "pygments_lexer": "ipython3",
   "version": "3.7.3"
  }
 },
 "nbformat": 4,
 "nbformat_minor": 2
}
