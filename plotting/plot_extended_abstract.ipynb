{
 "cells": [
  {
   "cell_type": "code",
   "execution_count": null,
   "metadata": {},
   "outputs": [],
   "source": [
    "import json\n",
    "import os\n",
    "import brightway2 as bw\n",
    "import numpy as np\n",
    "import pandas as pd\n",
    "\n",
    "# For plotting\n",
    "import matplotlib.pyplot as plt\n",
    "import plotly.graph_objs as go\n",
    "from plotly.subplots import make_subplots\n",
    "import colorlover as cl\n",
    "from IPython.display import HTML"
   ]
  },
  {
   "cell_type": "markdown",
   "metadata": {},
   "source": [
    "# Load data"
   ]
  },
  {
   "cell_type": "code",
   "execution_count": null,
   "metadata": {},
   "outputs": [],
   "source": [
    "path = '../generated_files/gsa_results/cge_N200_gt_database/sobol_indices.json'\n",
    "with open(path) as f:\n",
    "    sa_dict = json.load(f)\n",
    "parameters = sa_dict['parameters']\n",
    "n_parameters = len(parameters)\n",
    "\n",
    "# Extract total index into a dictionary and dataframe\n",
    "total_dict = {}\n",
    "total_dict['parameters'] = parameters\n",
    "for k in sa_dict.keys():\n",
    "    if k != 'parameters':\n",
    "        all_vals = sa_dict[k]['ST']\n",
    "        n_all = len(all_vals)\n",
    "        total_dict[k] = all_vals[n_all-n_parameters:]\n",
    "total_df = pd.DataFrame(total_dict)"
   ]
  },
  {
   "cell_type": "code",
   "execution_count": null,
   "metadata": {},
   "outputs": [],
   "source": [
    "names = total_df['parameters'].tolist()\n",
    "\n",
    "def normalize_df(df):\n",
    "    norm_df = pd.DataFrame([],index = df.index, columns = df.columns)\n",
    "    norm_df['parameters'] = df['parameters']\n",
    "    for col in df.columns:\n",
    "        if col != 'parameters':\n",
    "            norm_df[col] = df[col] / sum(df[col])\n",
    "    return norm_df"
   ]
  },
  {
   "cell_type": "code",
   "execution_count": null,
   "metadata": {},
   "outputs": [],
   "source": [
    "df = normalize_df(total_df)"
   ]
  },
  {
   "cell_type": "code",
   "execution_count": null,
   "metadata": {},
   "outputs": [],
   "source": [
    "if 'cge' in path:\n",
    "    df = df.set_index('parameters')\n",
    "    new_index = ['co2_emissions',\n",
    "                 'gross_power_per_well', \n",
    "                 'average_depth_of_wells',\n",
    "                 'initial_harmonic_decline_rate',\n",
    "                 'success_rate_primary_wells',\n",
    "                 'lifetime',\n",
    "                 'collection_pipelines', \n",
    "                 'installed_capacity', \n",
    "                 'capacity_factor', \n",
    "                 'auxiliary_power',\n",
    "                 'specific_diesel_consumption', \n",
    "                 'specific_steel_consumption',\n",
    "                 'specific_cement_consumption', \n",
    "                 'specific_drilling_mud_consumption',\n",
    "                 'production_to_injection_ratio',\n",
    "                 'success_rate_exploration_wells', \n",
    "                 'success_rate_makeup_wells']\n",
    "    df = df.reindex(new_index)\n",
    "    df['index'] = np.arange(len(df))\n",
    "    df = df.reset_index()\n",
    "    df = df.set_index('index')\n",
    "elif 'ege' in path:\n",
    "    df = df.sort_values(by=['climate change total'], ascending=False)\n",
    "    df['index'] = np.arange(len(df))\n",
    "    df = df.set_index('index')"
   ]
  },
  {
   "cell_type": "code",
   "execution_count": null,
   "metadata": {},
   "outputs": [],
   "source": [
    "my_colors = ['rgb(255,237,0)',\n",
    "             'rgb(184,255,185)',\n",
    "             'rgb(30,221,109)',\n",
    "             'rgb(255,210,255)',\n",
    "             'rgb(248,114,225)',\n",
    "             'rgb(137,231,255)',\n",
    "             ]\n",
    "colors = cl.scales['11']['qual']['Paired'] + my_colors\n",
    "HTML(cl.to_html( colors ))"
   ]
  },
  {
   "cell_type": "code",
   "execution_count": null,
   "metadata": {},
   "outputs": [],
   "source": [
    "fig = go.Figure()\n",
    "ydata = df.columns[1:].tolist()\n",
    "ydata = [d.capitalize() for d in ydata]\n",
    "f = [ind for ind,yd in enumerate(ydata) if \"Fossils\"==yd][0]\n",
    "ydata[f] = 'Fossil resources'\n",
    "\n",
    "for i in df.index:\n",
    "    xdata = df.loc[i][1:].tolist()\n",
    "    name = df.loc[i][0].replace('_', ' ').capitalize()\n",
    "    if name.lower() == 'co2 emissions':\n",
    "        name = 'Direct CO2 emissions'\n",
    "    elif name.lower() == 'collection pipelines':\n",
    "        name = 'Collection pipelines length'\n",
    "    elif 'success' in name.lower():\n",
    "        name = name[:13] + 'of ' + name[13:]\n",
    "    elif '0to1' in name.lower():\n",
    "        name = name[:-4] + '0 ot 1'\n",
    "    fig.add_bar(name = name, \n",
    "                x = xdata,\n",
    "                y = ydata,\n",
    "                orientation='h',\n",
    "                marker_color=colors[i])\n",
    "    fig.update_xaxes(range = [0,1])\n",
    "    \n",
    "    fig.update_layout(barmode='stack',\n",
    "                      font_size = 18,\n",
    "                      width = 1130, \n",
    "                      height = 500,\n",
    "                      legend_traceorder  = 'normal',\n",
    "                      yaxis = dict(autorange=\"reversed\"),\n",
    "                      font_family = 'Arial',\n",
    "                      margin = dict(l=0,r=0,t=0,b=0),\n",
    "                      font_color = 'black',\n",
    "                      xaxis = dict(tickmode = 'array', \n",
    "                                   tickvals = [0, 0.2, 0.4, 0.6, 0.8, 1],\n",
    "                                   ticktext = [0, 0.2, 0.4, 0.6, 0.8, 1])\n",
    "                     )\n",
    "fig"
   ]
  },
  {
   "cell_type": "code",
   "execution_count": null,
   "metadata": {},
   "outputs": [],
   "source": [
    "# Save image\n",
    "path_images = \"write_images\"\n",
    "if not os.path.exists(path_images):\n",
    "    os.mkdir(path_images)\n",
    "    \n",
    "start_end = [i for i, ltr in enumerate(path) if ltr == '/']\n",
    "start = start_end[-2]\n",
    "end = start_end[-1]\n",
    "\n",
    "path_fig = os.path.join(path_images, 'sobol_' + path[start+1:end] + '.png')\n",
    "fig.write_image(path_fig)"
   ]
  },
  {
   "cell_type": "code",
   "execution_count": null,
   "metadata": {},
   "outputs": [],
   "source": []
  },
  {
   "cell_type": "code",
   "execution_count": null,
   "metadata": {},
   "outputs": [],
   "source": []
  },
  {
   "cell_type": "code",
   "execution_count": null,
   "metadata": {},
   "outputs": [],
   "source": []
  },
  {
   "cell_type": "code",
   "execution_count": null,
   "metadata": {},
   "outputs": [],
   "source": []
  },
  {
   "cell_type": "code",
   "execution_count": null,
   "metadata": {},
   "outputs": [],
   "source": []
  },
  {
   "cell_type": "code",
   "execution_count": null,
   "metadata": {},
   "outputs": [],
   "source": []
  }
 ],
 "metadata": {
  "kernelspec": {
   "display_name": "Python 3",
   "language": "python",
   "name": "python3"
  },
  "language_info": {
   "codemirror_mode": {
    "name": "ipython",
    "version": 3
   },
   "file_extension": ".py",
   "mimetype": "text/x-python",
   "name": "python",
   "nbconvert_exporter": "python",
   "pygments_lexer": "ipython3",
   "version": "3.7.4"
  }
 },
 "nbformat": 4,
 "nbformat_minor": 2
}
